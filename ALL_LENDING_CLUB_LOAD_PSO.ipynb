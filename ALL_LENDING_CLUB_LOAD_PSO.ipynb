{
  "cells": [
    {
      "cell_type": "markdown",
      "metadata": {
        "id": "uufE5m_fkjll"
      },
      "source": [
        "<p style=\"display:inline-block;position:relative;font-size:30px;background-color: #d9edab;padding:200px 0px;width:100%;text-align:center\">ALL LEANDING CLUB</p><br><strong style=\"display:block;font-size:30px;padding-top:20px\">PSO</strong>"
      ]
    },
    {
      "cell_type": "code",
      "execution_count": null,
      "metadata": {
        "colab": {
          "base_uri": "https://localhost:8080/"
        },
        "id": "ww4x5h_Ikjls",
        "outputId": "7bd77ea5-a648-4f0b-80e0-f03f5becb219"
      },
      "outputs": [
        {
          "output_type": "stream",
          "name": "stdout",
          "text": [
            "Looking in indexes: https://pypi.org/simple, https://us-python.pkg.dev/colab-wheels/public/simple/\n",
            "Collecting scikit-learn-intelex\n",
            "  Downloading scikit_learn_intelex-2021.6.3-py37-none-manylinux1_x86_64.whl (87 kB)\n",
            "\u001b[K     |████████████████████████████████| 87 kB 3.9 MB/s \n",
            "\u001b[?25hCollecting daal4py==2021.6.3\n",
            "  Downloading daal4py-2021.6.3-py37-none-manylinux1_x86_64.whl (26.0 MB)\n",
            "\u001b[K     |████████████████████████████████| 26.0 MB 1.5 MB/s \n",
            "\u001b[?25hRequirement already satisfied: scikit-learn>=0.22 in /usr/local/lib/python3.7/dist-packages (from scikit-learn-intelex) (1.0.2)\n",
            "Requirement already satisfied: numpy>=1.15 in /usr/local/lib/python3.7/dist-packages (from daal4py==2021.6.3->scikit-learn-intelex) (1.21.6)\n",
            "Collecting daal==2021.6.0\n",
            "  Downloading daal-2021.6.0-py2.py3-none-manylinux1_x86_64.whl (300.3 MB)\n",
            "\u001b[K     |████████████████████████████████| 300.3 MB 15 kB/s \n",
            "\u001b[?25hCollecting tbb==2021.*\n",
            "  Downloading tbb-2021.6.0-py2.py3-none-manylinux1_x86_64.whl (4.0 MB)\n",
            "\u001b[K     |████████████████████████████████| 4.0 MB 10.0 MB/s \n",
            "\u001b[?25hRequirement already satisfied: joblib>=0.11 in /usr/local/lib/python3.7/dist-packages (from scikit-learn>=0.22->scikit-learn-intelex) (1.1.0)\n",
            "Requirement already satisfied: threadpoolctl>=2.0.0 in /usr/local/lib/python3.7/dist-packages (from scikit-learn>=0.22->scikit-learn-intelex) (3.1.0)\n",
            "Requirement already satisfied: scipy>=1.1.0 in /usr/local/lib/python3.7/dist-packages (from scikit-learn>=0.22->scikit-learn-intelex) (1.4.1)\n",
            "Installing collected packages: tbb, daal, daal4py, scikit-learn-intelex\n",
            "Successfully installed daal-2021.6.0 daal4py-2021.6.3 scikit-learn-intelex-2021.6.3 tbb-2021.6.0\n"
          ]
        },
        {
          "output_type": "stream",
          "name": "stderr",
          "text": [
            "Intel(R) Extension for Scikit-learn* enabled (https://github.com/intel/scikit-learn-intelex)\n"
          ]
        }
      ],
      "source": [
        "import pandas as pd\n",
        "import numpy as np\n",
        "import matplotlib.pyplot as plt\n",
        "import seaborn as sns\n",
        "import time as time\n",
        "\n",
        "!pip install scikit-learn-intelex\n",
        "\n",
        "from sklearnex import patch_sklearn\n",
        "patch_sklearn()\n",
        "\n",
        "import warnings\n",
        "warnings.filterwarnings('ignore')"
      ]
    },
    {
      "cell_type": "code",
      "execution_count": null,
      "metadata": {
        "colab": {
          "base_uri": "https://localhost:8080/",
          "height": 206
        },
        "id": "AV53amRMkjlu",
        "outputId": "f5b7061d-4880-4f69-831a-48ab2f81e096"
      },
      "outputs": [
        {
          "output_type": "execute_result",
          "data": {
            "text/plain": [
              "   credit.policy             purpose  int.rate  installment  log.annual.inc  \\\n",
              "0              1  debt_consolidation    0.1189       829.10       11.350407   \n",
              "1              1         credit_card    0.1071       228.22       11.082143   \n",
              "2              1  debt_consolidation    0.1357       366.86       10.373491   \n",
              "3              1  debt_consolidation    0.1008       162.34       11.350407   \n",
              "4              1         credit_card    0.1426       102.92       11.299732   \n",
              "\n",
              "     dti  fico  days.with.cr.line  revol.bal  revol.util  inq.last.6mths  \\\n",
              "0  19.48   737        5639.958333      28854        52.1               0   \n",
              "1  14.29   707        2760.000000      33623        76.7               0   \n",
              "2  11.63   682        4710.000000       3511        25.6               1   \n",
              "3   8.10   712        2699.958333      33667        73.2               1   \n",
              "4  14.97   667        4066.000000       4740        39.5               0   \n",
              "\n",
              "   delinq.2yrs  pub.rec  not.fully.paid  \n",
              "0            0        0               0  \n",
              "1            0        0               0  \n",
              "2            0        0               0  \n",
              "3            0        0               0  \n",
              "4            1        0               0  "
            ],
            "text/html": [
              "\n",
              "  <div id=\"df-d5a55700-7ee8-4639-84b4-f2b8480d4c50\">\n",
              "    <div class=\"colab-df-container\">\n",
              "      <div>\n",
              "<style scoped>\n",
              "    .dataframe tbody tr th:only-of-type {\n",
              "        vertical-align: middle;\n",
              "    }\n",
              "\n",
              "    .dataframe tbody tr th {\n",
              "        vertical-align: top;\n",
              "    }\n",
              "\n",
              "    .dataframe thead th {\n",
              "        text-align: right;\n",
              "    }\n",
              "</style>\n",
              "<table border=\"1\" class=\"dataframe\">\n",
              "  <thead>\n",
              "    <tr style=\"text-align: right;\">\n",
              "      <th></th>\n",
              "      <th>credit.policy</th>\n",
              "      <th>purpose</th>\n",
              "      <th>int.rate</th>\n",
              "      <th>installment</th>\n",
              "      <th>log.annual.inc</th>\n",
              "      <th>dti</th>\n",
              "      <th>fico</th>\n",
              "      <th>days.with.cr.line</th>\n",
              "      <th>revol.bal</th>\n",
              "      <th>revol.util</th>\n",
              "      <th>inq.last.6mths</th>\n",
              "      <th>delinq.2yrs</th>\n",
              "      <th>pub.rec</th>\n",
              "      <th>not.fully.paid</th>\n",
              "    </tr>\n",
              "  </thead>\n",
              "  <tbody>\n",
              "    <tr>\n",
              "      <th>0</th>\n",
              "      <td>1</td>\n",
              "      <td>debt_consolidation</td>\n",
              "      <td>0.1189</td>\n",
              "      <td>829.10</td>\n",
              "      <td>11.350407</td>\n",
              "      <td>19.48</td>\n",
              "      <td>737</td>\n",
              "      <td>5639.958333</td>\n",
              "      <td>28854</td>\n",
              "      <td>52.1</td>\n",
              "      <td>0</td>\n",
              "      <td>0</td>\n",
              "      <td>0</td>\n",
              "      <td>0</td>\n",
              "    </tr>\n",
              "    <tr>\n",
              "      <th>1</th>\n",
              "      <td>1</td>\n",
              "      <td>credit_card</td>\n",
              "      <td>0.1071</td>\n",
              "      <td>228.22</td>\n",
              "      <td>11.082143</td>\n",
              "      <td>14.29</td>\n",
              "      <td>707</td>\n",
              "      <td>2760.000000</td>\n",
              "      <td>33623</td>\n",
              "      <td>76.7</td>\n",
              "      <td>0</td>\n",
              "      <td>0</td>\n",
              "      <td>0</td>\n",
              "      <td>0</td>\n",
              "    </tr>\n",
              "    <tr>\n",
              "      <th>2</th>\n",
              "      <td>1</td>\n",
              "      <td>debt_consolidation</td>\n",
              "      <td>0.1357</td>\n",
              "      <td>366.86</td>\n",
              "      <td>10.373491</td>\n",
              "      <td>11.63</td>\n",
              "      <td>682</td>\n",
              "      <td>4710.000000</td>\n",
              "      <td>3511</td>\n",
              "      <td>25.6</td>\n",
              "      <td>1</td>\n",
              "      <td>0</td>\n",
              "      <td>0</td>\n",
              "      <td>0</td>\n",
              "    </tr>\n",
              "    <tr>\n",
              "      <th>3</th>\n",
              "      <td>1</td>\n",
              "      <td>debt_consolidation</td>\n",
              "      <td>0.1008</td>\n",
              "      <td>162.34</td>\n",
              "      <td>11.350407</td>\n",
              "      <td>8.10</td>\n",
              "      <td>712</td>\n",
              "      <td>2699.958333</td>\n",
              "      <td>33667</td>\n",
              "      <td>73.2</td>\n",
              "      <td>1</td>\n",
              "      <td>0</td>\n",
              "      <td>0</td>\n",
              "      <td>0</td>\n",
              "    </tr>\n",
              "    <tr>\n",
              "      <th>4</th>\n",
              "      <td>1</td>\n",
              "      <td>credit_card</td>\n",
              "      <td>0.1426</td>\n",
              "      <td>102.92</td>\n",
              "      <td>11.299732</td>\n",
              "      <td>14.97</td>\n",
              "      <td>667</td>\n",
              "      <td>4066.000000</td>\n",
              "      <td>4740</td>\n",
              "      <td>39.5</td>\n",
              "      <td>0</td>\n",
              "      <td>1</td>\n",
              "      <td>0</td>\n",
              "      <td>0</td>\n",
              "    </tr>\n",
              "  </tbody>\n",
              "</table>\n",
              "</div>\n",
              "      <button class=\"colab-df-convert\" onclick=\"convertToInteractive('df-d5a55700-7ee8-4639-84b4-f2b8480d4c50')\"\n",
              "              title=\"Convert this dataframe to an interactive table.\"\n",
              "              style=\"display:none;\">\n",
              "        \n",
              "  <svg xmlns=\"http://www.w3.org/2000/svg\" height=\"24px\"viewBox=\"0 0 24 24\"\n",
              "       width=\"24px\">\n",
              "    <path d=\"M0 0h24v24H0V0z\" fill=\"none\"/>\n",
              "    <path d=\"M18.56 5.44l.94 2.06.94-2.06 2.06-.94-2.06-.94-.94-2.06-.94 2.06-2.06.94zm-11 1L8.5 8.5l.94-2.06 2.06-.94-2.06-.94L8.5 2.5l-.94 2.06-2.06.94zm10 10l.94 2.06.94-2.06 2.06-.94-2.06-.94-.94-2.06-.94 2.06-2.06.94z\"/><path d=\"M17.41 7.96l-1.37-1.37c-.4-.4-.92-.59-1.43-.59-.52 0-1.04.2-1.43.59L10.3 9.45l-7.72 7.72c-.78.78-.78 2.05 0 2.83L4 21.41c.39.39.9.59 1.41.59.51 0 1.02-.2 1.41-.59l7.78-7.78 2.81-2.81c.8-.78.8-2.07 0-2.86zM5.41 20L4 18.59l7.72-7.72 1.47 1.35L5.41 20z\"/>\n",
              "  </svg>\n",
              "      </button>\n",
              "      \n",
              "  <style>\n",
              "    .colab-df-container {\n",
              "      display:flex;\n",
              "      flex-wrap:wrap;\n",
              "      gap: 12px;\n",
              "    }\n",
              "\n",
              "    .colab-df-convert {\n",
              "      background-color: #E8F0FE;\n",
              "      border: none;\n",
              "      border-radius: 50%;\n",
              "      cursor: pointer;\n",
              "      display: none;\n",
              "      fill: #1967D2;\n",
              "      height: 32px;\n",
              "      padding: 0 0 0 0;\n",
              "      width: 32px;\n",
              "    }\n",
              "\n",
              "    .colab-df-convert:hover {\n",
              "      background-color: #E2EBFA;\n",
              "      box-shadow: 0px 1px 2px rgba(60, 64, 67, 0.3), 0px 1px 3px 1px rgba(60, 64, 67, 0.15);\n",
              "      fill: #174EA6;\n",
              "    }\n",
              "\n",
              "    [theme=dark] .colab-df-convert {\n",
              "      background-color: #3B4455;\n",
              "      fill: #D2E3FC;\n",
              "    }\n",
              "\n",
              "    [theme=dark] .colab-df-convert:hover {\n",
              "      background-color: #434B5C;\n",
              "      box-shadow: 0px 1px 3px 1px rgba(0, 0, 0, 0.15);\n",
              "      filter: drop-shadow(0px 1px 2px rgba(0, 0, 0, 0.3));\n",
              "      fill: #FFFFFF;\n",
              "    }\n",
              "  </style>\n",
              "\n",
              "      <script>\n",
              "        const buttonEl =\n",
              "          document.querySelector('#df-d5a55700-7ee8-4639-84b4-f2b8480d4c50 button.colab-df-convert');\n",
              "        buttonEl.style.display =\n",
              "          google.colab.kernel.accessAllowed ? 'block' : 'none';\n",
              "\n",
              "        async function convertToInteractive(key) {\n",
              "          const element = document.querySelector('#df-d5a55700-7ee8-4639-84b4-f2b8480d4c50');\n",
              "          const dataTable =\n",
              "            await google.colab.kernel.invokeFunction('convertToInteractive',\n",
              "                                                     [key], {});\n",
              "          if (!dataTable) return;\n",
              "\n",
              "          const docLinkHtml = 'Like what you see? Visit the ' +\n",
              "            '<a target=\"_blank\" href=https://colab.research.google.com/notebooks/data_table.ipynb>data table notebook</a>'\n",
              "            + ' to learn more about interactive tables.';\n",
              "          element.innerHTML = '';\n",
              "          dataTable['output_type'] = 'display_data';\n",
              "          await google.colab.output.renderOutput(dataTable, element);\n",
              "          const docLink = document.createElement('div');\n",
              "          docLink.innerHTML = docLinkHtml;\n",
              "          element.appendChild(docLink);\n",
              "        }\n",
              "      </script>\n",
              "    </div>\n",
              "  </div>\n",
              "  "
            ]
          },
          "metadata": {},
          "execution_count": 2
        }
      ],
      "source": [
        "data = pd.read_csv(\"https://raw.githubusercontent.com/hsuecu/data_set/main/loan_data.csv\")\n",
        "data.head()"
      ]
    },
    {
      "cell_type": "code",
      "execution_count": null,
      "metadata": {
        "colab": {
          "base_uri": "https://localhost:8080/"
        },
        "id": "R0V0ea2lkjlw",
        "outputId": "f96ba325-d17e-4d02-f62b-7cfbb12c0c37"
      },
      "outputs": [
        {
          "output_type": "stream",
          "name": "stdout",
          "text": [
            "<class 'pandas.core.frame.DataFrame'>\n",
            "RangeIndex: 9578 entries, 0 to 9577\n",
            "Data columns (total 14 columns):\n",
            " #   Column             Non-Null Count  Dtype  \n",
            "---  ------             --------------  -----  \n",
            " 0   credit.policy      9578 non-null   int64  \n",
            " 1   purpose            9578 non-null   object \n",
            " 2   int.rate           9578 non-null   float64\n",
            " 3   installment        9578 non-null   float64\n",
            " 4   log.annual.inc     9578 non-null   float64\n",
            " 5   dti                9578 non-null   float64\n",
            " 6   fico               9578 non-null   int64  \n",
            " 7   days.with.cr.line  9578 non-null   float64\n",
            " 8   revol.bal          9578 non-null   int64  \n",
            " 9   revol.util         9578 non-null   float64\n",
            " 10  inq.last.6mths     9578 non-null   int64  \n",
            " 11  delinq.2yrs        9578 non-null   int64  \n",
            " 12  pub.rec            9578 non-null   int64  \n",
            " 13  not.fully.paid     9578 non-null   int64  \n",
            "dtypes: float64(6), int64(7), object(1)\n",
            "memory usage: 1.0+ MB\n"
          ]
        }
      ],
      "source": [
        "data.info()"
      ]
    },
    {
      "cell_type": "code",
      "execution_count": null,
      "metadata": {
        "colab": {
          "base_uri": "https://localhost:8080/"
        },
        "id": "uNP33FdMkjlx",
        "outputId": "8ad5ecb3-e54f-4d11-8619-a71a781f1d33"
      },
      "outputs": [
        {
          "output_type": "stream",
          "name": "stdout",
          "text": [
            "<class 'pandas.core.frame.DataFrame'>\n",
            "RangeIndex: 9578 entries, 0 to 9577\n",
            "Data columns (total 19 columns):\n",
            " #   Column                      Non-Null Count  Dtype  \n",
            "---  ------                      --------------  -----  \n",
            " 0   credit.policy               9578 non-null   int64  \n",
            " 1   int.rate                    9578 non-null   float64\n",
            " 2   installment                 9578 non-null   float64\n",
            " 3   log.annual.inc              9578 non-null   float64\n",
            " 4   dti                         9578 non-null   float64\n",
            " 5   fico                        9578 non-null   int64  \n",
            " 6   days.with.cr.line           9578 non-null   float64\n",
            " 7   revol.bal                   9578 non-null   int64  \n",
            " 8   revol.util                  9578 non-null   float64\n",
            " 9   inq.last.6mths              9578 non-null   int64  \n",
            " 10  delinq.2yrs                 9578 non-null   int64  \n",
            " 11  pub.rec                     9578 non-null   int64  \n",
            " 12  not.fully.paid              9578 non-null   int64  \n",
            " 13  purpose_credit_card         9578 non-null   uint8  \n",
            " 14  purpose_debt_consolidation  9578 non-null   uint8  \n",
            " 15  purpose_educational         9578 non-null   uint8  \n",
            " 16  purpose_home_improvement    9578 non-null   uint8  \n",
            " 17  purpose_major_purchase      9578 non-null   uint8  \n",
            " 18  purpose_small_business      9578 non-null   uint8  \n",
            "dtypes: float64(6), int64(7), uint8(6)\n",
            "memory usage: 1.0 MB\n"
          ]
        }
      ],
      "source": [
        "data = pd.get_dummies(data, columns=['purpose'], drop_first=True)\n",
        "data.info()"
      ]
    },
    {
      "cell_type": "code",
      "execution_count": null,
      "metadata": {
        "id": "MCYCKDJRkjlx"
      },
      "outputs": [],
      "source": [
        "X = data.drop(['not.fully.paid'], axis=1)\n",
        "y = data['not.fully.paid']"
      ]
    },
    {
      "cell_type": "code",
      "execution_count": null,
      "metadata": {
        "colab": {
          "base_uri": "https://localhost:8080/"
        },
        "id": "KX1D7Knbkjly",
        "outputId": "8af4b673-0be0-46d2-cba8-5c967903893a"
      },
      "outputs": [
        {
          "output_type": "stream",
          "name": "stdout",
          "text": [
            "X_train:(6704, 18)\n",
            "X_test:(2874, 18)\n",
            "y_train:(6704,)\n",
            "y_test:(2874,)\n"
          ]
        }
      ],
      "source": [
        "from sklearn.preprocessing import RobustScaler\n",
        "scaler = RobustScaler()\n",
        "col=['days.with.cr.line', 'revol.bal']\n",
        "X[col] = scaler.fit_transform(X[col])\n",
        "\n",
        "from sklearn.model_selection import train_test_split\n",
        "X_train, X_test, y_train, y_test = \\\n",
        "    train_test_split(X, y, train_size=0.7)\n",
        "                     \n",
        "                     \n",
        "print(f'X_train:{X_train.shape}\\n\\\n",
        "X_test:{X_test.shape}\\n\\\n",
        "y_train:{y_train.shape}\\n\\\n",
        "y_test:{y_test.shape}')"
      ]
    },
    {
      "cell_type": "code",
      "execution_count": null,
      "metadata": {
        "id": "uPfutq_0kjl0"
      },
      "outputs": [],
      "source": [
        "# function to evaluate\n",
        "from sklearn.model_selection import cross_validate\n",
        "from sklearn.metrics import accuracy_score, recall_score, precision_score, roc_auc_score, f1_score, average_precision_score\n",
        "from sklearn.model_selection import StratifiedKFold\n",
        "def analyse(model, xtrain, ytrain, xtest, ytest):\n",
        "    model.fit(xtrain, ytrain)\n",
        "    sk = StratifiedKFold(3, shuffle=True, random_state=0)\n",
        "    sf_scorer = cross_validate(model, xtrain, ytrain, \n",
        "                 scoring=['roc_auc', 'accuracy', 'precision', 'recall', 'f1'],\n",
        "                 cv=sk)\n",
        "    accuracy = sf_scorer['test_accuracy'].mean()\n",
        "    recall = sf_scorer['test_recall'].mean()\n",
        "    precision = sf_scorer['test_precision'].mean()\n",
        "    roc_auc = sf_scorer['test_roc_auc'].mean()\n",
        "    f1score = sf_scorer['test_f1'].mean()\n",
        "    try:\n",
        "        y_score_test = model.decision_function(xtest)\n",
        "        y_score_train = model.decision_function(xtrain)\n",
        "    except:\n",
        "        y_score_test = model.predict_proba(xtest)[:,1]\n",
        "        y_score_train = model.predict_proba(xtrain)[:,1]\n",
        "    ypred = model.predict(xtest)\n",
        "    ret = {'train':{'pr auc': average_precision_score(ytrain, y_score_train),\n",
        "                'accuracy': accuracy,\n",
        "                'recall':recall,\n",
        "                'precision':precision,\n",
        "                'roc auc':roc_auc,\n",
        "                'f1 score': f1score},\n",
        "           'test':{'pr auc': average_precision_score(ytest, y_score_test),\n",
        "                'accuracy':accuracy_score(ytest, ypred),\n",
        "                'recall':recall_score(ytest, ypred),\n",
        "                'precision':precision_score(ytest, ypred),\n",
        "                'roc auc':roc_auc_score(ytest, y_score_test),\n",
        "                'f1 score': f1_score(ytest, ypred)}}\n",
        "    return ret"
      ]
    },
    {
      "cell_type": "code",
      "execution_count": null,
      "metadata": {
        "id": "CZ0Fts4nkjl1"
      },
      "outputs": [],
      "source": [
        "from sklearn.metrics import accuracy_score, recall_score, precision_score, roc_auc_score, f1_score, auc, precision_recall_curve\n",
        "\n",
        "def analyseANN(ANNmodel, model, xtrain, ytrain, xtest, ytest):\n",
        "    \n",
        "    ypred =  model.predict(xtrain)\n",
        "    ypred_test = model.predict(xtest)\n",
        "    precision_train, recall_train, thresholds = precision_recall_curve(ytrain, ypred)\n",
        "    precision_test, recall_test, thresholds = precision_recall_curve(y_test, ypred_test)\n",
        "\n",
        "    for i in range(len(ypred)):\n",
        "        if ypred[i] <=0.5:\n",
        "            ypred[i] =0\n",
        "        else: \n",
        "            ypred[i] =1\n",
        "    for i in range(len(ypred_test)):\n",
        "        if ypred_test[i] <=0.5:\n",
        "            ypred_test[i] =0\n",
        "        else: \n",
        "            ypred_test[i] =1\n",
        "    \n",
        "    #ypred = y_pred_prob.where(y_pred_prob<0.5,0,1 ) \n",
        "    accuracy = accuracy_score(ytrain, ypred)\n",
        "    recall = recall_score(ytrain, ypred)\n",
        "    precision = precision_score(ytrain, ypred)\n",
        "    roc_auc = roc_auc_score(ytrain, ypred)\n",
        "    f1score = f1_score(ytrain, ypred)\n",
        "\n",
        "    ret = {'train':{'pr auc': auc(recall_train, precision_train),\n",
        "                    'accuracy': accuracy,\n",
        "                    'recall':recall,\n",
        "                    'precision':precision,\n",
        "                    'roc auc':roc_auc,\n",
        "                    'f1 score': f1score},\n",
        "               'test':{'pr auc': auc(recall_test, precision_test),\n",
        "                    'accuracy':accuracy_score(ytest, ypred_test),\n",
        "                    'recall':recall_score(ytest, ypred_test),\n",
        "                    'precision':precision_score(ytest, ypred_test),\n",
        "                    'roc auc':roc_auc_score(ytest, ypred_test),\n",
        "                    'f1 score': f1_score(ytest, ypred_test)}}\n",
        "    \n",
        "    history_df = pd.DataFrame(ANNmodel.history)\n",
        "    history_df.loc[:, ['loss', 'val_loss']].plot()\n",
        "    history_df.loc[:, ['binary_accuracy', 'val_binary_accuracy']].plot()\n",
        "    plt.ylim(0.5, 1)\n",
        "    return ret"
      ]
    },
    {
      "cell_type": "code",
      "execution_count": null,
      "metadata": {
        "colab": {
          "base_uri": "https://localhost:8080/"
        },
        "id": "KOCC5ft8kjl3",
        "outputId": "0359c490-8ea8-42e8-dfb5-d4768603be68"
      },
      "outputs": [
        {
          "output_type": "stream",
          "name": "stdout",
          "text": [
            "{\n",
            "  \"train\": {\n",
            "    \"pr auc\": 0.2684510540479302,\n",
            "    \"accuracy\": 0.8394988440460193,\n",
            "    \"recall\": 0.006580727301663085,\n",
            "    \"precision\": 0.25555555555555554,\n",
            "    \"roc auc\": 0.6556374414697504,\n",
            "    \"f1 score\": 0.012820679617628733\n",
            "  },\n",
            "  \"test\": {\n",
            "    \"pr auc\": 0.3204055266460942,\n",
            "    \"accuracy\": 0.8392484342379958,\n",
            "    \"recall\": 0.02771855010660981,\n",
            "    \"precision\": 0.6842105263157895,\n",
            "    \"roc auc\": 0.6738325006981724,\n",
            "    \"f1 score\": 0.05327868852459017\n",
            "  }\n",
            "}\n"
          ]
        }
      ],
      "source": [
        "##                     ##\n",
        "## LOGISTIC REGRESSION ##\n",
        "##                     ##\n",
        "\n",
        "from sklearn.linear_model import LogisticRegression\n",
        "import json\n",
        "lr = LogisticRegression(random_state=42)\n",
        "\n",
        "print(json.dumps(analyse(lr, X_train, y_train, X_test, y_test), indent=2))"
      ]
    },
    {
      "cell_type": "code",
      "execution_count": null,
      "metadata": {
        "colab": {
          "base_uri": "https://localhost:8080/"
        },
        "id": "OMp6p-v8kjl4",
        "outputId": "69a6e5cf-ec02-4cc9-ca37-be75420b3fb6"
      },
      "outputs": [
        {
          "output_type": "stream",
          "name": "stdout",
          "text": [
            "{\n",
            "  \"train\": {\n",
            "    \"pr auc\": 0.8352227408840108,\n",
            "    \"accuracy\": 0.8011642322536195,\n",
            "    \"recall\": 0.12124081589347763,\n",
            "    \"precision\": 0.2456511981935711,\n",
            "    \"roc auc\": 0.5871198884616752,\n",
            "    \"f1 score\": 0.16227981643253928\n",
            "  },\n",
            "  \"test\": {\n",
            "    \"pr auc\": 0.23235021367430342,\n",
            "    \"accuracy\": 0.8002783576896312,\n",
            "    \"recall\": 0.13432835820895522,\n",
            "    \"precision\": 0.2727272727272727,\n",
            "    \"roc auc\": 0.6166080792946464,\n",
            "    \"f1 score\": 0.18000000000000002\n",
            "  }\n",
            "}\n"
          ]
        }
      ],
      "source": [
        "##                     ##\n",
        "## XG BOOST CLASSIFIER ##\n",
        "##                     ##\n",
        "\n",
        "from xgboost.sklearn import XGBClassifier\n",
        "params = {\n",
        "            'booster':'gbtree',\n",
        "            'objective':'binary:logistic',\n",
        "            'max_depth': 3,\n",
        "            'learning_rate': 1,\n",
        "            'n_estimators':100,\n",
        "            \"eval_metric\": ['logloss'],\n",
        "            'random_state': 42\n",
        "        }         \n",
        "           \n",
        "          \n",
        "# instantiate the classifier \n",
        "xgb_clf = XGBClassifier(**params)\n",
        "\n",
        "print(json.dumps(analyse(xgb_clf, X_train, y_train, X_test, y_test), indent=2))"
      ]
    },
    {
      "cell_type": "code",
      "execution_count": null,
      "metadata": {
        "colab": {
          "base_uri": "https://localhost:8080/"
        },
        "id": "l7_YuQEMkjl5",
        "outputId": "1be6d944-bb73-4f25-d3cb-e06d38c39466"
      },
      "outputs": [
        {
          "output_type": "stream",
          "name": "stdout",
          "text": [
            "{\n",
            "  \"train\": {\n",
            "    \"pr auc\": 0.30540167161125986,\n",
            "    \"accuracy\": 0.8412888202593369,\n",
            "    \"recall\": 0.0,\n",
            "    \"precision\": 0.0,\n",
            "    \"roc auc\": 0.654760478163286,\n",
            "    \"f1 score\": 0.0\n",
            "  },\n",
            "  \"test\": {\n",
            "    \"pr auc\": 0.30211007963629993,\n",
            "    \"accuracy\": 0.8368128044537231,\n",
            "    \"recall\": 0.0,\n",
            "    \"precision\": 0.0,\n",
            "    \"roc auc\": 0.680870964453054,\n",
            "    \"f1 score\": 0.0\n",
            "  }\n",
            "}\n"
          ]
        }
      ],
      "source": [
        "##                          ##\n",
        "## RANDOM FOREST CLASSIFIER ##\n",
        "##                          ##\n",
        "\n",
        "\n",
        "from sklearn.ensemble import RandomForestClassifier\n",
        "rforest = RandomForestClassifier(max_depth = 3)\n",
        "\n",
        "print(json.dumps(analyse(rforest, X_train, y_train, X_test, y_test), indent=2))"
      ]
    },
    {
      "cell_type": "code",
      "execution_count": null,
      "metadata": {
        "colab": {
          "base_uri": "https://localhost:8080/"
        },
        "id": "eP0K0vIYkjl5",
        "outputId": "59357302-9428-4081-ce03-362ee347c8fd"
      },
      "outputs": [
        {
          "output_type": "stream",
          "name": "stdout",
          "text": [
            "{\n",
            "  \"train\": {\n",
            "    \"pr auc\": 0.2544800537261248,\n",
            "    \"accuracy\": 0.7749113590587338,\n",
            "    \"recall\": 0.2810482480570807,\n",
            "    \"precision\": 0.28624815005367227,\n",
            "    \"roc auc\": 0.6542092469470023,\n",
            "    \"f1 score\": 0.2835723667821179\n",
            "  },\n",
            "  \"test\": {\n",
            "    \"pr auc\": 0.28261848239494913,\n",
            "    \"accuracy\": 0.7741823242867084,\n",
            "    \"recall\": 0.3070362473347548,\n",
            "    \"precision\": 0.3076923076923077,\n",
            "    \"roc auc\": 0.6674155211468644,\n",
            "    \"f1 score\": 0.30736392742796165\n",
            "  }\n",
            "}\n"
          ]
        }
      ],
      "source": [
        "##                        ##\n",
        "## NAIVE BAYES CLASSIFIER ##\n",
        "##                        ##\n",
        "\n",
        "\n",
        "from sklearn.naive_bayes import GaussianNB\n",
        "gnb = GaussianNB()\n",
        "\n",
        "print(json.dumps(analyse(gnb, X_train, y_train, X_test, y_test), indent=2))"
      ]
    },
    {
      "cell_type": "code",
      "execution_count": null,
      "metadata": {
        "colab": {
          "base_uri": "https://localhost:8080/"
        },
        "id": "KUaXe6-hkjl6",
        "outputId": "2f5031ca-6dd6-4824-f1ba-00ff36fe2fab"
      },
      "outputs": [
        {
          "output_type": "stream",
          "name": "stdout",
          "text": [
            "{\n",
            "  \"train\": {\n",
            "    \"pr auc\": 0.20203615893925403,\n",
            "    \"accuracy\": 0.8412888202593369,\n",
            "    \"recall\": 0.0,\n",
            "    \"precision\": 0.0,\n",
            "    \"roc auc\": 0.5308553980452011,\n",
            "    \"f1 score\": 0.0\n",
            "  },\n",
            "  \"test\": {\n",
            "    \"pr auc\": 0.20289653179860162,\n",
            "    \"accuracy\": 0.8368128044537231,\n",
            "    \"recall\": 0.0,\n",
            "    \"precision\": 0.0,\n",
            "    \"roc auc\": 0.555444636041651,\n",
            "    \"f1 score\": 0.0\n",
            "  }\n",
            "}\n"
          ]
        }
      ],
      "source": [
        "##                ##\n",
        "## SVC CLASSIFIER ##\n",
        "##                ##\n",
        "\n",
        "\n",
        "from sklearn.svm import SVC\n",
        "svc = SVC(C=1, kernel='rbf', gamma='scale')\n",
        "\n",
        "print(json.dumps(analyse(svc, X_train, y_train, X_test, y_test), indent=2))"
      ]
    },
    {
      "cell_type": "code",
      "execution_count": null,
      "metadata": {
        "id": "9QoToarhkjl7"
      },
      "outputs": [],
      "source": [
        "##                ##\n",
        "## ANN CLASSIFIER ##\n",
        "##                ##\n",
        "\n",
        "\n",
        "from tensorflow.keras import Sequential\n",
        "from tensorflow.keras.layers import Dense, BatchNormalization, Dropout\n",
        "from tensorflow.keras.optimizers import Adam\n",
        "from keras.callbacks import EarlyStopping\n",
        "from keras.wrappers.scikit_learn import KerasClassifier\n",
        "import json\n",
        "\n",
        "def create_ann(dense_layers, dense_nodes, learning_rate, dropout_rate):\n",
        "    ann = Sequential()\n",
        "    ann.add(Dense(units = dense_nodes, activation='relu', input_shape=[(X_train.shape[1])]))\n",
        "    ann.add(Dropout(dropout_rate))\n",
        "    ann.add(BatchNormalization())\n",
        "\n",
        "    for i in range(dense_layers):\n",
        "        ann.add(Dense(units = dense_nodes, activation='relu'))\n",
        "        ann.add(Dropout(dropout_rate))\n",
        "        ann.add(BatchNormalization())\n",
        "    \n",
        "    ann.add(Dense(units = 1, activation='sigmoid')) \n",
        "    ann.compile(loss='binary_crossentropy',\n",
        "                optimizer=Adam(learning_rate=learning_rate),\n",
        "                metrics=['binary_accuracy'])\n",
        "    return ann\n",
        "\n",
        "def Model(dense_layers, dense_nodes, learning_rate, dropout_rate, batch_size):\n",
        "    ann = create_ann(dense_layers, dense_nodes, learning_rate, dropout_rate)\n",
        "    es = EarlyStopping(min_delta=0.01, patience=10)\n",
        "    classifier = ann.fit(X_train, y_train, validation_data=(X_test, y_test), batch_size=batch_size,\n",
        "                                     epochs=100, verbose=0,callbacks = es)\n",
        "    return classifier, ann"
      ]
    },
    {
      "cell_type": "code",
      "execution_count": null,
      "metadata": {
        "colab": {
          "base_uri": "https://localhost:8080/",
          "height": 847
        },
        "id": "4nMOb4Cakjl8",
        "outputId": "01ba6bd9-e0d3-4567-b47a-f3244c3ca475"
      },
      "outputs": [
        {
          "output_type": "stream",
          "name": "stdout",
          "text": [
            "running for: 0m, 13s\n",
            "{\n",
            "  \"train\": {\n",
            "    \"pr auc\": 0.21226950899010477,\n",
            "    \"accuracy\": 0.8412887828162291,\n",
            "    \"recall\": 0.0,\n",
            "    \"precision\": 0.0,\n",
            "    \"roc auc\": 0.5,\n",
            "    \"f1 score\": 0.0\n",
            "  },\n",
            "  \"test\": {\n",
            "    \"pr auc\": 0.22214871700573136,\n",
            "    \"accuracy\": 0.8368128044537231,\n",
            "    \"recall\": 0.0,\n",
            "    \"precision\": 0.0,\n",
            "    \"roc auc\": 0.5,\n",
            "    \"f1 score\": 0.0\n",
            "  }\n",
            "}\n"
          ]
        },
        {
          "output_type": "display_data",
          "data": {
            "text/plain": [
              "<Figure size 432x288 with 1 Axes>"
            ],
            "image/png": "[encoded data removed]"
          },
          "metadata": {
            "needs_background": "light"
          }
        },
        {
          "output_type": "display_data",
          "data": {
            "text/plain": [
              "<Figure size 432x288 with 1 Axes>"
            ],
            "image/png": "[encoded data removed]"
          },
          "metadata": {
            "needs_background": "light"
          }
        }
      ],
      "source": [
        "_start = time.time()\n",
        "\n",
        "ANNmodel , model= Model(dense_layers =2 , dense_nodes = 128, learning_rate = 0.001, dropout_rate = 0.3, batch_size = 1000)\n",
        "\n",
        "ret = analyseANN(ANNmodel, model, X_train, y_train, X_test, y_test)\n",
        "\n",
        "_end = time.time()\n",
        "\n",
        "print(f'running for: {int((_end-_start)/60)}m, {int((_end-_start)%60)}s')\n",
        "print(json.dumps(ret, indent=2))"
      ]
    },
    {
      "cell_type": "markdown",
      "metadata": {
        "id": "JMbG8mv3kjl8"
      },
      "source": [
        "# PSO OPTIMIZED"
      ]
    },
    {
      "cell_type": "code",
      "execution_count": null,
      "metadata": {
        "colab": {
          "base_uri": "https://localhost:8080/"
        },
        "id": "zC6bvRLpkjl8",
        "outputId": "a45342f8-a978-4202-b63f-7d5d8cfc8024"
      },
      "outputs": [
        {
          "output_type": "stream",
          "name": "stdout",
          "text": [
            "Looking in indexes: https://pypi.org/simple, https://us-python.pkg.dev/colab-wheels/public/simple/\n",
            "Collecting optunity\n",
            "  Downloading Optunity-1.1.1.tar.gz (4.6 MB)\n",
            "\u001b[K     |████████████████████████████████| 4.6 MB 8.0 MB/s \n",
            "\u001b[?25hBuilding wheels for collected packages: optunity\n",
            "  Building wheel for optunity (setup.py) ... \u001b[?25l\u001b[?25hdone\n",
            "  Created wheel for optunity: filename=Optunity-1.1.1-py3-none-any.whl size=72032 sha256=429ec75bd1ba820e714f63709d4125a2444f9c87571c6e92826ba1a91ed5645f\n",
            "  Stored in directory: /root/.cache/pip/wheels/0d/0e/31/a4763ff822a20f88a61dd3bb1c8b78a8f25c605392fe956d07\n",
            "Successfully built optunity\n",
            "Installing collected packages: optunity\n",
            "Successfully installed optunity-1.1.1\n"
          ]
        }
      ],
      "source": [
        "!pip install optunity\n",
        "\n",
        "import optunity\n",
        "import optunity.metrics\n",
        "from bisect import bisect\n",
        "from sklearn.model_selection import cross_val_score\n",
        "import math"
      ]
    },
    {
      "cell_type": "code",
      "execution_count": null,
      "metadata": {
        "id": "kfCJDTYIkjl9"
      },
      "outputs": [],
      "source": [
        "##                     ##\n",
        "## LOGISTIC REGRESSION ##\n",
        "##                     ##\n",
        "\n",
        "from sklearn.linear_model import LogisticRegression\n",
        "import json\n",
        "\n",
        "search = {\n",
        "    'penalty':[0, 1], # none l1 l2 elasticnet\n",
        "    'C': [1e-6, 1e-2], # inverse of regularization strength\n",
        "    'l1_ratio':[0, 1],\n",
        "    'max_iter':[10, 1000]\n",
        "}\n",
        "\n",
        "data = X.values.tolist()\n",
        "labels = y.values.tolist()\n",
        "counter=0\n",
        "\n",
        "@optunity.cross_validated(x=data, y=labels, num_folds=3)\n",
        "\n",
        "def performance_lr(x_train, y_train, x_test, y_test,\n",
        "                  penalty=None, max_iter=None, C=None,\n",
        "                   l1_ratio=None):\n",
        "    global counter\n",
        "    def mapper(f, breakpoint=[], cat=[]):\n",
        "        return cat[bisect(breakpoint, f)]\n",
        "    \n",
        "    penalty=mapper(penalty, breakpoint=[0.25, 0.5, 0.75],\n",
        "                   cat=['none', 'l1', 'l2', 'elasticnet'])\n",
        "    max_iter = int(max_iter)\n",
        "    \n",
        "    model = LogisticRegression(penalty=penalty, l1_ratio=l1_ratio, C=C,\n",
        "                               max_iter=max_iter, solver='saga', n_jobs=-1)\n",
        "    # mark this issue.\n",
        "    # only saga allows using any penalty hence for \n",
        "    # ease of implementation we use saga.\n",
        "    l = cross_val_score(model, data, labels, cv=3, n_jobs=-1,\n",
        "                                    scoring='roc_auc', error_score='raise')\n",
        "    scores = np.mean(l)\n",
        "    counter+=1\n",
        "    print(counter, end=' ')\n",
        "    return scores"
      ]
    },
    {
      "cell_type": "code",
      "execution_count": null,
      "metadata": {
        "colab": {
          "base_uri": "https://localhost:8080/"
        },
        "id": "rYCu7Qq0kjl9",
        "outputId": "d0c1c66a-c1fc-4874-d44e-a610115f5ad1"
      },
      "outputs": [
        {
          "output_type": "stream",
          "name": "stdout",
          "text": [
            "1 2 3 4 5 6 7 8 9 10 11 12 13 14 15 16 17 18 19 20 21 22 23 24 25 26 27 28 29 30 31 32 33 34 35 36 37 38 39 40 41 42 43 44 45 46 47 48 49 50 51 52 53 54 55 56 57 58 59 60 61 62 63 64 65 66 67 68 69 70 71 72 73 74 75 76 77 78 79 80 81 82 83 84 85 86 87 88 89 90 91 92 93 94 95 96 97 98 99 100 101 102 103 104 105 106 107 108 109 110 111 112 113 114 115 116 117 118 119 120 121 122 123 124 125 126 127 128 129 130 131 132 133 134 135 136 137 138 139 140 141 142 143 144 145 146 147 148 149 150 151 152 153 154 155 156 157 158 159 160 161 162 163 164 165 166 167 168 169 170 171 172 173 174 175 176 177 178 179 180 181 182 183 184 185 186 187 188 189 190 191 192 193 194 195 196 197 198 199 200 201 202 203 204 205 206 207 208 209 210 211 212 213 214 215 216 217 218 219 220 221 222 223 224 225 226 227 228 229 230 231 232 233 234 235 236 237 running for: 18m, 43s\n"
          ]
        }
      ],
      "source": [
        "_start = time.time()\n",
        "\n",
        "optimal_confg, info, _ = optunity.maximize(performance_lr,\n",
        "                                           solver_name='particle swarm',\n",
        "                                           num_evals=100,\n",
        "                                           **search)\n",
        "\n",
        "_end = time.time()\n",
        "\n",
        "# only in seconds\n",
        "\n",
        "print(f'running for: {int((_end-_start)/60)}m, {int((_end-_start)%60)}s')"
      ]
    },
    {
      "cell_type": "code",
      "execution_count": null,
      "metadata": {
        "colab": {
          "base_uri": "https://localhost:8080/"
        },
        "id": "wshKI5LBkjl-",
        "outputId": "30c0f4cc-0d95-460b-f0ed-f8ab14a7738c"
      },
      "outputs": [
        {
          "output_type": "stream",
          "name": "stdout",
          "text": [
            "{\n",
            "  \"penalty\": \"none\",\n",
            "  \"C\": 0.0052875806640624995,\n",
            "  \"l1_ratio\": 0.9058384287591914,\n",
            "  \"max_iter\": 991\n",
            "}\n",
            "best cv_score:0.6455140345918481\n"
          ]
        }
      ],
      "source": [
        "def mapper(f, breakpoint=[], cat=[]):\n",
        "        return cat[bisect(breakpoint, f)]\n",
        "\n",
        "optimal_config_format = optimal_confg.copy()\n",
        "optimal_config_format['penalty'] = mapper(optimal_config_format['penalty'],\n",
        "                                          breakpoint=[0.25, 0.5, 0.75],\n",
        "                                          cat=['none', 'l1', 'l2', 'elasticnet'])\n",
        "optimal_config_format['max_iter'] = int(optimal_config_format['max_iter'])\n",
        "print(json.dumps(optimal_config_format, indent=2))\n",
        "print(f'best cv_score:{info.optimum}')"
      ]
    },
    {
      "cell_type": "code",
      "execution_count": null,
      "metadata": {
        "colab": {
          "base_uri": "https://localhost:8080/"
        },
        "id": "cd2fQ680kjl_",
        "outputId": "fd87bdaa-f9e6-4d7b-b8f1-663678d947d5"
      },
      "outputs": [
        {
          "output_type": "stream",
          "name": "stdout",
          "text": [
            "{\n",
            "  \"train\": {\n",
            "    \"pr auc\": 0.2559493220739161,\n",
            "    \"accuracy\": 0.8400952802495766,\n",
            "    \"recall\": 0.007517041988276174,\n",
            "    \"precision\": 0.3666666666666667,\n",
            "    \"roc auc\": 0.6441357021400753,\n",
            "    \"f1 score\": 0.014682960163175371\n",
            "  },\n",
            "  \"test\": {\n",
            "    \"pr auc\": 0.2872659936947723,\n",
            "    \"accuracy\": 0.8389004871259569,\n",
            "    \"recall\": 0.019189765458422176,\n",
            "    \"precision\": 0.75,\n",
            "    \"roc auc\": 0.657104734716675,\n",
            "    \"f1 score\": 0.037422037422037424\n",
            "  }\n",
            "}\n"
          ]
        }
      ],
      "source": [
        "final_lr = LogisticRegression(solver='saga', **optimal_config_format)\n",
        "print(json.dumps(analyse(final_lr, X_train, y_train, X_test, y_test), indent=2))"
      ]
    },
    {
      "cell_type": "code",
      "execution_count": null,
      "metadata": {
        "id": "g3x2vitQkjl_"
      },
      "outputs": [],
      "source": [
        "##                          ##\n",
        "## RANDOM FOREST CLASSIFIER ##\n",
        "##                          ##\n",
        "\n",
        "search = {\n",
        "    'n_estimators': [10, 100],\n",
        "    'criterion':[0, 1],\n",
        "    'max_depth':[3, 10],\n",
        "    'max_leaf_nodes':[1, 100],\n",
        "    'max_features':[0, 1],\n",
        "    'min_weight_fraction_leaf':[0, 0.5]\n",
        "}\n",
        "\n",
        "data = X.values.tolist()\n",
        "labels = y.values.tolist()\n",
        "\n",
        "counter=0\n",
        "\n",
        "@optunity.cross_validated(x=data, y=labels, num_folds=3)\n",
        "\n",
        "def performance_rf(x_train, y_train, x_test, y_test,\n",
        "                  n_estimators=None,\n",
        "                  criterion=None,\n",
        "                  max_depth=None,\n",
        "                  max_leaf_nodes=None,\n",
        "                  max_features=None,\n",
        "                  min_weight_fraction_leaf=None):\n",
        "    global counter\n",
        "    def mapper(f, breakpoint=[], cat=[]):\n",
        "        return cat[bisect(breakpoint, f)]\n",
        "    \n",
        "    criterion=mapper(criterion, breakpoint=[0.5],\n",
        "                    cat=['gini', 'entropy'])\n",
        "    max_features=mapper(max_features, breakpoint=[0.33, 0.66],\n",
        "                       cat=['sqrt', 'log2', None])\n",
        "    \n",
        "    if int(max_leaf_nodes) == 0:\n",
        "        # error in pso swarn\n",
        "        return 0\n",
        "    model=RandomForestClassifier(n_estimators=int(n_estimators),\n",
        "                                criterion=criterion,\n",
        "                                max_depth=max_depth,\n",
        "                                max_leaf_nodes=int(max_leaf_nodes),\n",
        "                                max_features=max_features,\n",
        "                                min_weight_fraction_leaf=min_weight_fraction_leaf,\n",
        "                                n_jobs=-1,\n",
        "                                random_state=42)\n",
        "    scores=np.mean(cross_val_score(model, data, labels, cv=3, n_jobs=-1,\n",
        "                                    scoring='roc_auc', error_score='raise'))\n",
        "    counter+=1\n",
        "    print(counter, end=' ')\n",
        "    return scores"
      ]
    },
    {
      "cell_type": "code",
      "execution_count": null,
      "metadata": {
        "colab": {
          "base_uri": "https://localhost:8080/"
        },
        "id": "k7_GYDj5kjmA",
        "outputId": "96ca24f0-664a-4556-f69f-719bd9cf5694"
      },
      "outputs": [
        {
          "output_type": "stream",
          "name": "stdout",
          "text": [
            "1 2 3 4 5 6 7 8 9 10 11 12 13 14 15 16 17 18 19 20 21 22 23 24 25 26 27 28 29 30 31 32 33 34 35 36 37 38 39 40 41 42 43 44 45 46 47 48 49 50 51 52 53 54 55 56 57 58 59 60 61 62 63 64 65 66 67 68 69 70 71 72 73 74 75 76 77 78 79 80 81 82 83 84 85 86 87 88 89 90 91 92 93 94 95 96 97 98 99 100 101 102 103 104 105 106 107 108 109 110 111 112 113 114 115 116 117 118 119 120 121 122 123 124 125 126 127 128 129 130 131 132 133 134 135 136 137 138 139 140 141 142 143 144 145 146 147 148 149 150 151 152 153 154 155 156 157 158 159 160 161 162 163 164 165 166 167 168 169 170 171 172 173 174 175 176 177 178 179 180 181 182 183 184 185 186 187 188 189 190 191 192 193 194 195 196 197 198 199 200 201 202 203 204 205 206 207 208 209 210 211 212 213 214 215 216 217 218 219 220 221 222 223 224 225 226 227 228 229 230 231 232 233 234 235 236 237 238 239 240 241 242 243 244 245 246 247 248 249 250 251 252 253 254 255 256 257 258 259 260 261 running for: 6m, 52s\n"
          ]
        }
      ],
      "source": [
        "_start = time.time()\n",
        "\n",
        "optimal_confg, info, _ = optunity.maximize(performance_rf,\n",
        "                                           solver_name='particle swarm',\n",
        "                                           num_evals=100,\n",
        "                                           **search)\n",
        "\n",
        "_end = time.time()\n",
        "\n",
        "print(f'running for: {int((_end-_start)/60)}m, {int((_end-_start)%60)}s')"
      ]
    },
    {
      "cell_type": "code",
      "execution_count": null,
      "metadata": {
        "colab": {
          "base_uri": "https://localhost:8080/"
        },
        "id": "5MYjY7ZDkjmA",
        "outputId": "48b9e66c-80f7-46dc-c1eb-0a264f397e23"
      },
      "outputs": [
        {
          "output_type": "stream",
          "name": "stdout",
          "text": [
            "{\n",
            "  \"n_estimators\": 76,\n",
            "  \"criterion\": \"gini\",\n",
            "  \"max_depth\": 7.51978515625,\n",
            "  \"max_leaf_nodes\": 57,\n",
            "  \"max_features\": \"log2\",\n",
            "  \"min_weight_fraction_leaf\": 0.0034516836934474285\n",
            "}\n",
            "best cv_score:0.6468216402530574\n"
          ]
        }
      ],
      "source": [
        "def mapper(f, breakpoint=[], cat=[]):\n",
        "        return cat[bisect(breakpoint, f)]\n",
        "\n",
        "optimal_config_format = optimal_confg.copy()\n",
        "optimal_config_format['criterion'] = mapper(optimal_config_format['criterion'],\n",
        "                                          breakpoint=[0.5],\n",
        "                                          cat=['gini', 'entropy'])\n",
        "\n",
        "optimal_config_format['max_features'] = mapper(optimal_config_format['max_features'],\n",
        "                                         breakpoint=[0.33, 0.66],\n",
        "                                         cat=['sqrt', 'log2', None])\n",
        "\n",
        "optimal_config_format['n_estimators'] = int(optimal_config_format['n_estimators'])\n",
        "optimal_config_format['max_leaf_nodes'] = int(optimal_config_format['max_leaf_nodes'])\n",
        "print(json.dumps(optimal_config_format, indent=2))\n",
        "print(f'best cv_score:{info.optimum}')"
      ]
    },
    {
      "cell_type": "code",
      "execution_count": null,
      "metadata": {
        "colab": {
          "base_uri": "https://localhost:8080/"
        },
        "id": "3Q_eGU5ukjmA",
        "outputId": "6b6316cd-5031-431b-857e-02357c83d1ea"
      },
      "outputs": [
        {
          "output_type": "stream",
          "name": "stdout",
          "text": [
            "{\n",
            "  \"train\": {\n",
            "    \"pr auc\": 0.43432439438341003,\n",
            "    \"accuracy\": 0.8409905353972937,\n",
            "    \"recall\": 0.0,\n",
            "    \"precision\": 0.0,\n",
            "    \"roc auc\": 0.6602211564454241,\n",
            "    \"f1 score\": 0.0\n",
            "  },\n",
            "  \"test\": {\n",
            "    \"pr auc\": 0.2969141841809431,\n",
            "    \"accuracy\": 0.8368128044537231,\n",
            "    \"recall\": 0.0,\n",
            "    \"precision\": 0.0,\n",
            "    \"roc auc\": 0.6878721923498043,\n",
            "    \"f1 score\": 0.0\n",
            "  }\n",
            "}\n"
          ]
        }
      ],
      "source": [
        "final_rf = RandomForestClassifier(n_jobs=-1,\n",
        "                                  random_state=42,\n",
        "                                  **optimal_config_format)\n",
        "print(json.dumps(analyse(final_rf,\n",
        "                         X_train,\n",
        "                         y_train,\n",
        "                         X_test,\n",
        "                         y_test),\n",
        "                 indent=2))"
      ]
    },
    {
      "cell_type": "code",
      "execution_count": null,
      "metadata": {
        "colab": {
          "base_uri": "https://localhost:8080/"
        },
        "id": "7k6WggtzkjmA",
        "outputId": "21f434d0-879f-4d4d-d0cf-72ec15850434"
      },
      "outputs": [
        {
          "output_type": "stream",
          "name": "stdout",
          "text": [
            "cv made\n"
          ]
        }
      ],
      "source": [
        "##                     ##\n",
        "## XG BOOST CLASSIFIER ##\n",
        "##                     ##\n",
        "\n",
        "from xgboost.sklearn import XGBClassifier\n",
        "search = {\n",
        "    'n_estimators': [10, 20],\n",
        "    'max_depth':[3, 9],\n",
        "    'gamma':[0, 1],\n",
        "    'learning_rate':[1e-6, 1e-2]\n",
        "}\n",
        "\n",
        "data = X.values.tolist()\n",
        "labels = y.values.tolist()\n",
        "\n",
        "counter=0\n",
        "print('cv made')\n",
        "@optunity.cross_validated(x=data, y=labels, num_folds=3)\n",
        "\n",
        "\n",
        "def performance_xgb(x_train, y_train, x_test, y_test,\n",
        "                  n_estimators=None,\n",
        "                  max_depth=None,\n",
        "                  gamma=None,\n",
        "                  learning_rate=None):\n",
        "    global counter\n",
        "    model=XGBClassifier(objective=\"binary:logistic\",random_state=42, n_jobs=-1,\n",
        "                       n_estimators=int(n_estimators),\n",
        "                       max_depth=int(max_depth),\n",
        "                       gamma=gamma,\n",
        "                       learning_rate=learning_rate,\n",
        "                       eval_metric='auc',\n",
        "                       use_label_encoder=False)\n",
        "    scores=np.mean(cross_val_score(model, X, y, cv=3, n_jobs=-1,\n",
        "                                    scoring='roc_auc', error_score='raise'))\n",
        "    counter+=1\n",
        "    print(counter, end=' ')\n",
        "    return scores"
      ]
    },
    {
      "cell_type": "code",
      "execution_count": null,
      "metadata": {
        "colab": {
          "base_uri": "https://localhost:8080/"
        },
        "id": "STOXgdC1kjmB",
        "outputId": "bcd60bb6-2705-47e2-9105-23dfb5c1a4a9"
      },
      "outputs": [
        {
          "output_type": "stream",
          "name": "stdout",
          "text": [
            "1 2 3 4 5 6 7 8 9 10 11 12 13 14 15 16 17 18 19 20 21 22 23 24 25 26 27 28 29 30 31 32 33 34 35 36 37 38 39 40 41 42 43 44 45 46 47 48 49 50 51 52 53 54 55 56 57 58 59 60 61 62 63 64 65 66 67 68 69 70 71 72 73 74 75 76 77 78 79 80 81 82 83 84 85 86 87 88 89 90 91 92 93 94 95 96 97 98 99 100 101 102 103 104 105 106 107 108 109 110 111 112 113 114 115 116 117 118 119 120 121 122 123 124 125 126 127 128 129 130 131 132 133 134 135 136 137 138 139 140 141 running for: 1m, 21s\n"
          ]
        }
      ],
      "source": [
        "_start = time.time()\n",
        "\n",
        "optimal_confg, info, _ =optunity.maximize(performance_xgb,\n",
        "                                        solver_name='particle swarm',\n",
        "                                        num_evals=50,\n",
        "                                        **search)\n",
        "\n",
        "_end = time.time()\n",
        "\n",
        "print(f'running for: {int((_end-_start)/60)}m, {int((_end-_start)%60)}s')"
      ]
    },
    {
      "cell_type": "code",
      "execution_count": null,
      "metadata": {
        "colab": {
          "base_uri": "https://localhost:8080/"
        },
        "id": "F509YcNRkjmB",
        "outputId": "128e0611-5de8-4039-8a33-e1fe9c32307c"
      },
      "outputs": [
        {
          "output_type": "stream",
          "name": "stdout",
          "text": [
            "{\n",
            "  \"n_estimators\": 18,\n",
            "  \"max_depth\": 8,\n",
            "  \"gamma\": 0.3583389456775596,\n",
            "  \"learning_rate\": 0.00829710257602289\n",
            "}\n",
            "best cv_score:0.6416225342468937\n"
          ]
        }
      ],
      "source": [
        "import json\n",
        "optimal_config_format = optimal_confg.copy()\n",
        "\n",
        "optimal_config_format['n_estimators'] = int(optimal_config_format['n_estimators'])\n",
        "optimal_config_format['max_depth'] = int(optimal_config_format['max_depth'])\n",
        "\n",
        "print(json.dumps(optimal_config_format, indent=2))\n",
        "print(f'best cv_score:{info.optimum}')"
      ]
    },
    {
      "cell_type": "code",
      "execution_count": null,
      "metadata": {
        "colab": {
          "base_uri": "https://localhost:8080/"
        },
        "id": "I65ml8VwkjmB",
        "outputId": "2d788448-f2cb-4cc2-a159-755736eb4d2f"
      },
      "outputs": [
        {
          "output_type": "stream",
          "name": "stdout",
          "text": [
            "{\n",
            "  \"train\": {\n",
            "    \"pr auc\": 0.4739293822943797,\n",
            "    \"accuracy\": 0.8238358845768433,\n",
            "    \"recall\": 0.07237208562107106,\n",
            "    \"precision\": 0.2859038818430632,\n",
            "    \"roc auc\": 0.6108665863030892,\n",
            "    \"f1 score\": 0.11531902879384894\n",
            "  },\n",
            "  \"test\": {\n",
            "    \"pr auc\": 0.2572720422976136,\n",
            "    \"accuracy\": 0.8239387613082811,\n",
            "    \"recall\": 0.053304904051172705,\n",
            "    \"precision\": 0.28735632183908044,\n",
            "    \"roc auc\": 0.6588140379185156,\n",
            "    \"f1 score\": 0.08992805755395683\n",
            "  }\n",
            "}\n"
          ]
        }
      ],
      "source": [
        "final_xgb = XGBClassifier(objective=\"binary:logistic\",\n",
        "                          eval_metric='auc',\n",
        "                          n_jobs=-1,\n",
        "                          random_state=42,\n",
        "                          use_label_encoder=False,\n",
        "                          **optimal_config_format)\n",
        "print(json.dumps(analyse(final_xgb, X_train, y_train, X_test, y_test), indent=2))"
      ]
    },
    {
      "cell_type": "code",
      "execution_count": null,
      "metadata": {
        "id": "Ywkxvf3mkjmC"
      },
      "outputs": [],
      "source": [
        "##                        ##\n",
        "## NAIVE BAYES CLASSIFIER ##\n",
        "##                        ##\n",
        "\n",
        "\n",
        "from sklearn.naive_bayes import GaussianNB\n",
        "search = {\n",
        "    'var_smoothing': [1e-9, 1]\n",
        "}\n",
        "\n",
        "data = X.values.tolist()\n",
        "labels = y.values.tolist()\n",
        "counter=0\n",
        "\n",
        "@optunity.cross_validated(x=data, y=labels, num_folds=3)\n",
        "\n",
        "def performance_gnb(x_train, y_train, x_test, y_test,\n",
        "                  var_smoothing=None):\n",
        "    global counter\n",
        "    model=GaussianNB(var_smoothing=var_smoothing)\n",
        "    scores=np.mean(cross_val_score(model, data, labels, cv=3, n_jobs=-1,\n",
        "                                    scoring='roc_auc', error_score='raise'))\n",
        "    counter+=1\n",
        "    print(counter, end=' ')\n",
        "    return scores"
      ]
    },
    {
      "cell_type": "code",
      "execution_count": null,
      "metadata": {
        "colab": {
          "base_uri": "https://localhost:8080/"
        },
        "id": "nj73DGnWkjmC",
        "outputId": "654f9933-a6e1-4a39-e25c-a2b0b70ff511"
      },
      "outputs": [
        {
          "output_type": "stream",
          "name": "stdout",
          "text": [
            "1 2 3 4 5 6 7 8 9 10 11 12 13 14 15 16 17 18 19 20 21 22 23 24 25 26 27 28 29 30 31 32 33 34 35 36 37 38 39 40 41 42 43 44 45 46 47 48 49 50 51 52 53 54 55 56 57 58 59 60 61 62 63 64 65 66 67 68 69 70 71 72 73 74 75 76 77 78 79 80 81 82 83 84 85 86 87 88 89 90 91 92 93 94 95 96 97 98 99 100 101 102 103 104 105 106 107 108 109 110 111 112 113 114 115 116 117 running for: 2m, 25s\n"
          ]
        }
      ],
      "source": [
        "_start = time.time()\n",
        "\n",
        "optimal_confg, info, _ =optunity.maximize(performance_gnb,\n",
        "                                        solver_name='particle swarm',\n",
        "                                        num_evals=50,\n",
        "                                        **search)\n",
        "\n",
        "_end = time.time()\n",
        "\n",
        "print(f'running for: {int((_end-_start)/60)}m, {int((_end-_start)%60)}s')"
      ]
    },
    {
      "cell_type": "code",
      "execution_count": null,
      "metadata": {
        "colab": {
          "base_uri": "https://localhost:8080/"
        },
        "id": "-L0B_dnzkjmC",
        "outputId": "7d93975d-190d-4a8d-b479-702db773d8db"
      },
      "outputs": [
        {
          "output_type": "stream",
          "name": "stdout",
          "text": [
            "{\n",
            "  \"var_smoothing\": 0.002050221551174791\n",
            "}\n",
            "best cv_score:0.6050112546548037\n"
          ]
        }
      ],
      "source": [
        "import json\n",
        "optimal_config_format = optimal_confg.copy()\n",
        "\n",
        "print(json.dumps(optimal_config_format, indent=2))\n",
        "print(f'best cv_score:{info.optimum}')"
      ]
    },
    {
      "cell_type": "code",
      "execution_count": null,
      "metadata": {
        "colab": {
          "base_uri": "https://localhost:8080/"
        },
        "id": "QVmpxTMqkjmC",
        "outputId": "72648984-e37a-4797-cfd3-29c1dcd6e661"
      },
      "outputs": [
        {
          "output_type": "stream",
          "name": "stdout",
          "text": [
            "{\n",
            "  \"train\": {\n",
            "    \"pr auc\": 0.2218498341551754,\n",
            "    \"accuracy\": 0.8400957475714285,\n",
            "    \"recall\": 0.0065754224025887905,\n",
            "    \"precision\": 0.5370370370370371,\n",
            "    \"roc auc\": 0.6169223120104608,\n",
            "    \"f1 score\": 0.012676682156734396\n",
            "  },\n",
            "  \"test\": {\n",
            "    \"pr auc\": 0.2230676959926267,\n",
            "    \"accuracy\": 0.8368128044537231,\n",
            "    \"recall\": 0.0042643923240938165,\n",
            "    \"precision\": 0.5,\n",
            "    \"roc auc\": 0.615420964674696,\n",
            "    \"f1 score\": 0.008456659619450317\n",
            "  }\n",
            "}\n"
          ]
        }
      ],
      "source": [
        "final_gnb = GaussianNB(**optimal_config_format)\n",
        "print(json.dumps(analyse(final_gnb, X_train, y_train, X_test, y_test), indent=2))"
      ]
    },
    {
      "cell_type": "code",
      "execution_count": null,
      "metadata": {
        "id": "uWOelcLkkjmD"
      },
      "outputs": [],
      "source": [
        "##                ##\n",
        "## SVC CLASSIFIER ##\n",
        "##                ##\n",
        "\n",
        "\n",
        "from sklearn.svm import SVC\n",
        "\n",
        "svc = SVC()\n",
        "\n",
        "counter=0\n",
        "\n",
        "search = {\n",
        "    'C': [1e-4, 10],\n",
        "    'gamma':[1e-4, 10]\n",
        "}\n",
        "\n",
        "data = X.values.tolist()\n",
        "labels = y.values.tolist()\n",
        "\n",
        "@optunity.cross_validated(x=data, y=labels, num_folds=3)\n",
        "\n",
        "def performance_svc(x_train, y_train, x_test, y_test,\n",
        "                  C=None, gamma=None):\n",
        "    global counter\n",
        "    svc.set_params(**{'C':C, 'gamma':gamma})\n",
        "    scores=np.mean(cross_val_score(svc, data, labels, cv=3, n_jobs=-1,\n",
        "                                    scoring='roc_auc',\n",
        "                                   error_score='raise'))\n",
        "    counter+=1\n",
        "    print(counter, end=' ')\n",
        "    return scores"
      ]
    },
    {
      "cell_type": "code",
      "execution_count": null,
      "metadata": {
        "colab": {
          "base_uri": "https://localhost:8080/"
        },
        "id": "1rsiDjzXkjmD",
        "outputId": "b5e9d841-4cb5-4aa4-8a0c-bcce1c043eaa"
      },
      "outputs": [
        {
          "output_type": "stream",
          "name": "stdout",
          "text": [
            "1 2 3 4 5 6 7 8 9 10 11 12 13 14 15 16 17 18 19 20 21 22 23 24 25 26 27 28 29 30 31 32 33 34 35 36 37 38 39 40 41 42 43 44 45 46 47 48 49 50 51 52 53 54 55 56 57 58 59 60 61 62 63 64 65 66 67 68 69 70 71 72 73 74 75 76 77 78 79 80 81 82 83 84 85 86 87 88 89 90 91 92 93 94 95 96 97 98 99 100 101 102 103 104 105 106 107 108 109 110 111 112 113 114 running for: 16m, 2s\n"
          ]
        }
      ],
      "source": [
        "_start = time.time()\n",
        "\n",
        "optimal_confg, info, _ =optunity.maximize(performance_svc,\n",
        "                                        solver_name='particle swarm',\n",
        "                                        num_evals=50,\n",
        "                                        **search)\n",
        "\n",
        "_end = time.time()\n",
        "\n",
        "print(f'running for: {int((_end-_start)/60)}m, {int((_end-_start)%60)}s')"
      ]
    },
    {
      "cell_type": "code",
      "execution_count": null,
      "metadata": {
        "colab": {
          "base_uri": "https://localhost:8080/"
        },
        "id": "K5c1yZMJkjmD",
        "outputId": "09dd0ad2-2d16-4b24-cdae-f997f3fe6db9"
      },
      "outputs": [
        {
          "output_type": "stream",
          "name": "stdout",
          "text": [
            "{\n",
            "  \"C\": 5.627192166015625,\n",
            "  \"gamma\": 0.127756098695478\n",
            "}\n",
            "best cv_score:0.5428242178706845\n"
          ]
        }
      ],
      "source": [
        "import json\n",
        "optimal_config_format = optimal_confg.copy()\n",
        "\n",
        "print(json.dumps(optimal_config_format, indent=2))\n",
        "print(f'best cv_score:{info.optimum}')"
      ]
    },
    {
      "cell_type": "code",
      "execution_count": null,
      "metadata": {
        "colab": {
          "base_uri": "https://localhost:8080/"
        },
        "id": "suTov9O1kjmD",
        "outputId": "2af79d3b-27ca-4175-99b3-9ff741c5a3a4"
      },
      "outputs": [
        {
          "output_type": "stream",
          "name": "stdout",
          "text": [
            "{\n",
            "  \"train\": {\n",
            "    \"pr auc\": 1.0,\n",
            "    \"accuracy\": 0.8409904018767645,\n",
            "    \"recall\": 0.0,\n",
            "    \"precision\": 0.0,\n",
            "    \"roc auc\": 0.5448608656184412,\n",
            "    \"f1 score\": 0.0\n",
            "  },\n",
            "  \"test\": {\n",
            "    \"pr auc\": 0.18751574025665968,\n",
            "    \"accuracy\": 0.8354210160055672,\n",
            "    \"recall\": 0.0,\n",
            "    \"precision\": 0.0,\n",
            "    \"roc auc\": 0.5695610158296726,\n",
            "    \"f1 score\": 0.0\n",
            "  }\n",
            "}\n"
          ]
        }
      ],
      "source": [
        "final_svc = SVC(**optimal_config_format)\n",
        "print(json.dumps(analyse(final_svc, X_train, y_train, X_test, y_test), indent=2))"
      ]
    },
    {
      "cell_type": "code",
      "execution_count": null,
      "metadata": {
        "id": "MdABIZ0MkjmE"
      },
      "outputs": [],
      "source": [
        "##                ##\n",
        "## ANN CLASSIFIER ##\n",
        "##                ##\n",
        "\n",
        "from tensorflow.keras import Sequential\n",
        "from tensorflow.keras.layers import Dense, BatchNormalization, Dropout\n",
        "from tensorflow.keras.optimizers import Adam\n",
        "from keras.callbacks import EarlyStopping\n",
        "from sklearn.model_selection import StratifiedKFold\n",
        "from keras.wrappers.scikit_learn import KerasClassifier\n",
        "\n",
        "search = {'dense_layers':[1, 4],\n",
        "        'dense_nodes':[32, 128],\n",
        "        'batch_size':[100, 1000],\n",
        "        'learning_rate':[1e-6, 1e-2],\n",
        "        'dropout_rate':[0.3, 0.8]}\n",
        "\n",
        "data = X_train.values.tolist()\n",
        "labels = y_train.values.tolist()\n",
        "counter=0\n",
        "\n",
        "@optunity.cross_validated(x=data, y=labels, num_folds=3)\n",
        "\n",
        "def performance_ann(x_train, y_train, x_test, y_test,\n",
        "                   dense_layers=None,\n",
        "                   dense_nodes=None,\n",
        "                   batch_size=None,\n",
        "                   learning_rate=None,\n",
        "                   dropout_rate=None):\n",
        "    global counter\n",
        "    _, model=Model(dense_layers=int(dense_layers),\n",
        "                  dense_nodes=int(dense_nodes),\n",
        "                  learning_rate=learning_rate,\n",
        "                  dropout_rate=dropout_rate,\n",
        "                  batch_size=int(batch_size))\n",
        "    ypred =  model.predict(X)\n",
        "    scores = roc_auc_score(y, ypred)\n",
        "    counter+=1\n",
        "    print(counter, end=' ')\n",
        "    return scores"
      ]
    },
    {
      "cell_type": "code",
      "execution_count": null,
      "metadata": {
        "colab": {
          "base_uri": "https://localhost:8080/"
        },
        "id": "SY_qvL3nkjmE",
        "outputId": "eda70a2f-6788-4584-b37e-b15dba506fbc"
      },
      "outputs": [
        {
          "output_type": "stream",
          "name": "stdout",
          "text": [
            "1 2 3 4 5 6 7 8 9 10 11 12 13 14 15 16 17 18 19 20 21 22 23 24 25 26 27 28 29 30 31 32 33 34 35 36 37 38 39 40 41 42 43 44 45 46 47 48 49 50 51 52 53 54 55 56 57 58 59 60 61 62 63 64 65 66 67 68 69 70 71 72 73 74 75 76 77 78 79 80 81 82 83 84 85 86 87 88 89 90 91 92 93 94 95 96 97 98 99 100 101 102 103 104 105 106 107 108 109 110 111 112 113 114 115 116 117 118 119 120 121 122 123 124 125 126 127 128 129 130 131 132 133 134 135 136 137 138 139 140 141 142 143 144 145 146 147 148 149 150 151 152 153 154 155 156 157 158 159 160 161 162 163 164 165 166 167 168 169 170 171 172 173 174 175 176 177 178 179 180 181 182 183 184 185 186 187 188 189 190 191 192 193 194 195 196 197 198 199 200 201 202 203 204 205 206 207 208 209 210 211 212 213 214 215 216 217 218 219 220 221 222 223 224 225 226 227 228 229 230 231 232 233 234 235 236 237 238 239 240 241 242 243 244 245 246 247 248 249 250 251 252 253 254 255 256 257 258 259 260 261 262 263 264 265 266 267 268 269 270 271 272 273 274 275 276 277 278 279 280 281 282 running for: 20m, 30s\n"
          ]
        }
      ],
      "source": [
        "_start = time.time()\n",
        "\n",
        "optimal_confg, info, _ =optunity.maximize(performance_ann,\n",
        "                                        solver_name='particle swarm',\n",
        "                                        num_evals=100,\n",
        "                                        **search)\n",
        "\n",
        "_end = time.time()\n",
        "\n",
        "print(f'running for: {int((_end-_start)/60)}m, {int((_end-_start)%60)}s')"
      ]
    },
    {
      "cell_type": "code",
      "execution_count": null,
      "metadata": {
        "colab": {
          "base_uri": "https://localhost:8080/"
        },
        "id": "GeM8VFpskjmE",
        "outputId": "e764944e-2332-45cd-b134-d3ca277a2bd1"
      },
      "outputs": [
        {
          "output_type": "stream",
          "name": "stdout",
          "text": [
            "{\n",
            "  \"dense_layers\": 1,\n",
            "  \"dense_nodes\": 89,\n",
            "  \"batch_size\": 340,\n",
            "  \"learning_rate\": 0.006365506337157087,\n",
            "  \"dropout_rate\": 0.3061799771366894\n",
            "}\n",
            "best cv_score:0.629977819643825\n"
          ]
        }
      ],
      "source": [
        "import json\n",
        "optimal_config_format = optimal_confg.copy()\n",
        "optimal_config_format['dense_layers'] = int(optimal_config_format['dense_layers'])\n",
        "optimal_config_format['dense_nodes'] = int(optimal_config_format['dense_nodes'])\n",
        "optimal_config_format['batch_size'] = int(optimal_config_format['batch_size'])\n",
        "print(json.dumps(optimal_config_format, indent=2))\n",
        "print(f'best cv_score:{info.optimum}')"
      ]
    },
    {
      "cell_type": "code",
      "execution_count": null,
      "metadata": {
        "colab": {
          "base_uri": "https://localhost:8080/",
          "height": 847
        },
        "id": "EoohHooXkjmE",
        "outputId": "d69a80e3-10dc-4bdb-ccbc-645bb583705d"
      },
      "outputs": [
        {
          "output_type": "stream",
          "name": "stdout",
          "text": [
            "running for: 0m, 4s\n",
            "{\n",
            "  \"train\": {\n",
            "    \"pr auc\": 0.22791204162439088,\n",
            "    \"accuracy\": 0.8412887828162291,\n",
            "    \"recall\": 0.0,\n",
            "    \"precision\": 0.0,\n",
            "    \"roc auc\": 0.5,\n",
            "    \"f1 score\": 0.0\n",
            "  },\n",
            "  \"test\": {\n",
            "    \"pr auc\": 0.2329230218059005,\n",
            "    \"accuracy\": 0.8368128044537231,\n",
            "    \"recall\": 0.0,\n",
            "    \"precision\": 0.0,\n",
            "    \"roc auc\": 0.5,\n",
            "    \"f1 score\": 0.0\n",
            "  }\n",
            "}\n"
          ]
        },
        {
          "output_type": "display_data",
          "data": {
            "text/plain": [
              "<Figure size 432x288 with 1 Axes>"
            ],
            "image/png": "[encoded data removed]"
          },
          "metadata": {
            "needs_background": "light"
          }
        },
        {
          "output_type": "display_data",
          "data": {
            "text/plain": [
              "<Figure size 432x288 with 1 Axes>"
            ],
            "image/png": "[encoded data removed]"
          },
          "metadata": {
            "needs_background": "light"
          }
        }
      ],
      "source": [
        "_start = time.time()\n",
        "\n",
        "ANNmodel , final_ann= Model(**optimal_config_format)\n",
        "ret = analyseANN(ANNmodel, final_ann, X_train, y_train, X_test, y_test)\n",
        "\n",
        "_end = time.time()\n",
        "\n",
        "print(f'running for: {int((_end-_start)/60)}m, {int((_end-_start)%60)}s')\n",
        "print(json.dumps(ret, indent=2))"
      ]
    }
  ],
  "metadata": {
    "kernelspec": {
      "display_name": "Python 3",
      "language": "python",
      "name": "python3"
    },
    "language_info": {
      "codemirror_mode": {
        "name": "ipython",
        "version": 3
      },
      "file_extension": ".py",
      "mimetype": "text/x-python",
      "name": "python",
      "nbconvert_exporter": "python",
      "pygments_lexer": "ipython3",
      "version": "3.8.10"
    },
    "colab": {
      "name": "ALL_LENDING_CLUB_LOAD_PSO.ipynb",
      "provenance": [],
      "collapsed_sections": []
    }
  },
  "nbformat": 4,
  "nbformat_minor": 0
}