{
  "cells": [
    {
      "cell_type": "markdown",
      "metadata": {
        "id": "view-in-github"
      },
      "source": [
        "<a href=\"https://colab.research.google.com/github/hsuecu/data_set/blob/main/ADULT_CENSUS_PSO_2.ipynb\" target=\"_parent\"><img src=\"https://colab.research.google.com/assets/colab-badge.svg\" alt=\"Open In Colab\"/></a>"
      ]
    },
    {
      "cell_type": "markdown",
      "metadata": {
        "id": "tpvD--opqBza"
      },
      "source": [
        "<span style=\"display:inline-block;position:relative;font-size:64px;background-color: #d9edab;padding:200px 10px;width:100%;text-align:center\">ADULT CENSUS</span><br><strong style=\"display:block;font-size:30px;padding-top:20px\">GA</strong>"
      ]
    },
    {
      "cell_type": "code",
      "execution_count": 27,
      "metadata": {
        "colab": {
          "base_uri": "https://localhost:8080/"
        },
        "id": "W5aXNxNiqBze",
        "outputId": "569af844-1a49-40eb-ed4d-1f81e1876264"
      },
      "outputs": [
        {
          "output_type": "stream",
          "name": "stdout",
          "text": [
            "Looking in indexes: https://pypi.org/simple, https://us-python.pkg.dev/colab-wheels/public/simple/\n",
            "Requirement already satisfied: scikit-learn-intelex in /usr/local/lib/python3.7/dist-packages (2021.6.3)\n",
            "Requirement already satisfied: scikit-learn>=0.22 in /usr/local/lib/python3.7/dist-packages (from scikit-learn-intelex) (1.0.2)\n",
            "Requirement already satisfied: daal4py==2021.6.3 in /usr/local/lib/python3.7/dist-packages (from scikit-learn-intelex) (2021.6.3)\n",
            "Requirement already satisfied: numpy>=1.15 in /usr/local/lib/python3.7/dist-packages (from daal4py==2021.6.3->scikit-learn-intelex) (1.21.6)\n",
            "Requirement already satisfied: daal==2021.6.0 in /usr/local/lib/python3.7/dist-packages (from daal4py==2021.6.3->scikit-learn-intelex) (2021.6.0)\n",
            "Requirement already satisfied: tbb==2021.* in /usr/local/lib/python3.7/dist-packages (from daal==2021.6.0->daal4py==2021.6.3->scikit-learn-intelex) (2021.6.0)\n",
            "Requirement already satisfied: joblib>=0.11 in /usr/local/lib/python3.7/dist-packages (from scikit-learn>=0.22->scikit-learn-intelex) (1.1.0)\n",
            "Requirement already satisfied: scipy>=1.1.0 in /usr/local/lib/python3.7/dist-packages (from scikit-learn>=0.22->scikit-learn-intelex) (1.7.3)\n",
            "Requirement already satisfied: threadpoolctl>=2.0.0 in /usr/local/lib/python3.7/dist-packages (from scikit-learn>=0.22->scikit-learn-intelex) (3.1.0)\n"
          ]
        },
        {
          "output_type": "stream",
          "name": "stderr",
          "text": [
            "Intel(R) Extension for Scikit-learn* enabled (https://github.com/intel/scikit-learn-intelex)\n"
          ]
        }
      ],
      "source": [
        "import pandas as pd\n",
        "import numpy as np\n",
        "import matplotlib.pyplot as plt\n",
        "import seaborn as sns\n",
        "import time as time\n",
        "\n",
        "!pip3 install scikit-learn-intelex\n",
        "\n",
        "from sklearnex import patch_sklearn\n",
        "patch_sklearn()\n",
        "\n",
        "import warnings\n",
        "warnings.filterwarnings('ignore')"
      ]
    },
    {
      "cell_type": "code",
      "execution_count": 28,
      "metadata": {
        "colab": {
          "base_uri": "https://localhost:8080/",
          "height": 340
        },
        "id": "RvXrTq1mqBzg",
        "outputId": "970d997e-43fc-4d4c-cb00-23f4b4ea8a60"
      },
      "outputs": [
        {
          "output_type": "execute_result",
          "data": {
            "text/plain": [
              "   age workclass  fnlwgt     education  education.num marital.status  \\\n",
              "0   90         ?   77053       HS-grad              9        Widowed   \n",
              "1   82   Private  132870       HS-grad              9        Widowed   \n",
              "2   66         ?  186061  Some-college             10        Widowed   \n",
              "3   54   Private  140359       7th-8th              4       Divorced   \n",
              "4   41   Private  264663  Some-college             10      Separated   \n",
              "\n",
              "          occupation   relationship   race     sex  capital.gain  \\\n",
              "0                  ?  Not-in-family  White  Female             0   \n",
              "1    Exec-managerial  Not-in-family  White  Female             0   \n",
              "2                  ?      Unmarried  Black  Female             0   \n",
              "3  Machine-op-inspct      Unmarried  White  Female             0   \n",
              "4     Prof-specialty      Own-child  White  Female             0   \n",
              "\n",
              "   capital.loss  hours.per.week native.country income  \n",
              "0          4356              40  United-States  <=50K  \n",
              "1          4356              18  United-States  <=50K  \n",
              "2          4356              40  United-States  <=50K  \n",
              "3          3900              40  United-States  <=50K  \n",
              "4          3900              40  United-States  <=50K  "
            ],
            "text/html": [
              "\n",
              "  <div id=\"df-669a126b-6b6e-4f4d-ae0d-b252a39e6a98\">\n",
              "    <div class=\"colab-df-container\">\n",
              "      <div>\n",
              "<style scoped>\n",
              "    .dataframe tbody tr th:only-of-type {\n",
              "        vertical-align: middle;\n",
              "    }\n",
              "\n",
              "    .dataframe tbody tr th {\n",
              "        vertical-align: top;\n",
              "    }\n",
              "\n",
              "    .dataframe thead th {\n",
              "        text-align: right;\n",
              "    }\n",
              "</style>\n",
              "<table border=\"1\" class=\"dataframe\">\n",
              "  <thead>\n",
              "    <tr style=\"text-align: right;\">\n",
              "      <th></th>\n",
              "      <th>age</th>\n",
              "      <th>workclass</th>\n",
              "      <th>fnlwgt</th>\n",
              "      <th>education</th>\n",
              "      <th>education.num</th>\n",
              "      <th>marital.status</th>\n",
              "      <th>occupation</th>\n",
              "      <th>relationship</th>\n",
              "      <th>race</th>\n",
              "      <th>sex</th>\n",
              "      <th>capital.gain</th>\n",
              "      <th>capital.loss</th>\n",
              "      <th>hours.per.week</th>\n",
              "      <th>native.country</th>\n",
              "      <th>income</th>\n",
              "    </tr>\n",
              "  </thead>\n",
              "  <tbody>\n",
              "    <tr>\n",
              "      <th>0</th>\n",
              "      <td>90</td>\n",
              "      <td>?</td>\n",
              "      <td>77053</td>\n",
              "      <td>HS-grad</td>\n",
              "      <td>9</td>\n",
              "      <td>Widowed</td>\n",
              "      <td>?</td>\n",
              "      <td>Not-in-family</td>\n",
              "      <td>White</td>\n",
              "      <td>Female</td>\n",
              "      <td>0</td>\n",
              "      <td>4356</td>\n",
              "      <td>40</td>\n",
              "      <td>United-States</td>\n",
              "      <td>&lt;=50K</td>\n",
              "    </tr>\n",
              "    <tr>\n",
              "      <th>1</th>\n",
              "      <td>82</td>\n",
              "      <td>Private</td>\n",
              "      <td>132870</td>\n",
              "      <td>HS-grad</td>\n",
              "      <td>9</td>\n",
              "      <td>Widowed</td>\n",
              "      <td>Exec-managerial</td>\n",
              "      <td>Not-in-family</td>\n",
              "      <td>White</td>\n",
              "      <td>Female</td>\n",
              "      <td>0</td>\n",
              "      <td>4356</td>\n",
              "      <td>18</td>\n",
              "      <td>United-States</td>\n",
              "      <td>&lt;=50K</td>\n",
              "    </tr>\n",
              "    <tr>\n",
              "      <th>2</th>\n",
              "      <td>66</td>\n",
              "      <td>?</td>\n",
              "      <td>186061</td>\n",
              "      <td>Some-college</td>\n",
              "      <td>10</td>\n",
              "      <td>Widowed</td>\n",
              "      <td>?</td>\n",
              "      <td>Unmarried</td>\n",
              "      <td>Black</td>\n",
              "      <td>Female</td>\n",
              "      <td>0</td>\n",
              "      <td>4356</td>\n",
              "      <td>40</td>\n",
              "      <td>United-States</td>\n",
              "      <td>&lt;=50K</td>\n",
              "    </tr>\n",
              "    <tr>\n",
              "      <th>3</th>\n",
              "      <td>54</td>\n",
              "      <td>Private</td>\n",
              "      <td>140359</td>\n",
              "      <td>7th-8th</td>\n",
              "      <td>4</td>\n",
              "      <td>Divorced</td>\n",
              "      <td>Machine-op-inspct</td>\n",
              "      <td>Unmarried</td>\n",
              "      <td>White</td>\n",
              "      <td>Female</td>\n",
              "      <td>0</td>\n",
              "      <td>3900</td>\n",
              "      <td>40</td>\n",
              "      <td>United-States</td>\n",
              "      <td>&lt;=50K</td>\n",
              "    </tr>\n",
              "    <tr>\n",
              "      <th>4</th>\n",
              "      <td>41</td>\n",
              "      <td>Private</td>\n",
              "      <td>264663</td>\n",
              "      <td>Some-college</td>\n",
              "      <td>10</td>\n",
              "      <td>Separated</td>\n",
              "      <td>Prof-specialty</td>\n",
              "      <td>Own-child</td>\n",
              "      <td>White</td>\n",
              "      <td>Female</td>\n",
              "      <td>0</td>\n",
              "      <td>3900</td>\n",
              "      <td>40</td>\n",
              "      <td>United-States</td>\n",
              "      <td>&lt;=50K</td>\n",
              "    </tr>\n",
              "  </tbody>\n",
              "</table>\n",
              "</div>\n",
              "      <button class=\"colab-df-convert\" onclick=\"convertToInteractive('df-669a126b-6b6e-4f4d-ae0d-b252a39e6a98')\"\n",
              "              title=\"Convert this dataframe to an interactive table.\"\n",
              "              style=\"display:none;\">\n",
              "        \n",
              "  <svg xmlns=\"http://www.w3.org/2000/svg\" height=\"24px\"viewBox=\"0 0 24 24\"\n",
              "       width=\"24px\">\n",
              "    <path d=\"M0 0h24v24H0V0z\" fill=\"none\"/>\n",
              "    <path d=\"M18.56 5.44l.94 2.06.94-2.06 2.06-.94-2.06-.94-.94-2.06-.94 2.06-2.06.94zm-11 1L8.5 8.5l.94-2.06 2.06-.94-2.06-.94L8.5 2.5l-.94 2.06-2.06.94zm10 10l.94 2.06.94-2.06 2.06-.94-2.06-.94-.94-2.06-.94 2.06-2.06.94z\"/><path d=\"M17.41 7.96l-1.37-1.37c-.4-.4-.92-.59-1.43-.59-.52 0-1.04.2-1.43.59L10.3 9.45l-7.72 7.72c-.78.78-.78 2.05 0 2.83L4 21.41c.39.39.9.59 1.41.59.51 0 1.02-.2 1.41-.59l7.78-7.78 2.81-2.81c.8-.78.8-2.07 0-2.86zM5.41 20L4 18.59l7.72-7.72 1.47 1.35L5.41 20z\"/>\n",
              "  </svg>\n",
              "      </button>\n",
              "      \n",
              "  <style>\n",
              "    .colab-df-container {\n",
              "      display:flex;\n",
              "      flex-wrap:wrap;\n",
              "      gap: 12px;\n",
              "    }\n",
              "\n",
              "    .colab-df-convert {\n",
              "      background-color: #E8F0FE;\n",
              "      border: none;\n",
              "      border-radius: 50%;\n",
              "      cursor: pointer;\n",
              "      display: none;\n",
              "      fill: #1967D2;\n",
              "      height: 32px;\n",
              "      padding: 0 0 0 0;\n",
              "      width: 32px;\n",
              "    }\n",
              "\n",
              "    .colab-df-convert:hover {\n",
              "      background-color: #E2EBFA;\n",
              "      box-shadow: 0px 1px 2px rgba(60, 64, 67, 0.3), 0px 1px 3px 1px rgba(60, 64, 67, 0.15);\n",
              "      fill: #174EA6;\n",
              "    }\n",
              "\n",
              "    [theme=dark] .colab-df-convert {\n",
              "      background-color: #3B4455;\n",
              "      fill: #D2E3FC;\n",
              "    }\n",
              "\n",
              "    [theme=dark] .colab-df-convert:hover {\n",
              "      background-color: #434B5C;\n",
              "      box-shadow: 0px 1px 3px 1px rgba(0, 0, 0, 0.15);\n",
              "      filter: drop-shadow(0px 1px 2px rgba(0, 0, 0, 0.3));\n",
              "      fill: #FFFFFF;\n",
              "    }\n",
              "  </style>\n",
              "\n",
              "      <script>\n",
              "        const buttonEl =\n",
              "          document.querySelector('#df-669a126b-6b6e-4f4d-ae0d-b252a39e6a98 button.colab-df-convert');\n",
              "        buttonEl.style.display =\n",
              "          google.colab.kernel.accessAllowed ? 'block' : 'none';\n",
              "\n",
              "        async function convertToInteractive(key) {\n",
              "          const element = document.querySelector('#df-669a126b-6b6e-4f4d-ae0d-b252a39e6a98');\n",
              "          const dataTable =\n",
              "            await google.colab.kernel.invokeFunction('convertToInteractive',\n",
              "                                                     [key], {});\n",
              "          if (!dataTable) return;\n",
              "\n",
              "          const docLinkHtml = 'Like what you see? Visit the ' +\n",
              "            '<a target=\"_blank\" href=https://colab.research.google.com/notebooks/data_table.ipynb>data table notebook</a>'\n",
              "            + ' to learn more about interactive tables.';\n",
              "          element.innerHTML = '';\n",
              "          dataTable['output_type'] = 'display_data';\n",
              "          await google.colab.output.renderOutput(dataTable, element);\n",
              "          const docLink = document.createElement('div');\n",
              "          docLink.innerHTML = docLinkHtml;\n",
              "          element.appendChild(docLink);\n",
              "        }\n",
              "      </script>\n",
              "    </div>\n",
              "  </div>\n",
              "  "
            ]
          },
          "metadata": {},
          "execution_count": 28
        }
      ],
      "source": [
        "data = pd.read_csv(\"https://raw.githubusercontent.com/hsuecu/python_ml/main/adult.csv\")\n",
        "data.head()"
      ]
    },
    {
      "cell_type": "code",
      "execution_count": 29,
      "metadata": {
        "colab": {
          "base_uri": "https://localhost:8080/"
        },
        "id": "-n9VLpynqBzh",
        "outputId": "4d75bc18-2291-4104-f190-839224681240"
      },
      "outputs": [
        {
          "output_type": "stream",
          "name": "stdout",
          "text": [
            "<class 'pandas.core.frame.DataFrame'>\n",
            "RangeIndex: 32561 entries, 0 to 32560\n",
            "Data columns (total 15 columns):\n",
            " #   Column          Non-Null Count  Dtype \n",
            "---  ------          --------------  ----- \n",
            " 0   age             32561 non-null  int64 \n",
            " 1   workclass       32561 non-null  object\n",
            " 2   fnlwgt          32561 non-null  int64 \n",
            " 3   education       32561 non-null  object\n",
            " 4   education.num   32561 non-null  int64 \n",
            " 5   marital.status  32561 non-null  object\n",
            " 6   occupation      32561 non-null  object\n",
            " 7   relationship    32561 non-null  object\n",
            " 8   race            32561 non-null  object\n",
            " 9   sex             32561 non-null  object\n",
            " 10  capital.gain    32561 non-null  int64 \n",
            " 11  capital.loss    32561 non-null  int64 \n",
            " 12  hours.per.week  32561 non-null  int64 \n",
            " 13  native.country  32561 non-null  object\n",
            " 14  income          32561 non-null  object\n",
            "dtypes: int64(6), object(9)\n",
            "memory usage: 3.7+ MB\n"
          ]
        }
      ],
      "source": [
        "data.info()"
      ]
    },
    {
      "cell_type": "code",
      "execution_count": 30,
      "metadata": {
        "id": "VU-OiD1KqBzh"
      },
      "outputs": [],
      "source": [
        "if __name__==\"__main__\":\n",
        "    for i in data.columns:\n",
        "        data[i].replace('?', np.NAN, inplace=True)"
      ]
    },
    {
      "cell_type": "code",
      "execution_count": 31,
      "metadata": {
        "colab": {
          "base_uri": "https://localhost:8080/"
        },
        "id": "PDzL8hA1qBzh",
        "outputId": "70da1ba5-e24e-49db-fd01-ed2ea9582eff"
      },
      "outputs": [
        {
          "output_type": "stream",
          "name": "stdout",
          "text": [
            "Useless row entries are:7.368%\n"
          ]
        }
      ],
      "source": [
        "if __name__==\"__main__\":\n",
        "    count = 0\n",
        "    for i in range(data.shape[0]):\n",
        "        for j in data.iloc[i].isna():\n",
        "            if j:\n",
        "                count += 1\n",
        "                break\n",
        "    print(f'Useless row entries are:{round(count/data.shape[0] * 100, 3)}%')"
      ]
    },
    {
      "cell_type": "code",
      "execution_count": 32,
      "metadata": {
        "id": "SHxl2GB1qBzi"
      },
      "outputs": [],
      "source": [
        "data.dropna(axis=0, inplace=True)"
      ]
    },
    {
      "cell_type": "code",
      "execution_count": 33,
      "metadata": {
        "colab": {
          "base_uri": "https://localhost:8080/"
        },
        "id": "we-90qezqBzi",
        "outputId": "9db083ac-a1e9-49fc-b6fa-88920a049dec"
      },
      "outputs": [
        {
          "output_type": "stream",
          "name": "stdout",
          "text": [
            "<class 'pandas.core.frame.DataFrame'>\n",
            "Int64Index: 30162 entries, 1 to 32560\n",
            "Columns: 15 entries, age to income\n",
            "dtypes: int64(6), object(9)\n",
            "memory usage: 3.7+ MB\n"
          ]
        }
      ],
      "source": [
        "data.info(verbose=False)"
      ]
    },
    {
      "cell_type": "markdown",
      "metadata": {
        "id": "3QvaKWb9qBzj"
      },
      "source": [
        "# Data Processing"
      ]
    },
    {
      "cell_type": "code",
      "execution_count": 34,
      "metadata": {
        "colab": {
          "base_uri": "https://localhost:8080/"
        },
        "id": "3d4W8lzYqBzj",
        "outputId": "93c17955-327f-4424-d3c8-c12c0045d801",
        "scrolled": true
      },
      "outputs": [
        {
          "output_type": "stream",
          "name": "stdout",
          "text": [
            "<class 'pandas.core.frame.DataFrame'>\n",
            "Int64Index: 30162 entries, 1 to 32560\n",
            "Columns: 7 entries, race_Amer-Indian-Eskimo to sex_Male\n",
            "dtypes: uint8(7)\n",
            "memory usage: 441.8 KB\n"
          ]
        }
      ],
      "source": [
        "to_oneHotEncode = ['race', 'sex']\n",
        "to_lableEncode = ['workclass', 'education',\n",
        "                 'marital.status', 'occupation',\n",
        "                 'relationship', 'native.country']\n",
        "\n",
        "data_intermediate=pd.get_dummies(data=data[to_oneHotEncode],\n",
        "                                drop_first=False)\n",
        "data_intermediate.info(verbose=False)"
      ]
    },
    {
      "cell_type": "code",
      "execution_count": 35,
      "metadata": {
        "id": "fmRgrxyqqBzj"
      },
      "outputs": [],
      "source": [
        "data = pd.concat([data, data_intermediate], axis = 1)\n",
        "data.drop(to_oneHotEncode, axis=1, inplace=True)"
      ]
    },
    {
      "cell_type": "code",
      "execution_count": 36,
      "metadata": {
        "id": "cIsmjH2GqBzk"
      },
      "outputs": [],
      "source": [
        "from sklearn.preprocessing import LabelEncoder\n",
        "le_obj = LabelEncoder()\n",
        "\n",
        "if __name__==\"__main__\":\n",
        "    for i in to_lableEncode:\n",
        "        data[i] = le_obj.fit_transform(data[i])"
      ]
    },
    {
      "cell_type": "code",
      "execution_count": 37,
      "metadata": {
        "colab": {
          "base_uri": "https://localhost:8080/"
        },
        "id": "KWwEH-hfqBzk",
        "outputId": "b56fd8a4-f83e-4795-87f1-c3171d81626e"
      },
      "outputs": [
        {
          "output_type": "stream",
          "name": "stdout",
          "text": [
            "<class 'pandas.core.frame.DataFrame'>\n",
            "Int64Index: 30162 entries, 1 to 32560\n",
            "Data columns (total 20 columns):\n",
            " #   Column                   Non-Null Count  Dtype \n",
            "---  ------                   --------------  ----- \n",
            " 0   age                      30162 non-null  int64 \n",
            " 1   workclass                30162 non-null  int64 \n",
            " 2   fnlwgt                   30162 non-null  int64 \n",
            " 3   education                30162 non-null  int64 \n",
            " 4   education.num            30162 non-null  int64 \n",
            " 5   marital.status           30162 non-null  int64 \n",
            " 6   occupation               30162 non-null  int64 \n",
            " 7   relationship             30162 non-null  int64 \n",
            " 8   capital.gain             30162 non-null  int64 \n",
            " 9   capital.loss             30162 non-null  int64 \n",
            " 10  hours.per.week           30162 non-null  int64 \n",
            " 11  native.country           30162 non-null  int64 \n",
            " 12  income                   30162 non-null  object\n",
            " 13  race_Amer-Indian-Eskimo  30162 non-null  uint8 \n",
            " 14  race_Asian-Pac-Islander  30162 non-null  uint8 \n",
            " 15  race_Black               30162 non-null  uint8 \n",
            " 16  race_Other               30162 non-null  uint8 \n",
            " 17  race_White               30162 non-null  uint8 \n",
            " 18  sex_Female               30162 non-null  uint8 \n",
            " 19  sex_Male                 30162 non-null  uint8 \n",
            "dtypes: int64(12), object(1), uint8(7)\n",
            "memory usage: 3.4+ MB\n"
          ]
        }
      ],
      "source": [
        "data.info()"
      ]
    },
    {
      "cell_type": "code",
      "execution_count": 38,
      "metadata": {
        "id": "0oLGnW6sqBzl"
      },
      "outputs": [],
      "source": [
        "data['income'] = data['income'].apply(lambda x:1 if x=='>50K' else 0)"
      ]
    },
    {
      "cell_type": "code",
      "execution_count": 39,
      "metadata": {
        "id": "4HGx7_h4qBzl"
      },
      "outputs": [],
      "source": [
        "from sklearn.preprocessing import RobustScaler\n",
        "scaler = RobustScaler()\n",
        "col = [i for i in data\n",
        "       if i not in ['race_Amer-Indian-Eskimo',\n",
        "        'race_Asian-Pac-Islander','race_Black','race_Other',\n",
        "        'race_White','sex_Female','sex_Male', 'income']]"
      ]
    },
    {
      "cell_type": "code",
      "execution_count": 40,
      "metadata": {
        "colab": {
          "base_uri": "https://localhost:8080/"
        },
        "id": "oUBJQ4YxqBzl",
        "outputId": "baac861e-6759-4a46-9f6a-0e0f423c582b"
      },
      "outputs": [
        {
          "output_type": "execute_result",
          "data": {
            "text/plain": [
              "['age',\n",
              " 'workclass',\n",
              " 'fnlwgt',\n",
              " 'education',\n",
              " 'education.num',\n",
              " 'marital.status',\n",
              " 'occupation',\n",
              " 'relationship',\n",
              " 'capital.gain',\n",
              " 'capital.loss',\n",
              " 'hours.per.week',\n",
              " 'native.country']"
            ]
          },
          "metadata": {},
          "execution_count": 40
        }
      ],
      "source": [
        "col"
      ]
    },
    {
      "cell_type": "code",
      "execution_count": 41,
      "metadata": {
        "colab": {
          "base_uri": "https://localhost:8080/"
        },
        "id": "V5IQsy3iqBzl",
        "outputId": "0134af9f-8688-471f-adaa-6f624028de8c"
      },
      "outputs": [
        {
          "output_type": "stream",
          "name": "stdout",
          "text": [
            "X is (30162, 19)\n",
            "Y is (30162,)\n"
          ]
        }
      ],
      "source": [
        "X = data.drop(['income'], axis=1)\n",
        "y = data['income']\n",
        "\n",
        "print(f'X is {X.shape}\\nY is {y.shape}')\n",
        "\n",
        "X[col] = scaler.fit_transform(X[col])"
      ]
    },
    {
      "cell_type": "code",
      "execution_count": 42,
      "metadata": {
        "id": "yJgyXV23qBzm"
      },
      "outputs": [],
      "source": [
        "from sklearn.model_selection import train_test_split\n",
        "X_train, X_test, y_train, y_test = \\\n",
        "    train_test_split(X, y, train_size=0.7)"
      ]
    },
    {
      "cell_type": "code",
      "execution_count": 43,
      "metadata": {
        "colab": {
          "base_uri": "https://localhost:8080/"
        },
        "id": "h3RhhkfdqBzm",
        "outputId": "85d85c1a-2267-41ca-a5b7-57d42913ba6c"
      },
      "outputs": [
        {
          "output_type": "stream",
          "name": "stdout",
          "text": [
            "X_train:(21113, 19)\n",
            "X_test:(9049, 19)\n",
            "y_train:(21113,)\n",
            "y_test:(9049,)\n"
          ]
        }
      ],
      "source": [
        "print(f'X_train:{X_train.shape}\\n\\\n",
        "X_test:{X_test.shape}\\n\\\n",
        "y_train:{y_train.shape}\\n\\\n",
        "y_test:{y_test.shape}')"
      ]
    },
    {
      "cell_type": "code",
      "execution_count": 44,
      "metadata": {
        "id": "dh0mCJNPqBzm"
      },
      "outputs": [],
      "source": [
        "# function to evaluate\n",
        "from sklearn.model_selection import cross_validate\n",
        "from sklearn.metrics import accuracy_score, recall_score, precision_score, roc_auc_score, f1_score, average_precision_score\n",
        "from sklearn.model_selection import StratifiedKFold\n",
        "def analyse(model, xtrain, ytrain, xtest, ytest):\n",
        "    ytrain_pred = model.predict(xtrain)\n",
        "    ytest_pred = model.predict(xtest)\n",
        "    try:\n",
        "        y_score_test = model.decision_function(xtest)\n",
        "        y_score_train = model.decision_function(xtrain)\n",
        "    except:\n",
        "        y_score_test = model.predict_proba(xtest)[:,1]\n",
        "        y_score_train = model.predict_proba(xtrain)[:,1]\n",
        "\n",
        "    ret = {'train':{'pr auc': average_precision_score(ytrain, y_score_train),\n",
        "                'accuracy': accuracy_score(ytrain, ytrain_pred),\n",
        "                'recall':recall_score(ytrain, ytrain_pred),\n",
        "                'precision':precision_score(ytrain, ytrain_pred),\n",
        "                'roc auc':roc_auc_score(ytrain, y_score_train),\n",
        "                'f1 score': f1_score(ytrain, ytrain_pred)},\n",
        "           'test':{'pr auc': average_precision_score(ytest, y_score_test),\n",
        "                'accuracy':accuracy_score(ytest, ytest_pred),\n",
        "                'recall':recall_score(ytest, ytest_pred),\n",
        "                'precision':precision_score(ytest, ytest_pred),\n",
        "                'roc auc':roc_auc_score(ytest, y_score_test),\n",
        "                'f1 score': f1_score(ytest, ytest_pred)}}\n",
        "    return ret"
      ]
    },
    {
      "cell_type": "code",
      "execution_count": 45,
      "metadata": {
        "id": "T_JaLdcLqBzn"
      },
      "outputs": [],
      "source": [
        "from sklearn.metrics import accuracy_score, recall_score, precision_score, roc_auc_score, f1_score, auc, precision_recall_curve\n",
        "\n",
        "def analyseANN(model, xtrain, ytrain, xtest, ytest):\n",
        "    ypred =  model.predict(xtrain)\n",
        "    ypred_test = model.predict(xtest)\n",
        "    precision_train, recall_train, thresholds = precision_recall_curve(ytrain, ypred)\n",
        "    precision_test, recall_test, thresholds = precision_recall_curve(y_test, ypred_test)\n",
        "\n",
        "    for i in range(len(ypred)):\n",
        "        if ypred[i] <=0.5:\n",
        "            ypred[i] =0\n",
        "        else: \n",
        "            ypred[i] =1\n",
        "    for i in range(len(ypred_test)):\n",
        "        if ypred_test[i] <=0.5:\n",
        "            ypred_test[i] =0\n",
        "        else: \n",
        "            ypred_test[i] =1\n",
        "    accuracy = accuracy_score(ytrain, ypred)\n",
        "    recall = recall_score(ytrain, ypred)\n",
        "    precision = precision_score(ytrain, ypred)\n",
        "    roc_auc = roc_auc_score(ytrain, ypred)\n",
        "    f1score = f1_score(ytrain, ypred)\n",
        "\n",
        "    ret = {'train':{'pr auc': auc(recall_train, precision_train),\n",
        "                    'accuracy': accuracy,\n",
        "                    'recall':recall,\n",
        "                    'precision':precision,\n",
        "                    'roc auc':roc_auc,\n",
        "                    'f1 score': f1score},\n",
        "               'test':{'pr auc': auc(recall_test, precision_test),\n",
        "                    'accuracy':accuracy_score(ytest, ypred_test),\n",
        "                    'recall':recall_score(ytest, ypred_test),\n",
        "                    'precision':precision_score(ytest, ypred_test),\n",
        "                    'roc auc':roc_auc_score(ytest, ypred_test),\n",
        "                    'f1 score': f1_score(ytest, ypred_test)}}\n",
        "    return ret"
      ]
    },
    {
      "cell_type": "markdown",
      "metadata": {
        "id": "vG_eZT29qBzo"
      },
      "source": [
        "# BASE CASE"
      ]
    },
    {
      "cell_type": "code",
      "execution_count": 46,
      "metadata": {
        "colab": {
          "base_uri": "https://localhost:8080/"
        },
        "id": "JhW4HyeCqBzo",
        "outputId": "edf68d6c-4262-443f-91cc-23c521cd284f"
      },
      "outputs": [
        {
          "output_type": "stream",
          "name": "stdout",
          "text": [
            "{\n",
            "  \"train\": {\n",
            "    \"pr auc\": 0.6916993805219034,\n",
            "    \"accuracy\": 0.818974091791787,\n",
            "    \"recall\": 0.4604261796042618,\n",
            "    \"precision\": 0.7105108631826189,\n",
            "    \"roc auc\": 0.8476919898821746,\n",
            "    \"f1 score\": 0.5587624105287463\n",
            "  },\n",
            "  \"test\": {\n",
            "    \"pr auc\": 0.7019601996037149,\n",
            "    \"accuracy\": 0.8261686374184993,\n",
            "    \"recall\": 0.4911190053285968,\n",
            "    \"precision\": 0.7214611872146118,\n",
            "    \"roc auc\": 0.8540344436776125,\n",
            "    \"f1 score\": 0.5844121532364597\n",
            "  }\n",
            "}\n"
          ]
        }
      ],
      "source": [
        "##                     ##\n",
        "## LOGISTIC REGRESSION ##\n",
        "##                     ##\n",
        "\n",
        "from sklearn.linear_model import LogisticRegression\n",
        "import json\n",
        "lr = LogisticRegression(random_state=42)\n",
        "lr.fit(X_train, y_train)\n",
        "print(json.dumps(analyse(lr, X_train, y_train, X_test, y_test), indent=2))"
      ]
    },
    {
      "cell_type": "code",
      "execution_count": 47,
      "metadata": {
        "colab": {
          "base_uri": "https://localhost:8080/"
        },
        "id": "hhz3LrlVqBzo",
        "outputId": "dcfc14be-7316-46b2-fe04-d179e2a06729"
      },
      "outputs": [
        {
          "output_type": "stream",
          "name": "stdout",
          "text": [
            "{\n",
            "  \"train\": {\n",
            "    \"pr auc\": 0.8826203421971026,\n",
            "    \"accuracy\": 0.8937147728887416,\n",
            "    \"recall\": 0.730593607305936,\n",
            "    \"precision\": 0.8226221079691517,\n",
            "    \"roc auc\": 0.9512246726810365,\n",
            "    \"f1 score\": 0.773881499395405\n",
            "  },\n",
            "  \"test\": {\n",
            "    \"pr auc\": 0.8103428359030254,\n",
            "    \"accuracy\": 0.8593214719858548,\n",
            "    \"recall\": 0.6642984014209592,\n",
            "    \"precision\": 0.7431693989071039,\n",
            "    \"roc auc\": 0.9153822956580729,\n",
            "    \"f1 score\": 0.7015240328253225\n",
            "  }\n",
            "}\n"
          ]
        }
      ],
      "source": [
        "##                     ##\n",
        "## XG BOOST CLASSIFIER ##\n",
        "##                     ##\n",
        "\n",
        "from xgboost.sklearn import XGBClassifier\n",
        "params = {\n",
        "            'booster':'gbtree',\n",
        "            'objective':'binary:logistic',\n",
        "            'max_depth': 3,\n",
        "            'learning_rate': 1,\n",
        "            'n_estimators':100,\n",
        "            \"eval_metric\": ['logloss'],\n",
        "            'random_state': 42\n",
        "        }         \n",
        "           \n",
        "          \n",
        "# instantiate the classifier \n",
        "xgb_clf = XGBClassifier(**params)\n",
        "xgb_clf.fit(X_train, y_train)\n",
        "print(json.dumps(analyse(xgb_clf, X_train, y_train, X_test, y_test), indent=2))"
      ]
    },
    {
      "cell_type": "code",
      "execution_count": 48,
      "metadata": {
        "colab": {
          "base_uri": "https://localhost:8080/"
        },
        "id": "DjIsmFxIqBzo",
        "outputId": "88ec48e3-a53f-40f2-fbc2-fb3e5ab33207"
      },
      "outputs": [
        {
          "output_type": "stream",
          "name": "stdout",
          "text": [
            "{\n",
            "  \"train\": {\n",
            "    \"pr auc\": 0.7615936139053209,\n",
            "    \"accuracy\": 0.8237578742954578,\n",
            "    \"recall\": 0.3386605783866058,\n",
            "    \"precision\": 0.8790123456790123,\n",
            "    \"roc auc\": 0.8924816501151032,\n",
            "    \"f1 score\": 0.4889438263974729\n",
            "  },\n",
            "  \"test\": {\n",
            "    \"pr auc\": 0.764800187712424,\n",
            "    \"accuracy\": 0.8266106752127307,\n",
            "    \"recall\": 0.3552397868561279,\n",
            "    \"precision\": 0.8724100327153762,\n",
            "    \"roc auc\": 0.8928284628758221,\n",
            "    \"f1 score\": 0.5048911328494794\n",
            "  }\n",
            "}\n"
          ]
        }
      ],
      "source": [
        "##                          ##\n",
        "## RANDOM FOREST CLASSIFIER ##\n",
        "##                          ##\n",
        "\n",
        "\n",
        "from sklearn.ensemble import RandomForestClassifier\n",
        "rforest = RandomForestClassifier(max_depth = 3)\n",
        "rforest.fit(X_train, y_train)\n",
        "print(json.dumps(analyse(rforest, X_train, y_train, X_test, y_test), indent=2))"
      ]
    },
    {
      "cell_type": "code",
      "execution_count": 49,
      "metadata": {
        "colab": {
          "base_uri": "https://localhost:8080/"
        },
        "id": "4LJ9FI7bqBzp",
        "outputId": "5c7bd541-4518-41bb-b2c7-ce1c92eb9755"
      },
      "outputs": [
        {
          "output_type": "stream",
          "name": "stdout",
          "text": [
            "{\n",
            "  \"train\": {\n",
            "    \"pr auc\": 0.6757307953318539,\n",
            "    \"accuracy\": 0.7988443139298063,\n",
            "    \"recall\": 0.3611111111111111,\n",
            "    \"precision\": 0.6810190168640115,\n",
            "    \"roc auc\": 0.8435924879024854,\n",
            "    \"f1 score\": 0.4719631978117618\n",
            "  },\n",
            "  \"test\": {\n",
            "    \"pr auc\": 0.6850802147991403,\n",
            "    \"accuracy\": 0.8028511437727925,\n",
            "    \"recall\": 0.37211367673179396,\n",
            "    \"precision\": 0.6937086092715232,\n",
            "    \"roc auc\": 0.8477097564984657,\n",
            "    \"f1 score\": 0.48439306358381495\n",
            "  }\n",
            "}\n"
          ]
        }
      ],
      "source": [
        "##                        ##\n",
        "## NAIVE BAYES CLASSIFIER ##\n",
        "##                        ##\n",
        "\n",
        "\n",
        "from sklearn.naive_bayes import GaussianNB\n",
        "gnb = GaussianNB()\n",
        "gnb.fit(X_train, y_train)\n",
        "print(json.dumps(analyse(gnb, X_train, y_train, X_test, y_test), indent=2))"
      ]
    },
    {
      "cell_type": "code",
      "execution_count": 50,
      "metadata": {
        "colab": {
          "base_uri": "https://localhost:8080/"
        },
        "id": "GrXHtbeeqBzp",
        "outputId": "e3045fe0-d89e-4d53-93c8-d70a4e1a2885"
      },
      "outputs": [
        {
          "output_type": "stream",
          "name": "stdout",
          "text": [
            "{\n",
            "  \"train\": {\n",
            "    \"pr auc\": 0.6566129341806218,\n",
            "    \"accuracy\": 0.7954814569222753,\n",
            "    \"recall\": 0.2720700152207002,\n",
            "    \"precision\": 0.7440166493236212,\n",
            "    \"roc auc\": 0.8292357031052551,\n",
            "    \"f1 score\": 0.3984396767901923\n",
            "  },\n",
            "  \"test\": {\n",
            "    \"pr auc\": 0.6620484878410027,\n",
            "    \"accuracy\": 0.7972151618963421,\n",
            "    \"recall\": 0.2793072824156306,\n",
            "    \"precision\": 0.7479191438763377,\n",
            "    \"roc auc\": 0.8302868311717294,\n",
            "    \"f1 score\": 0.4067248625929518\n",
            "  }\n",
            "}\n"
          ]
        }
      ],
      "source": [
        "##                ##\n",
        "## SVC CLASSIFIER ##\n",
        "##                ##\n",
        "\n",
        "\n",
        "from sklearn.svm import SVC\n",
        "svc = SVC(C=1, kernel='rbf', gamma='scale')\n",
        "svc.fit(X_train, y_train)\n",
        "print(json.dumps(analyse(svc, X_train, y_train, X_test, y_test), indent=2))"
      ]
    },
    {
      "cell_type": "code",
      "execution_count": 51,
      "metadata": {
        "id": "TsMsUKKyqBzp"
      },
      "outputs": [],
      "source": [
        "##                ##\n",
        "## ANN CLASSIFIER ##\n",
        "##                ##\n",
        "\n",
        "\n",
        "import sklearn\n",
        "from sklearn.neural_network import MLPClassifier\n",
        "from sklearn.neural_network import MLPRegressor\n",
        "\n",
        "# Import necessary modules\n",
        "from sklearn.model_selection import train_test_split\n",
        "from sklearn.metrics import mean_squared_error\n",
        "from math import sqrt\n",
        "from sklearn.metrics import r2_score\n",
        "\n",
        "def Model():\n",
        "    ann = MLPClassifier(hidden_layer_sizes=(64, 32), max_iter=10, activation='relu',solver='adam')\n",
        "    return ann"
      ]
    },
    {
      "cell_type": "code",
      "execution_count": 52,
      "metadata": {
        "colab": {
          "base_uri": "https://localhost:8080/"
        },
        "id": "xA7SBJVDqBzp",
        "outputId": "1e3f3988-4655-4d9f-c43b-3e7ddab40727"
      },
      "outputs": [
        {
          "output_type": "stream",
          "name": "stdout",
          "text": [
            "running for: 0m, 4s\n",
            "{\n",
            "  \"train\": {\n",
            "    \"pr auc\": 0.6459090175040106,\n",
            "    \"accuracy\": 0.8096907118836736,\n",
            "    \"recall\": 0.5348173515981736,\n",
            "    \"precision\": 0.6411952554744526,\n",
            "    \"roc auc\": 0.7178091298572314,\n",
            "    \"f1 score\": 0.583195020746888\n",
            "  },\n",
            "  \"test\": {\n",
            "    \"pr auc\": 0.6534090002616602,\n",
            "    \"accuracy\": 0.8132390319372307,\n",
            "    \"recall\": 0.5452930728241563,\n",
            "    \"precision\": 0.648363252375924,\n",
            "    \"roc auc\": 0.7236543339698243,\n",
            "    \"f1 score\": 0.592378195851423\n",
            "  }\n",
            "}\n"
          ]
        }
      ],
      "source": [
        "_start = time.time()\n",
        "\n",
        "model= Model()\n",
        "\n",
        "model.fit(X_train, y_train)\n",
        "\n",
        "ret = analyseANN(model, X_train, y_train, X_test, y_test)\n",
        "\n",
        "_end = time.time()\n",
        "\n",
        "print(f'running for: {int((_end-_start)/60)}m, {int((_end-_start)%60)}s')\n",
        "print(json.dumps(ret, indent=2))"
      ]
    },
    {
      "cell_type": "markdown",
      "metadata": {
        "id": "UBH31py7qBzq"
      },
      "source": [
        "# GA OPTIMIZED"
      ]
    },
    {
      "cell_type": "code",
      "execution_count": 53,
      "metadata": {
        "colab": {
          "base_uri": "https://localhost:8080/"
        },
        "id": "fFNb6FFyqBzq",
        "outputId": "b5b46920-bf4c-4efa-b62f-dba539e43995"
      },
      "outputs": [
        {
          "output_type": "stream",
          "name": "stdout",
          "text": [
            "Looking in indexes: https://pypi.org/simple, https://us-python.pkg.dev/colab-wheels/public/simple/\n",
            "Requirement already satisfied: sklearn-genetic-opt in /usr/local/lib/python3.7/dist-packages (0.9.0)\n",
            "Requirement already satisfied: scikit-learn>=0.21.3 in /usr/local/lib/python3.7/dist-packages (from sklearn-genetic-opt) (1.0.2)\n",
            "Requirement already satisfied: deap>=1.3.1 in /usr/local/lib/python3.7/dist-packages (from sklearn-genetic-opt) (1.3.1)\n",
            "Requirement already satisfied: numpy>=1.14.5 in /usr/local/lib/python3.7/dist-packages (from sklearn-genetic-opt) (1.21.6)\n",
            "Requirement already satisfied: tqdm>=4.61.1 in /usr/local/lib/python3.7/dist-packages (from sklearn-genetic-opt) (4.64.0)\n",
            "Requirement already satisfied: joblib>=0.11 in /usr/local/lib/python3.7/dist-packages (from scikit-learn>=0.21.3->sklearn-genetic-opt) (1.1.0)\n",
            "Requirement already satisfied: threadpoolctl>=2.0.0 in /usr/local/lib/python3.7/dist-packages (from scikit-learn>=0.21.3->sklearn-genetic-opt) (3.1.0)\n",
            "Requirement already satisfied: scipy>=1.1.0 in /usr/local/lib/python3.7/dist-packages (from scikit-learn>=0.21.3->sklearn-genetic-opt) (1.7.3)\n"
          ]
        }
      ],
      "source": [
        "!pip install sklearn-genetic-opt\n",
        "\n",
        "\n",
        "from sklearn.model_selection import train_test_split\n",
        "from sklearn.datasets import load_digits\n",
        "from sklearn.metrics import accuracy_score\n",
        "from sklearn_genetic import GASearchCV\n",
        "from sklearn_genetic.space import Continuous, Categorical, Integer\n",
        "from sklearn_genetic.plots import plot_fitness_evolution, plot_search_space\n",
        "from sklearn.model_selection import StratifiedKFold\n",
        "import matplotlib.pyplot as plt"
      ]
    },
    {
      "cell_type": "code",
      "execution_count": 54,
      "metadata": {
        "id": "_fMwyyEOqBzq"
      },
      "outputs": [],
      "source": [
        "##                     ##\n",
        "## LOGISTIC REGRESSION ##\n",
        "##                     ##\n",
        "\n",
        "from sklearn.linear_model import LogisticRegression\n",
        "import json\n",
        "\n",
        "param_grid = {\n",
        "    'max_iter': Integer(100, 1000),\n",
        "    'penalty': Categorical(['l1', 'l2']),\n",
        "    'C': Continuous(1e-6, 1e-2, distribution=\"log-uniform\"),\n",
        "    'l1_ratio': Continuous(1e-9, 1, distribution='log-uniform')\n",
        "}\n",
        "\n",
        "\n",
        "lr = LogisticRegression(solver=\"saga\")\n",
        "cv = StratifiedKFold(n_splits=3, shuffle=True)\n",
        "\n",
        "evolved_estimator = GASearchCV(estimator=lr, cv=cv,\n",
        "                               scoring='accuracy', population_size=10,\n",
        "                               generations=10, tournament_size=3,\n",
        "                               elitism=True, crossover_probability=0.8,\n",
        "                               mutation_probability=0.1, param_grid=param_grid,\n",
        "                               criteria='max', algorithm='eaMuPlusLambda',\n",
        "                               n_jobs=-1, verbose=True, keep_top_k=4)"
      ]
    },
    {
      "cell_type": "code",
      "execution_count": 55,
      "metadata": {
        "colab": {
          "base_uri": "https://localhost:8080/"
        },
        "id": "1QRsWWAwqBzq",
        "outputId": "9cf3f0c3-5a59-44d0-9682-fceace653e13"
      },
      "outputs": [
        {
          "output_type": "stream",
          "name": "stdout",
          "text": [
            "gen\tnevals\tfitness \tfitness_std\tfitness_max\tfitness_min\n",
            "0  \t10    \t0.763781\t0.00462244 \t0.772983   \t0.760385   \n",
            "1  \t18    \t0.769668\t0.00506463 \t0.772984   \t0.7619     \n",
            "2  \t16    \t0.769559\t0.00503255 \t0.772984   \t0.761664   \n",
            "3  \t19    \t0.772984\t1.29315e-07\t0.772984   \t0.772983   \n",
            "4  \t17    \t0.772984\t6.78939e-08\t0.772984   \t0.772984   \n",
            "5  \t18    \t0.772984\t4.9132e-08 \t0.772984   \t0.772984   \n",
            "6  \t14    \t0.772984\t4.29957e-08\t0.772984   \t0.772984   \n",
            "7  \t19    \t0.772984\t9.9501e-08 \t0.772984   \t0.772984   \n",
            "8  \t19    \t0.772984\t1.50743e-07\t0.772984   \t0.772983   \n",
            "9  \t17    \t0.772984\t7.47652e-08\t0.772984   \t0.772984   \n",
            "10 \t19    \t0.772984\t1.16683e-07\t0.772984   \t0.772983   \n",
            "running for: 13m, 1s\n"
          ]
        }
      ],
      "source": [
        "_start =time.time()\n",
        "\n",
        "evolved_estimator.fit(X_train, y_train)\n",
        "\n",
        "_end = time.time()\n",
        "\n",
        "# only in seconds\n",
        "\n",
        "print(f'running for: {int((_end-_start)/60)}m, {int((_end-_start)%60)}s')"
      ]
    },
    {
      "cell_type": "code",
      "execution_count": 56,
      "metadata": {
        "colab": {
          "base_uri": "https://localhost:8080/"
        },
        "id": "SvY3P4U2qBzq",
        "outputId": "0a0c50d6-4eec-4eb3-cf84-c42872bd0883"
      },
      "outputs": [
        {
          "output_type": "stream",
          "name": "stdout",
          "text": [
            "{\n",
            "  \"train\": {\n",
            "    \"pr auc\": 0.4385331239116007,\n",
            "    \"accuracy\": 0.7729834699000616,\n",
            "    \"recall\": 0.3080289193302892,\n",
            "    \"precision\": 0.5834234234234235,\n",
            "    \"roc auc\": 0.6234888545350478,\n",
            "    \"f1 score\": 0.403187647864525\n",
            "  },\n",
            "  \"test\": {\n",
            "    \"pr auc\": 0.444185501749747,\n",
            "    \"accuracy\": 0.7772129517073709,\n",
            "    \"recall\": 0.316607460035524,\n",
            "    \"precision\": 0.5991596638655462,\n",
            "    \"roc auc\": 0.6289284388081566,\n",
            "    \"f1 score\": 0.41429401510749564\n",
            "  }\n",
            "}\n",
            "{'max_iter': 654, 'penalty': 'l1', 'C': 5.818752734303556e-05, 'l1_ratio': 0.0007265691017497256}\n"
          ]
        }
      ],
      "source": [
        "print(json.dumps(analyse(evolved_estimator, X_train, y_train, X_test, y_test), indent=2))\n",
        "\n",
        "print(evolved_estimator.best_params_)"
      ]
    },
    {
      "cell_type": "code",
      "execution_count": 57,
      "metadata": {
        "id": "uTNmaNYbqBzr"
      },
      "outputs": [],
      "source": [
        "##                          ##\n",
        "## RANDOM FOREST CLASSIFIER ##\n",
        "##                          ##\n",
        "from sklearn.ensemble import RandomForestClassifier\n",
        "\n",
        "rf = RandomForestClassifier()\n",
        "\n",
        "param_grid = {\n",
        "    'n_estimators': Integer(10, 100),\n",
        "    'max_depth':Integer(3, 10),\n",
        "    'max_leaf_nodes':Integer(1, 100),\n",
        "    'max_features':Categorical(['sqrt', 'log2', None]),\n",
        "    'criterion':Categorical(['gini', 'entropy']),\n",
        "    'min_weight_fraction_leaf':Continuous(0.01, 0.5, distribution='log-uniform')\n",
        "}\n",
        "\n",
        "cv = StratifiedKFold(n_splits=3, shuffle=True)\n",
        "\n",
        "evolved_estimator = GASearchCV(estimator=rf, cv=cv, scoring='accuracy',\n",
        "                               population_size=10, generations=10,\n",
        "                               tournament_size=3, elitism=True,\n",
        "                               crossover_probability=0.8, mutation_probability=0.1,\n",
        "                               param_grid=param_grid, criteria='max',\n",
        "                               algorithm='eaMuPlusLambda', n_jobs=-1,\n",
        "                               verbose=True, keep_top_k=4)"
      ]
    },
    {
      "cell_type": "code",
      "execution_count": 58,
      "metadata": {
        "colab": {
          "base_uri": "https://localhost:8080/"
        },
        "id": "DJ5DD-syqBzr",
        "outputId": "5fa59a4a-ef12-4c6f-8bb0-84509e2a059b"
      },
      "outputs": [
        {
          "output_type": "stream",
          "name": "stdout",
          "text": [
            "gen\tnevals\tfitness \tfitness_std\tfitness_max\tfitness_min\n",
            "0  \t10    \t0.803055\t0.0282768  \t0.833705   \t0.751054   \n",
            "1  \t18    \t0.825221\t0.00688598 \t0.833705   \t0.814759   \n",
            "2  \t17    \t0.830559\t0.00250565 \t0.834841   \t0.827121   \n",
            "3  \t17    \t0.833771\t0.00351726 \t0.837257   \t0.829299   \n",
            "4  \t18    \t0.835613\t0.00174815 \t0.837257   \t0.83162    \n",
            "5  \t16    \t0.838213\t0.00173185 \t0.840288   \t0.836025   \n",
            "6  \t16    \t0.839885\t0.000943772\t0.841472   \t0.839009   \n",
            "7  \t19    \t0.840435\t0.000707766\t0.841472   \t0.83953    \n",
            "8  \t17    \t0.840672\t0.000532631\t0.841519   \t0.839909   \n",
            "9  \t20    \t0.84143 \t0.000813431\t0.84242    \t0.839199   \n",
            "10 \t17    \t0.841998\t0.000682902\t0.843319   \t0.841425   \n",
            "running for: 7m, 11s\n"
          ]
        }
      ],
      "source": [
        "_start =time.time()\n",
        "\n",
        "evolved_estimator.fit(X_train, y_train)\n",
        "\n",
        "_end = time.time()\n",
        "\n",
        "# only in seconds\n",
        "\n",
        "print(f'running for: {int((_end-_start)/60)}m, {int((_end-_start)%60)}s')"
      ]
    },
    {
      "cell_type": "code",
      "execution_count": 59,
      "metadata": {
        "colab": {
          "base_uri": "https://localhost:8080/"
        },
        "id": "HqYCmUkZqBzs",
        "outputId": "06756bbc-f202-46e7-977b-8dff7483cf2e"
      },
      "outputs": [
        {
          "output_type": "stream",
          "name": "stdout",
          "text": [
            "{\n",
            "  \"train\": {\n",
            "    \"pr auc\": 0.7727585974463527,\n",
            "    \"accuracy\": 0.8440771088902572,\n",
            "    \"recall\": 0.5795281582952816,\n",
            "    \"precision\": 0.7378875968992248,\n",
            "    \"roc auc\": 0.9044141926189827,\n",
            "    \"f1 score\": 0.6491901108269394\n",
            "  },\n",
            "  \"test\": {\n",
            "    \"pr auc\": 0.7689860182207656,\n",
            "    \"accuracy\": 0.8480495082329539,\n",
            "    \"recall\": 0.5932504440497336,\n",
            "    \"precision\": 0.7442896935933148,\n",
            "    \"roc auc\": 0.901368400958421,\n",
            "    \"f1 score\": 0.6602421546824809\n",
            "  }\n",
            "}\n",
            "{'n_estimators': 48, 'max_depth': 9, 'max_leaf_nodes': 49, 'max_features': None, 'criterion': 'entropy', 'min_weight_fraction_leaf': 0.01392922958037549}\n"
          ]
        }
      ],
      "source": [
        "print(json.dumps(analyse(evolved_estimator, X_train, y_train, X_test, y_test), indent=2))\n",
        "\n",
        "print(evolved_estimator.best_params_)"
      ]
    },
    {
      "cell_type": "code",
      "execution_count": 60,
      "metadata": {
        "id": "rHepE9iqqBzs"
      },
      "outputs": [],
      "source": [
        "##                     ##\n",
        "## XG BOOST CLASSIFIER ##\n",
        "##                     ##\n",
        "\n",
        "from xgboost.sklearn import XGBClassifier\n",
        "\n",
        "param_grid = {\n",
        "    'n_estimators': Integer(10, 20),\n",
        "    'max_depth': Integer(3, 9),\n",
        "    'gamma': Continuous(1e-6, 1, distribution='log-uniform'),\n",
        "    'learning_rate': Continuous(1e-6, 1e-2, distribution='log-uniform')\n",
        "}\n",
        "\n",
        "\n",
        "xgb = XGBClassifier();\n",
        "\n",
        "cv = StratifiedKFold(n_splits=3, shuffle=True)\n",
        "\n",
        "evolved_estimator = GASearchCV(estimator=xgb, cv=cv, scoring='accuracy',\n",
        "                               population_size=10, generations=10,\n",
        "                               tournament_size=3, elitism=True,\n",
        "                               crossover_probability=0.8, mutation_probability=0.1,\n",
        "                               param_grid=param_grid, criteria='max',\n",
        "                               algorithm='eaMuPlusLambda', n_jobs=-1,\n",
        "                               verbose=True, keep_top_k=4)"
      ]
    },
    {
      "cell_type": "code",
      "execution_count": 61,
      "metadata": {
        "colab": {
          "base_uri": "https://localhost:8080/"
        },
        "id": "lN54Thp5qBzs",
        "outputId": "d77ccef5-6de3-4904-9ee6-6a1644ef726a"
      },
      "outputs": [
        {
          "output_type": "stream",
          "name": "stdout",
          "text": [
            "gen\tnevals\tfitness \tfitness_std\tfitness_max\tfitness_min\n",
            "0  \t10    \t0.844347\t0.00476189 \t0.849098   \t0.834889   \n",
            "1  \t20    \t0.847549\t0.00154178 \t0.849618   \t0.845735   \n",
            "2  \t19    \t0.848899\t0.000895324\t0.850376   \t0.847108   \n",
            "3  \t17    \t0.849562\t0.000326604\t0.850376   \t0.849145   \n",
            "4  \t18    \t0.849282\t0.000659059\t0.850376   \t0.847724   \n",
            "5  \t19    \t0.849514\t0.000180751\t0.849666   \t0.84905    \n",
            "6  \t20    \t0.849964\t0.000434713\t0.850708   \t0.849429   \n",
            "7  \t18    \t0.849486\t0.000414982\t0.850092   \t0.848766   \n",
            "8  \t17    \t0.84942 \t0.000623607\t0.85014    \t0.84815    \n",
            "9  \t18    \t0.849945\t0.00053683 \t0.850803   \t0.849098   \n",
            "10 \t17    \t0.849704\t0.000676343\t0.850803   \t0.848766   \n",
            "running for: 2m, 41s\n"
          ]
        }
      ],
      "source": [
        "_start =time.time()\n",
        "\n",
        "evolved_estimator.fit(X_train, y_train)\n",
        "\n",
        "_end = time.time()\n",
        "\n",
        "# only in seconds\n",
        "\n",
        "print(f'running for: {int((_end-_start)/60)}m, {int((_end-_start)%60)}s')"
      ]
    },
    {
      "cell_type": "code",
      "execution_count": 62,
      "metadata": {
        "colab": {
          "base_uri": "https://localhost:8080/"
        },
        "id": "Lor7SGtTqBzs",
        "outputId": "c480f051-33e4-4cd2-f95f-92768343850b"
      },
      "outputs": [
        {
          "output_type": "stream",
          "name": "stdout",
          "text": [
            "{\n",
            "  \"train\": {\n",
            "    \"pr auc\": 0.76919615287568,\n",
            "    \"accuracy\": 0.8554918770425805,\n",
            "    \"recall\": 0.5578386605783866,\n",
            "    \"precision\": 0.801311833834381,\n",
            "    \"roc auc\": 0.9080040202344988,\n",
            "    \"f1 score\": 0.6577678070667414\n",
            "  },\n",
            "  \"test\": {\n",
            "    \"pr auc\": 0.755624521770874,\n",
            "    \"accuracy\": 0.851696320035363,\n",
            "    \"recall\": 0.5523978685612788,\n",
            "    \"precision\": 0.788339670468948,\n",
            "    \"roc auc\": 0.8993297703955172,\n",
            "    \"f1 score\": 0.6496083550913837\n",
            "  }\n",
            "}\n",
            "{'n_estimators': 11, 'max_depth': 7, 'gamma': 0.06904910302639553, 'learning_rate': 0.0039137188423680365}\n"
          ]
        }
      ],
      "source": [
        "print(json.dumps(analyse(evolved_estimator, X_train, y_train, X_test, y_test), indent=2))\n",
        "\n",
        "print(evolved_estimator.best_params_)"
      ]
    },
    {
      "cell_type": "code",
      "execution_count": 63,
      "metadata": {
        "id": "ntM02yAGqBzt"
      },
      "outputs": [],
      "source": [
        "##                        ##\n",
        "## NAIVE BAYES CLASSIFIER ##\n",
        "##                        ##\n",
        "\n",
        "\n",
        "from sklearn.naive_bayes import GaussianNB\n",
        "param_grid = {\n",
        "    'var_smoothing': Continuous(1e-9, 1, distribution='log-uniform')\n",
        "}\n",
        "\n",
        "gnb = GaussianNB();\n",
        "\n",
        "cv = StratifiedKFold(n_splits=3, shuffle=True)\n",
        "\n",
        "evolved_estimator = GASearchCV(estimator=gnb, cv=cv, scoring='accuracy',\n",
        "                               population_size=10, generations=10,\n",
        "                               tournament_size=3, elitism=True,\n",
        "                               crossover_probability=0.8, mutation_probability=0.1,\n",
        "                               param_grid=param_grid, criteria='max',\n",
        "                               algorithm='eaMuPlusLambda', n_jobs=-1,\n",
        "                               verbose=True, keep_top_k=4)"
      ]
    },
    {
      "cell_type": "code",
      "execution_count": 64,
      "metadata": {
        "colab": {
          "base_uri": "https://localhost:8080/"
        },
        "id": "EsPMurA8qBzt",
        "outputId": "c906e92b-9921-40dc-8264-48323f325f67"
      },
      "outputs": [
        {
          "output_type": "stream",
          "name": "stdout",
          "text": [
            "gen\tnevals\tfitness\tfitness_std\tfitness_max\tfitness_min\n",
            "0  \t10    \t0.78607\t0.00458463 \t0.789703   \t0.772652   \n",
            "1  \t17    \t0.788841\t0.0015545  \t0.793113   \t0.787477   \n",
            "2  \t19    \t0.790186\t0.00239169 \t0.793113   \t0.788092   \n",
            "3  \t19    \t0.792426\t0.00277125 \t0.797802   \t0.787193   \n",
            "4  \t20    \t0.793743\t0.00136354 \t0.797802   \t0.792971   \n",
            "5  \t20    \t0.793738\t0.00119501 \t0.797281   \t0.792924   \n",
            "6  \t17    \t0.794368\t0.00184177 \t0.798702   \t0.793255   \n",
            "7  \t18    \t0.796301\t0.00218925 \t0.798892   \t0.79354    \n",
            "8  \t19    \t0.795661\t0.00209187 \t0.798702   \t0.79335    \n",
            "9  \t19    \t0.797949\t0.000706223\t0.798702   \t0.796713   \n",
            "10 \t20    \t0.7982  \t0.000574399\t0.798702   \t0.796855   \n",
            "running for: 0m, 34s\n"
          ]
        }
      ],
      "source": [
        "_start =time.time()\n",
        "\n",
        "evolved_estimator.fit(X_train, y_train)\n",
        "\n",
        "_end = time.time()\n",
        "\n",
        "# only in seconds\n",
        "\n",
        "print(f'running for: {int((_end-_start)/60)}m, {int((_end-_start)%60)}s')"
      ]
    },
    {
      "cell_type": "code",
      "execution_count": 65,
      "metadata": {
        "colab": {
          "base_uri": "https://localhost:8080/"
        },
        "id": "EpUL0RgtqBzt",
        "outputId": "cad8512e-7a8d-4f7b-d7c0-c90d3320ba37"
      },
      "outputs": [
        {
          "output_type": "stream",
          "name": "stdout",
          "text": [
            "{\n",
            "  \"train\": {\n",
            "    \"pr auc\": 0.5822187924503197,\n",
            "    \"accuracy\": 0.7992705915786482,\n",
            "    \"recall\": 0.2996575342465753,\n",
            "    \"precision\": 0.7387429643527205,\n",
            "    \"roc auc\": 0.7719483093715531,\n",
            "    \"f1 score\": 0.42636708175419596\n",
            "  },\n",
            "  \"test\": {\n",
            "    \"pr auc\": 0.5909236040507821,\n",
            "    \"accuracy\": 0.8027406343242347,\n",
            "    \"recall\": 0.31127886323268206,\n",
            "    \"precision\": 0.7497326203208556,\n",
            "    \"roc auc\": 0.776395970325431,\n",
            "    \"f1 score\": 0.43991214308126764\n",
            "  }\n",
            "}\n",
            "{'var_smoothing': 0.0022022950009742415}\n"
          ]
        }
      ],
      "source": [
        "print(json.dumps(analyse(evolved_estimator, X_train, y_train, X_test, y_test), indent=2))\n",
        "\n",
        "print(evolved_estimator.best_params_)"
      ]
    },
    {
      "cell_type": "code",
      "execution_count": 66,
      "metadata": {
        "id": "SfTgM8jJqBzt"
      },
      "outputs": [],
      "source": [
        "##                ##\n",
        "## SVC CLASSIFIER ##\n",
        "##                ##\n",
        "\n",
        "\n",
        "from sklearn.svm import SVC\n",
        "\n",
        "param_grid = {\n",
        "    'C': Continuous(1e-4, 10, distribution='log-uniform'),\n",
        "    'gamma': Continuous(1e-4, 10, distribution='log-uniform')\n",
        "}\n",
        "\n",
        "svc = SVC()\n",
        "\n",
        "cv = StratifiedKFold(n_splits=3, shuffle=True)\n",
        "\n",
        "evolved_estimator = GASearchCV(estimator=svc, cv=cv, scoring='accuracy',\n",
        "                               population_size=10, generations=10,\n",
        "                               tournament_size=3, elitism=True,\n",
        "                               crossover_probability=0.8, mutation_probability=0.1,\n",
        "                               param_grid=param_grid, criteria='max',\n",
        "                               algorithm='eaMuPlusLambda', n_jobs=-1,\n",
        "                               verbose=True, keep_top_k=4)"
      ]
    },
    {
      "cell_type": "code",
      "execution_count": 67,
      "metadata": {
        "colab": {
          "base_uri": "https://localhost:8080/"
        },
        "id": "fni-GljnqBzt",
        "outputId": "3a0d2207-5a29-4625-d7c0-7a7084a7ede2"
      },
      "outputs": [
        {
          "output_type": "stream",
          "name": "stdout",
          "text": [
            "gen\tnevals\tfitness \tfitness_std\tfitness_max\tfitness_min\n",
            "0  \t10    \t0.776683\t0.0316605  \t0.820679   \t0.751054   \n",
            "1  \t18    \t0.796779\t0.0302527  \t0.820679   \t0.751054   \n",
            "2  \t17    \t0.822413\t0.0131038  \t0.847156   \t0.804623   \n",
            "3  \t19    \t0.831185\t0.0132387  \t0.847914   \t0.820016   \n",
            "4  \t19    \t0.841827\t0.0108407  \t0.847772   \t0.820063   \n",
            "5  \t17    \t0.847535\t0.000267077\t0.847772   \t0.846966   \n",
            "6  \t17    \t0.847776\t0.000275724\t0.848482   \t0.84744    \n",
            "7  \t18    \t0.848463\t0.00147384 \t0.852745   \t0.84744    \n",
            "8  \t19    \t0.848937\t0.00200462 \t0.852745   \t0.84673    \n",
            "9  \t19    \t0.851892\t0.00279891 \t0.854923   \t0.847345   \n",
            "10 \t18    \t0.853621\t0.00122674 \t0.854923   \t0.851798   \n",
            "running for: 27m, 10s\n"
          ]
        }
      ],
      "source": [
        "_start =time.time()\n",
        "\n",
        "evolved_estimator.fit(X_train, y_train)\n",
        "\n",
        "_end = time.time()\n",
        "\n",
        "# only in seconds\n",
        "\n",
        "print(f'running for: {int((_end-_start)/60)}m, {int((_end-_start)%60)}s')"
      ]
    },
    {
      "cell_type": "code",
      "execution_count": 68,
      "metadata": {
        "id": "SkWOKVPWqBzu",
        "outputId": "14262e30-8cc7-446d-f765-c6672849d94d",
        "colab": {
          "base_uri": "https://localhost:8080/"
        }
      },
      "outputs": [
        {
          "output_type": "stream",
          "name": "stdout",
          "text": [
            "{\n",
            "  \"train\": {\n",
            "    \"pr auc\": 0.821174815849305,\n",
            "    \"accuracy\": 0.8699379529200019,\n",
            "    \"recall\": 0.5974124809741248,\n",
            "    \"precision\": 0.8328912466843501,\n",
            "    \"roc auc\": 0.9214961397762671,\n",
            "    \"f1 score\": 0.6957677819632173\n",
            "  },\n",
            "  \"test\": {\n",
            "    \"pr auc\": 0.7708154907790122,\n",
            "    \"accuracy\": 0.8594319814344127,\n",
            "    \"recall\": 0.5799289520426287,\n",
            "    \"precision\": 0.8002450980392157,\n",
            "    \"roc auc\": 0.8970233837883237,\n",
            "    \"f1 score\": 0.6725025746652935\n",
            "  }\n",
            "}\n",
            "{'C': 7.302009830075401, 'gamma': 0.04130642880082618}\n"
          ]
        }
      ],
      "source": [
        "print(json.dumps(analyse(evolved_estimator, X_train, y_train, X_test, y_test), indent=2))\n",
        "\n",
        "print(evolved_estimator.best_params_)"
      ]
    },
    {
      "cell_type": "code",
      "execution_count": 70,
      "metadata": {
        "id": "miyg6NFJqBzu"
      },
      "outputs": [],
      "source": [
        "##                ##\n",
        "## ANN CLASSIFIER ##\n",
        "##                ##\n",
        "\n",
        "import random\n",
        "\n",
        "class foo(Categorical):\n",
        "    def __init__(self):\n",
        "        pass\n",
        "    def sample(self):\n",
        "        hidden_layer_count = random.randint(1, 4)\n",
        "        l = random.sample(range(8, 32), hidden_layer_count)\n",
        "        return tuple(l)\n",
        "\n",
        "param_grid = {\n",
        "    'alpha': Continuous(1e-4, 0.05, distribution='log-uniform'),\n",
        "    'activation': Categorical(['tanh', 'relu', 'identity', 'logistic']),\n",
        "    'solver': Categorical(['lbfgs', 'sgd', 'adam']),\n",
        "    'batch_size': Integer(100, 1000),\n",
        "    'learning_rate': Categorical(['constant', 'invscaling', 'adaptive']),\n",
        "    'hidden_layer_sizes': foo(),\n",
        "    'max_iter': Integer(50, 150),\n",
        "}\n",
        "\n",
        "ann = Model()\n",
        "\n",
        "cv = StratifiedKFold(n_splits=3, shuffle=True)\n",
        "\n",
        "evolved_estimator = GASearchCV(estimator=ann, cv=cv, scoring='accuracy',\n",
        "                               population_size=10, generations=10,\n",
        "                               tournament_size=3, elitism=True,\n",
        "                               crossover_probability=0.8, mutation_probability=0.1,\n",
        "                               param_grid=param_grid, criteria='max',\n",
        "                               algorithm='eaMuPlusLambda', n_jobs=-1,\n",
        "                               verbose=True, keep_top_k=4)"
      ]
    },
    {
      "cell_type": "code",
      "execution_count": 71,
      "metadata": {
        "id": "jgJVMTbA-PXt",
        "colab": {
          "base_uri": "https://localhost:8080/"
        },
        "outputId": "4fd7b25d-16e4-43fa-c6e3-24d388c1b155"
      },
      "outputs": [
        {
          "output_type": "stream",
          "name": "stdout",
          "text": [
            "gen\tnevals\tfitness \tfitness_std\tfitness_max\tfitness_min\n",
            "0  \t10    \t0.725412\t0.122584   \t0.819354   \t0.411407   \n",
            "1  \t19    \t0.799105\t0.0194811  \t0.819354   \t0.751054   \n",
            "2  \t19    \t0.808601\t0.0087984  \t0.819354   \t0.78634    \n",
            "3  \t19    \t0.810562\t0.00485255 \t0.819354   \t0.802871   \n",
            "4  \t17    \t0.8116  \t0.00301351 \t0.819354   \t0.807891   \n",
            "5  \t19    \t0.812372\t0.00386633 \t0.819354   \t0.807891   \n",
            "6  \t19    \t0.812476\t0.00352791 \t0.819354   \t0.807891   \n",
            "7  \t19    \t0.813508\t0.00327295 \t0.819354   \t0.80917    \n",
            "8  \t16    \t0.815076\t0.00319923 \t0.819354   \t0.81097    \n",
            "9  \t15    \t0.814261\t0.00294974 \t0.819354   \t0.81097    \n",
            "10 \t19    \t0.81411 \t0.00231827 \t0.819354   \t0.811585   \n",
            "running for: 35m, 39s\n"
          ]
        }
      ],
      "source": [
        "_start =time.time()\n",
        "\n",
        "evolved_estimator.fit(X_train, y_train)\n",
        "\n",
        "_end = time.time()\n",
        "\n",
        "# only in seconds\n",
        "\n",
        "print(f'running for: {int((_end-_start)/60)}m, {int((_end-_start)%60)}s')"
      ]
    },
    {
      "cell_type": "code",
      "execution_count": 72,
      "metadata": {
        "id": "g90hXlnH-R6e",
        "colab": {
          "base_uri": "https://localhost:8080/"
        },
        "outputId": "4f14e658-759e-455b-8b47-61c7659c347e"
      },
      "outputs": [
        {
          "output_type": "stream",
          "name": "stdout",
          "text": [
            "{\n",
            "  \"train\": {\n",
            "    \"pr auc\": 0.666485621454837,\n",
            "    \"accuracy\": 0.8209160233031781,\n",
            "    \"recall\": 0.5490867579908676,\n",
            "    \"precision\": 0.6716313707237608,\n",
            "    \"roc auc\": 0.7300519871810931,\n",
            "    \"f1 score\": 0.6042081021668585\n",
            "  },\n",
            "  \"test\": {\n",
            "    \"pr auc\": 0.6730914091221867,\n",
            "    \"accuracy\": 0.8237374295502266,\n",
            "    \"recall\": 0.5617229129662522,\n",
            "    \"precision\": 0.6753870795515217,\n",
            "    \"roc auc\": 0.7361358422415489,\n",
            "    \"f1 score\": 0.6133333333333333\n",
            "  }\n",
            "}\n",
            "{'alpha': 0.004922607390769823, 'activation': 'logistic', 'solver': 'adam', 'batch_size': 460, 'learning_rate': 'constant', 'hidden_layer_sizes': (27, 24, 18), 'max_iter': 125}\n"
          ]
        }
      ],
      "source": [
        "import json\n",
        "print(json.dumps(analyseANN(evolved_estimator, X_train, y_train, X_test, y_test), indent=2))\n",
        "\n",
        "print(evolved_estimator.best_params_)"
      ]
    }
  ],
  "metadata": {
    "accelerator": "GPU",
    "colab": {
      "collapsed_sections": [],
      "name": "ADULT_CENSUS_GA_2.ipynb",
      "provenance": []
    },
    "gpuClass": "standard",
    "kernelspec": {
      "display_name": "Python 3",
      "language": "python",
      "name": "python3"
    },
    "language_info": {
      "codemirror_mode": {
        "name": "ipython",
        "version": 3
      },
      "file_extension": ".py",
      "mimetype": "text/x-python",
      "name": "python",
      "nbconvert_exporter": "python",
      "pygments_lexer": "ipython3",
      "version": "3.8.10"
    }
  },
  "nbformat": 4,
  "nbformat_minor": 0
}