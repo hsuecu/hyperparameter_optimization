{
 "cells": [
  {
   "cell_type": "markdown",
   "metadata": {
    "id": "view-in-github"
   },
   "source": [
    "<a href=\"https://colab.research.google.com/github/hsuecu/data_set/blob/main/ADULT_CENSUS_PSO_2.ipynb\" target=\"_parent\"><img src=\"https://colab.research.google.com/assets/colab-badge.svg\" alt=\"Open In Colab\"/></a>"
   ]
  },
  {
   "cell_type": "markdown",
   "metadata": {
    "id": "tpvD--opqBza"
   },
   "source": [
    "<span style=\"display:inline-block;position:relative;font-size:64px;background-color: #d9edab;padding:200px 10px;width:100%;text-align:center\">ADULT CENSUS</span><br><strong style=\"display:block;font-size:30px;padding-top:20px\">PSO</strong>"
   ]
  },
  {
   "cell_type": "code",
   "execution_count": 1,
   "metadata": {
    "colab": {
     "base_uri": "https://localhost:8080/"
    },
    "id": "W5aXNxNiqBze",
    "outputId": "c96de259-5014-4f4f-84ac-00b05908bbca"
   },
   "outputs": [
    {
     "name": "stdout",
     "output_type": "stream",
     "text": [
      "Looking in indexes: https://pypi.org/simple, https://us-python.pkg.dev/colab-wheels/public/simple/\n",
      "Collecting scikit-learn-intelex\n",
      "  Downloading scikit_learn_intelex-2021.6.3-py37-none-manylinux1_x86_64.whl (87 kB)\n",
      "\u001b[K     |████████████████████████████████| 87 kB 4.3 MB/s \n",
      "\u001b[?25hCollecting daal4py==2021.6.3\n",
      "  Downloading daal4py-2021.6.3-py37-none-manylinux1_x86_64.whl (26.0 MB)\n",
      "\u001b[K     |████████████████████████████████| 26.0 MB 65.3 MB/s \n",
      "\u001b[?25hRequirement already satisfied: scikit-learn>=0.22 in /usr/local/lib/python3.7/dist-packages (from scikit-learn-intelex) (1.0.2)\n",
      "Collecting daal==2021.6.0\n",
      "  Downloading daal-2021.6.0-py2.py3-none-manylinux1_x86_64.whl (300.3 MB)\n",
      "\u001b[K     |████████████████████████████████| 300.3 MB 15 kB/s \n",
      "\u001b[?25hRequirement already satisfied: numpy>=1.15 in /usr/local/lib/python3.7/dist-packages (from daal4py==2021.6.3->scikit-learn-intelex) (1.21.6)\n",
      "Collecting tbb==2021.*\n",
      "  Downloading tbb-2021.6.0-py2.py3-none-manylinux1_x86_64.whl (4.0 MB)\n",
      "\u001b[K     |████████████████████████████████| 4.0 MB 39.1 MB/s \n",
      "\u001b[?25hRequirement already satisfied: scipy>=1.1.0 in /usr/local/lib/python3.7/dist-packages (from scikit-learn>=0.22->scikit-learn-intelex) (1.4.1)\n",
      "Requirement already satisfied: threadpoolctl>=2.0.0 in /usr/local/lib/python3.7/dist-packages (from scikit-learn>=0.22->scikit-learn-intelex) (3.1.0)\n",
      "Requirement already satisfied: joblib>=0.11 in /usr/local/lib/python3.7/dist-packages (from scikit-learn>=0.22->scikit-learn-intelex) (1.1.0)\n",
      "Installing collected packages: tbb, daal, daal4py, scikit-learn-intelex\n",
      "Successfully installed daal-2021.6.0 daal4py-2021.6.3 scikit-learn-intelex-2021.6.3 tbb-2021.6.0\n"
     ]
    },
    {
     "name": "stderr",
     "output_type": "stream",
     "text": [
      "Intel(R) Extension for Scikit-learn* enabled (https://github.com/intel/scikit-learn-intelex)\n"
     ]
    }
   ],
   "source": [
    "import pandas as pd\n",
    "import numpy as np\n",
    "import matplotlib.pyplot as plt\n",
    "import seaborn as sns\n",
    "import time as time\n",
    "\n",
    "!pip3 install scikit-learn-intelex\n",
    "\n",
    "from sklearnex import patch_sklearn\n",
    "patch_sklearn()\n",
    "\n",
    "import warnings\n",
    "warnings.filterwarnings('ignore')"
   ]
  },
  {
   "cell_type": "code",
   "execution_count": 2,
   "metadata": {
    "colab": {
     "base_uri": "https://localhost:8080/",
     "height": 340
    },
    "id": "RvXrTq1mqBzg",
    "outputId": "5173262d-7dc8-4f60-9d59-ec0b7a873bef"
   },
   "outputs": [
    {
     "data": {
      "text/html": [
       "\n",
       "  <div id=\"df-65cf0dda-a4e6-4f47-a5c9-1d6813ada7c4\">\n",
       "    <div class=\"colab-df-container\">\n",
       "      <div>\n",
       "<style scoped>\n",
       "    .dataframe tbody tr th:only-of-type {\n",
       "        vertical-align: middle;\n",
       "    }\n",
       "\n",
       "    .dataframe tbody tr th {\n",
       "        vertical-align: top;\n",
       "    }\n",
       "\n",
       "    .dataframe thead th {\n",
       "        text-align: right;\n",
       "    }\n",
       "</style>\n",
       "<table border=\"1\" class=\"dataframe\">\n",
       "  <thead>\n",
       "    <tr style=\"text-align: right;\">\n",
       "      <th></th>\n",
       "      <th>age</th>\n",
       "      <th>workclass</th>\n",
       "      <th>fnlwgt</th>\n",
       "      <th>education</th>\n",
       "      <th>education.num</th>\n",
       "      <th>marital.status</th>\n",
       "      <th>occupation</th>\n",
       "      <th>relationship</th>\n",
       "      <th>race</th>\n",
       "      <th>sex</th>\n",
       "      <th>capital.gain</th>\n",
       "      <th>capital.loss</th>\n",
       "      <th>hours.per.week</th>\n",
       "      <th>native.country</th>\n",
       "      <th>income</th>\n",
       "    </tr>\n",
       "  </thead>\n",
       "  <tbody>\n",
       "    <tr>\n",
       "      <th>0</th>\n",
       "      <td>90</td>\n",
       "      <td>?</td>\n",
       "      <td>77053</td>\n",
       "      <td>HS-grad</td>\n",
       "      <td>9</td>\n",
       "      <td>Widowed</td>\n",
       "      <td>?</td>\n",
       "      <td>Not-in-family</td>\n",
       "      <td>White</td>\n",
       "      <td>Female</td>\n",
       "      <td>0</td>\n",
       "      <td>4356</td>\n",
       "      <td>40</td>\n",
       "      <td>United-States</td>\n",
       "      <td>&lt;=50K</td>\n",
       "    </tr>\n",
       "    <tr>\n",
       "      <th>1</th>\n",
       "      <td>82</td>\n",
       "      <td>Private</td>\n",
       "      <td>132870</td>\n",
       "      <td>HS-grad</td>\n",
       "      <td>9</td>\n",
       "      <td>Widowed</td>\n",
       "      <td>Exec-managerial</td>\n",
       "      <td>Not-in-family</td>\n",
       "      <td>White</td>\n",
       "      <td>Female</td>\n",
       "      <td>0</td>\n",
       "      <td>4356</td>\n",
       "      <td>18</td>\n",
       "      <td>United-States</td>\n",
       "      <td>&lt;=50K</td>\n",
       "    </tr>\n",
       "    <tr>\n",
       "      <th>2</th>\n",
       "      <td>66</td>\n",
       "      <td>?</td>\n",
       "      <td>186061</td>\n",
       "      <td>Some-college</td>\n",
       "      <td>10</td>\n",
       "      <td>Widowed</td>\n",
       "      <td>?</td>\n",
       "      <td>Unmarried</td>\n",
       "      <td>Black</td>\n",
       "      <td>Female</td>\n",
       "      <td>0</td>\n",
       "      <td>4356</td>\n",
       "      <td>40</td>\n",
       "      <td>United-States</td>\n",
       "      <td>&lt;=50K</td>\n",
       "    </tr>\n",
       "    <tr>\n",
       "      <th>3</th>\n",
       "      <td>54</td>\n",
       "      <td>Private</td>\n",
       "      <td>140359</td>\n",
       "      <td>7th-8th</td>\n",
       "      <td>4</td>\n",
       "      <td>Divorced</td>\n",
       "      <td>Machine-op-inspct</td>\n",
       "      <td>Unmarried</td>\n",
       "      <td>White</td>\n",
       "      <td>Female</td>\n",
       "      <td>0</td>\n",
       "      <td>3900</td>\n",
       "      <td>40</td>\n",
       "      <td>United-States</td>\n",
       "      <td>&lt;=50K</td>\n",
       "    </tr>\n",
       "    <tr>\n",
       "      <th>4</th>\n",
       "      <td>41</td>\n",
       "      <td>Private</td>\n",
       "      <td>264663</td>\n",
       "      <td>Some-college</td>\n",
       "      <td>10</td>\n",
       "      <td>Separated</td>\n",
       "      <td>Prof-specialty</td>\n",
       "      <td>Own-child</td>\n",
       "      <td>White</td>\n",
       "      <td>Female</td>\n",
       "      <td>0</td>\n",
       "      <td>3900</td>\n",
       "      <td>40</td>\n",
       "      <td>United-States</td>\n",
       "      <td>&lt;=50K</td>\n",
       "    </tr>\n",
       "  </tbody>\n",
       "</table>\n",
       "</div>\n",
       "      <button class=\"colab-df-convert\" onclick=\"convertToInteractive('df-65cf0dda-a4e6-4f47-a5c9-1d6813ada7c4')\"\n",
       "              title=\"Convert this dataframe to an interactive table.\"\n",
       "              style=\"display:none;\">\n",
       "        \n",
       "  <svg xmlns=\"http://www.w3.org/2000/svg\" height=\"24px\"viewBox=\"0 0 24 24\"\n",
       "       width=\"24px\">\n",
       "    <path d=\"M0 0h24v24H0V0z\" fill=\"none\"/>\n",
       "    <path d=\"M18.56 5.44l.94 2.06.94-2.06 2.06-.94-2.06-.94-.94-2.06-.94 2.06-2.06.94zm-11 1L8.5 8.5l.94-2.06 2.06-.94-2.06-.94L8.5 2.5l-.94 2.06-2.06.94zm10 10l.94 2.06.94-2.06 2.06-.94-2.06-.94-.94-2.06-.94 2.06-2.06.94z\"/><path d=\"M17.41 7.96l-1.37-1.37c-.4-.4-.92-.59-1.43-.59-.52 0-1.04.2-1.43.59L10.3 9.45l-7.72 7.72c-.78.78-.78 2.05 0 2.83L4 21.41c.39.39.9.59 1.41.59.51 0 1.02-.2 1.41-.59l7.78-7.78 2.81-2.81c.8-.78.8-2.07 0-2.86zM5.41 20L4 18.59l7.72-7.72 1.47 1.35L5.41 20z\"/>\n",
       "  </svg>\n",
       "      </button>\n",
       "      \n",
       "  <style>\n",
       "    .colab-df-container {\n",
       "      display:flex;\n",
       "      flex-wrap:wrap;\n",
       "      gap: 12px;\n",
       "    }\n",
       "\n",
       "    .colab-df-convert {\n",
       "      background-color: #E8F0FE;\n",
       "      border: none;\n",
       "      border-radius: 50%;\n",
       "      cursor: pointer;\n",
       "      display: none;\n",
       "      fill: #1967D2;\n",
       "      height: 32px;\n",
       "      padding: 0 0 0 0;\n",
       "      width: 32px;\n",
       "    }\n",
       "\n",
       "    .colab-df-convert:hover {\n",
       "      background-color: #E2EBFA;\n",
       "      box-shadow: 0px 1px 2px rgba(60, 64, 67, 0.3), 0px 1px 3px 1px rgba(60, 64, 67, 0.15);\n",
       "      fill: #174EA6;\n",
       "    }\n",
       "\n",
       "    [theme=dark] .colab-df-convert {\n",
       "      background-color: #3B4455;\n",
       "      fill: #D2E3FC;\n",
       "    }\n",
       "\n",
       "    [theme=dark] .colab-df-convert:hover {\n",
       "      background-color: #434B5C;\n",
       "      box-shadow: 0px 1px 3px 1px rgba(0, 0, 0, 0.15);\n",
       "      filter: drop-shadow(0px 1px 2px rgba(0, 0, 0, 0.3));\n",
       "      fill: #FFFFFF;\n",
       "    }\n",
       "  </style>\n",
       "\n",
       "      <script>\n",
       "        const buttonEl =\n",
       "          document.querySelector('#df-65cf0dda-a4e6-4f47-a5c9-1d6813ada7c4 button.colab-df-convert');\n",
       "        buttonEl.style.display =\n",
       "          google.colab.kernel.accessAllowed ? 'block' : 'none';\n",
       "\n",
       "        async function convertToInteractive(key) {\n",
       "          const element = document.querySelector('#df-65cf0dda-a4e6-4f47-a5c9-1d6813ada7c4');\n",
       "          const dataTable =\n",
       "            await google.colab.kernel.invokeFunction('convertToInteractive',\n",
       "                                                     [key], {});\n",
       "          if (!dataTable) return;\n",
       "\n",
       "          const docLinkHtml = 'Like what you see? Visit the ' +\n",
       "            '<a target=\"_blank\" href=https://colab.research.google.com/notebooks/data_table.ipynb>data table notebook</a>'\n",
       "            + ' to learn more about interactive tables.';\n",
       "          element.innerHTML = '';\n",
       "          dataTable['output_type'] = 'display_data';\n",
       "          await google.colab.output.renderOutput(dataTable, element);\n",
       "          const docLink = document.createElement('div');\n",
       "          docLink.innerHTML = docLinkHtml;\n",
       "          element.appendChild(docLink);\n",
       "        }\n",
       "      </script>\n",
       "    </div>\n",
       "  </div>\n",
       "  "
      ],
      "text/plain": [
       "   age workclass  fnlwgt     education  education.num marital.status  \\\n",
       "0   90         ?   77053       HS-grad              9        Widowed   \n",
       "1   82   Private  132870       HS-grad              9        Widowed   \n",
       "2   66         ?  186061  Some-college             10        Widowed   \n",
       "3   54   Private  140359       7th-8th              4       Divorced   \n",
       "4   41   Private  264663  Some-college             10      Separated   \n",
       "\n",
       "          occupation   relationship   race     sex  capital.gain  \\\n",
       "0                  ?  Not-in-family  White  Female             0   \n",
       "1    Exec-managerial  Not-in-family  White  Female             0   \n",
       "2                  ?      Unmarried  Black  Female             0   \n",
       "3  Machine-op-inspct      Unmarried  White  Female             0   \n",
       "4     Prof-specialty      Own-child  White  Female             0   \n",
       "\n",
       "   capital.loss  hours.per.week native.country income  \n",
       "0          4356              40  United-States  <=50K  \n",
       "1          4356              18  United-States  <=50K  \n",
       "2          4356              40  United-States  <=50K  \n",
       "3          3900              40  United-States  <=50K  \n",
       "4          3900              40  United-States  <=50K  "
      ]
     },
     "execution_count": 2,
     "metadata": {},
     "output_type": "execute_result"
    }
   ],
   "source": [
    "data = pd.read_csv(\"https://raw.githubusercontent.com/hsuecu/python_ml/main/adult.csv\")\n",
    "data.head()"
   ]
  },
  {
   "cell_type": "code",
   "execution_count": 3,
   "metadata": {
    "colab": {
     "base_uri": "https://localhost:8080/"
    },
    "id": "-n9VLpynqBzh",
    "outputId": "155eb605-a5f7-4845-91ee-b82223c29d7f"
   },
   "outputs": [
    {
     "name": "stdout",
     "output_type": "stream",
     "text": [
      "<class 'pandas.core.frame.DataFrame'>\n",
      "RangeIndex: 32561 entries, 0 to 32560\n",
      "Data columns (total 15 columns):\n",
      " #   Column          Non-Null Count  Dtype \n",
      "---  ------          --------------  ----- \n",
      " 0   age             32561 non-null  int64 \n",
      " 1   workclass       32561 non-null  object\n",
      " 2   fnlwgt          32561 non-null  int64 \n",
      " 3   education       32561 non-null  object\n",
      " 4   education.num   32561 non-null  int64 \n",
      " 5   marital.status  32561 non-null  object\n",
      " 6   occupation      32561 non-null  object\n",
      " 7   relationship    32561 non-null  object\n",
      " 8   race            32561 non-null  object\n",
      " 9   sex             32561 non-null  object\n",
      " 10  capital.gain    32561 non-null  int64 \n",
      " 11  capital.loss    32561 non-null  int64 \n",
      " 12  hours.per.week  32561 non-null  int64 \n",
      " 13  native.country  32561 non-null  object\n",
      " 14  income          32561 non-null  object\n",
      "dtypes: int64(6), object(9)\n",
      "memory usage: 3.7+ MB\n"
     ]
    }
   ],
   "source": [
    "data.info()"
   ]
  },
  {
   "cell_type": "code",
   "execution_count": 4,
   "metadata": {
    "id": "VU-OiD1KqBzh"
   },
   "outputs": [],
   "source": [
    "if __name__==\"__main__\":\n",
    "    for i in data.columns:\n",
    "        data[i].replace('?', np.NAN, inplace=True)"
   ]
  },
  {
   "cell_type": "code",
   "execution_count": 5,
   "metadata": {
    "colab": {
     "base_uri": "https://localhost:8080/"
    },
    "id": "PDzL8hA1qBzh",
    "outputId": "bf410434-c4d3-4a17-f324-0c14085a75ac"
   },
   "outputs": [
    {
     "name": "stdout",
     "output_type": "stream",
     "text": [
      "Useless row entries are:7.368%\n"
     ]
    }
   ],
   "source": [
    "if __name__==\"__main__\":\n",
    "    count = 0\n",
    "    for i in range(data.shape[0]):\n",
    "        for j in data.iloc[i].isna():\n",
    "            if j:\n",
    "                count += 1\n",
    "                break\n",
    "    print(f'Useless row entries are:{round(count/data.shape[0] * 100, 3)}%')"
   ]
  },
  {
   "cell_type": "code",
   "execution_count": 6,
   "metadata": {
    "id": "SHxl2GB1qBzi"
   },
   "outputs": [],
   "source": [
    "data.dropna(axis=0, inplace=True)"
   ]
  },
  {
   "cell_type": "code",
   "execution_count": 7,
   "metadata": {
    "colab": {
     "base_uri": "https://localhost:8080/"
    },
    "id": "we-90qezqBzi",
    "outputId": "b8e8cce1-d671-4e56-e554-0864bc691eee"
   },
   "outputs": [
    {
     "name": "stdout",
     "output_type": "stream",
     "text": [
      "<class 'pandas.core.frame.DataFrame'>\n",
      "Int64Index: 30162 entries, 1 to 32560\n",
      "Columns: 15 entries, age to income\n",
      "dtypes: int64(6), object(9)\n",
      "memory usage: 3.7+ MB\n"
     ]
    }
   ],
   "source": [
    "data.info(verbose=False)"
   ]
  },
  {
   "cell_type": "markdown",
   "metadata": {
    "id": "3QvaKWb9qBzj"
   },
   "source": [
    "# Data Processing"
   ]
  },
  {
   "cell_type": "code",
   "execution_count": 8,
   "metadata": {
    "colab": {
     "base_uri": "https://localhost:8080/"
    },
    "id": "3d4W8lzYqBzj",
    "outputId": "2a23b3e5-a058-45cd-ec2a-a2838cfd1442",
    "scrolled": true
   },
   "outputs": [
    {
     "name": "stdout",
     "output_type": "stream",
     "text": [
      "<class 'pandas.core.frame.DataFrame'>\n",
      "Int64Index: 30162 entries, 1 to 32560\n",
      "Columns: 7 entries, race_Amer-Indian-Eskimo to sex_Male\n",
      "dtypes: uint8(7)\n",
      "memory usage: 441.8 KB\n"
     ]
    }
   ],
   "source": [
    "to_oneHotEncode = ['race', 'sex']\n",
    "to_lableEncode = ['workclass', 'education',\n",
    "                 'marital.status', 'occupation',\n",
    "                 'relationship', 'native.country']\n",
    "\n",
    "data_intermediate=pd.get_dummies(data=data[to_oneHotEncode],\n",
    "                                drop_first=False)\n",
    "data_intermediate.info(verbose=False)"
   ]
  },
  {
   "cell_type": "code",
   "execution_count": 9,
   "metadata": {
    "id": "fmRgrxyqqBzj"
   },
   "outputs": [],
   "source": [
    "data = pd.concat([data, data_intermediate], axis = 1)\n",
    "data.drop(to_oneHotEncode, axis=1, inplace=True)"
   ]
  },
  {
   "cell_type": "code",
   "execution_count": 10,
   "metadata": {
    "id": "cIsmjH2GqBzk"
   },
   "outputs": [],
   "source": [
    "from sklearn.preprocessing import LabelEncoder\n",
    "le_obj = LabelEncoder()\n",
    "\n",
    "if __name__==\"__main__\":\n",
    "    for i in to_lableEncode:\n",
    "        data[i] = le_obj.fit_transform(data[i])"
   ]
  },
  {
   "cell_type": "code",
   "execution_count": 11,
   "metadata": {
    "colab": {
     "base_uri": "https://localhost:8080/"
    },
    "id": "KWwEH-hfqBzk",
    "outputId": "bac6ed75-f3b0-4dec-c12d-ad9d2adcd147"
   },
   "outputs": [
    {
     "name": "stdout",
     "output_type": "stream",
     "text": [
      "<class 'pandas.core.frame.DataFrame'>\n",
      "Int64Index: 30162 entries, 1 to 32560\n",
      "Data columns (total 20 columns):\n",
      " #   Column                   Non-Null Count  Dtype \n",
      "---  ------                   --------------  ----- \n",
      " 0   age                      30162 non-null  int64 \n",
      " 1   workclass                30162 non-null  int64 \n",
      " 2   fnlwgt                   30162 non-null  int64 \n",
      " 3   education                30162 non-null  int64 \n",
      " 4   education.num            30162 non-null  int64 \n",
      " 5   marital.status           30162 non-null  int64 \n",
      " 6   occupation               30162 non-null  int64 \n",
      " 7   relationship             30162 non-null  int64 \n",
      " 8   capital.gain             30162 non-null  int64 \n",
      " 9   capital.loss             30162 non-null  int64 \n",
      " 10  hours.per.week           30162 non-null  int64 \n",
      " 11  native.country           30162 non-null  int64 \n",
      " 12  income                   30162 non-null  object\n",
      " 13  race_Amer-Indian-Eskimo  30162 non-null  uint8 \n",
      " 14  race_Asian-Pac-Islander  30162 non-null  uint8 \n",
      " 15  race_Black               30162 non-null  uint8 \n",
      " 16  race_Other               30162 non-null  uint8 \n",
      " 17  race_White               30162 non-null  uint8 \n",
      " 18  sex_Female               30162 non-null  uint8 \n",
      " 19  sex_Male                 30162 non-null  uint8 \n",
      "dtypes: int64(12), object(1), uint8(7)\n",
      "memory usage: 3.4+ MB\n"
     ]
    }
   ],
   "source": [
    "data.info()"
   ]
  },
  {
   "cell_type": "code",
   "execution_count": 12,
   "metadata": {
    "id": "0oLGnW6sqBzl"
   },
   "outputs": [],
   "source": [
    "data['income'] = data['income'].apply(lambda x:1 if x=='>50K' else 0)"
   ]
  },
  {
   "cell_type": "code",
   "execution_count": 13,
   "metadata": {
    "id": "4HGx7_h4qBzl"
   },
   "outputs": [],
   "source": [
    "from sklearn.preprocessing import RobustScaler\n",
    "scaler = RobustScaler()\n",
    "col = [i for i in data\n",
    "       if i not in ['race_Amer-Indian-Eskimo',\n",
    "        'race_Asian-Pac-Islander','race_Black','race_Other',\n",
    "        'race_White','sex_Female','sex_Male', 'income']]"
   ]
  },
  {
   "cell_type": "code",
   "execution_count": 14,
   "metadata": {
    "colab": {
     "base_uri": "https://localhost:8080/"
    },
    "id": "oUBJQ4YxqBzl",
    "outputId": "458b27eb-7192-49bf-f436-d46be461d199"
   },
   "outputs": [
    {
     "data": {
      "text/plain": [
       "['age',\n",
       " 'workclass',\n",
       " 'fnlwgt',\n",
       " 'education',\n",
       " 'education.num',\n",
       " 'marital.status',\n",
       " 'occupation',\n",
       " 'relationship',\n",
       " 'capital.gain',\n",
       " 'capital.loss',\n",
       " 'hours.per.week',\n",
       " 'native.country']"
      ]
     },
     "execution_count": 14,
     "metadata": {},
     "output_type": "execute_result"
    }
   ],
   "source": [
    "col"
   ]
  },
  {
   "cell_type": "code",
   "execution_count": 15,
   "metadata": {
    "colab": {
     "base_uri": "https://localhost:8080/"
    },
    "id": "V5IQsy3iqBzl",
    "outputId": "edf3129e-a841-4b87-c3c3-68076c8a6a98"
   },
   "outputs": [
    {
     "name": "stdout",
     "output_type": "stream",
     "text": [
      "X is (30162, 19)\n",
      "Y is (30162,)\n"
     ]
    }
   ],
   "source": [
    "X = data.drop(['income'], axis=1)\n",
    "y = data['income']\n",
    "\n",
    "print(f'X is {X.shape}\\nY is {y.shape}')\n",
    "\n",
    "X[col] = scaler.fit_transform(X[col])"
   ]
  },
  {
   "cell_type": "code",
   "execution_count": 16,
   "metadata": {
    "id": "yJgyXV23qBzm"
   },
   "outputs": [],
   "source": [
    "from sklearn.model_selection import train_test_split\n",
    "X_train, X_test, y_train, y_test = \\\n",
    "    train_test_split(X, y, train_size=0.7)"
   ]
  },
  {
   "cell_type": "code",
   "execution_count": 17,
   "metadata": {
    "colab": {
     "base_uri": "https://localhost:8080/"
    },
    "id": "h3RhhkfdqBzm",
    "outputId": "10b0e4d2-104f-4cfc-e842-afd4163b132f"
   },
   "outputs": [
    {
     "name": "stdout",
     "output_type": "stream",
     "text": [
      "X_train:(21113, 19)\n",
      "X_test:(9049, 19)\n",
      "y_train:(21113,)\n",
      "y_test:(9049,)\n"
     ]
    }
   ],
   "source": [
    "print(f'X_train:{X_train.shape}\\n\\\n",
    "X_test:{X_test.shape}\\n\\\n",
    "y_train:{y_train.shape}\\n\\\n",
    "y_test:{y_test.shape}')"
   ]
  },
  {
   "cell_type": "code",
   "execution_count": 18,
   "metadata": {
    "id": "dh0mCJNPqBzm"
   },
   "outputs": [],
   "source": [
    "# function to evaluate\n",
    "from sklearn.model_selection import cross_validate\n",
    "from sklearn.metrics import accuracy_score, recall_score, precision_score, roc_auc_score, f1_score, average_precision_score\n",
    "from sklearn.model_selection import StratifiedKFold\n",
    "def analyse(model, xtrain, ytrain, xtest, ytest):\n",
    "    model.fit(xtrain, ytrain)\n",
    "    sk = StratifiedKFold(3, shuffle=True, random_state=0)\n",
    "    sf_scorer = cross_validate(model, xtrain, ytrain, \n",
    "                 scoring=['roc_auc', 'accuracy', 'precision', 'recall', 'f1'],\n",
    "                 cv=sk)\n",
    "    accuracy = sf_scorer['test_accuracy'].mean()\n",
    "    recall = sf_scorer['test_recall'].mean()\n",
    "    precision = sf_scorer['test_precision'].mean()\n",
    "    roc_auc = sf_scorer['test_roc_auc'].mean()\n",
    "    f1score = sf_scorer['test_f1'].mean()\n",
    "    try:\n",
    "        y_score_test = model.decision_function(xtest)\n",
    "        y_score_train = model.decision_function(xtrain)\n",
    "    except:\n",
    "        y_score_test = model.predict_proba(xtest)[:,1]\n",
    "        y_score_train = model.predict_proba(xtrain)[:,1]\n",
    "    ypred = model.predict(xtest)\n",
    "    ret = {'train':{'pr auc': average_precision_score(ytrain, y_score_train),\n",
    "                'accuracy': accuracy,\n",
    "                'recall':recall,\n",
    "                'precision':precision,\n",
    "                'roc auc':roc_auc,\n",
    "                'f1 score': f1score},\n",
    "           'test':{'pr auc': average_precision_score(ytest, y_score_test),\n",
    "                'accuracy':accuracy_score(ytest, ypred),\n",
    "                'recall':recall_score(ytest, ypred),\n",
    "                'precision':precision_score(ytest, ypred),\n",
    "                'roc auc':roc_auc_score(ytest, y_score_test),\n",
    "                'f1 score': f1_score(ytest, ypred)}}\n",
    "    return ret"
   ]
  },
  {
   "cell_type": "code",
   "execution_count": 19,
   "metadata": {
    "id": "T_JaLdcLqBzn"
   },
   "outputs": [],
   "source": [
    "from sklearn.metrics import accuracy_score, recall_score, precision_score, roc_auc_score, f1_score, auc, precision_recall_curve\n",
    "\n",
    "def analyseANN(ANNmodel, model, xtrain, ytrain, xtest, ytest):\n",
    "    \n",
    "    ypred =  model.predict(xtrain)\n",
    "    ypred_test = model.predict(xtest)\n",
    "    precision_train, recall_train, thresholds = precision_recall_curve(ytrain, ypred)\n",
    "    precision_test, recall_test, thresholds = precision_recall_curve(y_test, ypred_test)\n",
    "\n",
    "    for i in range(len(ypred)):\n",
    "        if ypred[i] <=0.5:\n",
    "            ypred[i] =0\n",
    "        else: \n",
    "            ypred[i] =1\n",
    "    for i in range(len(ypred_test)):\n",
    "        if ypred_test[i] <=0.5:\n",
    "            ypred_test[i] =0\n",
    "        else: \n",
    "            ypred_test[i] =1\n",
    "    \n",
    "    #ypred = y_pred_prob.where(y_pred_prob<0.5,0,1 ) \n",
    "    accuracy = accuracy_score(ytrain, ypred)\n",
    "    recall = recall_score(ytrain, ypred)\n",
    "    precision = precision_score(ytrain, ypred)\n",
    "    roc_auc = roc_auc_score(ytrain, ypred)\n",
    "    f1score = f1_score(ytrain, ypred)\n",
    "\n",
    "    ret = {'train':{'pr auc': auc(recall_train, precision_train),\n",
    "                    'accuracy': accuracy,\n",
    "                    'recall':recall,\n",
    "                    'precision':precision,\n",
    "                    'roc auc':roc_auc,\n",
    "                    'f1 score': f1score},\n",
    "               'test':{'pr auc': auc(recall_test, precision_test),\n",
    "                    'accuracy':accuracy_score(ytest, ypred_test),\n",
    "                    'recall':recall_score(ytest, ypred_test),\n",
    "                    'precision':precision_score(ytest, ypred_test),\n",
    "                    'roc auc':roc_auc_score(ytest, ypred_test),\n",
    "                    'f1 score': f1_score(ytest, ypred_test)}}\n",
    "    \n",
    "    history_df = pd.DataFrame(ANNmodel.history)\n",
    "    history_df.loc[:, ['loss', 'val_loss']].plot()\n",
    "    history_df.loc[:, ['binary_accuracy', 'val_binary_accuracy']].plot()\n",
    "    plt.ylim(0.5, 1)\n",
    "    return ret"
   ]
  },
  {
   "cell_type": "markdown",
   "metadata": {
    "id": "vG_eZT29qBzo"
   },
   "source": [
    "# BASE CASE"
   ]
  },
  {
   "cell_type": "code",
   "execution_count": null,
   "metadata": {
    "colab": {
     "base_uri": "https://localhost:8080/"
    },
    "id": "JhW4HyeCqBzo",
    "outputId": "b63e505a-0b98-4ae2-d06e-2e9fded04ccb"
   },
   "outputs": [
    {
     "name": "stdout",
     "output_type": "stream",
     "text": [
      "{\n",
      "  \"train\": {\n",
      "    \"pr auc\": 0.6794520793432768,\n",
      "    \"accuracy\": 0.8132427578128727,\n",
      "    \"recall\": 0.4374282433983927,\n",
      "    \"precision\": 0.6949820476359938,\n",
      "    \"roc auc\": 0.8439798031084398,\n",
      "    \"f1 score\": 0.5366757597000944\n",
      "  },\n",
      "  \"test\": {\n",
      "    \"pr auc\": 0.6943387958310855,\n",
      "    \"accuracy\": 0.8162227870482927,\n",
      "    \"recall\": 0.4544259421560035,\n",
      "    \"precision\": 0.7127147766323024,\n",
      "    \"roc auc\": 0.8469300610388586,\n",
      "    \"f1 score\": 0.554990634198555\n",
      "  }\n",
      "}\n"
     ]
    }
   ],
   "source": [
    "##                     ##\n",
    "## LOGISTIC REGRESSION ##\n",
    "##                     ##\n",
    "\n",
    "from sklearn.linear_model import LogisticRegression\n",
    "import json\n",
    "lr = LogisticRegression(random_state=42)\n",
    "\n",
    "print(json.dumps(analyse(lr, X_train, y_train, X_test, y_test), indent=2))"
   ]
  },
  {
   "cell_type": "code",
   "execution_count": null,
   "metadata": {
    "colab": {
     "base_uri": "https://localhost:8080/"
    },
    "id": "hhz3LrlVqBzo",
    "outputId": "4651ba40-ee74-4155-cc3d-49743bf2f46e"
   },
   "outputs": [
    {
     "name": "stdout",
     "output_type": "stream",
     "text": [
      "{\n",
      "  \"train\": {\n",
      "    \"pr auc\": 0.881463666097122,\n",
      "    \"accuracy\": 0.8579073689834603,\n",
      "    \"recall\": 0.6544202066590126,\n",
      "    \"precision\": 0.7413432033953654,\n",
      "    \"roc auc\": 0.9124116676641586,\n",
      "    \"f1 score\": 0.6951062464776392\n",
      "  },\n",
      "  \"test\": {\n",
      "    \"pr auc\": 0.8205246311110792,\n",
      "    \"accuracy\": 0.861421151508454,\n",
      "    \"recall\": 0.6590709903593339,\n",
      "    \"precision\": 0.7595959595959596,\n",
      "    \"roc auc\": 0.9185861569531055,\n",
      "    \"f1 score\": 0.7057719380572501\n",
      "  }\n",
      "}\n"
     ]
    }
   ],
   "source": [
    "##                     ##\n",
    "## XG BOOST CLASSIFIER ##\n",
    "##                     ##\n",
    "\n",
    "from xgboost.sklearn import XGBClassifier\n",
    "params = {\n",
    "            'booster':'gbtree',\n",
    "            'objective':'binary:logistic',\n",
    "            'max_depth': 3,\n",
    "            'learning_rate': 1,\n",
    "            'n_estimators':100,\n",
    "            \"eval_metric\": ['logloss'],\n",
    "            'random_state': 42\n",
    "        }         \n",
    "           \n",
    "          \n",
    "# instantiate the classifier \n",
    "xgb_clf = XGBClassifier(**params)\n",
    "print(json.dumps(analyse(xgb_clf, X_train, y_train, X_test, y_test), indent=2))"
   ]
  },
  {
   "cell_type": "code",
   "execution_count": null,
   "metadata": {
    "colab": {
     "base_uri": "https://localhost:8080/"
    },
    "id": "DjIsmFxIqBzo",
    "outputId": "fc99dcdd-e6a9-4e69-8c05-730d9dfa90a2"
   },
   "outputs": [
    {
     "name": "stdout",
     "output_type": "stream",
     "text": [
      "{\n",
      "  \"train\": {\n",
      "    \"pr auc\": 0.7530901630205443,\n",
      "    \"accuracy\": 0.8252735318609633,\n",
      "    \"recall\": 0.35323383084577115,\n",
      "    \"precision\": 0.8600315489273025,\n",
      "    \"roc auc\": 0.8889857970225238,\n",
      "    \"f1 score\": 0.49977150599708314\n",
      "  },\n",
      "  \"test\": {\n",
      "    \"pr auc\": 0.7606226991682398,\n",
      "    \"accuracy\": 0.8042877666040447,\n",
      "    \"recall\": 0.2252410166520596,\n",
      "    \"precision\": 0.9941972920696325,\n",
      "    \"roc auc\": 0.8855734452407136,\n",
      "    \"f1 score\": 0.36727402643801355\n",
      "  }\n",
      "}\n"
     ]
    }
   ],
   "source": [
    "##                          ##\n",
    "## RANDOM FOREST CLASSIFIER ##\n",
    "##                          ##\n",
    "\n",
    "\n",
    "from sklearn.ensemble import RandomForestClassifier\n",
    "rforest = RandomForestClassifier(max_depth = 3)\n",
    "\n",
    "print(json.dumps(analyse(rforest, X_train, y_train, X_test, y_test), indent=2))"
   ]
  },
  {
   "cell_type": "code",
   "execution_count": null,
   "metadata": {
    "colab": {
     "base_uri": "https://localhost:8080/"
    },
    "id": "4LJ9FI7bqBzp",
    "outputId": "58d29cb9-4053-455b-ca9c-53f483cd596d"
   },
   "outputs": [
    {
     "name": "stdout",
     "output_type": "stream",
     "text": [
      "{\n",
      "  \"train\": {\n",
      "    \"pr auc\": 0.6761169859853049,\n",
      "    \"accuracy\": 0.7993647200377646,\n",
      "    \"recall\": 0.36127057022579406,\n",
      "    \"precision\": 0.6764663630272248,\n",
      "    \"roc auc\": 0.8443101026070731,\n",
      "    \"f1 score\": 0.47085537892768176\n",
      "  },\n",
      "  \"test\": {\n",
      "    \"pr auc\": 0.6888889903898191,\n",
      "    \"accuracy\": 0.8018565587357719,\n",
      "    \"recall\": 0.37949167397020156,\n",
      "    \"precision\": 0.6967015285599356,\n",
      "    \"roc auc\": 0.8458525980660646,\n",
      "    \"f1 score\": 0.49134751773049645\n",
      "  }\n",
      "}\n"
     ]
    }
   ],
   "source": [
    "##                        ##\n",
    "## NAIVE BAYES CLASSIFIER ##\n",
    "##                        ##\n",
    "\n",
    "\n",
    "from sklearn.naive_bayes import GaussianNB\n",
    "gnb = GaussianNB()\n",
    "\n",
    "print(json.dumps(analyse(gnb, X_train, y_train, X_test, y_test), indent=2))"
   ]
  },
  {
   "cell_type": "code",
   "execution_count": null,
   "metadata": {
    "colab": {
     "base_uri": "https://localhost:8080/"
    },
    "id": "GrXHtbeeqBzp",
    "outputId": "a769d2e7-735b-4118-93dd-e5db9e237834"
   },
   "outputs": [
    {
     "name": "stdout",
     "output_type": "stream",
     "text": [
      "{\n",
      "  \"train\": {\n",
      "    \"pr auc\": 0.6582906068418624,\n",
      "    \"accuracy\": 0.7955759196417361,\n",
      "    \"recall\": 0.26942212016838885,\n",
      "    \"precision\": 0.7383471968621086,\n",
      "    \"roc auc\": 0.8199894256039796,\n",
      "    \"f1 score\": 0.3947582754336469\n",
      "  },\n",
      "  \"test\": {\n",
      "    \"pr auc\": 0.6809604856668843,\n",
      "    \"accuracy\": 0.7969941429992264,\n",
      "    \"recall\": 0.2852760736196319,\n",
      "    \"precision\": 0.7596266044340724,\n",
      "    \"roc auc\": 0.8408836795880198,\n",
      "    \"f1 score\": 0.4147817776361899\n",
      "  }\n",
      "}\n"
     ]
    }
   ],
   "source": [
    "##                ##\n",
    "## SVC CLASSIFIER ##\n",
    "##                ##\n",
    "\n",
    "\n",
    "from sklearn.svm import SVC\n",
    "svc = SVC(C=1, kernel='rbf', gamma='scale')\n",
    "\n",
    "print(json.dumps(analyse(svc, X_train, y_train, X_test, y_test), indent=2))"
   ]
  },
  {
   "cell_type": "code",
   "execution_count": 20,
   "metadata": {
    "id": "TsMsUKKyqBzp"
   },
   "outputs": [],
   "source": [
    "##                ##\n",
    "## ANN CLASSIFIER ##\n",
    "##                ##\n",
    "\n",
    "\n",
    "from tensorflow.keras import Sequential\n",
    "from tensorflow.keras.layers import Dense, BatchNormalization, Dropout\n",
    "from tensorflow.keras.optimizers import Adam\n",
    "from keras.callbacks import EarlyStopping\n",
    "from keras.wrappers.scikit_learn import KerasClassifier\n",
    "\n",
    "def create_ann(dense_layers, dense_nodes, learning_rate, dropout_rate):\n",
    "    ann = Sequential()\n",
    "    ann.add(Dense(units = dense_nodes, activation='relu', input_shape=[(X_train.shape[1])]))\n",
    "    ann.add(Dropout(dropout_rate))\n",
    "    ann.add(BatchNormalization())\n",
    "\n",
    "    for i in range(dense_layers):\n",
    "        ann.add(Dense(units = dense_nodes, activation='relu'))\n",
    "        ann.add(Dropout(dropout_rate))\n",
    "        ann.add(BatchNormalization())\n",
    "    \n",
    "    ann.add(Dense(units = 1, activation='sigmoid')) \n",
    "    ann.compile(loss='binary_crossentropy', optimizer=Adam(learning_rate=learning_rate), metrics=['binary_accuracy'])\n",
    "    return ann\n",
    "\n",
    "def Model(dense_layers, dense_nodes, learning_rate, dropout_rate, batch_size):\n",
    "    ann = create_ann(dense_layers, dense_nodes, learning_rate, dropout_rate)\n",
    "    es = EarlyStopping(min_delta=0.01, patience=10)\n",
    "    classifier = ann.fit(X_train, y_train, validation_data=(X_test, y_test), batch_size=batch_size,\n",
    "                                     epochs=100, verbose=0,callbacks = es)\n",
    "    return classifier, ann"
   ]
  },
  {
   "cell_type": "code",
   "execution_count": null,
   "metadata": {
    "colab": {
     "base_uri": "https://localhost:8080/",
     "height": 849
    },
    "id": "xA7SBJVDqBzp",
    "outputId": "e605acff-7482-4e8e-f3a2-83a277f54fd6"
   },
   "outputs": [
    {
     "name": "stdout",
     "output_type": "stream",
     "text": [
      "running for: 0m, 7s\n",
      "{\n",
      "  \"train\": {\n",
      "    \"pr auc\": 0.7437300526882501,\n",
      "    \"accuracy\": 0.8318097854402501,\n",
      "    \"recall\": 0.4732108687332568,\n",
      "    \"precision\": 0.756037908896362,\n",
      "    \"roc auc\": 0.7114905605704428,\n",
      "    \"f1 score\": 0.5820877956925974\n",
      "  },\n",
      "  \"test\": {\n",
      "    \"pr auc\": 0.7471256698778634,\n",
      "    \"accuracy\": 0.8268316941098464,\n",
      "    \"recall\": 0.4758983347940403,\n",
      "    \"precision\": 0.7453671928620453,\n",
      "    \"roc auc\": 0.7105367246602092,\n",
      "    \"f1 score\": 0.5809039850227333\n",
      "  }\n",
      "}\n"
     ]
    },
    {
     "data": {
      "image/png": "[encoded data removed]",
      "text/plain": [
       "<Figure size 432x288 with 1 Axes>"
      ]
     },
     "metadata": {
      "needs_background": "light"
     },
     "output_type": "display_data"
    },
    {
     "data": {
      "image/png": "[encoded data removed]",
      "text/plain": [
       "<Figure size 432x288 with 1 Axes>"
      ]
     },
     "metadata": {
      "needs_background": "light"
     },
     "output_type": "display_data"
    }
   ],
   "source": [
    "_start = time.time()\n",
    "\n",
    "ANNmodel , model= Model(dense_layers =2 , dense_nodes = 128, learning_rate = 0.001, dropout_rate = 0.3, batch_size = 1000)\n",
    "\n",
    "ret = analyseANN(ANNmodel, model, X_train, y_train, X_test, y_test)\n",
    "\n",
    "_end = time.time()\n",
    "\n",
    "print(f'running for: {int((_end-_start)/60)}m, {int((_end-_start)%60)}s')\n",
    "print(json.dumps(ret, indent=2))"
   ]
  },
  {
   "cell_type": "markdown",
   "metadata": {
    "id": "UBH31py7qBzq"
   },
   "source": [
    "# PSO OPTIMIZED"
   ]
  },
  {
   "cell_type": "code",
   "execution_count": 21,
   "metadata": {
    "colab": {
     "base_uri": "https://localhost:8080/"
    },
    "id": "fFNb6FFyqBzq",
    "outputId": "eb74f3bc-22c7-4dd6-a939-aa567ef25fd5"
   },
   "outputs": [
    {
     "name": "stdout",
     "output_type": "stream",
     "text": [
      "Looking in indexes: https://pypi.org/simple, https://us-python.pkg.dev/colab-wheels/public/simple/\n",
      "Collecting optunity\n",
      "  Downloading Optunity-1.1.1.tar.gz (4.6 MB)\n",
      "\u001b[K     |████████████████████████████████| 4.6 MB 10.3 MB/s \n",
      "\u001b[?25hBuilding wheels for collected packages: optunity\n",
      "  Building wheel for optunity (setup.py) ... \u001b[?25l\u001b[?25hdone\n",
      "  Created wheel for optunity: filename=Optunity-1.1.1-py3-none-any.whl size=72032 sha256=71951344cd89457645be19c4ab56c94eb83b513fd6de358ee3882d9d7ea6a76b\n",
      "  Stored in directory: /root/.cache/pip/wheels/0d/0e/31/a4763ff822a20f88a61dd3bb1c8b78a8f25c605392fe956d07\n",
      "Successfully built optunity\n",
      "Installing collected packages: optunity\n",
      "Successfully installed optunity-1.1.1\n"
     ]
    }
   ],
   "source": [
    "!pip install optunity\n",
    "\n",
    "import optunity\n",
    "import optunity.metrics\n",
    "from bisect import bisect\n",
    "from sklearn.model_selection import cross_val_score\n",
    "import math"
   ]
  },
  {
   "cell_type": "code",
   "execution_count": null,
   "metadata": {
    "id": "_fMwyyEOqBzq"
   },
   "outputs": [],
   "source": [
    "##                     ##\n",
    "## LOGISTIC REGRESSION ##\n",
    "##                     ##\n",
    "\n",
    "from sklearn.linear_model import LogisticRegression\n",
    "import json\n",
    "\n",
    "search = {\n",
    "    'penalty':[0, 1], # none l1 l2 elasticnet\n",
    "    'C': [1e-6, 1e-2], # inverse of regularization strength\n",
    "    'l1_ratio':[0, 1],\n",
    "    'max_iter':[10, 1000]\n",
    "}\n",
    "\n",
    "data = X_train.values.tolist()\n",
    "labels = y_train.values.tolist()\n",
    "counter=0\n",
    "\n",
    "@optunity.cross_validated(x=data, y=labels, num_folds=3)\n",
    "\n",
    "def performance_lr(x_train, y_train, x_test, y_test,\n",
    "                  penalty=None, max_iter=None, C=None,\n",
    "                   l1_ratio=None):\n",
    "    global counter\n",
    "    def mapper(f, breakpoint=[], cat=[]):\n",
    "        return cat[bisect(breakpoint, f)]\n",
    "    \n",
    "    penalty=mapper(penalty, breakpoint=[0.25, 0.5, 0.75],\n",
    "                   cat=['none', 'l1', 'l2', 'elasticnet'])\n",
    "    max_iter = int(max_iter)\n",
    "    \n",
    "    model = LogisticRegression(penalty=penalty, l1_ratio=l1_ratio, C=C,\n",
    "                               max_iter=max_iter, solver='saga')\n",
    "    # mark this issue.\n",
    "    # only saga allows using any penalty hence for \n",
    "    # ease of implementation we use saga.\n",
    "    l = cross_val_score(model, data, labels, cv=3,\n",
    "                                    scoring='roc_auc', error_score='raise')\n",
    "    scores = np.mean(l)\n",
    "    counter+=1\n",
    "    print(counter, end=' ')\n",
    "    return scores"
   ]
  },
  {
   "cell_type": "code",
   "execution_count": null,
   "metadata": {
    "colab": {
     "base_uri": "https://localhost:8080/"
    },
    "id": "1QRsWWAwqBzq",
    "outputId": "d670790d-3b34-4956-f2fd-b9964d7430fa"
   },
   "outputs": [
    {
     "name": "stdout",
     "output_type": "stream",
     "text": [
      "1 2 3 4 5 6 7 8 9 10 11 12 13 14 15 16 17 18 19 20 21 22 23 24 25 26 27 28 29 30 31 32 33 34 35 36 37 38 39 40 41 42 43 44 45 46 47 48 49 50 51 52 53 54 55 56 57 58 59 60 61 62 63 64 65 66 67 68 69 70 71 72 73 74 75 76 77 78 79 80 81 82 83 84 85 86 87 88 89 90 91 92 93 94 95 96 97 98 99 100 101 102 103 104 105 106 107 108 109 110 111 112 113 114 115 116 117 118 119 120 121 122 123 124 125 126 127 128 129 130 131 132 133 134 135 136 137 138 139 140 141 142 143 144 145 146 147 148 149 150 151 152 153 154 155 156 157 158 159 160 161 162 163 164 165 166 167 168 169 170 171 172 173 174 175 176 177 178 179 180 181 182 183 184 185 186 187 188 189 190 191 192 193 194 195 196 197 198 199 200 201 202 203 204 205 206 207 208 209 210 211 212 213 214 215 216 217 218 219 220 221 222 223 224 225 226 227 228 229 230 231 232 233 234 235 236 237 238 239 240 241 242 243 244 245 246 247 248 249 250 251 252 253 254 255 256 257 258 259 260 261 262 263 264 running for: 46m, 8s\n"
     ]
    }
   ],
   "source": [
    "_start = time.time()\n",
    "\n",
    "optimal_confg, info, _ = optunity.maximize(performance_lr,\n",
    "                                           solver_name='particle swarm',\n",
    "                                           num_evals=100,\n",
    "                                           **search)\n",
    "\n",
    "_end = time.time()\n",
    "\n",
    "# only in seconds\n",
    "\n",
    "print(f'running for: {int((_end-_start)/60)}m, {int((_end-_start)%60)}s')"
   ]
  },
  {
   "cell_type": "code",
   "execution_count": null,
   "metadata": {
    "colab": {
     "base_uri": "https://localhost:8080/"
    },
    "id": "SvY3P4U2qBzq",
    "outputId": "b69c5f15-b887-4b44-86fd-7b27fe4cfa75"
   },
   "outputs": [
    {
     "name": "stdout",
     "output_type": "stream",
     "text": [
      "{\n",
      "  \"penalty\": \"l2\",\n",
      "  \"C\": 0.007869786935707515,\n",
      "  \"l1_ratio\": 0.5544061077837932,\n",
      "  \"max_iter\": 952\n",
      "}\n",
      "best cv_score:0.7524529864886507\n"
     ]
    }
   ],
   "source": [
    "def mapper(f, breakpoint=[], cat=[]):\n",
    "        return cat[bisect(breakpoint, f)]\n",
    "\n",
    "optimal_config_format = optimal_confg.copy()\n",
    "optimal_config_format['penalty'] = mapper(optimal_config_format['penalty'],\n",
    "                                          breakpoint=[0.25, 0.5, 0.75],\n",
    "                                          cat=['none', 'l1', 'l2', 'elasticnet'])\n",
    "optimal_config_format['max_iter'] = int(optimal_config_format['max_iter'])\n",
    "print(json.dumps(optimal_config_format, indent=2))\n",
    "print(f'best cv_score:{info.optimum}')"
   ]
  },
  {
   "cell_type": "code",
   "execution_count": null,
   "metadata": {
    "colab": {
     "base_uri": "https://localhost:8080/"
    },
    "id": "Dz8zLnlIqBzr",
    "outputId": "d4085b78-05af-4651-8b10-78a7f58de594"
   },
   "outputs": [
    {
     "name": "stdout",
     "output_type": "stream",
     "text": [
      "{\n",
      "  \"train\": {\n",
      "    \"pr auc\": 0.5595698846312731,\n",
      "    \"accuracy\": 0.7623264244128677,\n",
      "    \"recall\": 0.39781859931113656,\n",
      "    \"precision\": 0.526429800920344,\n",
      "    \"roc auc\": 0.7524204619258384,\n",
      "    \"f1 score\": 0.45305697494860064\n",
      "  },\n",
      "  \"test\": {\n",
      "    \"pr auc\": 0.5714164309618418,\n",
      "    \"accuracy\": 0.7582053265554205,\n",
      "    \"recall\": 0.4180543382997371,\n",
      "    \"precision\": 0.525909592061742,\n",
      "    \"roc auc\": 0.7535934751663191,\n",
      "    \"f1 score\": 0.46582031250000006\n",
      "  }\n",
      "}\n"
     ]
    }
   ],
   "source": [
    "final_lr = LogisticRegression(solver='saga', **optimal_config_format)\n",
    "print(json.dumps(analyse(final_lr, X_train, y_train, X_test, y_test), indent=2))"
   ]
  },
  {
   "cell_type": "code",
   "execution_count": 24,
   "metadata": {
    "id": "uTNmaNYbqBzr"
   },
   "outputs": [],
   "source": [
    "##                          ##\n",
    "## RANDOM FOREST CLASSIFIER ##\n",
    "##                          ##\n",
    "from sklearn.ensemble import RandomForestClassifier\n",
    "search = {\n",
    "    'n_estimators': [10, 100],\n",
    "    'criterion':[0, 1],\n",
    "    'max_depth':[3, 10],\n",
    "    'max_leaf_nodes':[1, 100],\n",
    "    'max_features':[0, 1],\n",
    "    'min_weight_fraction_leaf':[0, 0.5]\n",
    "}\n",
    "\n",
    "data = X_train.values.tolist()\n",
    "labels = y_train.values.tolist()\n",
    "\n",
    "counter=0\n",
    "\n",
    "@optunity.cross_validated(x=data, y=labels, num_folds=3)\n",
    "\n",
    "def performance_rf(x_train, y_train, x_test, y_test,\n",
    "                  n_estimators=None,\n",
    "                  criterion=None,\n",
    "                  max_depth=None,\n",
    "                  max_leaf_nodes=None,\n",
    "                  max_features=None,\n",
    "                  min_weight_fraction_leaf=None):\n",
    "    global counter\n",
    "    def mapper(f, breakpoint=[], cat=[]):\n",
    "        return cat[bisect(breakpoint, f)]\n",
    "    \n",
    "    criterion=mapper(criterion, breakpoint=[0.5],\n",
    "                    cat=['gini', 'entropy'])\n",
    "    max_features=mapper(max_features, breakpoint=[0.33, 0.66],\n",
    "                       cat=['sqrt', 'log2', None])\n",
    "    \n",
    "    model=RandomForestClassifier(n_estimators=int(n_estimators),\n",
    "                                criterion=criterion,\n",
    "                                max_depth=max_depth,\n",
    "                                max_leaf_nodes=int(max_leaf_nodes),\n",
    "                                max_features=max_features,\n",
    "                                min_weight_fraction_leaf=min_weight_fraction_leaf,\n",
    "                                n_jobs=-1,\n",
    "                                random_state=42)\n",
    "    scores=np.mean(cross_val_score(model, data, labels, cv=3, n_jobs=-1,\n",
    "                                    scoring='roc_auc', error_score='raise'))\n",
    "    counter+=1\n",
    "    print(counter, end=' ')\n",
    "    return scores"
   ]
  },
  {
   "cell_type": "code",
   "execution_count": 25,
   "metadata": {
    "colab": {
     "base_uri": "https://localhost:8080/"
    },
    "id": "DJ5DD-syqBzr",
    "outputId": "75c3d9a0-a4d9-4955-ac39-40c236a86a2e"
   },
   "outputs": [
    {
     "name": "stdout",
     "output_type": "stream",
     "text": [
      "1 2 3 4 5 6 7 8 9 10 11 12 13 14 15 16 17 18 19 20 21 22 23 24 25 26 27 28 29 30 31 32 33 34 35 36 37 38 39 40 41 42 43 44 45 46 47 48 49 50 51 52 53 54 55 56 57 58 59 60 61 62 63 64 65 66 67 68 69 70 71 72 73 74 75 76 77 78 79 80 81 82 83 84 85 86 87 88 89 90 91 92 93 94 95 96 97 98 99 100 101 102 103 104 105 106 107 108 109 110 111 112 113 114 115 116 117 118 119 120 121 122 123 124 125 126 127 128 129 130 131 132 133 134 135 136 137 138 139 140 141 142 143 144 145 146 147 148 149 150 151 152 153 154 155 156 157 158 159 160 161 162 163 164 165 166 167 168 169 170 171 172 173 174 175 176 177 178 179 180 181 182 183 184 185 186 187 188 189 190 191 192 193 194 195 196 197 198 199 200 201 202 203 204 205 206 207 208 209 210 211 212 213 214 215 216 217 218 219 220 221 222 223 224 225 226 227 228 229 230 231 232 233 234 235 236 237 238 239 240 241 242 243 244 245 246 247 248 249 250 251 252 253 254 255 256 257 258 running for: 14m, 19s\n"
     ]
    }
   ],
   "source": [
    "_start = time.time()\n",
    "\n",
    "optimal_confg, info, _ = optunity.maximize(performance_rf,\n",
    "                                           solver_name='particle swarm',\n",
    "                                           num_evals=100,\n",
    "                                           **search)\n",
    "\n",
    "_end = time.time()\n",
    "\n",
    "print(f'running for: {int((_end-_start)/60)}m, {int((_end-_start)%60)}s')"
   ]
  },
  {
   "cell_type": "code",
   "execution_count": 27,
   "metadata": {
    "colab": {
     "base_uri": "https://localhost:8080/"
    },
    "id": "HqYCmUkZqBzs",
    "outputId": "4e4dad27-2d6d-4102-f0e0-3bf177324a4b"
   },
   "outputs": [
    {
     "name": "stdout",
     "output_type": "stream",
     "text": [
      "{\n",
      "  \"n_estimators\": 20,\n",
      "  \"criterion\": \"entropy\",\n",
      "  \"max_depth\": 9.043833011341952,\n",
      "  \"max_leaf_nodes\": 20,\n",
      "  \"max_features\": \"log2\",\n",
      "  \"min_weight_fraction_leaf\": 0.0003599008877825591\n",
      "}\n",
      "best cv_score:0.9036824396925365\n"
     ]
    }
   ],
   "source": [
    "import json\n",
    "def mapper(f, breakpoint=[], cat=[]):\n",
    "        return cat[bisect(breakpoint, f)]\n",
    "\n",
    "optimal_config_format = optimal_confg.copy()\n",
    "optimal_config_format['criterion'] = mapper(optimal_config_format['criterion'],\n",
    "                                          breakpoint=[0.5],\n",
    "                                          cat=['gini', 'entropy'])\n",
    "\n",
    "optimal_config_format['max_features'] = mapper(optimal_config_format['max_features'],\n",
    "                                         breakpoint=[0.33, 0.66],\n",
    "                                         cat=['sqrt', 'log2', None])\n",
    "\n",
    "optimal_config_format['n_estimators'] = int(optimal_config_format['n_estimators'])\n",
    "optimal_config_format['max_leaf_nodes'] = int(optimal_config_format['max_leaf_nodes'])\n",
    "print(json.dumps(optimal_config_format, indent=2))\n",
    "print(f'best cv_score:{info.optimum}')"
   ]
  },
  {
   "cell_type": "code",
   "execution_count": 28,
   "metadata": {
    "colab": {
     "base_uri": "https://localhost:8080/"
    },
    "id": "PU9TBOVnqBzs",
    "outputId": "7e9a0131-d582-4bca-bf38-c79ec9788965"
   },
   "outputs": [
    {
     "name": "stdout",
     "output_type": "stream",
     "text": [
      "{\n",
      "  \"train\": {\n",
      "    \"pr auc\": 0.7837222433256721,\n",
      "    \"accuracy\": 0.8472032676871404,\n",
      "    \"recall\": 0.5279667422524565,\n",
      "    \"precision\": 0.7935569125413684,\n",
      "    \"roc auc\": 0.9027873958560314,\n",
      "    \"f1 score\": 0.6340204004413462\n",
      "  },\n",
      "  \"test\": {\n",
      "    \"pr auc\": 0.7710561202099004,\n",
      "    \"accuracy\": 0.8468339042988176,\n",
      "    \"recall\": 0.51985559566787,\n",
      "    \"precision\": 0.7815468113975577,\n",
      "    \"roc auc\": 0.9008055315016688,\n",
      "    \"f1 score\": 0.624390243902439\n",
      "  }\n",
      "}\n"
     ]
    }
   ],
   "source": [
    "final_rf = RandomForestClassifier(n_jobs=-1,\n",
    "                                  random_state=42,\n",
    "                                  **optimal_config_format)\n",
    "print(json.dumps(analyse(final_rf,\n",
    "                         X_train,\n",
    "                         y_train,\n",
    "                         X_test,\n",
    "                         y_test),\n",
    "                 indent=2))"
   ]
  },
  {
   "cell_type": "code",
   "execution_count": null,
   "metadata": {
    "id": "rHepE9iqqBzs"
   },
   "outputs": [],
   "source": [
    "##                     ##\n",
    "## XG BOOST CLASSIFIER ##\n",
    "##                     ##\n",
    "\n",
    "from xgboost.sklearn import XGBClassifier\n",
    "search = {\n",
    "    'n_estimators': [10, 20],\n",
    "    'max_depth':[3, 9],\n",
    "    'gamma':[0, 1],\n",
    "    'learning_rate':[1e-6, 1e-2]\n",
    "}\n",
    "\n",
    "data = X_train.values.tolist()\n",
    "labels = y_train.values.tolist()\n",
    "\n",
    "counter=0\n",
    "y_train_global=y_train\n",
    "\n",
    "@optunity.cross_validated(x=data, y=labels, num_folds=3)\n",
    "\n",
    "def performance_xgb(x_train, y_train, x_test, y_test,\n",
    "                  n_estimators=None,\n",
    "                  max_depth=None,\n",
    "                  gamma=None,\n",
    "                  learning_rate=None):\n",
    "    global counter\n",
    "    model=XGBClassifier(objective=\"binary:logistic\",random_state=42, n_jobs=-1,\n",
    "                       n_estimators=int(n_estimators),\n",
    "                       max_depth=int(max_depth),\n",
    "                       gamma=gamma,\n",
    "                       learning_rate=learning_rate,\n",
    "                       eval_metric='auc')\n",
    "    scores=np.mean(cross_val_score(model, X_train, y_train_global, cv=3, n_jobs=-1,\n",
    "                                    scoring='roc_auc', error_score='raise'))\n",
    "    counter+=1\n",
    "    print(counter, end=' ')\n",
    "    return scores"
   ]
  },
  {
   "cell_type": "code",
   "execution_count": null,
   "metadata": {
    "colab": {
     "base_uri": "https://localhost:8080/"
    },
    "id": "lN54Thp5qBzs",
    "outputId": "db45cbcd-e37a-4aa7-efe9-1d0ba8a022a7"
   },
   "outputs": [
    {
     "name": "stdout",
     "output_type": "stream",
     "text": [
      "1 2 3 4 5 6 7 8 9 10 11 12 13 14 15 16 17 18 19 20 21 22 23 24 25 26 27 28 29 30 31 32 33 34 35 36 37 38 39 40 41 42 43 44 45 46 47 48 49 50 51 52 53 54 55 56 57 58 59 60 61 62 63 64 65 66 67 68 69 70 71 72 73 74 75 76 77 78 79 80 81 82 83 84 85 86 87 88 89 90 91 92 93 94 95 96 97 98 99 100 101 102 103 104 105 106 107 108 109 110 111 running for: 1m, 30s\n"
     ]
    }
   ],
   "source": [
    "_start = time.time()\n",
    "\n",
    "optimal_confg, info, _ =optunity.maximize(performance_xgb,\n",
    "                                        solver_name='particle swarm',\n",
    "                                        num_evals=50,\n",
    "                                        **search)\n",
    "\n",
    "_end = time.time()\n",
    "\n",
    "print(f'running for: {int((_end-_start)/60)}m, {int((_end-_start)%60)}s')"
   ]
  },
  {
   "cell_type": "code",
   "execution_count": null,
   "metadata": {
    "colab": {
     "base_uri": "https://localhost:8080/"
    },
    "id": "Lor7SGtTqBzs",
    "outputId": "c27a13d9-1f5c-4226-f7a5-84bf0c8d2a27"
   },
   "outputs": [
    {
     "name": "stdout",
     "output_type": "stream",
     "text": [
      "{\n",
      "  \"n_estimators\": 16,\n",
      "  \"max_depth\": 8,\n",
      "  \"gamma\": 0.18359375,\n",
      "  \"learning_rate\": 0.00949223828125\n",
      "}\n",
      "best cv_score:0.9017404051888217\n"
     ]
    }
   ],
   "source": [
    "import json\n",
    "optimal_config_format = optimal_confg.copy()\n",
    "\n",
    "optimal_config_format['n_estimators'] = int(optimal_config_format['n_estimators'])\n",
    "optimal_config_format['max_depth'] = int(optimal_config_format['max_depth'])\n",
    "\n",
    "print(json.dumps(optimal_config_format, indent=2))\n",
    "print(f'best cv_score:{info.optimum}')"
   ]
  },
  {
   "cell_type": "code",
   "execution_count": null,
   "metadata": {
    "colab": {
     "base_uri": "https://localhost:8080/"
    },
    "id": "2pUs3g8EqBzt",
    "outputId": "30fdf175-614e-4aa9-805b-2cb788ece85f"
   },
   "outputs": [
    {
     "name": "stdout",
     "output_type": "stream",
     "text": [
      "{\n",
      "  \"train\": {\n",
      "    \"pr auc\": 0.7955548716780158,\n",
      "    \"accuracy\": 0.8485289981806204,\n",
      "    \"recall\": 0.5545350172215844,\n",
      "    \"precision\": 0.7697398134973819,\n",
      "    \"roc auc\": 0.9007547950820003,\n",
      "    \"f1 score\": 0.6443468715612533\n",
      "  },\n",
      "  \"test\": {\n",
      "    \"pr auc\": 0.7836572232083056,\n",
      "    \"accuracy\": 0.850922753895458,\n",
      "    \"recall\": 0.5635407537248028,\n",
      "    \"precision\": 0.7846247712019524,\n",
      "    \"roc auc\": 0.9053845238278717,\n",
      "    \"f1 score\": 0.6559551134914563\n",
      "  }\n",
      "}\n"
     ]
    }
   ],
   "source": [
    "final_xgb = XGBClassifier(objective=\"binary:logistic\",\n",
    "                          eval_metric='auc',\n",
    "                          n_jobs=-1,\n",
    "                          random_state=42,\n",
    "                          use_label_encoder=False,\n",
    "                          **optimal_config_format)\n",
    "print(json.dumps(analyse(final_xgb, X_train, y_train, X_test, y_test), indent=2))"
   ]
  },
  {
   "cell_type": "code",
   "execution_count": 29,
   "metadata": {
    "id": "ntM02yAGqBzt"
   },
   "outputs": [],
   "source": [
    "##                        ##\n",
    "## NAIVE BAYES CLASSIFIER ##\n",
    "##                        ##\n",
    "\n",
    "\n",
    "from sklearn.naive_bayes import GaussianNB\n",
    "search = {\n",
    "    'var_smoothing': [1e-9, 1]\n",
    "}\n",
    "\n",
    "data = X_train.values.tolist()\n",
    "labels = y_train.values.tolist()\n",
    "counter=0\n",
    "\n",
    "@optunity.cross_validated(x=data, y=labels, num_folds=3)\n",
    "\n",
    "def performance_gnb(x_train, y_train, x_test, y_test,\n",
    "                  var_smoothing=None):\n",
    "    global counter\n",
    "    model=GaussianNB(var_smoothing=var_smoothing)\n",
    "    scores=np.mean(cross_val_score(model, data, labels, cv=3, n_jobs=-1,\n",
    "                                    scoring='roc_auc', error_score='raise'))\n",
    "    counter+=1\n",
    "    print(counter, end=' ')\n",
    "    return scores"
   ]
  },
  {
   "cell_type": "code",
   "execution_count": 30,
   "metadata": {
    "colab": {
     "base_uri": "https://localhost:8080/"
    },
    "id": "EsPMurA8qBzt",
    "outputId": "7488d0b8-6398-4dac-8d2d-e78daaaf0e4d"
   },
   "outputs": [
    {
     "name": "stdout",
     "output_type": "stream",
     "text": [
      "1 2 3 4 5 6 7 8 9 10 11 12 13 14 15 16 17 18 19 20 21 22 23 24 25 26 27 28 29 30 31 32 33 34 35 36 37 38 39 40 41 42 43 44 45 46 47 48 49 50 51 52 53 54 55 56 57 58 59 60 61 62 63 64 65 66 67 68 69 70 71 72 73 74 75 76 77 78 79 80 81 82 83 84 85 86 87 88 89 90 91 92 93 94 95 96 97 98 99 100 101 102 103 104 105 106 107 108 109 110 111 112 113 114 115 116 117 118 119 120 121 122 123 124 125 126 running for: 5m, 38s\n"
     ]
    }
   ],
   "source": [
    "_start = time.time()\n",
    "\n",
    "optimal_confg, info, _ =optunity.maximize(performance_gnb,\n",
    "                                        solver_name='particle swarm',\n",
    "                                        num_evals=50,\n",
    "                                        **search)\n",
    "\n",
    "_end = time.time()\n",
    "\n",
    "print(f'running for: {int((_end-_start)/60)}m, {int((_end-_start)%60)}s')"
   ]
  },
  {
   "cell_type": "code",
   "execution_count": 31,
   "metadata": {
    "colab": {
     "base_uri": "https://localhost:8080/"
    },
    "id": "EpUL0RgtqBzt",
    "outputId": "e7a3955d-7f1c-4839-e06c-d7a71c6ea81f"
   },
   "outputs": [
    {
     "name": "stdout",
     "output_type": "stream",
     "text": [
      "{\n",
      "  \"var_smoothing\": 0.0028577526611697213\n",
      "}\n",
      "best cv_score:0.7734857047538952\n"
     ]
    }
   ],
   "source": [
    "import json\n",
    "optimal_config_format = optimal_confg.copy()\n",
    "\n",
    "print(json.dumps(optimal_config_format, indent=2))\n",
    "print(f'best cv_score:{info.optimum}')"
   ]
  },
  {
   "cell_type": "code",
   "execution_count": 32,
   "metadata": {
    "colab": {
     "base_uri": "https://localhost:8080/"
    },
    "id": "vcApOXd3qBzt",
    "outputId": "5ce75470-0787-4642-dd6e-22b74b586516"
   },
   "outputs": [
    {
     "name": "stdout",
     "output_type": "stream",
     "text": [
      "{\n",
      "  \"train\": {\n",
      "    \"pr auc\": 0.5825874747749147,\n",
      "    \"accuracy\": 0.7918339023698455,\n",
      "    \"recall\": 0.27229780801209374,\n",
      "    \"precision\": 0.7242116587090329,\n",
      "    \"roc auc\": 0.7733309204384936,\n",
      "    \"f1 score\": 0.3950485249951427\n",
      "  },\n",
      "  \"test\": {\n",
      "    \"pr auc\": 0.5892428871040367,\n",
      "    \"accuracy\": 0.804729804398276,\n",
      "    \"recall\": 0.29693140794223827,\n",
      "    \"precision\": 0.7589388696655133,\n",
      "    \"roc auc\": 0.7711141540231865,\n",
      "    \"f1 score\": 0.4268569575089199\n",
      "  }\n",
      "}\n"
     ]
    }
   ],
   "source": [
    "final_gnb = GaussianNB(**optimal_config_format)\n",
    "print(json.dumps(analyse(final_gnb, X_train, y_train, X_test, y_test), indent=2))"
   ]
  },
  {
   "cell_type": "code",
   "execution_count": null,
   "metadata": {
    "id": "SfTgM8jJqBzt"
   },
   "outputs": [],
   "source": [
    "##                ##\n",
    "## SVC CLASSIFIER ##\n",
    "##                ##\n",
    "\n",
    "\n",
    "from sklearn.svm import SVC\n",
    "\n",
    "svc = SVC()\n",
    "\n",
    "counter=0\n",
    "\n",
    "search = {\n",
    "    'C': [1e-4, 10],\n",
    "    'gamma':[1e-4, 10]\n",
    "}\n",
    "\n",
    "data = X_train.values.tolist()\n",
    "labels = y_train.values.tolist()\n",
    "\n",
    "@optunity.cross_validated(x=data, y=labels, num_folds=3)\n",
    "\n",
    "def performance_svc(x_train, y_train, x_test, y_test,\n",
    "                  C=None, gamma=None):\n",
    "    global counter\n",
    "    svc.set_params(**{'C':C, 'gamma':gamma})\n",
    "    scores=np.mean(cross_val_score(svc, data, labels, cv=3, n_jobs=-1,\n",
    "                                    scoring='roc_auc',\n",
    "                                   error_score='raise'))\n",
    "    counter+=1\n",
    "    print(counter, end=' ')\n",
    "    return scores"
   ]
  },
  {
   "cell_type": "code",
   "execution_count": null,
   "metadata": {
    "colab": {
     "base_uri": "https://localhost:8080/",
     "height": 398
    },
    "id": "fni-GljnqBzt",
    "outputId": "857e05b5-86e1-4d45-994c-e21b5f2f1e33"
   },
   "outputs": [
    {
     "name": "stdout",
     "output_type": "stream",
     "text": [
      "1 2 3 4 5 6 7 8 9 10 11 12 13 14 15 16 17 18 19 20 21 22 23 24 25 26 27 28 29 30 31 32 33 34 35 36 37 38 39 40 41 42 43 44 45 46 47 48 49 50 51 52 53 54 55 56 57 58 59 60 61 62 63 64 65 66 67 68 69 70 71 72 73 74 75 76 77 78 79 80 81 82 83 84 85 86 87 88 89 90 91 92 93 94 95 96 97 98 99 100 101 102 103 104 105 106 107 108 109 110 111 112 113 114 115 116 117 118 119 120 121 122 123 124 125 126 running for: 76m, 36s\n"
     ]
    }
   ],
   "source": [
    "_start = time.time()\n",
    "\n",
    "optimal_confg, info, _ =optunity.maximize(performance_svc,\n",
    "                                        solver_name='particle swarm',\n",
    "                                        num_evals=50,\n",
    "                                        **search)\n",
    "\n",
    "_end = time.time()\n",
    "\n",
    "print(f'running for: {int((_end-_start)/60)}m, {int((_end-_start)%60)}s')"
   ]
  },
  {
   "cell_type": "code",
   "execution_count": null,
   "metadata": {
    "id": "SkWOKVPWqBzu",
    "outputId": "ec9fcaa3-03f1-481d-f0d4-deacf91bdb87"
   },
   "outputs": [
    {
     "name": "stdout",
     "output_type": "stream",
     "text": [
      "{\n",
      "  \"C\": 5.839587805250621,\n",
      "  \"gamma\": 0.09628443803667008\n",
      "}\n",
      "best cv_score:0.8805417435951796\n"
     ]
    }
   ],
   "source": [
    "import json\n",
    "optimal_config_format = optimal_confg.copy()\n",
    "\n",
    "print(json.dumps(optimal_config_format, indent=2))\n",
    "print(f'best cv_score:{info.optimum}')"
   ]
  },
  {
   "cell_type": "code",
   "execution_count": null,
   "metadata": {
    "id": "K-Bcp97AqBzu",
    "outputId": "932cd950-1581-45fa-fe1e-fec3a080c78f"
   },
   "outputs": [
    {
     "name": "stdout",
     "output_type": "stream",
     "text": [
      "{\n",
      "  \"train\": {\n",
      "    \"pr auc\": 0.8463514920299404,\n",
      "    \"accuracy\": 0.8511341539030042,\n",
      "    \"recall\": 0.5700223211839832,\n",
      "    \"precision\": 0.7758078361298568,\n",
      "    \"roc auc\": 0.8799537643649228,\n",
      "    \"f1 score\": 0.6571652356077481\n",
      "  },\n",
      "  \"test\": {\n",
      "    \"pr auc\": 0.7425612045572334,\n",
      "    \"accuracy\": 0.8577743397060449,\n",
      "    \"recall\": 0.5845323741007195,\n",
      "    \"precision\": 0.7817197835237523,\n",
      "    \"roc auc\": 0.8857864916857723,\n",
      "    \"f1 score\": 0.6688963210702341\n",
      "  }\n",
      "}\n"
     ]
    }
   ],
   "source": [
    "final_svc = SVC(**optimal_config_format)\n",
    "print(json.dumps(analyse(final_svc, X_train, y_train, X_test, y_test), indent=2))"
   ]
  },
  {
   "cell_type": "code",
   "execution_count": null,
   "metadata": {
    "id": "miyg6NFJqBzu"
   },
   "outputs": [],
   "source": [
    "##                ##\n",
    "## ANN CLASSIFIER ##\n",
    "##                ##\n",
    "\n",
    "from tensorflow.keras import Sequential\n",
    "from tensorflow.keras.layers import Dense, BatchNormalization, Dropout\n",
    "from tensorflow.keras.optimizers import Adam\n",
    "from keras.callbacks import EarlyStopping\n",
    "from sklearn.model_selection import StratifiedKFold\n",
    "from keras.wrappers.scikit_learn import KerasClassifier\n",
    "\n",
    "search = {'dense_layers':[1, 4],\n",
    "        'dense_nodes':[32, 128],\n",
    "        'batch_size':[100, 1000],\n",
    "        'learning_rate':[1e-6, 1e-2],\n",
    "        'dropout_rate':[0.3, 0.8]}\n",
    "\n",
    "data = X_train.values.tolist()\n",
    "labels = y_train.values.tolist()\n",
    "y_train_global = y_train\n",
    "counter=0\n",
    "\n",
    "@optunity.cross_validated(x=data, y=labels, num_folds=3)\n",
    "\n",
    "def performance_ann(x_train, y_train, x_test, y_test,\n",
    "                   dense_layers=None,\n",
    "                   dense_nodes=None,\n",
    "                   batch_size=None,\n",
    "                   learning_rate=None,\n",
    "                   dropout_rate=None):\n",
    "    global counter\n",
    "    _, model=Model(dense_layers=int(dense_layers),\n",
    "                  dense_nodes=int(dense_nodes),\n",
    "                  learning_rate=learning_rate,\n",
    "                  dropout_rate=dropout_rate,\n",
    "                  batch_size=int(batch_size))\n",
    "    ypred =  model.predict(X_train)\n",
    "    scores = roc_auc_score(y_train_global, ypred)\n",
    "    counter+=1\n",
    "    print(counter, end=' ')\n",
    "    return scores"
   ]
  },
  {
   "cell_type": "code",
   "execution_count": null,
   "metadata": {
    "colab": {
     "base_uri": "https://localhost:8080/"
    },
    "id": "jgJVMTbA-PXt",
    "outputId": "10f26dee-d469-4e48-b646-7bb71de7dd6a"
   },
   "outputs": [
    {
     "name": "stdout",
     "output_type": "stream",
     "text": [
      "1 2 3 4 5 6 7 8 9 10 11 12 13 14 15 16 17 18 19 20 21 22 23 24 25 26 27 28 29 30 31 32 33 34 35 36 37 38 39 40 41 42 43 44 45 46 47 48 49 50 51 52 53 54 55 56 57 58 59 60 61 62 63 64 65 66 67 68 69 70 71 72 73 74 75 76 77 78 79 80 81 82 83 84 85 86 87 88 89 90 91 92 93 94 95 96 97 98 99 100 101 102 103 104 105 106 107 108 109 110 111 112 113 114 115 116 117 118 119 120 121 122 123 124 125 126 127 128 129 130 131 132 133 134 135 136 137 138 139 140 141 142 143 144 145 146 147 148 149 150 151 152 153 154 155 156 157 158 159 160 161 162 163 164 165 166 167 168 169 170 171 172 173 174 175 176 177 178 179 180 181 182 183 184 185 186 187 188 189 190 191 192 193 194 195 196 197 198 199 200 201 202 203 204 205 206 207 208 209 210 211 212 213 214 215 216 217 218 219 220 221 222 223 224 225 226 227 228 229 230 231 232 233 234 235 236 237 238 239 240 241 242 243 244 245 246 247 248 249 250 251 252 253 254 255 256 257 258 259 260 261 262 263 264 265 266 267 268 269 270 271 272 273 274 275 276 277 278 279 280 281 282 283 284 285 286 287 288 289 290 291 running for: 42m, 6s\n"
     ]
    }
   ],
   "source": [
    "_start = time.time()\n",
    "\n",
    "optimal_confg, info, _ =optunity.maximize(performance_ann,\n",
    "                                        solver_name='particle swarm',\n",
    "                                        num_evals=100,\n",
    "                                        **search)\n",
    "\n",
    "_end = time.time()\n",
    "\n",
    "print(f'running for: {int((_end-_start)/60)}m, {int((_end-_start)%60)}s')"
   ]
  },
  {
   "cell_type": "code",
   "execution_count": null,
   "metadata": {
    "colab": {
     "base_uri": "https://localhost:8080/"
    },
    "id": "g90hXlnH-R6e",
    "outputId": "607870f2-9b63-4129-a516-623b3fa132bd"
   },
   "outputs": [
    {
     "name": "stdout",
     "output_type": "stream",
     "text": [
      "{\n",
      "  \"dense_layers\": 2,\n",
      "  \"dense_nodes\": 117,\n",
      "  \"batch_size\": 476,\n",
      "  \"learning_rate\": 0.007664639232804618,\n",
      "  \"dropout_rate\": 0.47907801053994314\n",
      "}\n",
      "best cv_score:0.8966025919576807\n"
     ]
    }
   ],
   "source": [
    "import json\n",
    "optimal_config_format = optimal_confg.copy()\n",
    "optimal_config_format['dense_layers'] = int(optimal_config_format['dense_layers'])\n",
    "optimal_config_format['dense_nodes'] = int(optimal_config_format['dense_nodes'])\n",
    "optimal_config_format['batch_size'] = int(optimal_config_format['batch_size'])\n",
    "print(json.dumps(optimal_config_format, indent=2))\n",
    "print(f'best cv_score:{info.optimum}')"
   ]
  },
  {
   "cell_type": "code",
   "execution_count": null,
   "metadata": {
    "colab": {
     "base_uri": "https://localhost:8080/",
     "height": 847
    },
    "id": "NOF_owYG-Unb",
    "outputId": "8bd73f41-3dde-4d02-87b7-16491c3e2129"
   },
   "outputs": [
    {
     "name": "stdout",
     "output_type": "stream",
     "text": [
      "running for: 0m, 9s\n",
      "{\n",
      "  \"train\": {\n",
      "    \"pr auc\": 0.7426551633329913,\n",
      "    \"accuracy\": 0.8301046748448823,\n",
      "    \"recall\": 0.4783512951408584,\n",
      "    \"precision\": 0.7534246575342466,\n",
      "    \"roc auc\": 0.7130128568727547,\n",
      "    \"f1 score\": 0.5851740488030531\n",
      "  },\n",
      "  \"test\": {\n",
      "    \"pr auc\": 0.7267940437652843,\n",
      "    \"accuracy\": 0.8332412421262018,\n",
      "    \"recall\": 0.4880576836412799,\n",
      "    \"precision\": 0.7438186813186813,\n",
      "    \"roc auc\": 0.7167228388923822,\n",
      "    \"f1 score\": 0.5893877551020409\n",
      "  }\n",
      "}\n"
     ]
    },
    {
     "data": {
      "image/png": "[encoded data removed]",
      "text/plain": [
       "<Figure size 432x288 with 1 Axes>"
      ]
     },
     "metadata": {
      "needs_background": "light"
     },
     "output_type": "display_data"
    },
    {
     "data": {
      "image/png": "[encoded data removed]",
      "text/plain": [
       "<Figure size 432x288 with 1 Axes>"
      ]
     },
     "metadata": {
      "needs_background": "light"
     },
     "output_type": "display_data"
    }
   ],
   "source": [
    "_start = time.time()\n",
    "\n",
    "ANNmodel , final_ann= Model(**optimal_config_format)\n",
    "ret = analyseANN(ANNmodel, final_ann, X_train, y_train, X_test, y_test)\n",
    "\n",
    "_end = time.time()\n",
    "\n",
    "print(f'running for: {int((_end-_start)/60)}m, {int((_end-_start)%60)}s')\n",
    "print(json.dumps(ret, indent=2))"
   ]
  },
  {
   "cell_type": "code",
   "execution_count": null,
   "metadata": {
    "id": "uqdTmGDiVIbU"
   },
   "outputs": [],
   "source": []
  }
 ],
 "metadata": {
  "accelerator": "GPU",
  "colab": {
   "collapsed_sections": [],
   "name": "ADULT_CENSUS_PSO_3.ipynb",
   "provenance": []
  },
  "gpuClass": "standard",
  "kernelspec": {
   "display_name": "Python 3",
   "language": "python",
   "name": "python3"
  },
  "language_info": {
   "codemirror_mode": {
    "name": "ipython",
    "version": 3
   },
   "file_extension": ".py",
   "mimetype": "text/x-python",
   "name": "python",
   "nbconvert_exporter": "python",
   "pygments_lexer": "ipython3",
   "version": "3.8.10"
  }
 },
 "nbformat": 4,
 "nbformat_minor": 1
}
