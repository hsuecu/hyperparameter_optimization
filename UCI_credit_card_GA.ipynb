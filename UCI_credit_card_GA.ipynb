{
  "cells": [
    {
      "cell_type": "markdown",
      "metadata": {
        "id": "mLRQMEEnUG1o"
      },
      "source": [
        "<span style=\"display:inline-block;position:relative;font-size:64px;background-color: #d9edab;padding:200px 10px;width:100%;text-align:center\">UCI Credit Card</span><br><strong style=\"display:block;font-size:30px;padding-top:20px\">GA</strong>"
      ]
    },
    {
      "cell_type": "code",
      "execution_count": 1,
      "metadata": {
        "colab": {
          "base_uri": "https://localhost:8080/"
        },
        "id": "g649jgXRUG1s",
        "outputId": "447dbb3b-201d-49d8-a5d2-0a26329de9c6"
      },
      "outputs": [
        {
          "output_type": "stream",
          "name": "stdout",
          "text": [
            "Looking in indexes: https://pypi.org/simple, https://us-python.pkg.dev/colab-wheels/public/simple/\n",
            "Collecting scikit-learn-intelex\n",
            "  Downloading scikit_learn_intelex-2021.6.3-py37-none-manylinux1_x86_64.whl (87 kB)\n",
            "\u001b[K     |████████████████████████████████| 87 kB 3.2 MB/s \n",
            "\u001b[?25hRequirement already satisfied: scikit-learn>=0.22 in /usr/local/lib/python3.7/dist-packages (from scikit-learn-intelex) (1.0.2)\n",
            "Collecting daal4py==2021.6.3\n",
            "  Downloading daal4py-2021.6.3-py37-none-manylinux1_x86_64.whl (26.0 MB)\n",
            "\u001b[K     |████████████████████████████████| 26.0 MB 1.6 MB/s \n",
            "\u001b[?25hRequirement already satisfied: numpy>=1.15 in /usr/local/lib/python3.7/dist-packages (from daal4py==2021.6.3->scikit-learn-intelex) (1.21.6)\n",
            "Collecting daal==2021.6.0\n",
            "  Downloading daal-2021.6.0-py2.py3-none-manylinux1_x86_64.whl (300.3 MB)\n",
            "\u001b[K     |████████████████████████████████| 300.3 MB 14 kB/s \n",
            "\u001b[?25hCollecting tbb==2021.*\n",
            "  Downloading tbb-2021.6.0-py2.py3-none-manylinux1_x86_64.whl (4.0 MB)\n",
            "\u001b[K     |████████████████████████████████| 4.0 MB 33.9 MB/s \n",
            "\u001b[?25hRequirement already satisfied: joblib>=0.11 in /usr/local/lib/python3.7/dist-packages (from scikit-learn>=0.22->scikit-learn-intelex) (1.1.0)\n",
            "Requirement already satisfied: threadpoolctl>=2.0.0 in /usr/local/lib/python3.7/dist-packages (from scikit-learn>=0.22->scikit-learn-intelex) (3.1.0)\n",
            "Requirement already satisfied: scipy>=1.1.0 in /usr/local/lib/python3.7/dist-packages (from scikit-learn>=0.22->scikit-learn-intelex) (1.7.3)\n",
            "Installing collected packages: tbb, daal, daal4py, scikit-learn-intelex\n",
            "Successfully installed daal-2021.6.0 daal4py-2021.6.3 scikit-learn-intelex-2021.6.3 tbb-2021.6.0\n"
          ]
        },
        {
          "output_type": "stream",
          "name": "stderr",
          "text": [
            "Intel(R) Extension for Scikit-learn* enabled (https://github.com/intel/scikit-learn-intelex)\n"
          ]
        }
      ],
      "source": [
        "import pandas as pd\n",
        "import numpy as np\n",
        "import matplotlib.pyplot as plt\n",
        "import seaborn as sns\n",
        "import time as time\n",
        "\n",
        "!pip install scikit-learn-intelex\n",
        "\n",
        "from sklearnex import patch_sklearn\n",
        "patch_sklearn()\n",
        "\n",
        "\n",
        "import warnings\n",
        "warnings.filterwarnings('ignore')"
      ]
    },
    {
      "cell_type": "code",
      "execution_count": 2,
      "metadata": {
        "colab": {
          "base_uri": "https://localhost:8080/",
          "height": 300
        },
        "id": "KtdCZ09cUG1u",
        "outputId": "abfd376a-ae6b-422f-da57-19bfc829638a"
      },
      "outputs": [
        {
          "output_type": "execute_result",
          "data": {
            "text/plain": [
              "   ID  LIMIT_BAL  SEX  EDUCATION  MARRIAGE  AGE  PAY_0  PAY_2  PAY_3  PAY_4  \\\n",
              "0   1    20000.0    2          2         1   24      2      2     -1     -1   \n",
              "1   2   120000.0    2          2         2   26     -1      2      0      0   \n",
              "2   3    90000.0    2          2         2   34      0      0      0      0   \n",
              "3   4    50000.0    2          2         1   37      0      0      0      0   \n",
              "4   5    50000.0    1          2         1   57     -1      0     -1      0   \n",
              "\n",
              "   ...  BILL_AMT4  BILL_AMT5  BILL_AMT6  PAY_AMT1  PAY_AMT2  PAY_AMT3  \\\n",
              "0  ...        0.0        0.0        0.0       0.0     689.0       0.0   \n",
              "1  ...     3272.0     3455.0     3261.0       0.0    1000.0    1000.0   \n",
              "2  ...    14331.0    14948.0    15549.0    1518.0    1500.0    1000.0   \n",
              "3  ...    28314.0    28959.0    29547.0    2000.0    2019.0    1200.0   \n",
              "4  ...    20940.0    19146.0    19131.0    2000.0   36681.0   10000.0   \n",
              "\n",
              "   PAY_AMT4  PAY_AMT5  PAY_AMT6  default.payment.next.month  \n",
              "0       0.0       0.0       0.0                           1  \n",
              "1    1000.0       0.0    2000.0                           1  \n",
              "2    1000.0    1000.0    5000.0                           0  \n",
              "3    1100.0    1069.0    1000.0                           0  \n",
              "4    9000.0     689.0     679.0                           0  \n",
              "\n",
              "[5 rows x 25 columns]"
            ],
            "text/html": [
              "\n",
              "  <div id=\"df-dc8c5ca7-d40b-4548-a06f-844dd74b80a2\">\n",
              "    <div class=\"colab-df-container\">\n",
              "      <div>\n",
              "<style scoped>\n",
              "    .dataframe tbody tr th:only-of-type {\n",
              "        vertical-align: middle;\n",
              "    }\n",
              "\n",
              "    .dataframe tbody tr th {\n",
              "        vertical-align: top;\n",
              "    }\n",
              "\n",
              "    .dataframe thead th {\n",
              "        text-align: right;\n",
              "    }\n",
              "</style>\n",
              "<table border=\"1\" class=\"dataframe\">\n",
              "  <thead>\n",
              "    <tr style=\"text-align: right;\">\n",
              "      <th></th>\n",
              "      <th>ID</th>\n",
              "      <th>LIMIT_BAL</th>\n",
              "      <th>SEX</th>\n",
              "      <th>EDUCATION</th>\n",
              "      <th>MARRIAGE</th>\n",
              "      <th>AGE</th>\n",
              "      <th>PAY_0</th>\n",
              "      <th>PAY_2</th>\n",
              "      <th>PAY_3</th>\n",
              "      <th>PAY_4</th>\n",
              "      <th>...</th>\n",
              "      <th>BILL_AMT4</th>\n",
              "      <th>BILL_AMT5</th>\n",
              "      <th>BILL_AMT6</th>\n",
              "      <th>PAY_AMT1</th>\n",
              "      <th>PAY_AMT2</th>\n",
              "      <th>PAY_AMT3</th>\n",
              "      <th>PAY_AMT4</th>\n",
              "      <th>PAY_AMT5</th>\n",
              "      <th>PAY_AMT6</th>\n",
              "      <th>default.payment.next.month</th>\n",
              "    </tr>\n",
              "  </thead>\n",
              "  <tbody>\n",
              "    <tr>\n",
              "      <th>0</th>\n",
              "      <td>1</td>\n",
              "      <td>20000.0</td>\n",
              "      <td>2</td>\n",
              "      <td>2</td>\n",
              "      <td>1</td>\n",
              "      <td>24</td>\n",
              "      <td>2</td>\n",
              "      <td>2</td>\n",
              "      <td>-1</td>\n",
              "      <td>-1</td>\n",
              "      <td>...</td>\n",
              "      <td>0.0</td>\n",
              "      <td>0.0</td>\n",
              "      <td>0.0</td>\n",
              "      <td>0.0</td>\n",
              "      <td>689.0</td>\n",
              "      <td>0.0</td>\n",
              "      <td>0.0</td>\n",
              "      <td>0.0</td>\n",
              "      <td>0.0</td>\n",
              "      <td>1</td>\n",
              "    </tr>\n",
              "    <tr>\n",
              "      <th>1</th>\n",
              "      <td>2</td>\n",
              "      <td>120000.0</td>\n",
              "      <td>2</td>\n",
              "      <td>2</td>\n",
              "      <td>2</td>\n",
              "      <td>26</td>\n",
              "      <td>-1</td>\n",
              "      <td>2</td>\n",
              "      <td>0</td>\n",
              "      <td>0</td>\n",
              "      <td>...</td>\n",
              "      <td>3272.0</td>\n",
              "      <td>3455.0</td>\n",
              "      <td>3261.0</td>\n",
              "      <td>0.0</td>\n",
              "      <td>1000.0</td>\n",
              "      <td>1000.0</td>\n",
              "      <td>1000.0</td>\n",
              "      <td>0.0</td>\n",
              "      <td>2000.0</td>\n",
              "      <td>1</td>\n",
              "    </tr>\n",
              "    <tr>\n",
              "      <th>2</th>\n",
              "      <td>3</td>\n",
              "      <td>90000.0</td>\n",
              "      <td>2</td>\n",
              "      <td>2</td>\n",
              "      <td>2</td>\n",
              "      <td>34</td>\n",
              "      <td>0</td>\n",
              "      <td>0</td>\n",
              "      <td>0</td>\n",
              "      <td>0</td>\n",
              "      <td>...</td>\n",
              "      <td>14331.0</td>\n",
              "      <td>14948.0</td>\n",
              "      <td>15549.0</td>\n",
              "      <td>1518.0</td>\n",
              "      <td>1500.0</td>\n",
              "      <td>1000.0</td>\n",
              "      <td>1000.0</td>\n",
              "      <td>1000.0</td>\n",
              "      <td>5000.0</td>\n",
              "      <td>0</td>\n",
              "    </tr>\n",
              "    <tr>\n",
              "      <th>3</th>\n",
              "      <td>4</td>\n",
              "      <td>50000.0</td>\n",
              "      <td>2</td>\n",
              "      <td>2</td>\n",
              "      <td>1</td>\n",
              "      <td>37</td>\n",
              "      <td>0</td>\n",
              "      <td>0</td>\n",
              "      <td>0</td>\n",
              "      <td>0</td>\n",
              "      <td>...</td>\n",
              "      <td>28314.0</td>\n",
              "      <td>28959.0</td>\n",
              "      <td>29547.0</td>\n",
              "      <td>2000.0</td>\n",
              "      <td>2019.0</td>\n",
              "      <td>1200.0</td>\n",
              "      <td>1100.0</td>\n",
              "      <td>1069.0</td>\n",
              "      <td>1000.0</td>\n",
              "      <td>0</td>\n",
              "    </tr>\n",
              "    <tr>\n",
              "      <th>4</th>\n",
              "      <td>5</td>\n",
              "      <td>50000.0</td>\n",
              "      <td>1</td>\n",
              "      <td>2</td>\n",
              "      <td>1</td>\n",
              "      <td>57</td>\n",
              "      <td>-1</td>\n",
              "      <td>0</td>\n",
              "      <td>-1</td>\n",
              "      <td>0</td>\n",
              "      <td>...</td>\n",
              "      <td>20940.0</td>\n",
              "      <td>19146.0</td>\n",
              "      <td>19131.0</td>\n",
              "      <td>2000.0</td>\n",
              "      <td>36681.0</td>\n",
              "      <td>10000.0</td>\n",
              "      <td>9000.0</td>\n",
              "      <td>689.0</td>\n",
              "      <td>679.0</td>\n",
              "      <td>0</td>\n",
              "    </tr>\n",
              "  </tbody>\n",
              "</table>\n",
              "<p>5 rows × 25 columns</p>\n",
              "</div>\n",
              "      <button class=\"colab-df-convert\" onclick=\"convertToInteractive('df-dc8c5ca7-d40b-4548-a06f-844dd74b80a2')\"\n",
              "              title=\"Convert this dataframe to an interactive table.\"\n",
              "              style=\"display:none;\">\n",
              "        \n",
              "  <svg xmlns=\"http://www.w3.org/2000/svg\" height=\"24px\"viewBox=\"0 0 24 24\"\n",
              "       width=\"24px\">\n",
              "    <path d=\"M0 0h24v24H0V0z\" fill=\"none\"/>\n",
              "    <path d=\"M18.56 5.44l.94 2.06.94-2.06 2.06-.94-2.06-.94-.94-2.06-.94 2.06-2.06.94zm-11 1L8.5 8.5l.94-2.06 2.06-.94-2.06-.94L8.5 2.5l-.94 2.06-2.06.94zm10 10l.94 2.06.94-2.06 2.06-.94-2.06-.94-.94-2.06-.94 2.06-2.06.94z\"/><path d=\"M17.41 7.96l-1.37-1.37c-.4-.4-.92-.59-1.43-.59-.52 0-1.04.2-1.43.59L10.3 9.45l-7.72 7.72c-.78.78-.78 2.05 0 2.83L4 21.41c.39.39.9.59 1.41.59.51 0 1.02-.2 1.41-.59l7.78-7.78 2.81-2.81c.8-.78.8-2.07 0-2.86zM5.41 20L4 18.59l7.72-7.72 1.47 1.35L5.41 20z\"/>\n",
              "  </svg>\n",
              "      </button>\n",
              "      \n",
              "  <style>\n",
              "    .colab-df-container {\n",
              "      display:flex;\n",
              "      flex-wrap:wrap;\n",
              "      gap: 12px;\n",
              "    }\n",
              "\n",
              "    .colab-df-convert {\n",
              "      background-color: #E8F0FE;\n",
              "      border: none;\n",
              "      border-radius: 50%;\n",
              "      cursor: pointer;\n",
              "      display: none;\n",
              "      fill: #1967D2;\n",
              "      height: 32px;\n",
              "      padding: 0 0 0 0;\n",
              "      width: 32px;\n",
              "    }\n",
              "\n",
              "    .colab-df-convert:hover {\n",
              "      background-color: #E2EBFA;\n",
              "      box-shadow: 0px 1px 2px rgba(60, 64, 67, 0.3), 0px 1px 3px 1px rgba(60, 64, 67, 0.15);\n",
              "      fill: #174EA6;\n",
              "    }\n",
              "\n",
              "    [theme=dark] .colab-df-convert {\n",
              "      background-color: #3B4455;\n",
              "      fill: #D2E3FC;\n",
              "    }\n",
              "\n",
              "    [theme=dark] .colab-df-convert:hover {\n",
              "      background-color: #434B5C;\n",
              "      box-shadow: 0px 1px 3px 1px rgba(0, 0, 0, 0.15);\n",
              "      filter: drop-shadow(0px 1px 2px rgba(0, 0, 0, 0.3));\n",
              "      fill: #FFFFFF;\n",
              "    }\n",
              "  </style>\n",
              "\n",
              "      <script>\n",
              "        const buttonEl =\n",
              "          document.querySelector('#df-dc8c5ca7-d40b-4548-a06f-844dd74b80a2 button.colab-df-convert');\n",
              "        buttonEl.style.display =\n",
              "          google.colab.kernel.accessAllowed ? 'block' : 'none';\n",
              "\n",
              "        async function convertToInteractive(key) {\n",
              "          const element = document.querySelector('#df-dc8c5ca7-d40b-4548-a06f-844dd74b80a2');\n",
              "          const dataTable =\n",
              "            await google.colab.kernel.invokeFunction('convertToInteractive',\n",
              "                                                     [key], {});\n",
              "          if (!dataTable) return;\n",
              "\n",
              "          const docLinkHtml = 'Like what you see? Visit the ' +\n",
              "            '<a target=\"_blank\" href=https://colab.research.google.com/notebooks/data_table.ipynb>data table notebook</a>'\n",
              "            + ' to learn more about interactive tables.';\n",
              "          element.innerHTML = '';\n",
              "          dataTable['output_type'] = 'display_data';\n",
              "          await google.colab.output.renderOutput(dataTable, element);\n",
              "          const docLink = document.createElement('div');\n",
              "          docLink.innerHTML = docLinkHtml;\n",
              "          element.appendChild(docLink);\n",
              "        }\n",
              "      </script>\n",
              "    </div>\n",
              "  </div>\n",
              "  "
            ]
          },
          "metadata": {},
          "execution_count": 2
        }
      ],
      "source": [
        "data = pd.read_csv('https://raw.githubusercontent.com/hsuecu/data_set/main/uci_data.csv')\n",
        "data.head()"
      ]
    },
    {
      "cell_type": "code",
      "execution_count": 3,
      "metadata": {
        "colab": {
          "base_uri": "https://localhost:8080/"
        },
        "id": "47igp1ZOUG1v",
        "outputId": "a5bf235e-ed03-440e-e4b1-ba64721ab2c1"
      },
      "outputs": [
        {
          "output_type": "stream",
          "name": "stdout",
          "text": [
            "<class 'pandas.core.frame.DataFrame'>\n",
            "RangeIndex: 30000 entries, 0 to 29999\n",
            "Data columns (total 25 columns):\n",
            " #   Column                      Non-Null Count  Dtype  \n",
            "---  ------                      --------------  -----  \n",
            " 0   ID                          30000 non-null  int64  \n",
            " 1   LIMIT_BAL                   30000 non-null  float64\n",
            " 2   SEX                         30000 non-null  int64  \n",
            " 3   EDUCATION                   30000 non-null  int64  \n",
            " 4   MARRIAGE                    30000 non-null  int64  \n",
            " 5   AGE                         30000 non-null  int64  \n",
            " 6   PAY_0                       30000 non-null  int64  \n",
            " 7   PAY_2                       30000 non-null  int64  \n",
            " 8   PAY_3                       30000 non-null  int64  \n",
            " 9   PAY_4                       30000 non-null  int64  \n",
            " 10  PAY_5                       30000 non-null  int64  \n",
            " 11  PAY_6                       30000 non-null  int64  \n",
            " 12  BILL_AMT1                   30000 non-null  float64\n",
            " 13  BILL_AMT2                   30000 non-null  float64\n",
            " 14  BILL_AMT3                   30000 non-null  float64\n",
            " 15  BILL_AMT4                   30000 non-null  float64\n",
            " 16  BILL_AMT5                   30000 non-null  float64\n",
            " 17  BILL_AMT6                   30000 non-null  float64\n",
            " 18  PAY_AMT1                    30000 non-null  float64\n",
            " 19  PAY_AMT2                    30000 non-null  float64\n",
            " 20  PAY_AMT3                    30000 non-null  float64\n",
            " 21  PAY_AMT4                    30000 non-null  float64\n",
            " 22  PAY_AMT5                    30000 non-null  float64\n",
            " 23  PAY_AMT6                    30000 non-null  float64\n",
            " 24  default.payment.next.month  30000 non-null  int64  \n",
            "dtypes: float64(13), int64(12)\n",
            "memory usage: 5.7 MB\n"
          ]
        }
      ],
      "source": [
        "data.info()"
      ]
    },
    {
      "cell_type": "code",
      "execution_count": 4,
      "metadata": {
        "id": "K8Surkt4UG1w"
      },
      "outputs": [],
      "source": [
        "if __name__==\"__main__\":\n",
        "    for i in data.columns:\n",
        "        data[i].replace('?', np.NAN, inplace=True)"
      ]
    },
    {
      "cell_type": "code",
      "execution_count": 5,
      "metadata": {
        "id": "eY6r6XI8UG1w"
      },
      "outputs": [],
      "source": [
        "data.drop(['ID'], axis=1, inplace=True)"
      ]
    },
    {
      "cell_type": "markdown",
      "metadata": {
        "id": "kvqBnDrMUG1x"
      },
      "source": [
        "# Base Case Establishment"
      ]
    },
    {
      "cell_type": "code",
      "execution_count": 6,
      "metadata": {
        "colab": {
          "base_uri": "https://localhost:8080/"
        },
        "id": "ubYCtIkgUG1y",
        "outputId": "cee479a1-357e-4450-9a67-8ea32f9c36a2"
      },
      "outputs": [
        {
          "output_type": "stream",
          "name": "stdout",
          "text": [
            "X is (30000, 23)\n",
            "Y is (30000,)\n"
          ]
        }
      ],
      "source": [
        "X = data.drop(['default.payment.next.month'], axis=1)\n",
        "y = data['default.payment.next.month']\n",
        "\n",
        "print(f'X is {X.shape}\\nY is {y.shape}')"
      ]
    },
    {
      "cell_type": "code",
      "execution_count": 7,
      "metadata": {
        "id": "9o6eL1zbUG1y"
      },
      "outputs": [],
      "source": [
        "from sklearn.model_selection import train_test_split\n",
        "X_train, X_test, y_train, y_test = \\\n",
        "    train_test_split(X, y, train_size=0.7)"
      ]
    },
    {
      "cell_type": "code",
      "execution_count": 8,
      "metadata": {
        "colab": {
          "base_uri": "https://localhost:8080/"
        },
        "id": "X6l17CSrUG1z",
        "outputId": "d1836b2b-d62f-4af9-f183-7fba5bf33eaf"
      },
      "outputs": [
        {
          "output_type": "stream",
          "name": "stdout",
          "text": [
            "X_train:(21000, 23)\n",
            "X_test:(9000, 23)\n",
            "y_train:(21000,)\n",
            "y_test:(9000,)\n"
          ]
        }
      ],
      "source": [
        "print(f'X_train:{X_train.shape}\\n\\\n",
        "X_test:{X_test.shape}\\n\\\n",
        "y_train:{y_train.shape}\\n\\\n",
        "y_test:{y_test.shape}')"
      ]
    },
    {
      "cell_type": "code",
      "execution_count": 9,
      "metadata": {
        "id": "CA3Djg2rUG1z"
      },
      "outputs": [],
      "source": [
        "from sklearn.preprocessing import RobustScaler\n",
        "scaler=RobustScaler()\n",
        "\n",
        "col = X_train.columns\n",
        "X_train[col] = scaler.fit_transform(X_train[col])\n",
        "X_test[col] = scaler.transform(X_test[col])"
      ]
    },
    {
      "cell_type": "code",
      "execution_count": 10,
      "metadata": {
        "colab": {
          "base_uri": "https://localhost:8080/",
          "height": 237
        },
        "id": "Y_x9rAu8UG10",
        "outputId": "8debf9d7-70ed-4963-c0ce-8721b404d4da"
      },
      "outputs": [
        {
          "output_type": "execute_result",
          "data": {
            "text/plain": [
              "       LIMIT_BAL  SEX  EDUCATION  MARRIAGE       AGE  PAY_0  PAY_2  PAY_3  \\\n",
              "12081   1.157895 -1.0       -1.0       0.0  0.000000    0.0    0.0   -1.0   \n",
              "11634   0.789474 -1.0       -1.0       0.0  0.076923    0.0    0.0    0.0   \n",
              "16717  -0.578947 -1.0        0.0      -1.0  0.153846   -1.0    2.0   -1.0   \n",
              "\n",
              "       PAY_4  PAY_5  ...  BILL_AMT3  BILL_AMT4  BILL_AMT5  BILL_AMT6  \\\n",
              "12081    0.0    0.0  ...  -0.106027  -0.208307  -0.173064  -0.141506   \n",
              "11634    0.0    0.0  ...   4.224951   3.976256   3.475399   3.216954   \n",
              "16717   -1.0   -1.0  ...  -0.339623  -0.356257  -0.361454  -0.350092   \n",
              "\n",
              "       PAY_AMT1  PAY_AMT2  PAY_AMT3  PAY_AMT4  PAY_AMT5   PAY_AMT6  \n",
              "12081 -0.254107  2.991688 -0.189165  0.938887  0.925786   0.462564  \n",
              "11634  6.943753  6.411779  1.981035  1.732756  7.434459  11.923077  \n",
              "16717 -0.522648 -0.382332 -0.340641 -0.295901 -0.391287  -0.184615  \n",
              "\n",
              "[3 rows x 23 columns]"
            ],
            "text/html": [
              "\n",
              "  <div id=\"df-0f292dd2-5905-4fc9-99a6-c253919d09fc\">\n",
              "    <div class=\"colab-df-container\">\n",
              "      <div>\n",
              "<style scoped>\n",
              "    .dataframe tbody tr th:only-of-type {\n",
              "        vertical-align: middle;\n",
              "    }\n",
              "\n",
              "    .dataframe tbody tr th {\n",
              "        vertical-align: top;\n",
              "    }\n",
              "\n",
              "    .dataframe thead th {\n",
              "        text-align: right;\n",
              "    }\n",
              "</style>\n",
              "<table border=\"1\" class=\"dataframe\">\n",
              "  <thead>\n",
              "    <tr style=\"text-align: right;\">\n",
              "      <th></th>\n",
              "      <th>LIMIT_BAL</th>\n",
              "      <th>SEX</th>\n",
              "      <th>EDUCATION</th>\n",
              "      <th>MARRIAGE</th>\n",
              "      <th>AGE</th>\n",
              "      <th>PAY_0</th>\n",
              "      <th>PAY_2</th>\n",
              "      <th>PAY_3</th>\n",
              "      <th>PAY_4</th>\n",
              "      <th>PAY_5</th>\n",
              "      <th>...</th>\n",
              "      <th>BILL_AMT3</th>\n",
              "      <th>BILL_AMT4</th>\n",
              "      <th>BILL_AMT5</th>\n",
              "      <th>BILL_AMT6</th>\n",
              "      <th>PAY_AMT1</th>\n",
              "      <th>PAY_AMT2</th>\n",
              "      <th>PAY_AMT3</th>\n",
              "      <th>PAY_AMT4</th>\n",
              "      <th>PAY_AMT5</th>\n",
              "      <th>PAY_AMT6</th>\n",
              "    </tr>\n",
              "  </thead>\n",
              "  <tbody>\n",
              "    <tr>\n",
              "      <th>12081</th>\n",
              "      <td>1.157895</td>\n",
              "      <td>-1.0</td>\n",
              "      <td>-1.0</td>\n",
              "      <td>0.0</td>\n",
              "      <td>0.000000</td>\n",
              "      <td>0.0</td>\n",
              "      <td>0.0</td>\n",
              "      <td>-1.0</td>\n",
              "      <td>0.0</td>\n",
              "      <td>0.0</td>\n",
              "      <td>...</td>\n",
              "      <td>-0.106027</td>\n",
              "      <td>-0.208307</td>\n",
              "      <td>-0.173064</td>\n",
              "      <td>-0.141506</td>\n",
              "      <td>-0.254107</td>\n",
              "      <td>2.991688</td>\n",
              "      <td>-0.189165</td>\n",
              "      <td>0.938887</td>\n",
              "      <td>0.925786</td>\n",
              "      <td>0.462564</td>\n",
              "    </tr>\n",
              "    <tr>\n",
              "      <th>11634</th>\n",
              "      <td>0.789474</td>\n",
              "      <td>-1.0</td>\n",
              "      <td>-1.0</td>\n",
              "      <td>0.0</td>\n",
              "      <td>0.076923</td>\n",
              "      <td>0.0</td>\n",
              "      <td>0.0</td>\n",
              "      <td>0.0</td>\n",
              "      <td>0.0</td>\n",
              "      <td>0.0</td>\n",
              "      <td>...</td>\n",
              "      <td>4.224951</td>\n",
              "      <td>3.976256</td>\n",
              "      <td>3.475399</td>\n",
              "      <td>3.216954</td>\n",
              "      <td>6.943753</td>\n",
              "      <td>6.411779</td>\n",
              "      <td>1.981035</td>\n",
              "      <td>1.732756</td>\n",
              "      <td>7.434459</td>\n",
              "      <td>11.923077</td>\n",
              "    </tr>\n",
              "    <tr>\n",
              "      <th>16717</th>\n",
              "      <td>-0.578947</td>\n",
              "      <td>-1.0</td>\n",
              "      <td>0.0</td>\n",
              "      <td>-1.0</td>\n",
              "      <td>0.153846</td>\n",
              "      <td>-1.0</td>\n",
              "      <td>2.0</td>\n",
              "      <td>-1.0</td>\n",
              "      <td>-1.0</td>\n",
              "      <td>-1.0</td>\n",
              "      <td>...</td>\n",
              "      <td>-0.339623</td>\n",
              "      <td>-0.356257</td>\n",
              "      <td>-0.361454</td>\n",
              "      <td>-0.350092</td>\n",
              "      <td>-0.522648</td>\n",
              "      <td>-0.382332</td>\n",
              "      <td>-0.340641</td>\n",
              "      <td>-0.295901</td>\n",
              "      <td>-0.391287</td>\n",
              "      <td>-0.184615</td>\n",
              "    </tr>\n",
              "  </tbody>\n",
              "</table>\n",
              "<p>3 rows × 23 columns</p>\n",
              "</div>\n",
              "      <button class=\"colab-df-convert\" onclick=\"convertToInteractive('df-0f292dd2-5905-4fc9-99a6-c253919d09fc')\"\n",
              "              title=\"Convert this dataframe to an interactive table.\"\n",
              "              style=\"display:none;\">\n",
              "        \n",
              "  <svg xmlns=\"http://www.w3.org/2000/svg\" height=\"24px\"viewBox=\"0 0 24 24\"\n",
              "       width=\"24px\">\n",
              "    <path d=\"M0 0h24v24H0V0z\" fill=\"none\"/>\n",
              "    <path d=\"M18.56 5.44l.94 2.06.94-2.06 2.06-.94-2.06-.94-.94-2.06-.94 2.06-2.06.94zm-11 1L8.5 8.5l.94-2.06 2.06-.94-2.06-.94L8.5 2.5l-.94 2.06-2.06.94zm10 10l.94 2.06.94-2.06 2.06-.94-2.06-.94-.94-2.06-.94 2.06-2.06.94z\"/><path d=\"M17.41 7.96l-1.37-1.37c-.4-.4-.92-.59-1.43-.59-.52 0-1.04.2-1.43.59L10.3 9.45l-7.72 7.72c-.78.78-.78 2.05 0 2.83L4 21.41c.39.39.9.59 1.41.59.51 0 1.02-.2 1.41-.59l7.78-7.78 2.81-2.81c.8-.78.8-2.07 0-2.86zM5.41 20L4 18.59l7.72-7.72 1.47 1.35L5.41 20z\"/>\n",
              "  </svg>\n",
              "      </button>\n",
              "      \n",
              "  <style>\n",
              "    .colab-df-container {\n",
              "      display:flex;\n",
              "      flex-wrap:wrap;\n",
              "      gap: 12px;\n",
              "    }\n",
              "\n",
              "    .colab-df-convert {\n",
              "      background-color: #E8F0FE;\n",
              "      border: none;\n",
              "      border-radius: 50%;\n",
              "      cursor: pointer;\n",
              "      display: none;\n",
              "      fill: #1967D2;\n",
              "      height: 32px;\n",
              "      padding: 0 0 0 0;\n",
              "      width: 32px;\n",
              "    }\n",
              "\n",
              "    .colab-df-convert:hover {\n",
              "      background-color: #E2EBFA;\n",
              "      box-shadow: 0px 1px 2px rgba(60, 64, 67, 0.3), 0px 1px 3px 1px rgba(60, 64, 67, 0.15);\n",
              "      fill: #174EA6;\n",
              "    }\n",
              "\n",
              "    [theme=dark] .colab-df-convert {\n",
              "      background-color: #3B4455;\n",
              "      fill: #D2E3FC;\n",
              "    }\n",
              "\n",
              "    [theme=dark] .colab-df-convert:hover {\n",
              "      background-color: #434B5C;\n",
              "      box-shadow: 0px 1px 3px 1px rgba(0, 0, 0, 0.15);\n",
              "      filter: drop-shadow(0px 1px 2px rgba(0, 0, 0, 0.3));\n",
              "      fill: #FFFFFF;\n",
              "    }\n",
              "  </style>\n",
              "\n",
              "      <script>\n",
              "        const buttonEl =\n",
              "          document.querySelector('#df-0f292dd2-5905-4fc9-99a6-c253919d09fc button.colab-df-convert');\n",
              "        buttonEl.style.display =\n",
              "          google.colab.kernel.accessAllowed ? 'block' : 'none';\n",
              "\n",
              "        async function convertToInteractive(key) {\n",
              "          const element = document.querySelector('#df-0f292dd2-5905-4fc9-99a6-c253919d09fc');\n",
              "          const dataTable =\n",
              "            await google.colab.kernel.invokeFunction('convertToInteractive',\n",
              "                                                     [key], {});\n",
              "          if (!dataTable) return;\n",
              "\n",
              "          const docLinkHtml = 'Like what you see? Visit the ' +\n",
              "            '<a target=\"_blank\" href=https://colab.research.google.com/notebooks/data_table.ipynb>data table notebook</a>'\n",
              "            + ' to learn more about interactive tables.';\n",
              "          element.innerHTML = '';\n",
              "          dataTable['output_type'] = 'display_data';\n",
              "          await google.colab.output.renderOutput(dataTable, element);\n",
              "          const docLink = document.createElement('div');\n",
              "          docLink.innerHTML = docLinkHtml;\n",
              "          element.appendChild(docLink);\n",
              "        }\n",
              "      </script>\n",
              "    </div>\n",
              "  </div>\n",
              "  "
            ]
          },
          "metadata": {},
          "execution_count": 10
        }
      ],
      "source": [
        "X_train.head(3)"
      ]
    },
    {
      "cell_type": "code",
      "execution_count": 15,
      "metadata": {
        "id": "3ByMwoeaUG10"
      },
      "outputs": [],
      "source": [
        "# function to evaluate\n",
        "from sklearn.model_selection import cross_validate\n",
        "from sklearn.metrics import accuracy_score, recall_score, precision_score, roc_auc_score, f1_score, average_precision_score\n",
        "from sklearn.model_selection import StratifiedKFold\n",
        "def analyse(model, xtrain, ytrain, xtest, ytest):\n",
        "    ytrain_pred = model.predict(xtrain)\n",
        "    ytest_pred = model.predict(xtest)\n",
        "    try:\n",
        "        y_score_test = model.decision_function(xtest)\n",
        "        y_score_train = model.decision_function(xtrain)\n",
        "    except:\n",
        "        y_score_test = model.predict_proba(xtest)[:,1]\n",
        "        y_score_train = model.predict_proba(xtrain)[:,1]\n",
        "\n",
        "    ret = {'train':{'pr auc': average_precision_score(ytrain, y_score_train),\n",
        "                'accuracy': accuracy_score(ytrain, ytrain_pred),\n",
        "                'recall':recall_score(ytrain, ytrain_pred),\n",
        "                'precision':precision_score(ytrain, ytrain_pred),\n",
        "                'roc auc':roc_auc_score(ytrain, y_score_train),\n",
        "                'f1 score': f1_score(ytrain, ytrain_pred)},\n",
        "           'test':{'pr auc': average_precision_score(ytest, y_score_test),\n",
        "                'accuracy':accuracy_score(ytest, ytest_pred),\n",
        "                'recall':recall_score(ytest, ytest_pred),\n",
        "                'precision':precision_score(ytest, ytest_pred),\n",
        "                'roc auc':roc_auc_score(ytest, y_score_test),\n",
        "                'f1 score': f1_score(ytest, ytest_pred)}}\n",
        "    return ret"
      ]
    },
    {
      "cell_type": "code",
      "execution_count": 25,
      "metadata": {
        "id": "_JJFj_O_UG11"
      },
      "outputs": [],
      "source": [
        "from sklearn.metrics import accuracy_score, recall_score, precision_score, roc_auc_score, f1_score, auc, precision_recall_curve\n",
        "\n",
        "def analyseANN(model, xtrain, ytrain, xtest, ytest):\n",
        "    ypred =  model.predict(xtrain)\n",
        "    ypred_test = model.predict(xtest)\n",
        "    precision_train, recall_train, thresholds = precision_recall_curve(ytrain, ypred)\n",
        "    precision_test, recall_test, thresholds = precision_recall_curve(y_test, ypred_test)\n",
        "\n",
        "    for i in range(len(ypred)):\n",
        "        if ypred[i] <=0.5:\n",
        "            ypred[i] =0\n",
        "        else: \n",
        "            ypred[i] =1\n",
        "    for i in range(len(ypred_test)):\n",
        "        if ypred_test[i] <=0.5:\n",
        "            ypred_test[i] =0\n",
        "        else: \n",
        "            ypred_test[i] =1\n",
        "    accuracy = accuracy_score(ytrain, ypred)\n",
        "    recall = recall_score(ytrain, ypred)\n",
        "    precision = precision_score(ytrain, ypred)\n",
        "    roc_auc = roc_auc_score(ytrain, ypred)\n",
        "    f1score = f1_score(ytrain, ypred)\n",
        "\n",
        "    ret = {'train':{'pr auc': auc(recall_train, precision_train),\n",
        "                    'accuracy': accuracy,\n",
        "                    'recall':recall,\n",
        "                    'precision':precision,\n",
        "                    'roc auc':roc_auc,\n",
        "                    'f1 score': f1score},\n",
        "               'test':{'pr auc': auc(recall_test, precision_test),\n",
        "                    'accuracy':accuracy_score(ytest, ypred_test),\n",
        "                    'recall':recall_score(ytest, ypred_test),\n",
        "                    'precision':precision_score(ytest, ypred_test),\n",
        "                    'roc auc':roc_auc_score(ytest, ypred_test),\n",
        "                    'f1 score': f1_score(ytest, ypred_test)}}\n",
        "    return ret"
      ]
    },
    {
      "cell_type": "markdown",
      "metadata": {
        "id": "otk1unQNUG12"
      },
      "source": [
        "# BASE CASE"
      ]
    },
    {
      "cell_type": "code",
      "execution_count": 17,
      "metadata": {
        "scrolled": true,
        "colab": {
          "base_uri": "https://localhost:8080/"
        },
        "id": "DT-mxlp5UG12",
        "outputId": "4e73a839-e545-4d9c-e5b1-9e2c49b15e97"
      },
      "outputs": [
        {
          "output_type": "stream",
          "name": "stdout",
          "text": [
            "{\n",
            "  \"train\": {\n",
            "    \"pr auc\": 0.5037974263916928,\n",
            "    \"accuracy\": 0.8111428571428572,\n",
            "    \"recall\": 0.23900862068965517,\n",
            "    \"precision\": 0.7182642487046632,\n",
            "    \"roc auc\": 0.7230388326237248,\n",
            "    \"f1 score\": 0.3586675291073738\n",
            "  },\n",
            "  \"test\": {\n",
            "    \"pr auc\": 0.5052203445891541,\n",
            "    \"accuracy\": 0.8073333333333333,\n",
            "    \"recall\": 0.23346693386773548,\n",
            "    \"precision\": 0.6955223880597015,\n",
            "    \"roc auc\": 0.7260443931838548,\n",
            "    \"f1 score\": 0.3495873968492123\n",
            "  }\n",
            "}\n"
          ]
        }
      ],
      "source": [
        "##                     ##\n",
        "## LOGISTIC REGRESSION ##\n",
        "##                     ##\n",
        "\n",
        "from sklearn.linear_model import LogisticRegression\n",
        "import json\n",
        "lr = LogisticRegression(random_state=42)\n",
        "lr.fit(X_train, y_train)\n",
        "print(json.dumps(analyse(lr, X_train, y_train, X_test, y_test), indent=2))"
      ]
    },
    {
      "cell_type": "code",
      "execution_count": 18,
      "metadata": {
        "colab": {
          "base_uri": "https://localhost:8080/"
        },
        "id": "edJYApeRUG12",
        "outputId": "6bfbe8ff-0036-4c0b-e5b1-7e76c493042d"
      },
      "outputs": [
        {
          "output_type": "stream",
          "name": "stdout",
          "text": [
            "{\n",
            "  \"train\": {\n",
            "    \"pr auc\": 0.708808952400357,\n",
            "    \"accuracy\": 0.854,\n",
            "    \"recall\": 0.4915948275862069,\n",
            "    \"precision\": 0.7633868808567604,\n",
            "    \"roc auc\": 0.8734070957339178,\n",
            "    \"f1 score\": 0.5980597797587834\n",
            "  },\n",
            "  \"test\": {\n",
            "    \"pr auc\": 0.514409449073808,\n",
            "    \"accuracy\": 0.8033333333333333,\n",
            "    \"recall\": 0.37374749498997994,\n",
            "    \"precision\": 0.5892575039494471,\n",
            "    \"roc auc\": 0.7571910311199211,\n",
            "    \"f1 score\": 0.457388105456775\n",
            "  }\n",
            "}\n"
          ]
        }
      ],
      "source": [
        "##                     ##\n",
        "## XG BOOST CLASSIFIER ##\n",
        "##                     ##\n",
        "\n",
        "from xgboost.sklearn import XGBClassifier\n",
        "params = {\n",
        "            'booster':'gbtree',\n",
        "            'objective':'binary:logistic',\n",
        "            'max_depth': 3,\n",
        "            'learning_rate': 1,\n",
        "            'n_estimators':100,\n",
        "            \"eval_metric\": ['logloss'],\n",
        "            'random_state': 42\n",
        "        }         \n",
        "           \n",
        "          \n",
        "# instantiate the classifier \n",
        "xgb_clf = XGBClassifier(**params)\n",
        "xgb_clf.fit(X_train, y_train)\n",
        "print(json.dumps(analyse(xgb_clf, X_train, y_train, X_test, y_test), indent=2))"
      ]
    },
    {
      "cell_type": "code",
      "execution_count": 19,
      "metadata": {
        "colab": {
          "base_uri": "https://localhost:8080/"
        },
        "id": "ytZedgmsUG13",
        "outputId": "ac5e7a2b-242e-4fd5-a504-fc07aa78145c"
      },
      "outputs": [
        {
          "output_type": "stream",
          "name": "stdout",
          "text": [
            "{\n",
            "  \"train\": {\n",
            "    \"pr auc\": 0.547188014195225,\n",
            "    \"accuracy\": 0.810047619047619,\n",
            "    \"recall\": 0.2435344827586207,\n",
            "    \"precision\": 0.7022995649471722,\n",
            "    \"roc auc\": 0.772938642135992,\n",
            "    \"f1 score\": 0.36165786525844135\n",
            "  },\n",
            "  \"test\": {\n",
            "    \"pr auc\": 0.5359945729810421,\n",
            "    \"accuracy\": 0.8075555555555556,\n",
            "    \"recall\": 0.23947895791583165,\n",
            "    \"precision\": 0.6907514450867052,\n",
            "    \"roc auc\": 0.7702726269214615,\n",
            "    \"f1 score\": 0.3556547619047619\n",
            "  }\n",
            "}\n"
          ]
        }
      ],
      "source": [
        "##                          ##\n",
        "## RANDOM FOREST CLASSIFIER ##\n",
        "##                          ##\n",
        "\n",
        "from sklearn.ensemble import RandomForestClassifier\n",
        "\n",
        "rforest = RandomForestClassifier(max_depth=3, random_state=42);\n",
        "rforest.fit(X_train, y_train)\n",
        "print(json.dumps(analyse(rforest, X_train, y_train, X_test, y_test), indent=2))"
      ]
    },
    {
      "cell_type": "code",
      "execution_count": 20,
      "metadata": {
        "colab": {
          "base_uri": "https://localhost:8080/"
        },
        "id": "ZNjUTvd4UG13",
        "outputId": "9873e6a1-e1b7-4135-f95e-8487cef21b3f"
      },
      "outputs": [
        {
          "output_type": "stream",
          "name": "stdout",
          "text": [
            "{\n",
            "  \"train\": {\n",
            "    \"pr auc\": 0.4935407997465081,\n",
            "    \"accuracy\": 0.7270952380952381,\n",
            "    \"recall\": 0.6260775862068966,\n",
            "    \"precision\": 0.4209534850021736,\n",
            "    \"roc auc\": 0.73522524581612,\n",
            "    \"f1 score\": 0.5034225803656529\n",
            "  },\n",
            "  \"test\": {\n",
            "    \"pr auc\": 0.49690135465612406,\n",
            "    \"accuracy\": 0.7287777777777777,\n",
            "    \"recall\": 0.6372745490981964,\n",
            "    \"precision\": 0.42556038808966207,\n",
            "    \"roc auc\": 0.7414681948133847,\n",
            "    \"f1 score\": 0.5103309929789367\n",
            "  }\n",
            "}\n"
          ]
        }
      ],
      "source": [
        "##                        ##\n",
        "## NAIVE BAYES CLASSIFIER ##\n",
        "##                        ##\n",
        "\n",
        "\n",
        "from sklearn.naive_bayes import GaussianNB\n",
        "gnb = GaussianNB()\n",
        "gnb.fit(X_train, y_train)\n",
        "print(json.dumps(analyse(gnb, X_train, y_train, X_test, y_test), indent=2))"
      ]
    },
    {
      "cell_type": "code",
      "execution_count": 22,
      "metadata": {
        "colab": {
          "base_uri": "https://localhost:8080/"
        },
        "id": "JSBIKHEeUG14",
        "outputId": "a42c37f0-cb78-4c39-b9bd-2a7f8983614b"
      },
      "outputs": [
        {
          "output_type": "stream",
          "name": "stdout",
          "text": [
            "{\n",
            "  \"train\": {\n",
            "    \"pr auc\": 0.5296092552298699,\n",
            "    \"accuracy\": 0.8189047619047619,\n",
            "    \"recall\": 0.32241379310344825,\n",
            "    \"precision\": 0.694199535962877,\n",
            "    \"roc auc\": 0.7342096076426945,\n",
            "    \"f1 score\": 0.4403237674760853\n",
            "  },\n",
            "  \"test\": {\n",
            "    \"pr auc\": 0.5042639029786404,\n",
            "    \"accuracy\": 0.8164444444444444,\n",
            "    \"recall\": 0.3191382765531062,\n",
            "    \"precision\": 0.6849462365591398,\n",
            "    \"roc auc\": 0.7169151266553667,\n",
            "    \"f1 score\": 0.43540669856459335\n",
            "  }\n",
            "}\n"
          ]
        }
      ],
      "source": [
        "##                ##\n",
        "## SVC CLASSIFIER ##\n",
        "##                ##\n",
        "\n",
        "\n",
        "from sklearn.svm import SVC\n",
        "svc = SVC(C=1, kernel='rbf', gamma='scale')\n",
        "svc.fit(X_train, y_train)\n",
        "print(json.dumps(analyse(svc, X_train, y_train, X_test, y_test), indent=2))"
      ]
    },
    {
      "cell_type": "code",
      "execution_count": 26,
      "metadata": {
        "id": "BxwTrgwPUG14"
      },
      "outputs": [],
      "source": [
        "##                ##\n",
        "## ANN CLASSIFIER ##\n",
        "##                ##\n",
        "\n",
        "\n",
        "import sklearn\n",
        "from sklearn.neural_network import MLPClassifier\n",
        "from sklearn.neural_network import MLPRegressor\n",
        "\n",
        "# Import necessary modules\n",
        "from sklearn.model_selection import train_test_split\n",
        "from sklearn.metrics import mean_squared_error\n",
        "from math import sqrt\n",
        "from sklearn.metrics import r2_score\n",
        "\n",
        "def Model():\n",
        "    ann = MLPClassifier(hidden_layer_sizes=(64, 32), max_iter=10, activation='relu',solver='adam')\n",
        "    return ann"
      ]
    },
    {
      "cell_type": "code",
      "execution_count": 27,
      "metadata": {
        "colab": {
          "base_uri": "https://localhost:8080/"
        },
        "id": "pvg5T5UKUG14",
        "outputId": "74d32a7b-1157-4b84-f911-00159b1a8407"
      },
      "outputs": [
        {
          "output_type": "stream",
          "name": "stdout",
          "text": [
            "running for: 0m, 2s\n",
            "{\n",
            "  \"train\": {\n",
            "    \"pr auc\": 0.5961617334020335,\n",
            "    \"accuracy\": 0.8228571428571428,\n",
            "    \"recall\": 0.3711206896551724,\n",
            "    \"precision\": 0.6822503961965135,\n",
            "    \"roc auc\": 0.6610493423825984,\n",
            "    \"f1 score\": 0.4807370184254606\n",
            "  },\n",
            "  \"test\": {\n",
            "    \"pr auc\": 0.5823244029387298,\n",
            "    \"accuracy\": 0.8172222222222222,\n",
            "    \"recall\": 0.3657314629258517,\n",
            "    \"precision\": 0.6582506762849414,\n",
            "    \"roc auc\": 0.6558097634446506,\n",
            "    \"f1 score\": 0.47020933977455714\n",
            "  }\n",
            "}\n"
          ]
        }
      ],
      "source": [
        "_start = time.time()\n",
        "\n",
        "model= Model()\n",
        "\n",
        "model.fit(X_train, y_train)\n",
        "\n",
        "ret = analyseANN(model, X_train, y_train, X_test, y_test)\n",
        "\n",
        "_end = time.time()\n",
        "\n",
        "print(f'running for: {int((_end-_start)/60)}m, {int((_end-_start)%60)}s')\n",
        "print(json.dumps(ret, indent=2))"
      ]
    },
    {
      "cell_type": "markdown",
      "metadata": {
        "id": "3IJmWSm8UG15"
      },
      "source": [
        "# GA OPTIMIZED"
      ]
    },
    {
      "cell_type": "code",
      "execution_count": 28,
      "metadata": {
        "colab": {
          "base_uri": "https://localhost:8080/"
        },
        "id": "VNUNCfFyUG15",
        "outputId": "bfbf851b-456a-4ec1-f3c3-a8417f8ecada"
      },
      "outputs": [
        {
          "output_type": "stream",
          "name": "stdout",
          "text": [
            "Looking in indexes: https://pypi.org/simple, https://us-python.pkg.dev/colab-wheels/public/simple/\n",
            "Collecting sklearn-genetic-opt\n",
            "  Downloading sklearn_genetic_opt-0.9.0-py3-none-any.whl (31 kB)\n",
            "Requirement already satisfied: scikit-learn>=0.21.3 in /usr/local/lib/python3.7/dist-packages (from sklearn-genetic-opt) (1.0.2)\n",
            "Collecting deap>=1.3.1\n",
            "  Downloading deap-1.3.1-cp37-cp37m-manylinux_2_5_x86_64.manylinux1_x86_64.manylinux_2_12_x86_64.manylinux2010_x86_64.whl (160 kB)\n",
            "\u001b[K     |████████████████████████████████| 160 kB 6.7 MB/s \n",
            "\u001b[?25hRequirement already satisfied: tqdm>=4.61.1 in /usr/local/lib/python3.7/dist-packages (from sklearn-genetic-opt) (4.64.0)\n",
            "Requirement already satisfied: numpy>=1.14.5 in /usr/local/lib/python3.7/dist-packages (from sklearn-genetic-opt) (1.21.6)\n",
            "Requirement already satisfied: scipy>=1.1.0 in /usr/local/lib/python3.7/dist-packages (from scikit-learn>=0.21.3->sklearn-genetic-opt) (1.7.3)\n",
            "Requirement already satisfied: joblib>=0.11 in /usr/local/lib/python3.7/dist-packages (from scikit-learn>=0.21.3->sklearn-genetic-opt) (1.1.0)\n",
            "Requirement already satisfied: threadpoolctl>=2.0.0 in /usr/local/lib/python3.7/dist-packages (from scikit-learn>=0.21.3->sklearn-genetic-opt) (3.1.0)\n",
            "Installing collected packages: deap, sklearn-genetic-opt\n",
            "Successfully installed deap-1.3.1 sklearn-genetic-opt-0.9.0\n"
          ]
        }
      ],
      "source": [
        "!pip install sklearn-genetic-opt\n",
        "\n",
        "\n",
        "from sklearn.model_selection import train_test_split\n",
        "from sklearn.datasets import load_digits\n",
        "from sklearn.metrics import accuracy_score\n",
        "from sklearn_genetic import GASearchCV\n",
        "from sklearn_genetic.space import Continuous, Categorical, Integer\n",
        "from sklearn_genetic.plots import plot_fitness_evolution, plot_search_space\n",
        "from sklearn.model_selection import StratifiedKFold\n",
        "import matplotlib.pyplot as plt"
      ]
    },
    {
      "cell_type": "code",
      "execution_count": 29,
      "metadata": {
        "id": "kMFRhUNlUG15"
      },
      "outputs": [],
      "source": [
        "##                     ##\n",
        "## LOGISTIC REGRESSION ##\n",
        "##                     ##\n",
        "\n",
        "from sklearn.linear_model import LogisticRegression\n",
        "import json\n",
        "\n",
        "param_grid = {\n",
        "    'max_iter': Integer(100, 1000),\n",
        "    'penalty': Categorical(['l1', 'l2']),\n",
        "    'C': Continuous(1e-6, 1e-2, distribution=\"log-uniform\"),\n",
        "    'l1_ratio': Continuous(1e-9, 1, distribution='log-uniform')\n",
        "}\n",
        "\n",
        "\n",
        "lr = LogisticRegression(solver=\"saga\")\n",
        "cv = StratifiedKFold(n_splits=3, shuffle=True)\n",
        "\n",
        "evolved_estimator = GASearchCV(estimator=lr, cv=cv,\n",
        "                               scoring='accuracy', population_size=10,\n",
        "                               generations=10, tournament_size=3,\n",
        "                               elitism=True, crossover_probability=0.8,\n",
        "                               mutation_probability=0.1, param_grid=param_grid,\n",
        "                               criteria='max', algorithm='eaMuPlusLambda',\n",
        "                               n_jobs=-1, verbose=True, keep_top_k=4)"
      ]
    },
    {
      "cell_type": "code",
      "execution_count": 30,
      "metadata": {
        "scrolled": false,
        "colab": {
          "base_uri": "https://localhost:8080/"
        },
        "id": "NW-U2ryvUG15",
        "outputId": "86b08135-9b05-4758-fed5-d3918b5cc43a"
      },
      "outputs": [
        {
          "output_type": "stream",
          "name": "stdout",
          "text": [
            "gen\tnevals\tfitness \tfitness_std\tfitness_max\tfitness_min\n",
            "0  \t10    \t0.784324\t0.00997811 \t0.805048   \t0.779048   \n",
            "1  \t14    \t0.796343\t0.0113627  \t0.805714   \t0.779048   \n",
            "2  \t18    \t0.804419\t0.00108312 \t0.805524   \t0.802857   \n",
            "3  \t18    \t0.804538\t0.000984932\t0.805905   \t0.802857   \n",
            "4  \t20    \t0.805224\t0.00033132 \t0.805667   \t0.804381   \n",
            "5  \t17    \t0.805357\t0.000189581\t0.805667   \t0.804952   \n",
            "6  \t17    \t0.805424\t0.000174899\t0.805667   \t0.805238   \n",
            "7  \t17    \t0.805443\t0.000162255\t0.805667   \t0.80519    \n",
            "8  \t16    \t0.80589 \t0.000491215\t0.806619   \t0.805238   \n",
            "9  \t17    \t0.806019\t0.000428148\t0.806619   \t0.805619   \n",
            "10 \t18    \t0.806176\t0.000407442\t0.806714   \t0.805667   \n",
            "running for: 16m, 14s\n"
          ]
        }
      ],
      "source": [
        "_start =time.time()\n",
        "\n",
        "evolved_estimator.fit(X_train, y_train)\n",
        "\n",
        "_end = time.time()\n",
        "\n",
        "# only in seconds\n",
        "\n",
        "print(f'running for: {int((_end-_start)/60)}m, {int((_end-_start)%60)}s')"
      ]
    },
    {
      "cell_type": "code",
      "execution_count": 31,
      "metadata": {
        "id": "BZjbPNo_UG15",
        "colab": {
          "base_uri": "https://localhost:8080/"
        },
        "outputId": "a2662590-25b7-4a72-ab5e-f2e7c831d44b"
      },
      "outputs": [
        {
          "output_type": "stream",
          "name": "stdout",
          "text": [
            "{\n",
            "  \"train\": {\n",
            "    \"pr auc\": 0.4973772821415625,\n",
            "    \"accuracy\": 0.8074285714285714,\n",
            "    \"recall\": 0.2122844827586207,\n",
            "    \"precision\": 0.7168850072780204,\n",
            "    \"roc auc\": 0.7183178721229239,\n",
            "    \"f1 score\": 0.3275690056534752\n",
            "  },\n",
            "  \"test\": {\n",
            "    \"pr auc\": 0.5012399126814109,\n",
            "    \"accuracy\": 0.8021111111111111,\n",
            "    \"recall\": 0.1938877755511022,\n",
            "    \"precision\": 0.6923076923076923,\n",
            "    \"roc auc\": 0.7229830878204152,\n",
            "    \"f1 score\": 0.30293542074363994\n",
            "  }\n",
            "}\n",
            "{'max_iter': 131, 'penalty': 'l2', 'C': 0.002234439102635779, 'l1_ratio': 0.007080898483512724}\n"
          ]
        }
      ],
      "source": [
        "print(json.dumps(analyse(evolved_estimator, X_train, y_train, X_test, y_test), indent=2))\n",
        "\n",
        "print(evolved_estimator.best_params_)"
      ]
    },
    {
      "cell_type": "code",
      "execution_count": 32,
      "metadata": {
        "id": "HcCKY5GxUG16"
      },
      "outputs": [],
      "source": [
        "##                          ##\n",
        "## RANDOM FOREST CLASSIFIER ##\n",
        "##                          ##\n",
        "from sklearn.ensemble import RandomForestClassifier\n",
        "\n",
        "rf = RandomForestClassifier()\n",
        "\n",
        "param_grid = {\n",
        "    'n_estimators': Integer(10, 100),\n",
        "    'max_depth':Integer(3, 10),\n",
        "    'max_leaf_nodes':Integer(1, 100),\n",
        "    'max_features':Categorical(['sqrt', 'log2', None]),\n",
        "    'criterion':Categorical(['gini', 'entropy']),\n",
        "    'min_weight_fraction_leaf':Continuous(0.01, 0.5, distribution='log-uniform')\n",
        "}\n",
        "\n",
        "cv = StratifiedKFold(n_splits=3, shuffle=True)\n",
        "\n",
        "evolved_estimator = GASearchCV(estimator=rf, cv=cv, scoring='accuracy',\n",
        "                               population_size=10, generations=10,\n",
        "                               tournament_size=3, elitism=True,\n",
        "                               crossover_probability=0.8, mutation_probability=0.1,\n",
        "                               param_grid=param_grid, criteria='max',\n",
        "                               algorithm='eaMuPlusLambda', n_jobs=-1,\n",
        "                               verbose=True, keep_top_k=4)"
      ]
    },
    {
      "cell_type": "code",
      "execution_count": 33,
      "metadata": {
        "colab": {
          "base_uri": "https://localhost:8080/"
        },
        "id": "pdhTsrdZUG16",
        "outputId": "67e48a6f-53dd-4c0b-92ec-bbc21cbbd5a2"
      },
      "outputs": [
        {
          "output_type": "stream",
          "name": "stdout",
          "text": [
            "gen\tnevals\tfitness \tfitness_std\tfitness_max\tfitness_min\n",
            "0  \t10    \t0.800562\t0.0155008  \t0.81919    \t0.779048   \n",
            "1  \t17    \t0.808633\t0.0117459  \t0.81919    \t0.779048   \n",
            "2  \t16    \t0.817252\t0.00314423 \t0.819381   \t0.810667   \n",
            "3  \t17    \t0.819595\t0.000301357\t0.819905   \t0.81919    \n",
            "4  \t19    \t0.82    \t0.000461684\t0.820476   \t0.81919    \n",
            "5  \t18    \t0.82001 \t0.000448125\t0.820476   \t0.81919    \n",
            "6  \t19    \t0.820148\t0.000354082\t0.820476   \t0.81919    \n",
            "7  \t17    \t0.820338\t0.000174899\t0.820571   \t0.820095   \n",
            "8  \t14    \t0.82041 \t0.000141582\t0.820476   \t0.82       \n",
            "9  \t20    \t0.820452\t0.000138423\t0.820619   \t0.820095   \n",
            "10 \t19    \t0.820252\t0.000392128\t0.820619   \t0.819286   \n",
            "running for: 48m, 6s\n"
          ]
        }
      ],
      "source": [
        "_start =time.time()\n",
        "\n",
        "evolved_estimator.fit(X_train, y_train)\n",
        "\n",
        "_end = time.time()\n",
        "\n",
        "# only in seconds\n",
        "\n",
        "print(f'running for: {int((_end-_start)/60)}m, {int((_end-_start)%60)}s')"
      ]
    },
    {
      "cell_type": "code",
      "execution_count": 34,
      "metadata": {
        "colab": {
          "base_uri": "https://localhost:8080/"
        },
        "id": "-xneh1hYUG17",
        "outputId": "b8f21430-ef5c-41c5-99b0-bc09190378c8"
      },
      "outputs": [
        {
          "output_type": "stream",
          "name": "stdout",
          "text": [
            "{\n",
            "  \"train\": {\n",
            "    \"pr auc\": 0.5795265880971375,\n",
            "    \"accuracy\": 0.8219047619047619,\n",
            "    \"recall\": 0.3601293103448276,\n",
            "    \"precision\": 0.6842751842751843,\n",
            "    \"roc auc\": 0.7983293659366832,\n",
            "    \"f1 score\": 0.4719005930528099\n",
            "  },\n",
            "  \"test\": {\n",
            "    \"pr auc\": 0.5512891850740509,\n",
            "    \"accuracy\": 0.8214444444444444,\n",
            "    \"recall\": 0.3652304609218437,\n",
            "    \"precision\": 0.6819457436856876,\n",
            "    \"roc auc\": 0.7813950287782876,\n",
            "    \"f1 score\": 0.47569331158238176\n",
            "  }\n",
            "}\n",
            "{'n_estimators': 82, 'max_depth': 7, 'max_leaf_nodes': 71, 'max_features': None, 'criterion': 'entropy', 'min_weight_fraction_leaf': 0.010043517241820466}\n"
          ]
        }
      ],
      "source": [
        "print(json.dumps(analyse(evolved_estimator, X_train, y_train, X_test, y_test), indent=2))\n",
        "\n",
        "print(evolved_estimator.best_params_)"
      ]
    },
    {
      "cell_type": "code",
      "execution_count": 35,
      "metadata": {
        "id": "4fgeCL8BUG17"
      },
      "outputs": [],
      "source": [
        "##                     ##\n",
        "## XG BOOST CLASSIFIER ##\n",
        "##                     ##\n",
        "\n",
        "from xgboost.sklearn import XGBClassifier\n",
        "\n",
        "param_grid = {\n",
        "    'n_estimators': Integer(10, 20),\n",
        "    'max_depth': Integer(3, 9),\n",
        "    'gamma': Continuous(1e-6, 1, distribution='log-uniform'),\n",
        "    'learning_rate': Continuous(1e-6, 1e-2, distribution='log-uniform')\n",
        "}\n",
        "\n",
        "\n",
        "xgb = XGBClassifier();\n",
        "\n",
        "cv = StratifiedKFold(n_splits=3, shuffle=True)\n",
        "\n",
        "evolved_estimator = GASearchCV(estimator=xgb, cv=cv, scoring='accuracy',\n",
        "                               population_size=10, generations=10,\n",
        "                               tournament_size=3, elitism=True,\n",
        "                               crossover_probability=0.8, mutation_probability=0.1,\n",
        "                               param_grid=param_grid, criteria='max',\n",
        "                               algorithm='eaMuPlusLambda', n_jobs=-1,\n",
        "                               verbose=True, keep_top_k=4)"
      ]
    },
    {
      "cell_type": "code",
      "execution_count": 36,
      "metadata": {
        "colab": {
          "base_uri": "https://localhost:8080/"
        },
        "id": "BV3KTXXTUG18",
        "outputId": "b4c32497-395a-4745-8127-0166b95ab6b5"
      },
      "outputs": [
        {
          "output_type": "stream",
          "name": "stdout",
          "text": [
            "gen\tnevals\tfitness \tfitness_std\tfitness_max\tfitness_min\n",
            "0  \t10    \t0.817362\t0.00382753 \t0.821238   \t0.808952   \n",
            "1  \t20    \t0.82029 \t0.000975772\t0.820905   \t0.818095   \n",
            "2  \t19    \t0.820457\t0.000737465\t0.820952   \t0.818714   \n",
            "3  \t19    \t0.820462\t0.000488438\t0.820952   \t0.819476   \n",
            "4  \t18    \t0.820481\t0.000381815\t0.820952   \t0.819905   \n",
            "5  \t18    \t0.820614\t0.00037097 \t0.820952   \t0.819905   \n",
            "6  \t19    \t0.820738\t0.000448858\t0.821286   \t0.819905   \n",
            "7  \t17    \t0.820567\t0.000464353\t0.821286   \t0.81981    \n",
            "8  \t17    \t0.820795\t0.00045974 \t0.821286   \t0.819667   \n",
            "9  \t18    \t0.82081 \t0.000430156\t0.821286   \t0.820048   \n",
            "10 \t16    \t0.821048\t0.000385685\t0.821286   \t0.82       \n",
            "running for: 3m, 11s\n"
          ]
        }
      ],
      "source": [
        "_start =time.time()\n",
        "\n",
        "evolved_estimator.fit(X_train, y_train)\n",
        "\n",
        "_end = time.time()\n",
        "\n",
        "# only in seconds\n",
        "\n",
        "print(f'running for: {int((_end-_start)/60)}m, {int((_end-_start)%60)}s')"
      ]
    },
    {
      "cell_type": "code",
      "execution_count": 37,
      "metadata": {
        "colab": {
          "base_uri": "https://localhost:8080/"
        },
        "id": "jqPmqlp9UG18",
        "outputId": "4792ad1e-ca5d-436c-ab70-49ff98cfa03d"
      },
      "outputs": [
        {
          "output_type": "stream",
          "name": "stdout",
          "text": [
            "{\n",
            "  \"train\": {\n",
            "    \"pr auc\": 0.5281133783352909,\n",
            "    \"accuracy\": 0.823,\n",
            "    \"recall\": 0.36681034482758623,\n",
            "    \"precision\": 0.6860137041515518,\n",
            "    \"roc auc\": 0.7664931485013912,\n",
            "    \"f1 score\": 0.47802274961381835\n",
            "  },\n",
            "  \"test\": {\n",
            "    \"pr auc\": 0.517486613617744,\n",
            "    \"accuracy\": 0.8218888888888889,\n",
            "    \"recall\": 0.37324649298597196,\n",
            "    \"precision\": 0.6791248860528715,\n",
            "    \"roc auc\": 0.7601683592770921,\n",
            "    \"f1 score\": 0.48173294536049144\n",
            "  }\n",
            "}\n",
            "{'n_estimators': 12, 'max_depth': 4, 'gamma': 1.2016810861003391e-05, 'learning_rate': 0.005352949614363847}\n"
          ]
        }
      ],
      "source": [
        "print(json.dumps(analyse(evolved_estimator, X_train, y_train, X_test, y_test), indent=2))\n",
        "\n",
        "print(evolved_estimator.best_params_)"
      ]
    },
    {
      "cell_type": "code",
      "execution_count": 38,
      "metadata": {
        "id": "DK5m5JPTUG18"
      },
      "outputs": [],
      "source": [
        "##                        ##\n",
        "## NAIVE BAYES CLASSIFIER ##\n",
        "##                        ##\n",
        "\n",
        "\n",
        "from sklearn.naive_bayes import GaussianNB\n",
        "param_grid = {\n",
        "    'var_smoothing': Continuous(1e-9, 1, distribution='log-uniform')\n",
        "}\n",
        "\n",
        "gnb = GaussianNB();\n",
        "\n",
        "cv = StratifiedKFold(n_splits=3, shuffle=True)\n",
        "\n",
        "evolved_estimator = GASearchCV(estimator=gnb, cv=cv, scoring='accuracy',\n",
        "                               population_size=10, generations=10,\n",
        "                               tournament_size=3, elitism=True,\n",
        "                               crossover_probability=0.8, mutation_probability=0.1,\n",
        "                               param_grid=param_grid, criteria='max',\n",
        "                               algorithm='eaMuPlusLambda', n_jobs=-1,\n",
        "                               verbose=True, keep_top_k=4)"
      ]
    },
    {
      "cell_type": "code",
      "execution_count": 39,
      "metadata": {
        "colab": {
          "base_uri": "https://localhost:8080/"
        },
        "id": "P_1kyd7qUG18",
        "outputId": "05434373-2e62-4571-b9cd-446048e0860d"
      },
      "outputs": [
        {
          "output_type": "stream",
          "name": "stdout",
          "text": [
            "gen\tnevals\tfitness\tfitness_std\tfitness_max\tfitness_min\n",
            "0  \t10    \t0.70481\t0.0136352  \t0.725762   \t0.682952   \n",
            "1  \t19    \t0.715276\t0.0104847  \t0.725762   \t0.697143   \n",
            "2  \t18    \t0.716624\t0.00618947 \t0.725762   \t0.70681    \n",
            "3  \t17    \t0.721633\t0.00656359 \t0.731381   \t0.70681    \n",
            "4  \t19    \t0.715748\t0.0166373  \t0.725762   \t0.678286   \n",
            "5  \t18    \t0.725829\t0.0061767  \t0.731667   \t0.71481    \n",
            "6  \t18    \t0.727686\t0.0057309  \t0.731667   \t0.71481    \n",
            "7  \t18    \t0.725233\t0.00911002 \t0.731667   \t0.708524   \n",
            "8  \t16    \t0.726876\t0.00718398 \t0.731667   \t0.708524   \n",
            "9  \t20    \t0.725924\t0.00906352 \t0.731667   \t0.708524   \n",
            "10 \t18    \t0.725238\t0.00896944 \t0.731667   \t0.709905   \n",
            "running for: 0m, 35s\n"
          ]
        }
      ],
      "source": [
        "_start =time.time()\n",
        "\n",
        "evolved_estimator.fit(X_train, y_train)\n",
        "\n",
        "_end = time.time()\n",
        "\n",
        "# only in seconds\n",
        "\n",
        "print(f'running for: {int((_end-_start)/60)}m, {int((_end-_start)%60)}s')"
      ]
    },
    {
      "cell_type": "code",
      "execution_count": 40,
      "metadata": {
        "colab": {
          "base_uri": "https://localhost:8080/"
        },
        "id": "bOqAVDl5UG19",
        "outputId": "0d29475e-1b93-4b08-90dd-a7219706f784"
      },
      "outputs": [
        {
          "output_type": "stream",
          "name": "stdout",
          "text": [
            "{\n",
            "  \"train\": {\n",
            "    \"pr auc\": 0.4936670509919633,\n",
            "    \"accuracy\": 0.7382857142857143,\n",
            "    \"recall\": 0.615948275862069,\n",
            "    \"precision\": 0.43487522824102254,\n",
            "    \"roc auc\": 0.7343275822548689,\n",
            "    \"f1 score\": 0.5098109168747771\n",
            "  },\n",
            "  \"test\": {\n",
            "    \"pr auc\": 0.497052113489061,\n",
            "    \"accuracy\": 0.7417777777777778,\n",
            "    \"recall\": 0.627254509018036,\n",
            "    \"precision\": 0.442090395480226,\n",
            "    \"roc auc\": 0.7409140096297678,\n",
            "    \"f1 score\": 0.5186412593206295\n",
            "  }\n",
            "}\n",
            "{'var_smoothing': 0.0026544857981983245}\n"
          ]
        }
      ],
      "source": [
        "print(json.dumps(analyse(evolved_estimator, X_train, y_train, X_test, y_test), indent=2))\n",
        "\n",
        "print(evolved_estimator.best_params_)"
      ]
    },
    {
      "cell_type": "code",
      "execution_count": 41,
      "metadata": {
        "id": "eT0dWCw6UG19"
      },
      "outputs": [],
      "source": [
        "##                ##\n",
        "## SVC CLASSIFIER ##\n",
        "##                ##\n",
        "\n",
        "\n",
        "from sklearn.svm import SVC\n",
        "\n",
        "param_grid = {\n",
        "    'C': Continuous(1e-4, 10, distribution='log-uniform'),\n",
        "    'gamma': Continuous(1e-4, 10, distribution='log-uniform')\n",
        "}\n",
        "\n",
        "svc = SVC()\n",
        "\n",
        "cv = StratifiedKFold(n_splits=3, shuffle=True)\n",
        "\n",
        "evolved_estimator = GASearchCV(estimator=svc, cv=cv, scoring='accuracy',\n",
        "                               population_size=10, generations=10,\n",
        "                               tournament_size=3, elitism=True,\n",
        "                               crossover_probability=0.8, mutation_probability=0.1,\n",
        "                               param_grid=param_grid, criteria='max',\n",
        "                               algorithm='eaMuPlusLambda', n_jobs=-1,\n",
        "                               verbose=True, keep_top_k=4)"
      ]
    },
    {
      "cell_type": "code",
      "execution_count": 42,
      "metadata": {
        "colab": {
          "base_uri": "https://localhost:8080/"
        },
        "id": "Zinky7oSUG19",
        "outputId": "1de1c7ac-a312-41c8-fbc8-6b0e21f5e9c2"
      },
      "outputs": [
        {
          "output_type": "stream",
          "name": "stdout",
          "text": [
            "gen\tnevals\tfitness \tfitness_std\tfitness_max\tfitness_min\n",
            "0  \t10    \t0.784881\t0.0126741  \t0.811333   \t0.773667   \n",
            "1  \t18    \t0.794962\t0.015361   \t0.816571   \t0.779048   \n",
            "2  \t20    \t0.807595\t0.0104707  \t0.817381   \t0.78419    \n",
            "3  \t20    \t0.813571\t0.00392278 \t0.818429   \t0.807905   \n",
            "4  \t19    \t0.817014\t0.00186835 \t0.818429   \t0.811714   \n",
            "5  \t19    \t0.817976\t0.000357143\t0.818429   \t0.817381   \n",
            "6  \t17    \t0.81829 \t0.000385361\t0.81919    \t0.81781    \n",
            "7  \t15    \t0.818195\t0.000211302\t0.818429   \t0.817857   \n",
            "8  \t18    \t0.818181\t0.000226178\t0.818524   \t0.817857   \n",
            "9  \t18    \t0.818133\t0.000315006\t0.818429   \t0.817619   \n",
            "10 \t17    \t0.818381\t0.000167684\t0.818619   \t0.818095   \n",
            "running for: 52m, 7s\n"
          ]
        }
      ],
      "source": [
        "_start =time.time()\n",
        "\n",
        "evolved_estimator.fit(X_train, y_train)\n",
        "\n",
        "_end = time.time()\n",
        "\n",
        "# only in seconds\n",
        "\n",
        "print(f'running for: {int((_end-_start)/60)}m, {int((_end-_start)%60)}s')"
      ]
    },
    {
      "cell_type": "code",
      "execution_count": 43,
      "metadata": {
        "colab": {
          "base_uri": "https://localhost:8080/"
        },
        "id": "VU9DPpn0UG19",
        "outputId": "c3b211a6-dec1-4a80-ae1e-40ebf808b51f"
      },
      "outputs": [
        {
          "output_type": "stream",
          "name": "stdout",
          "text": [
            "{\n",
            "  \"train\": {\n",
            "    \"pr auc\": 0.5886793918097033,\n",
            "    \"accuracy\": 0.8235714285714286,\n",
            "    \"recall\": 0.3482758620689655,\n",
            "    \"precision\": 0.7035263387026557,\n",
            "    \"roc auc\": 0.791860957128404,\n",
            "    \"f1 score\": 0.46590745278939016\n",
            "  },\n",
            "  \"test\": {\n",
            "    \"pr auc\": 0.5032009510600932,\n",
            "    \"accuracy\": 0.8192222222222222,\n",
            "    \"recall\": 0.34018036072144286,\n",
            "    \"precision\": 0.6865520728008089,\n",
            "    \"roc auc\": 0.720507333913973,\n",
            "    \"f1 score\": 0.4549413735343383\n",
            "  }\n",
            "}\n",
            "{'C': 0.9854026250888381, 'gamma': 0.027920109693944553}\n"
          ]
        }
      ],
      "source": [
        "print(json.dumps(analyse(evolved_estimator, X_train, y_train, X_test, y_test), indent=2))\n",
        "\n",
        "print(evolved_estimator.best_params_)"
      ]
    },
    {
      "cell_type": "code",
      "execution_count": 45,
      "metadata": {
        "id": "_1YqTwMeUG19"
      },
      "outputs": [],
      "source": [
        "##                ##\n",
        "## ANN CLASSIFIER ##\n",
        "##                ##\n",
        "\n",
        "import random\n",
        "\n",
        "class foo(Categorical):\n",
        "    def __init__(self):\n",
        "        pass\n",
        "    def sample(self):\n",
        "        hidden_layer_count = random.randint(1, 4)\n",
        "        l = random.sample(range(8, 32), hidden_layer_count)\n",
        "        return tuple(l)\n",
        "\n",
        "param_grid = {\n",
        "    'alpha': Continuous(1e-4, 0.05, distribution='log-uniform'),\n",
        "    'activation': Categorical(['tanh', 'relu', 'identity', 'logistic']),\n",
        "    'solver': Categorical(['lbfgs', 'sgd', 'adam']),\n",
        "    'batch_size': Integer(100, 1000),\n",
        "    'learning_rate': Categorical(['constant', 'invscaling', 'adaptive']),\n",
        "    'hidden_layer_sizes': foo(),\n",
        "    'max_iter': Integer(50, 150),\n",
        "}\n",
        "\n",
        "ann = Model()\n",
        "\n",
        "cv = StratifiedKFold(n_splits=3, shuffle=True)\n",
        "\n",
        "evolved_estimator = GASearchCV(estimator=ann, cv=cv, scoring='accuracy',\n",
        "                               population_size=10, generations=10,\n",
        "                               tournament_size=3, elitism=True,\n",
        "                               crossover_probability=0.8, mutation_probability=0.1,\n",
        "                               param_grid=param_grid, criteria='max',\n",
        "                               algorithm='eaMuPlusLambda', n_jobs=-1,\n",
        "                               verbose=True, keep_top_k=4)"
      ]
    },
    {
      "cell_type": "code",
      "execution_count": 46,
      "metadata": {
        "colab": {
          "base_uri": "https://localhost:8080/"
        },
        "id": "SnFI0zvVUG19",
        "outputId": "20878ffb-b233-4067-bdc1-b666c6543196"
      },
      "outputs": [
        {
          "output_type": "stream",
          "name": "stdout",
          "text": [
            "gen\tnevals\tfitness \tfitness_std\tfitness_max\tfitness_min\n",
            "0  \t10    \t0.805657\t0.0139589  \t0.819857   \t0.778667   \n",
            "1  \t18    \t0.808757\t0.0109666  \t0.819857   \t0.779048   \n",
            "2  \t17    \t0.815776\t0.00485789 \t0.819857   \t0.808048   \n",
            "3  \t17    \t0.819167\t0.000840648\t0.819857   \t0.81719    \n",
            "4  \t18    \t0.819519\t0.000513955\t0.82       \t0.818571   \n",
            "5  \t18    \t0.81981 \t0.000191663\t0.82       \t0.819381   \n",
            "6  \t17    \t0.819929\t7.14286e-05\t0.82       \t0.819857   \n",
            "7  \t19    \t0.8197  \t0.000463179\t0.82       \t0.818429   \n",
            "8  \t17    \t0.81989 \t0.000167752\t0.82       \t0.819524   \n",
            "9  \t18    \t0.819962\t0.00012742 \t0.820095   \t0.819619   \n",
            "10 \t18    \t0.819805\t0.000449464\t0.820095   \t0.818667   \n",
            "running for: 40m, 15s\n"
          ]
        }
      ],
      "source": [
        "_start =time.time()\n",
        "\n",
        "evolved_estimator.fit(X_train, y_train)\n",
        "\n",
        "_end = time.time()\n",
        "\n",
        "# only in seconds\n",
        "\n",
        "print(f'running for: {int((_end-_start)/60)}m, {int((_end-_start)%60)}s')"
      ]
    },
    {
      "cell_type": "code",
      "execution_count": 47,
      "metadata": {
        "colab": {
          "base_uri": "https://localhost:8080/"
        },
        "id": "_8XBxw6tUG1-",
        "outputId": "72acf122-1bab-44bb-ec1f-79053401b89b"
      },
      "outputs": [
        {
          "output_type": "stream",
          "name": "stdout",
          "text": [
            "{\n",
            "  \"train\": {\n",
            "    \"pr auc\": 0.5881462630556868,\n",
            "    \"accuracy\": 0.8198095238095238,\n",
            "    \"recall\": 0.3754310344827586,\n",
            "    \"precision\": 0.662861491628615,\n",
            "    \"roc auc\": 0.6606372776325774,\n",
            "    \"f1 score\": 0.47936158503026965\n",
            "  },\n",
            "  \"test\": {\n",
            "    \"pr auc\": 0.5883986507707312,\n",
            "    \"accuracy\": 0.819,\n",
            "    \"recall\": 0.3787575150300601,\n",
            "    \"precision\": 0.6602620087336245,\n",
            "    \"roc auc\": 0.6616089117126315,\n",
            "    \"f1 score\": 0.4813753581661891\n",
            "  }\n",
            "}\n",
            "{'alpha': 0.021980765803879046, 'activation': 'logistic', 'solver': 'adam', 'batch_size': 716, 'learning_rate': 'adaptive', 'hidden_layer_sizes': (31, 28, 18), 'max_iter': 109}\n"
          ]
        }
      ],
      "source": [
        "import json\n",
        "print(json.dumps(analyseANN(evolved_estimator, X_train, y_train, X_test, y_test), indent=2))\n",
        "\n",
        "print(evolved_estimator.best_params_)"
      ]
    }
  ],
  "metadata": {
    "kernelspec": {
      "display_name": "Python 3",
      "language": "python",
      "name": "python3"
    },
    "language_info": {
      "codemirror_mode": {
        "name": "ipython",
        "version": 3
      },
      "file_extension": ".py",
      "mimetype": "text/x-python",
      "name": "python",
      "nbconvert_exporter": "python",
      "pygments_lexer": "ipython3",
      "version": "3.8.10"
    },
    "colab": {
      "name": "UCI_credit_card_GA.ipynb",
      "provenance": [],
      "collapsed_sections": []
    }
  },
  "nbformat": 4,
  "nbformat_minor": 0
}