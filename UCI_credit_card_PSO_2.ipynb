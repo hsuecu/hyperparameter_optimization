{
  "cells": [
    {
      "cell_type": "markdown",
      "metadata": {
        "id": "mLRQMEEnUG1o"
      },
      "source": [
        "<span style=\"display:inline-block;position:relative;font-size:64px;background-color: #d9edab;padding:200px 10px;width:100%;text-align:center\">UCI Credit Card</span><br><strong style=\"display:block;font-size:30px;padding-top:20px\">PSO</strong>"
      ]
    },
    {
      "cell_type": "code",
      "execution_count": 1,
      "metadata": {
        "colab": {
          "base_uri": "https://localhost:8080/"
        },
        "id": "g649jgXRUG1s",
        "outputId": "88903026-1f53-46a7-9f04-a25820fefac8"
      },
      "outputs": [
        {
          "output_type": "stream",
          "name": "stdout",
          "text": [
            "Looking in indexes: https://pypi.org/simple, https://us-python.pkg.dev/colab-wheels/public/simple/\n",
            "Collecting scikit-learn-intelex\n",
            "  Downloading scikit_learn_intelex-2021.6.3-py37-none-manylinux1_x86_64.whl (87 kB)\n",
            "\u001b[K     |████████████████████████████████| 87 kB 3.5 MB/s \n",
            "\u001b[?25hCollecting daal4py==2021.6.3\n",
            "  Downloading daal4py-2021.6.3-py37-none-manylinux1_x86_64.whl (26.0 MB)\n",
            "\u001b[K     |████████████████████████████████| 26.0 MB 56.5 MB/s \n",
            "\u001b[?25hRequirement already satisfied: scikit-learn>=0.22 in /usr/local/lib/python3.7/dist-packages (from scikit-learn-intelex) (1.0.2)\n",
            "Requirement already satisfied: numpy>=1.15 in /usr/local/lib/python3.7/dist-packages (from daal4py==2021.6.3->scikit-learn-intelex) (1.21.6)\n",
            "Collecting daal==2021.6.0\n",
            "  Downloading daal-2021.6.0-py2.py3-none-manylinux1_x86_64.whl (300.3 MB)\n",
            "\u001b[K     |████████████████████████████████| 300.3 MB 14 kB/s \n",
            "\u001b[?25hCollecting tbb==2021.*\n",
            "  Downloading tbb-2021.6.0-py2.py3-none-manylinux1_x86_64.whl (4.0 MB)\n",
            "\u001b[K     |████████████████████████████████| 4.0 MB 36.3 MB/s \n",
            "\u001b[?25hRequirement already satisfied: scipy>=1.1.0 in /usr/local/lib/python3.7/dist-packages (from scikit-learn>=0.22->scikit-learn-intelex) (1.7.3)\n",
            "Requirement already satisfied: joblib>=0.11 in /usr/local/lib/python3.7/dist-packages (from scikit-learn>=0.22->scikit-learn-intelex) (1.1.0)\n",
            "Requirement already satisfied: threadpoolctl>=2.0.0 in /usr/local/lib/python3.7/dist-packages (from scikit-learn>=0.22->scikit-learn-intelex) (3.1.0)\n",
            "Installing collected packages: tbb, daal, daal4py, scikit-learn-intelex\n",
            "Successfully installed daal-2021.6.0 daal4py-2021.6.3 scikit-learn-intelex-2021.6.3 tbb-2021.6.0\n"
          ]
        },
        {
          "output_type": "stream",
          "name": "stderr",
          "text": [
            "Intel(R) Extension for Scikit-learn* enabled (https://github.com/intel/scikit-learn-intelex)\n"
          ]
        }
      ],
      "source": [
        "import pandas as pd\n",
        "import numpy as np\n",
        "import matplotlib.pyplot as plt\n",
        "import seaborn as sns\n",
        "import time as time\n",
        "\n",
        "!pip install scikit-learn-intelex\n",
        "\n",
        "from sklearnex import patch_sklearn\n",
        "patch_sklearn()\n",
        "\n",
        "\n",
        "import warnings\n",
        "warnings.filterwarnings('ignore')"
      ]
    },
    {
      "cell_type": "code",
      "execution_count": 2,
      "metadata": {
        "colab": {
          "base_uri": "https://localhost:8080/",
          "height": 300
        },
        "id": "KtdCZ09cUG1u",
        "outputId": "d118af95-bad2-440b-8b27-3d5179ccd85a"
      },
      "outputs": [
        {
          "output_type": "execute_result",
          "data": {
            "text/plain": [
              "   ID  LIMIT_BAL  SEX  EDUCATION  MARRIAGE  AGE  PAY_0  PAY_2  PAY_3  PAY_4  \\\n",
              "0   1    20000.0    2          2         1   24      2      2     -1     -1   \n",
              "1   2   120000.0    2          2         2   26     -1      2      0      0   \n",
              "2   3    90000.0    2          2         2   34      0      0      0      0   \n",
              "3   4    50000.0    2          2         1   37      0      0      0      0   \n",
              "4   5    50000.0    1          2         1   57     -1      0     -1      0   \n",
              "\n",
              "   ...  BILL_AMT4  BILL_AMT5  BILL_AMT6  PAY_AMT1  PAY_AMT2  PAY_AMT3  \\\n",
              "0  ...        0.0        0.0        0.0       0.0     689.0       0.0   \n",
              "1  ...     3272.0     3455.0     3261.0       0.0    1000.0    1000.0   \n",
              "2  ...    14331.0    14948.0    15549.0    1518.0    1500.0    1000.0   \n",
              "3  ...    28314.0    28959.0    29547.0    2000.0    2019.0    1200.0   \n",
              "4  ...    20940.0    19146.0    19131.0    2000.0   36681.0   10000.0   \n",
              "\n",
              "   PAY_AMT4  PAY_AMT5  PAY_AMT6  default.payment.next.month  \n",
              "0       0.0       0.0       0.0                           1  \n",
              "1    1000.0       0.0    2000.0                           1  \n",
              "2    1000.0    1000.0    5000.0                           0  \n",
              "3    1100.0    1069.0    1000.0                           0  \n",
              "4    9000.0     689.0     679.0                           0  \n",
              "\n",
              "[5 rows x 25 columns]"
            ],
            "text/html": [
              "\n",
              "  <div id=\"df-aed8d03f-0bdd-4c90-bcbd-55977c40169c\">\n",
              "    <div class=\"colab-df-container\">\n",
              "      <div>\n",
              "<style scoped>\n",
              "    .dataframe tbody tr th:only-of-type {\n",
              "        vertical-align: middle;\n",
              "    }\n",
              "\n",
              "    .dataframe tbody tr th {\n",
              "        vertical-align: top;\n",
              "    }\n",
              "\n",
              "    .dataframe thead th {\n",
              "        text-align: right;\n",
              "    }\n",
              "</style>\n",
              "<table border=\"1\" class=\"dataframe\">\n",
              "  <thead>\n",
              "    <tr style=\"text-align: right;\">\n",
              "      <th></th>\n",
              "      <th>ID</th>\n",
              "      <th>LIMIT_BAL</th>\n",
              "      <th>SEX</th>\n",
              "      <th>EDUCATION</th>\n",
              "      <th>MARRIAGE</th>\n",
              "      <th>AGE</th>\n",
              "      <th>PAY_0</th>\n",
              "      <th>PAY_2</th>\n",
              "      <th>PAY_3</th>\n",
              "      <th>PAY_4</th>\n",
              "      <th>...</th>\n",
              "      <th>BILL_AMT4</th>\n",
              "      <th>BILL_AMT5</th>\n",
              "      <th>BILL_AMT6</th>\n",
              "      <th>PAY_AMT1</th>\n",
              "      <th>PAY_AMT2</th>\n",
              "      <th>PAY_AMT3</th>\n",
              "      <th>PAY_AMT4</th>\n",
              "      <th>PAY_AMT5</th>\n",
              "      <th>PAY_AMT6</th>\n",
              "      <th>default.payment.next.month</th>\n",
              "    </tr>\n",
              "  </thead>\n",
              "  <tbody>\n",
              "    <tr>\n",
              "      <th>0</th>\n",
              "      <td>1</td>\n",
              "      <td>20000.0</td>\n",
              "      <td>2</td>\n",
              "      <td>2</td>\n",
              "      <td>1</td>\n",
              "      <td>24</td>\n",
              "      <td>2</td>\n",
              "      <td>2</td>\n",
              "      <td>-1</td>\n",
              "      <td>-1</td>\n",
              "      <td>...</td>\n",
              "      <td>0.0</td>\n",
              "      <td>0.0</td>\n",
              "      <td>0.0</td>\n",
              "      <td>0.0</td>\n",
              "      <td>689.0</td>\n",
              "      <td>0.0</td>\n",
              "      <td>0.0</td>\n",
              "      <td>0.0</td>\n",
              "      <td>0.0</td>\n",
              "      <td>1</td>\n",
              "    </tr>\n",
              "    <tr>\n",
              "      <th>1</th>\n",
              "      <td>2</td>\n",
              "      <td>120000.0</td>\n",
              "      <td>2</td>\n",
              "      <td>2</td>\n",
              "      <td>2</td>\n",
              "      <td>26</td>\n",
              "      <td>-1</td>\n",
              "      <td>2</td>\n",
              "      <td>0</td>\n",
              "      <td>0</td>\n",
              "      <td>...</td>\n",
              "      <td>3272.0</td>\n",
              "      <td>3455.0</td>\n",
              "      <td>3261.0</td>\n",
              "      <td>0.0</td>\n",
              "      <td>1000.0</td>\n",
              "      <td>1000.0</td>\n",
              "      <td>1000.0</td>\n",
              "      <td>0.0</td>\n",
              "      <td>2000.0</td>\n",
              "      <td>1</td>\n",
              "    </tr>\n",
              "    <tr>\n",
              "      <th>2</th>\n",
              "      <td>3</td>\n",
              "      <td>90000.0</td>\n",
              "      <td>2</td>\n",
              "      <td>2</td>\n",
              "      <td>2</td>\n",
              "      <td>34</td>\n",
              "      <td>0</td>\n",
              "      <td>0</td>\n",
              "      <td>0</td>\n",
              "      <td>0</td>\n",
              "      <td>...</td>\n",
              "      <td>14331.0</td>\n",
              "      <td>14948.0</td>\n",
              "      <td>15549.0</td>\n",
              "      <td>1518.0</td>\n",
              "      <td>1500.0</td>\n",
              "      <td>1000.0</td>\n",
              "      <td>1000.0</td>\n",
              "      <td>1000.0</td>\n",
              "      <td>5000.0</td>\n",
              "      <td>0</td>\n",
              "    </tr>\n",
              "    <tr>\n",
              "      <th>3</th>\n",
              "      <td>4</td>\n",
              "      <td>50000.0</td>\n",
              "      <td>2</td>\n",
              "      <td>2</td>\n",
              "      <td>1</td>\n",
              "      <td>37</td>\n",
              "      <td>0</td>\n",
              "      <td>0</td>\n",
              "      <td>0</td>\n",
              "      <td>0</td>\n",
              "      <td>...</td>\n",
              "      <td>28314.0</td>\n",
              "      <td>28959.0</td>\n",
              "      <td>29547.0</td>\n",
              "      <td>2000.0</td>\n",
              "      <td>2019.0</td>\n",
              "      <td>1200.0</td>\n",
              "      <td>1100.0</td>\n",
              "      <td>1069.0</td>\n",
              "      <td>1000.0</td>\n",
              "      <td>0</td>\n",
              "    </tr>\n",
              "    <tr>\n",
              "      <th>4</th>\n",
              "      <td>5</td>\n",
              "      <td>50000.0</td>\n",
              "      <td>1</td>\n",
              "      <td>2</td>\n",
              "      <td>1</td>\n",
              "      <td>57</td>\n",
              "      <td>-1</td>\n",
              "      <td>0</td>\n",
              "      <td>-1</td>\n",
              "      <td>0</td>\n",
              "      <td>...</td>\n",
              "      <td>20940.0</td>\n",
              "      <td>19146.0</td>\n",
              "      <td>19131.0</td>\n",
              "      <td>2000.0</td>\n",
              "      <td>36681.0</td>\n",
              "      <td>10000.0</td>\n",
              "      <td>9000.0</td>\n",
              "      <td>689.0</td>\n",
              "      <td>679.0</td>\n",
              "      <td>0</td>\n",
              "    </tr>\n",
              "  </tbody>\n",
              "</table>\n",
              "<p>5 rows × 25 columns</p>\n",
              "</div>\n",
              "      <button class=\"colab-df-convert\" onclick=\"convertToInteractive('df-aed8d03f-0bdd-4c90-bcbd-55977c40169c')\"\n",
              "              title=\"Convert this dataframe to an interactive table.\"\n",
              "              style=\"display:none;\">\n",
              "        \n",
              "  <svg xmlns=\"http://www.w3.org/2000/svg\" height=\"24px\"viewBox=\"0 0 24 24\"\n",
              "       width=\"24px\">\n",
              "    <path d=\"M0 0h24v24H0V0z\" fill=\"none\"/>\n",
              "    <path d=\"M18.56 5.44l.94 2.06.94-2.06 2.06-.94-2.06-.94-.94-2.06-.94 2.06-2.06.94zm-11 1L8.5 8.5l.94-2.06 2.06-.94-2.06-.94L8.5 2.5l-.94 2.06-2.06.94zm10 10l.94 2.06.94-2.06 2.06-.94-2.06-.94-.94-2.06-.94 2.06-2.06.94z\"/><path d=\"M17.41 7.96l-1.37-1.37c-.4-.4-.92-.59-1.43-.59-.52 0-1.04.2-1.43.59L10.3 9.45l-7.72 7.72c-.78.78-.78 2.05 0 2.83L4 21.41c.39.39.9.59 1.41.59.51 0 1.02-.2 1.41-.59l7.78-7.78 2.81-2.81c.8-.78.8-2.07 0-2.86zM5.41 20L4 18.59l7.72-7.72 1.47 1.35L5.41 20z\"/>\n",
              "  </svg>\n",
              "      </button>\n",
              "      \n",
              "  <style>\n",
              "    .colab-df-container {\n",
              "      display:flex;\n",
              "      flex-wrap:wrap;\n",
              "      gap: 12px;\n",
              "    }\n",
              "\n",
              "    .colab-df-convert {\n",
              "      background-color: #E8F0FE;\n",
              "      border: none;\n",
              "      border-radius: 50%;\n",
              "      cursor: pointer;\n",
              "      display: none;\n",
              "      fill: #1967D2;\n",
              "      height: 32px;\n",
              "      padding: 0 0 0 0;\n",
              "      width: 32px;\n",
              "    }\n",
              "\n",
              "    .colab-df-convert:hover {\n",
              "      background-color: #E2EBFA;\n",
              "      box-shadow: 0px 1px 2px rgba(60, 64, 67, 0.3), 0px 1px 3px 1px rgba(60, 64, 67, 0.15);\n",
              "      fill: #174EA6;\n",
              "    }\n",
              "\n",
              "    [theme=dark] .colab-df-convert {\n",
              "      background-color: #3B4455;\n",
              "      fill: #D2E3FC;\n",
              "    }\n",
              "\n",
              "    [theme=dark] .colab-df-convert:hover {\n",
              "      background-color: #434B5C;\n",
              "      box-shadow: 0px 1px 3px 1px rgba(0, 0, 0, 0.15);\n",
              "      filter: drop-shadow(0px 1px 2px rgba(0, 0, 0, 0.3));\n",
              "      fill: #FFFFFF;\n",
              "    }\n",
              "  </style>\n",
              "\n",
              "      <script>\n",
              "        const buttonEl =\n",
              "          document.querySelector('#df-aed8d03f-0bdd-4c90-bcbd-55977c40169c button.colab-df-convert');\n",
              "        buttonEl.style.display =\n",
              "          google.colab.kernel.accessAllowed ? 'block' : 'none';\n",
              "\n",
              "        async function convertToInteractive(key) {\n",
              "          const element = document.querySelector('#df-aed8d03f-0bdd-4c90-bcbd-55977c40169c');\n",
              "          const dataTable =\n",
              "            await google.colab.kernel.invokeFunction('convertToInteractive',\n",
              "                                                     [key], {});\n",
              "          if (!dataTable) return;\n",
              "\n",
              "          const docLinkHtml = 'Like what you see? Visit the ' +\n",
              "            '<a target=\"_blank\" href=https://colab.research.google.com/notebooks/data_table.ipynb>data table notebook</a>'\n",
              "            + ' to learn more about interactive tables.';\n",
              "          element.innerHTML = '';\n",
              "          dataTable['output_type'] = 'display_data';\n",
              "          await google.colab.output.renderOutput(dataTable, element);\n",
              "          const docLink = document.createElement('div');\n",
              "          docLink.innerHTML = docLinkHtml;\n",
              "          element.appendChild(docLink);\n",
              "        }\n",
              "      </script>\n",
              "    </div>\n",
              "  </div>\n",
              "  "
            ]
          },
          "metadata": {},
          "execution_count": 2
        }
      ],
      "source": [
        "data = pd.read_csv('https://raw.githubusercontent.com/hsuecu/data_set/main/uci_data.csv')\n",
        "data.head()"
      ]
    },
    {
      "cell_type": "code",
      "execution_count": 3,
      "metadata": {
        "colab": {
          "base_uri": "https://localhost:8080/"
        },
        "id": "47igp1ZOUG1v",
        "outputId": "141dcf3c-9fc4-4f8e-b7b3-1b507a56a202"
      },
      "outputs": [
        {
          "output_type": "stream",
          "name": "stdout",
          "text": [
            "<class 'pandas.core.frame.DataFrame'>\n",
            "RangeIndex: 30000 entries, 0 to 29999\n",
            "Data columns (total 25 columns):\n",
            " #   Column                      Non-Null Count  Dtype  \n",
            "---  ------                      --------------  -----  \n",
            " 0   ID                          30000 non-null  int64  \n",
            " 1   LIMIT_BAL                   30000 non-null  float64\n",
            " 2   SEX                         30000 non-null  int64  \n",
            " 3   EDUCATION                   30000 non-null  int64  \n",
            " 4   MARRIAGE                    30000 non-null  int64  \n",
            " 5   AGE                         30000 non-null  int64  \n",
            " 6   PAY_0                       30000 non-null  int64  \n",
            " 7   PAY_2                       30000 non-null  int64  \n",
            " 8   PAY_3                       30000 non-null  int64  \n",
            " 9   PAY_4                       30000 non-null  int64  \n",
            " 10  PAY_5                       30000 non-null  int64  \n",
            " 11  PAY_6                       30000 non-null  int64  \n",
            " 12  BILL_AMT1                   30000 non-null  float64\n",
            " 13  BILL_AMT2                   30000 non-null  float64\n",
            " 14  BILL_AMT3                   30000 non-null  float64\n",
            " 15  BILL_AMT4                   30000 non-null  float64\n",
            " 16  BILL_AMT5                   30000 non-null  float64\n",
            " 17  BILL_AMT6                   30000 non-null  float64\n",
            " 18  PAY_AMT1                    30000 non-null  float64\n",
            " 19  PAY_AMT2                    30000 non-null  float64\n",
            " 20  PAY_AMT3                    30000 non-null  float64\n",
            " 21  PAY_AMT4                    30000 non-null  float64\n",
            " 22  PAY_AMT5                    30000 non-null  float64\n",
            " 23  PAY_AMT6                    30000 non-null  float64\n",
            " 24  default.payment.next.month  30000 non-null  int64  \n",
            "dtypes: float64(13), int64(12)\n",
            "memory usage: 5.7 MB\n"
          ]
        }
      ],
      "source": [
        "data.info()"
      ]
    },
    {
      "cell_type": "code",
      "execution_count": 4,
      "metadata": {
        "id": "K8Surkt4UG1w"
      },
      "outputs": [],
      "source": [
        "if __name__==\"__main__\":\n",
        "    for i in data.columns:\n",
        "        data[i].replace('?', np.NAN, inplace=True)"
      ]
    },
    {
      "cell_type": "code",
      "execution_count": 5,
      "metadata": {
        "id": "eY6r6XI8UG1w"
      },
      "outputs": [],
      "source": [
        "data.drop(['ID'], axis=1, inplace=True)"
      ]
    },
    {
      "cell_type": "markdown",
      "metadata": {
        "id": "kvqBnDrMUG1x"
      },
      "source": [
        "# Base Case Establishment"
      ]
    },
    {
      "cell_type": "code",
      "execution_count": 6,
      "metadata": {
        "colab": {
          "base_uri": "https://localhost:8080/"
        },
        "id": "ubYCtIkgUG1y",
        "outputId": "800163e3-00f6-4b7a-a65c-a4c69bcd32f5"
      },
      "outputs": [
        {
          "output_type": "stream",
          "name": "stdout",
          "text": [
            "X is (30000, 23)\n",
            "Y is (30000,)\n"
          ]
        }
      ],
      "source": [
        "X = data.drop(['default.payment.next.month'], axis=1)\n",
        "y = data['default.payment.next.month']\n",
        "\n",
        "print(f'X is {X.shape}\\nY is {y.shape}')"
      ]
    },
    {
      "cell_type": "code",
      "execution_count": 7,
      "metadata": {
        "id": "9o6eL1zbUG1y"
      },
      "outputs": [],
      "source": [
        "from sklearn.model_selection import train_test_split\n",
        "X_train, X_test, y_train, y_test = \\\n",
        "    train_test_split(X, y, train_size=0.7)"
      ]
    },
    {
      "cell_type": "code",
      "execution_count": 8,
      "metadata": {
        "colab": {
          "base_uri": "https://localhost:8080/"
        },
        "id": "X6l17CSrUG1z",
        "outputId": "e834ba51-0799-4636-ddf8-5223bc48efda"
      },
      "outputs": [
        {
          "output_type": "stream",
          "name": "stdout",
          "text": [
            "X_train:(21000, 23)\n",
            "X_test:(9000, 23)\n",
            "y_train:(21000,)\n",
            "y_test:(9000,)\n"
          ]
        }
      ],
      "source": [
        "print(f'X_train:{X_train.shape}\\n\\\n",
        "X_test:{X_test.shape}\\n\\\n",
        "y_train:{y_train.shape}\\n\\\n",
        "y_test:{y_test.shape}')"
      ]
    },
    {
      "cell_type": "code",
      "execution_count": 9,
      "metadata": {
        "id": "CA3Djg2rUG1z"
      },
      "outputs": [],
      "source": [
        "from sklearn.preprocessing import RobustScaler\n",
        "scaler=RobustScaler()\n",
        "\n",
        "col = X_train.columns\n",
        "X_train[col] = scaler.fit_transform(X_train[col])\n",
        "X_test[col] = scaler.transform(X_test[col])"
      ]
    },
    {
      "cell_type": "code",
      "execution_count": 10,
      "metadata": {
        "colab": {
          "base_uri": "https://localhost:8080/",
          "height": 237
        },
        "id": "Y_x9rAu8UG10",
        "outputId": "ee2b4c94-6575-439e-eded-e003b62dc6d7"
      },
      "outputs": [
        {
          "output_type": "execute_result",
          "data": {
            "text/plain": [
              "       LIMIT_BAL  SEX  EDUCATION  MARRIAGE       AGE  PAY_0  PAY_2  PAY_3  \\\n",
              "5870    0.210526  0.0       -1.0      -1.0 -0.285714    0.0    0.0    0.0   \n",
              "14021   0.315789  0.0        1.0      -1.0  0.428571    0.0    0.0    0.0   \n",
              "3090   -0.473684 -1.0        0.0      -1.0 -0.071429    0.0    0.0    0.0   \n",
              "\n",
              "       PAY_4  PAY_5  ...  BILL_AMT3  BILL_AMT4  BILL_AMT5  BILL_AMT6  \\\n",
              "5870     0.0    0.0  ...   2.381624   2.727256   3.172073   2.745459   \n",
              "14021    2.0    0.0  ...   0.424759   0.249584   0.312466   0.359082   \n",
              "3090     0.0    0.0  ...   0.237608   0.004240   0.017157   0.053382   \n",
              "\n",
              "       PAY_AMT1  PAY_AMT2  PAY_AMT3  PAY_AMT4  PAY_AMT5  PAY_AMT6  \n",
              "5870   1.340532  1.436561  1.752145  3.376325 -0.403028  1.034862  \n",
              "14021  0.223422  0.965212 -0.438036  0.405159  0.400884  0.388073  \n",
              "3090  -0.068764 -0.120232 -0.194683 -0.135053 -0.135057 -0.129358  \n",
              "\n",
              "[3 rows x 23 columns]"
            ],
            "text/html": [
              "\n",
              "  <div id=\"df-b5b1c176-7fc8-498e-a04c-7c678b0970ad\">\n",
              "    <div class=\"colab-df-container\">\n",
              "      <div>\n",
              "<style scoped>\n",
              "    .dataframe tbody tr th:only-of-type {\n",
              "        vertical-align: middle;\n",
              "    }\n",
              "\n",
              "    .dataframe tbody tr th {\n",
              "        vertical-align: top;\n",
              "    }\n",
              "\n",
              "    .dataframe thead th {\n",
              "        text-align: right;\n",
              "    }\n",
              "</style>\n",
              "<table border=\"1\" class=\"dataframe\">\n",
              "  <thead>\n",
              "    <tr style=\"text-align: right;\">\n",
              "      <th></th>\n",
              "      <th>LIMIT_BAL</th>\n",
              "      <th>SEX</th>\n",
              "      <th>EDUCATION</th>\n",
              "      <th>MARRIAGE</th>\n",
              "      <th>AGE</th>\n",
              "      <th>PAY_0</th>\n",
              "      <th>PAY_2</th>\n",
              "      <th>PAY_3</th>\n",
              "      <th>PAY_4</th>\n",
              "      <th>PAY_5</th>\n",
              "      <th>...</th>\n",
              "      <th>BILL_AMT3</th>\n",
              "      <th>BILL_AMT4</th>\n",
              "      <th>BILL_AMT5</th>\n",
              "      <th>BILL_AMT6</th>\n",
              "      <th>PAY_AMT1</th>\n",
              "      <th>PAY_AMT2</th>\n",
              "      <th>PAY_AMT3</th>\n",
              "      <th>PAY_AMT4</th>\n",
              "      <th>PAY_AMT5</th>\n",
              "      <th>PAY_AMT6</th>\n",
              "    </tr>\n",
              "  </thead>\n",
              "  <tbody>\n",
              "    <tr>\n",
              "      <th>5870</th>\n",
              "      <td>0.210526</td>\n",
              "      <td>0.0</td>\n",
              "      <td>-1.0</td>\n",
              "      <td>-1.0</td>\n",
              "      <td>-0.285714</td>\n",
              "      <td>0.0</td>\n",
              "      <td>0.0</td>\n",
              "      <td>0.0</td>\n",
              "      <td>0.0</td>\n",
              "      <td>0.0</td>\n",
              "      <td>...</td>\n",
              "      <td>2.381624</td>\n",
              "      <td>2.727256</td>\n",
              "      <td>3.172073</td>\n",
              "      <td>2.745459</td>\n",
              "      <td>1.340532</td>\n",
              "      <td>1.436561</td>\n",
              "      <td>1.752145</td>\n",
              "      <td>3.376325</td>\n",
              "      <td>-0.403028</td>\n",
              "      <td>1.034862</td>\n",
              "    </tr>\n",
              "    <tr>\n",
              "      <th>14021</th>\n",
              "      <td>0.315789</td>\n",
              "      <td>0.0</td>\n",
              "      <td>1.0</td>\n",
              "      <td>-1.0</td>\n",
              "      <td>0.428571</td>\n",
              "      <td>0.0</td>\n",
              "      <td>0.0</td>\n",
              "      <td>0.0</td>\n",
              "      <td>2.0</td>\n",
              "      <td>0.0</td>\n",
              "      <td>...</td>\n",
              "      <td>0.424759</td>\n",
              "      <td>0.249584</td>\n",
              "      <td>0.312466</td>\n",
              "      <td>0.359082</td>\n",
              "      <td>0.223422</td>\n",
              "      <td>0.965212</td>\n",
              "      <td>-0.438036</td>\n",
              "      <td>0.405159</td>\n",
              "      <td>0.400884</td>\n",
              "      <td>0.388073</td>\n",
              "    </tr>\n",
              "    <tr>\n",
              "      <th>3090</th>\n",
              "      <td>-0.473684</td>\n",
              "      <td>-1.0</td>\n",
              "      <td>0.0</td>\n",
              "      <td>-1.0</td>\n",
              "      <td>-0.071429</td>\n",
              "      <td>0.0</td>\n",
              "      <td>0.0</td>\n",
              "      <td>0.0</td>\n",
              "      <td>0.0</td>\n",
              "      <td>0.0</td>\n",
              "      <td>...</td>\n",
              "      <td>0.237608</td>\n",
              "      <td>0.004240</td>\n",
              "      <td>0.017157</td>\n",
              "      <td>0.053382</td>\n",
              "      <td>-0.068764</td>\n",
              "      <td>-0.120232</td>\n",
              "      <td>-0.194683</td>\n",
              "      <td>-0.135053</td>\n",
              "      <td>-0.135057</td>\n",
              "      <td>-0.129358</td>\n",
              "    </tr>\n",
              "  </tbody>\n",
              "</table>\n",
              "<p>3 rows × 23 columns</p>\n",
              "</div>\n",
              "      <button class=\"colab-df-convert\" onclick=\"convertToInteractive('df-b5b1c176-7fc8-498e-a04c-7c678b0970ad')\"\n",
              "              title=\"Convert this dataframe to an interactive table.\"\n",
              "              style=\"display:none;\">\n",
              "        \n",
              "  <svg xmlns=\"http://www.w3.org/2000/svg\" height=\"24px\"viewBox=\"0 0 24 24\"\n",
              "       width=\"24px\">\n",
              "    <path d=\"M0 0h24v24H0V0z\" fill=\"none\"/>\n",
              "    <path d=\"M18.56 5.44l.94 2.06.94-2.06 2.06-.94-2.06-.94-.94-2.06-.94 2.06-2.06.94zm-11 1L8.5 8.5l.94-2.06 2.06-.94-2.06-.94L8.5 2.5l-.94 2.06-2.06.94zm10 10l.94 2.06.94-2.06 2.06-.94-2.06-.94-.94-2.06-.94 2.06-2.06.94z\"/><path d=\"M17.41 7.96l-1.37-1.37c-.4-.4-.92-.59-1.43-.59-.52 0-1.04.2-1.43.59L10.3 9.45l-7.72 7.72c-.78.78-.78 2.05 0 2.83L4 21.41c.39.39.9.59 1.41.59.51 0 1.02-.2 1.41-.59l7.78-7.78 2.81-2.81c.8-.78.8-2.07 0-2.86zM5.41 20L4 18.59l7.72-7.72 1.47 1.35L5.41 20z\"/>\n",
              "  </svg>\n",
              "      </button>\n",
              "      \n",
              "  <style>\n",
              "    .colab-df-container {\n",
              "      display:flex;\n",
              "      flex-wrap:wrap;\n",
              "      gap: 12px;\n",
              "    }\n",
              "\n",
              "    .colab-df-convert {\n",
              "      background-color: #E8F0FE;\n",
              "      border: none;\n",
              "      border-radius: 50%;\n",
              "      cursor: pointer;\n",
              "      display: none;\n",
              "      fill: #1967D2;\n",
              "      height: 32px;\n",
              "      padding: 0 0 0 0;\n",
              "      width: 32px;\n",
              "    }\n",
              "\n",
              "    .colab-df-convert:hover {\n",
              "      background-color: #E2EBFA;\n",
              "      box-shadow: 0px 1px 2px rgba(60, 64, 67, 0.3), 0px 1px 3px 1px rgba(60, 64, 67, 0.15);\n",
              "      fill: #174EA6;\n",
              "    }\n",
              "\n",
              "    [theme=dark] .colab-df-convert {\n",
              "      background-color: #3B4455;\n",
              "      fill: #D2E3FC;\n",
              "    }\n",
              "\n",
              "    [theme=dark] .colab-df-convert:hover {\n",
              "      background-color: #434B5C;\n",
              "      box-shadow: 0px 1px 3px 1px rgba(0, 0, 0, 0.15);\n",
              "      filter: drop-shadow(0px 1px 2px rgba(0, 0, 0, 0.3));\n",
              "      fill: #FFFFFF;\n",
              "    }\n",
              "  </style>\n",
              "\n",
              "      <script>\n",
              "        const buttonEl =\n",
              "          document.querySelector('#df-b5b1c176-7fc8-498e-a04c-7c678b0970ad button.colab-df-convert');\n",
              "        buttonEl.style.display =\n",
              "          google.colab.kernel.accessAllowed ? 'block' : 'none';\n",
              "\n",
              "        async function convertToInteractive(key) {\n",
              "          const element = document.querySelector('#df-b5b1c176-7fc8-498e-a04c-7c678b0970ad');\n",
              "          const dataTable =\n",
              "            await google.colab.kernel.invokeFunction('convertToInteractive',\n",
              "                                                     [key], {});\n",
              "          if (!dataTable) return;\n",
              "\n",
              "          const docLinkHtml = 'Like what you see? Visit the ' +\n",
              "            '<a target=\"_blank\" href=https://colab.research.google.com/notebooks/data_table.ipynb>data table notebook</a>'\n",
              "            + ' to learn more about interactive tables.';\n",
              "          element.innerHTML = '';\n",
              "          dataTable['output_type'] = 'display_data';\n",
              "          await google.colab.output.renderOutput(dataTable, element);\n",
              "          const docLink = document.createElement('div');\n",
              "          docLink.innerHTML = docLinkHtml;\n",
              "          element.appendChild(docLink);\n",
              "        }\n",
              "      </script>\n",
              "    </div>\n",
              "  </div>\n",
              "  "
            ]
          },
          "metadata": {},
          "execution_count": 10
        }
      ],
      "source": [
        "X_train.head(3)"
      ]
    },
    {
      "cell_type": "code",
      "execution_count": 11,
      "metadata": {
        "id": "UJ1_Vtv3UG10"
      },
      "outputs": [],
      "source": [
        "from sklearn.model_selection import cross_validate\n",
        "from sklearn.metrics import accuracy_score, recall_score, precision_score,\\\n",
        "f1_score, average_precision_score\n",
        "from sklearn.model_selection import StratifiedKFold"
      ]
    },
    {
      "cell_type": "code",
      "execution_count": 12,
      "metadata": {
        "id": "3ByMwoeaUG10"
      },
      "outputs": [],
      "source": [
        "def analyse(model, xtrain, ytrain, xtest, ytest):\n",
        "    model.fit(xtrain, ytrain)\n",
        "    sk = StratifiedKFold(5, shuffle=True, random_state=0)\n",
        "    sf_scorer = cross_validate(model, xtrain, ytrain, \n",
        "                 scoring=['roc_auc', 'accuracy', 'precision', 'recall', 'f1'],\n",
        "                 cv=sk)\n",
        "    accuracy = sf_scorer['test_accuracy'].mean()\n",
        "    recall = sf_scorer['test_recall'].mean()\n",
        "    precision = sf_scorer['test_precision'].mean()\n",
        "    roc_auc = sf_scorer['test_roc_auc'].mean()\n",
        "    f1score = sf_scorer['test_f1'].mean()\n",
        "    try:\n",
        "        y_score_test = model.decision_function(xtest)\n",
        "        y_score_train = model.decision_function(xtrain)\n",
        "    except:\n",
        "        y_score_test = model.predict_proba(xtest)[:,1]\n",
        "        y_score_train = model.predict_proba(xtrain)[:,1]\n",
        "    ypred = model.predict(xtest)\n",
        "    ret = {'train':{'pr auc': average_precision_score(ytrain, y_score_train),\n",
        "                'accuracy': accuracy,\n",
        "                'recall':recall,\n",
        "                'precision':precision,\n",
        "                'roc auc':roc_auc,\n",
        "                'f1 score': f1score},\n",
        "           'test':{'pr auc': average_precision_score(ytest, y_score_test),\n",
        "                'accuracy':accuracy_score(ytest, ypred),\n",
        "                'recall':recall_score(ytest, ypred),\n",
        "                'precision':precision_score(ytest, ypred),\n",
        "                'roc auc':roc_auc_score(ytest, y_score_test),\n",
        "                'f1 score': f1_score(ytest, ypred)}}\n",
        "    return ret"
      ]
    },
    {
      "cell_type": "code",
      "execution_count": 13,
      "metadata": {
        "id": "_JJFj_O_UG11"
      },
      "outputs": [],
      "source": [
        "from sklearn.metrics import accuracy_score, recall_score, precision_score, roc_auc_score, f1_score, auc, precision_recall_curve\n",
        "\n",
        "def analyseANN(ANNmodel, model, xtrain, ytrain, xtest, ytest):\n",
        "    \n",
        "    ypred =  model.predict(xtrain)\n",
        "    ypred_test = model.predict(xtest)\n",
        "    precision_train, recall_train, thresholds = precision_recall_curve(ytrain, ypred)\n",
        "    precision_test, recall_test, thresholds = precision_recall_curve(y_test, ypred_test)\n",
        "\n",
        "    for i in range(len(ypred)):\n",
        "        if ypred[i] <=0.5:\n",
        "            ypred[i] =0\n",
        "        else: \n",
        "            ypred[i] =1\n",
        "    for i in range(len(ypred_test)):\n",
        "        if ypred_test[i] <=0.5:\n",
        "            ypred_test[i] =0\n",
        "        else: \n",
        "            ypred_test[i] =1\n",
        "    \n",
        "    #ypred = y_pred_prob.where(y_pred_prob<0.5,0,1 ) \n",
        "    accuracy = accuracy_score(ytrain, ypred)\n",
        "    recall = recall_score(ytrain, ypred)\n",
        "    precision = precision_score(ytrain, ypred)\n",
        "    roc_auc = roc_auc_score(ytrain, ypred)\n",
        "    f1score = f1_score(ytrain, ypred)\n",
        "\n",
        "    ret = {'train':{'pr auc': auc(recall_train, precision_train),\n",
        "                    'accuracy': accuracy,\n",
        "                    'recall':recall,\n",
        "                    'precision':precision,\n",
        "                    'roc auc':roc_auc,\n",
        "                    'f1 score': f1score},\n",
        "               'test':{'pr auc': auc(recall_test, precision_test),\n",
        "                    'accuracy':accuracy_score(ytest, ypred_test),\n",
        "                    'recall':recall_score(ytest, ypred_test),\n",
        "                    'precision':precision_score(ytest, ypred_test),\n",
        "                    'roc auc':roc_auc_score(ytest, ypred_test),\n",
        "                    'f1 score': f1_score(ytest, ypred_test)}}\n",
        "    \n",
        "    history_df = pd.DataFrame(ANNmodel.history)\n",
        "    history_df.loc[:, ['loss', 'val_loss']].plot()\n",
        "    history_df.loc[:, ['binary_accuracy', 'val_binary_accuracy']].plot()\n",
        "    plt.ylim(0.5, 1)\n",
        "    return ret"
      ]
    },
    {
      "cell_type": "markdown",
      "metadata": {
        "id": "otk1unQNUG12"
      },
      "source": [
        "# BASE CASE"
      ]
    },
    {
      "cell_type": "code",
      "execution_count": null,
      "metadata": {
        "scrolled": true,
        "colab": {
          "base_uri": "https://localhost:8080/"
        },
        "id": "DT-mxlp5UG12",
        "outputId": "ef7e9db2-1030-4952-b767-0ef3f245eede"
      },
      "outputs": [
        {
          "output_type": "stream",
          "name": "stdout",
          "text": [
            "{\n",
            "  \"train\": {\n",
            "    \"pr auc\": 0.49984707339290285,\n",
            "    \"accuracy\": 0.8103333333333333,\n",
            "    \"recall\": 0.22557789657945784,\n",
            "    \"precision\": 0.71058295803888,\n",
            "    \"roc auc\": 0.7195509391381691,\n",
            "    \"f1 score\": 0.3423346862940029\n",
            "  },\n",
            "  \"test\": {\n",
            "    \"pr auc\": 0.5181100288747386,\n",
            "    \"accuracy\": 0.8092222222222222,\n",
            "    \"recall\": 0.23835213339872485,\n",
            "    \"precision\": 0.7476923076923077,\n",
            "    \"roc auc\": 0.7257604002514112,\n",
            "    \"f1 score\": 0.361472666418743\n",
            "  }\n",
            "}\n"
          ]
        }
      ],
      "source": [
        "##                     ##\n",
        "## LOGISTIC REGRESSION ##\n",
        "##                     ##\n",
        "\n",
        "from sklearn.linear_model import LogisticRegression\n",
        "import json\n",
        "lr = LogisticRegression(random_state=42)\n",
        "\n",
        "print(json.dumps(analyse(lr, X_train, y_train, X_test, y_test), indent=2))"
      ]
    },
    {
      "cell_type": "code",
      "execution_count": null,
      "metadata": {
        "colab": {
          "base_uri": "https://localhost:8080/"
        },
        "id": "edJYApeRUG12",
        "outputId": "f78742ff-659e-4c34-b5a3-243ca1bf3ac7"
      },
      "outputs": [
        {
          "output_type": "stream",
          "name": "stdout",
          "text": [
            "{\n",
            "  \"train\": {\n",
            "    \"pr auc\": 0.706706190173644,\n",
            "    \"accuracy\": 0.8012857142857144,\n",
            "    \"recall\": 0.3665439750201069,\n",
            "    \"precision\": 0.5721911378011334,\n",
            "    \"roc auc\": 0.7377544530799751,\n",
            "    \"f1 score\": 0.44665839229774296\n",
            "  },\n",
            "  \"test\": {\n",
            "    \"pr auc\": 0.5176964696431343,\n",
            "    \"accuracy\": 0.8046666666666666,\n",
            "    \"recall\": 0.36978911230995587,\n",
            "    \"precision\": 0.6145069274653626,\n",
            "    \"roc auc\": 0.7559662081438948,\n",
            "    \"f1 score\": 0.4617268830373546\n",
            "  }\n",
            "}\n"
          ]
        }
      ],
      "source": [
        "##                     ##\n",
        "## XG BOOST CLASSIFIER ##\n",
        "##                     ##\n",
        "\n",
        "from xgboost.sklearn import XGBClassifier\n",
        "params = {\n",
        "            'booster':'gbtree',\n",
        "            'objective':'binary:logistic',\n",
        "            'max_depth': 3,\n",
        "            'learning_rate': 1,\n",
        "            'n_estimators':100,\n",
        "            \"eval_metric\": ['logloss'],\n",
        "            'random_state': 42\n",
        "        }         \n",
        "           \n",
        "          \n",
        "# instantiate the classifier \n",
        "xgb_clf = XGBClassifier(**params)\n",
        "\n",
        "print(json.dumps(analyse(xgb_clf, X_train, y_train, X_test, y_test), indent=2))"
      ]
    },
    {
      "cell_type": "code",
      "execution_count": null,
      "metadata": {
        "colab": {
          "base_uri": "https://localhost:8080/"
        },
        "id": "ytZedgmsUG13",
        "outputId": "69d7b51a-6347-4bd8-b93b-98b31f689bc9"
      },
      "outputs": [
        {
          "output_type": "stream",
          "name": "stdout",
          "text": [
            "{\n",
            "  \"train\": {\n",
            "    \"pr auc\": 0.5424712570733482,\n",
            "    \"accuracy\": 0.8120952380952382,\n",
            "    \"recall\": 0.2536376969295548,\n",
            "    \"precision\": 0.6938251640453383,\n",
            "    \"roc auc\": 0.7678718945955356,\n",
            "    \"f1 score\": 0.3711748216586358\n",
            "  },\n",
            "  \"test\": {\n",
            "    \"pr auc\": 0.5464956469059141,\n",
            "    \"accuracy\": 0.8051111111111111,\n",
            "    \"recall\": 0.2466895537027955,\n",
            "    \"precision\": 0.6976421636615812,\n",
            "    \"roc auc\": 0.7743467968635456,\n",
            "    \"f1 score\": 0.3644927536231884\n",
            "  }\n",
            "}\n"
          ]
        }
      ],
      "source": [
        "##                          ##\n",
        "## RANDOM FOREST CLASSIFIER ##\n",
        "##                          ##\n",
        "\n",
        "from sklearn.ensemble import RandomForestClassifier\n",
        "\n",
        "rforest = RandomForestClassifier(max_depth=3, random_state=42);\n",
        "\n",
        "print(json.dumps(analyse(rforest, X_train, y_train, X_test, y_test), indent=2))"
      ]
    },
    {
      "cell_type": "code",
      "execution_count": null,
      "metadata": {
        "colab": {
          "base_uri": "https://localhost:8080/"
        },
        "id": "ZNjUTvd4UG13",
        "outputId": "124ba0b1-4301-4363-b716-b9f6e17720db"
      },
      "outputs": [
        {
          "output_type": "stream",
          "name": "stdout",
          "text": [
            "{\n",
            "  \"train\": {\n",
            "    \"pr auc\": 0.4900875138748868,\n",
            "    \"accuracy\": 0.7365714285714287,\n",
            "    \"recall\": 0.6127953351942093,\n",
            "    \"precision\": 0.4403680141180605,\n",
            "    \"roc auc\": 0.7356494190901158,\n",
            "    \"f1 score\": 0.5072039885091624\n",
            "  },\n",
            "  \"test\": {\n",
            "    \"pr auc\": 0.5062912506154454,\n",
            "    \"accuracy\": 0.7585555555555555,\n",
            "    \"recall\": 0.5948994605198626,\n",
            "    \"precision\": 0.473828125,\n",
            "    \"roc auc\": 0.7385603628257738,\n",
            "    \"f1 score\": 0.527505979560774\n",
            "  }\n",
            "}\n"
          ]
        }
      ],
      "source": [
        "##                        ##\n",
        "## NAIVE BAYES CLASSIFIER ##\n",
        "##                        ##\n",
        "\n",
        "\n",
        "from sklearn.naive_bayes import GaussianNB\n",
        "gnb = GaussianNB()\n",
        "\n",
        "print(json.dumps(analyse(gnb, X_train, y_train, X_test, y_test), indent=2))"
      ]
    },
    {
      "cell_type": "code",
      "execution_count": null,
      "metadata": {
        "colab": {
          "base_uri": "https://localhost:8080/"
        },
        "id": "JSBIKHEeUG14",
        "outputId": "9237577a-b7e6-4c74-aa83-f4009e4d883e"
      },
      "outputs": [
        {
          "output_type": "stream",
          "name": "stdout",
          "text": [
            "{\n",
            "  \"train\": {\n",
            "    \"pr auc\": 0.5244905622520227,\n",
            "    \"accuracy\": 0.8174761904761905,\n",
            "    \"recall\": 0.3134602829162133,\n",
            "    \"precision\": 0.6807838195505266,\n",
            "    \"roc auc\": 0.7043932931068735,\n",
            "    \"f1 score\": 0.42878700003709114\n",
            "  },\n",
            "  \"test\": {\n",
            "    \"pr auc\": 0.5131047274624225,\n",
            "    \"accuracy\": 0.8166666666666667,\n",
            "    \"recall\": 0.32663070132417854,\n",
            "    \"precision\": 0.7062566277836692,\n",
            "    \"roc auc\": 0.7080826342857871,\n",
            "    \"f1 score\": 0.4466800804828974\n",
            "  }\n",
            "}\n"
          ]
        }
      ],
      "source": [
        "##                ##\n",
        "## SVC CLASSIFIER ##\n",
        "##                ##\n",
        "\n",
        "\n",
        "from sklearn.svm import SVC\n",
        "svc = SVC(C=1, kernel='rbf', gamma='scale')\n",
        "\n",
        "print(json.dumps(analyse(svc, X_train, y_train, X_test, y_test), indent=2))"
      ]
    },
    {
      "cell_type": "code",
      "execution_count": null,
      "metadata": {
        "id": "BxwTrgwPUG14"
      },
      "outputs": [],
      "source": [
        "##                ##\n",
        "## ANN CLASSIFIER ##\n",
        "##                ##\n",
        "\n",
        "\n",
        "from tensorflow.keras import Sequential\n",
        "from tensorflow.keras.layers import Dense, BatchNormalization, Dropout\n",
        "from tensorflow.keras.optimizers import Adam\n",
        "from keras.callbacks import EarlyStopping\n",
        "from keras.wrappers.scikit_learn import KerasClassifier\n",
        "\n",
        "def create_ann(dense_layers, dense_nodes, learning_rate, dropout_rate):\n",
        "    ann = Sequential()\n",
        "    ann.add(Dense(units = dense_nodes, activation='relu', input_shape=[(X_train.shape[1])]))\n",
        "    ann.add(Dropout(dropout_rate))\n",
        "    ann.add(BatchNormalization())\n",
        "\n",
        "    for i in range(dense_layers):\n",
        "        ann.add(Dense(units = dense_nodes, activation='relu'))\n",
        "        ann.add(Dropout(dropout_rate))\n",
        "        ann.add(BatchNormalization())\n",
        "    \n",
        "    ann.add(Dense(units = 1, activation='sigmoid')) \n",
        "    ann.compile(loss='binary_crossentropy', optimizer=Adam(learning_rate=learning_rate), metrics=['binary_accuracy'])\n",
        "    return ann\n",
        "\n",
        "def Model(dense_layers, dense_nodes, learning_rate, dropout_rate, batch_size):\n",
        "    ann = create_ann(dense_layers, dense_nodes, learning_rate, dropout_rate)\n",
        "    es = EarlyStopping(min_delta=0.01, patience=10)\n",
        "    classifier = ann.fit(X_train, y_train, validation_data=(X_test, y_test), batch_size=batch_size,\n",
        "                                     epochs=100, verbose=0,callbacks = es)\n",
        "    return classifier, ann"
      ]
    },
    {
      "cell_type": "code",
      "execution_count": null,
      "metadata": {
        "colab": {
          "base_uri": "https://localhost:8080/",
          "height": 847
        },
        "id": "pvg5T5UKUG14",
        "outputId": "dd3a118a-0f8c-4891-8a5a-717e5b3a9419"
      },
      "outputs": [
        {
          "output_type": "stream",
          "name": "stdout",
          "text": [
            "running for: 0m, 12s\n",
            "{\n",
            "  \"train\": {\n",
            "    \"pr auc\": 0.5537515298906088,\n",
            "    \"accuracy\": 0.8222857142857143,\n",
            "    \"recall\": 0.3450076136610833,\n",
            "    \"precision\": 0.6874729085392285,\n",
            "    \"roc auc\": 0.6505261198220676,\n",
            "    \"f1 score\": 0.45944380069524915\n",
            "  },\n",
            "  \"test\": {\n",
            "    \"pr auc\": 0.5593672035590465,\n",
            "    \"accuracy\": 0.8168888888888889,\n",
            "    \"recall\": 0.3472290338401177,\n",
            "    \"precision\": 0.6907317073170731,\n",
            "    \"roc auc\": 0.6508447999253741,\n",
            "    \"f1 score\": 0.46214099216710186\n",
            "  }\n",
            "}\n"
          ]
        },
        {
          "output_type": "display_data",
          "data": {
            "text/plain": [
              "<Figure size 432x288 with 1 Axes>"
            ],
            "image/png": "[encoded data removed]"
          },
          "metadata": {
            "needs_background": "light"
          }
        },
        {
          "output_type": "display_data",
          "data": {
            "text/plain": [
              "<Figure size 432x288 with 1 Axes>"
            ],
            "image/png": "[encoded data removed]"
          },
          "metadata": {
            "needs_background": "light"
          }
        }
      ],
      "source": [
        "_start = time.time()\n",
        "\n",
        "ANNmodel , model= Model(dense_layers =2 , dense_nodes = 128, learning_rate = 0.001, dropout_rate = 0.3, batch_size = 1000)\n",
        "\n",
        "ret = analyseANN(ANNmodel, model, X_train, y_train, X_test, y_test)\n",
        "\n",
        "_end = time.time()\n",
        "\n",
        "print(f'running for: {int((_end-_start)/60)}m, {int((_end-_start)%60)}s')\n",
        "print(json.dumps(ret, indent=2))"
      ]
    },
    {
      "cell_type": "markdown",
      "metadata": {
        "id": "3IJmWSm8UG15"
      },
      "source": [
        "# PSO OPTIMIZED"
      ]
    },
    {
      "cell_type": "code",
      "execution_count": 14,
      "metadata": {
        "colab": {
          "base_uri": "https://localhost:8080/"
        },
        "id": "VNUNCfFyUG15",
        "outputId": "95f4c05b-8280-4a0a-b731-61852104e388"
      },
      "outputs": [
        {
          "output_type": "stream",
          "name": "stdout",
          "text": [
            "Looking in indexes: https://pypi.org/simple, https://us-python.pkg.dev/colab-wheels/public/simple/\n",
            "Collecting optunity\n",
            "  Downloading Optunity-1.1.1.tar.gz (4.6 MB)\n",
            "\u001b[K     |████████████████████████████████| 4.6 MB 5.3 MB/s \n",
            "\u001b[?25hBuilding wheels for collected packages: optunity\n",
            "  Building wheel for optunity (setup.py) ... \u001b[?25l\u001b[?25hdone\n",
            "  Created wheel for optunity: filename=Optunity-1.1.1-py3-none-any.whl size=72032 sha256=e177ab6946370bfb943a530d3d5f0a4182ec6d9ec3d91fb15e50af2c9b83d338\n",
            "  Stored in directory: /root/.cache/pip/wheels/0d/0e/31/a4763ff822a20f88a61dd3bb1c8b78a8f25c605392fe956d07\n",
            "Successfully built optunity\n",
            "Installing collected packages: optunity\n",
            "Successfully installed optunity-1.1.1\n"
          ]
        }
      ],
      "source": [
        "!pip install optunity\n",
        "\n",
        "import optunity\n",
        "import optunity.metrics\n",
        "from bisect import bisect\n",
        "from sklearn.model_selection import cross_val_score\n",
        "import math"
      ]
    },
    {
      "cell_type": "code",
      "execution_count": null,
      "metadata": {
        "id": "kMFRhUNlUG15"
      },
      "outputs": [],
      "source": [
        "##                     ##\n",
        "## LOGISTIC REGRESSION ##\n",
        "##                     ##\n",
        "\n",
        "from sklearn.linear_model import LogisticRegression\n",
        "import json\n",
        "\n",
        "search = {\n",
        "    'penalty':[0, 1], # none l1 l2 elasticnet\n",
        "    'C': [1e-6, 1e-2], # inverse of regularization strength\n",
        "    'l1_ratio':[0, 1],\n",
        "    'max_iter':[10, 1000]\n",
        "}\n",
        "\n",
        "data = X_train.values.tolist()\n",
        "labels = y_train.values.tolist()\n",
        "counter=0\n",
        "\n",
        "@optunity.cross_validated(x=data, y=labels, num_folds=3)\n",
        "\n",
        "def performance_lr(x_train, y_train, x_test, y_test,\n",
        "                  penalty=None, max_iter=None, C=None,\n",
        "                   l1_ratio=None):\n",
        "    global counter\n",
        "    def mapper(f, breakpoint=[], cat=[]):\n",
        "        return cat[bisect(breakpoint, f)]\n",
        "    \n",
        "    penalty=mapper(penalty, breakpoint=[0.25, 0.5, 0.75],\n",
        "                   cat=['none', 'l1', 'l2', 'elasticnet'])\n",
        "    max_iter = int(max_iter)\n",
        "    \n",
        "    model = LogisticRegression(penalty=penalty, l1_ratio=l1_ratio, C=C,\n",
        "                               max_iter=max_iter, solver='saga', n_jobs=-1)\n",
        "    # mark this issue.\n",
        "    # only saga allows using any penalty hence for \n",
        "    # ease of implementation we use saga.\n",
        "    l = cross_val_score(model, data, labels, cv=3, n_jobs=-1,\n",
        "                                    scoring='roc_auc', error_score='raise')\n",
        "    scores = np.mean(l)\n",
        "    counter+=1\n",
        "    print(counter, end=' ')\n",
        "    return scores"
      ]
    },
    {
      "cell_type": "code",
      "execution_count": null,
      "metadata": {
        "scrolled": false,
        "colab": {
          "base_uri": "https://localhost:8080/"
        },
        "id": "NW-U2ryvUG15",
        "outputId": "77f0e025-b949-4479-d696-69ef8fc90f05"
      },
      "outputs": [
        {
          "output_type": "stream",
          "name": "stdout",
          "text": [
            "1 2 3 4 5 6 7 8 9 10 11 12 13 14 15 16 17 18 19 20 21 22 23 24 25 26 27 28 29 30 31 32 33 34 35 36 37 38 39 40 41 42 43 44 45 46 47 48 49 50 51 52 53 54 55 56 57 58 59 60 61 62 63 64 65 66 67 68 69 70 71 72 73 74 75 76 77 78 79 80 81 82 83 84 85 86 87 88 89 90 91 92 93 94 95 96 97 98 99 100 101 102 103 104 105 106 107 108 109 110 111 112 113 114 115 116 117 118 119 120 121 122 123 124 125 126 127 128 129 130 131 132 133 134 135 136 137 138 139 140 141 142 143 144 145 146 147 148 149 150 151 152 153 154 155 156 157 158 159 160 161 162 163 164 165 166 167 168 169 170 171 172 173 174 175 176 177 178 179 180 181 182 183 184 185 186 187 188 189 190 191 192 193 194 195 196 197 198 199 200 201 202 203 204 205 206 207 208 209 210 211 212 213 214 215 216 217 218 219 220 221 222 223 224 225 226 227 228 229 230 231 232 233 234 235 236 237 238 239 240 241 242 243 244 245 246 247 248 249 250 251 252 253 254 255 256 257 258 259 260 261 262 263 264 265 266 267 268 269 270 271 272 273 274 275 276 277 278 279 280 281 282 283 284 285 286 287 288 289 290 291 running for: 33m, 56s\n"
          ]
        }
      ],
      "source": [
        "_start = time.time()\n",
        "\n",
        "optimal_confg, info, _ = optunity.maximize(performance_lr,\n",
        "                                           solver_name='particle swarm',\n",
        "                                           num_evals=100,\n",
        "                                           **search)\n",
        "\n",
        "_end = time.time()\n",
        "\n",
        "# only in seconds\n",
        "\n",
        "print(f'running for: {int((_end-_start)/60)}m, {int((_end-_start)%60)}s')"
      ]
    },
    {
      "cell_type": "code",
      "execution_count": null,
      "metadata": {
        "id": "BZjbPNo_UG15"
      },
      "outputs": [],
      "source": [
        "def mapper(f, breakpoint=[], cat=[]):\n",
        "    return cat[bisect(breakpoint, f)]\n",
        "\n",
        "optimal_config_format = optimal_confg\n",
        "optimal_config_format['penalty'] = mapper(optimal_config_format['penalty'],\n",
        "                                          breakpoint=[0.25, 0.5, 0.75],\n",
        "                                          cat=['none', 'l1', 'l2', 'elasticnet'])"
      ]
    },
    {
      "cell_type": "code",
      "execution_count": null,
      "metadata": {
        "colab": {
          "base_uri": "https://localhost:8080/"
        },
        "id": "o1OzqBhQUG16",
        "outputId": "7b437b6e-e3c7-4835-ad12-6c4a34344968"
      },
      "outputs": [
        {
          "output_type": "stream",
          "name": "stdout",
          "text": [
            "{\n",
            "  \"penalty\": \"l2\",\n",
            "  \"C\": 0.006748359471920753,\n",
            "  \"l1_ratio\": 0.5780664062499999,\n",
            "  \"max_iter\": 979.877020195933\n",
            "}\n",
            "best cv_score:0.7191808008047791\n"
          ]
        }
      ],
      "source": [
        "print(json.dumps(optimal_config_format, indent=2))\n",
        "print(f'best cv_score:{info.optimum}')"
      ]
    },
    {
      "cell_type": "code",
      "execution_count": null,
      "metadata": {
        "colab": {
          "base_uri": "https://localhost:8080/"
        },
        "id": "wg3dnPH5UG16",
        "outputId": "245eb29d-f1a1-4770-ed94-1004daf4322a"
      },
      "outputs": [
        {
          "output_type": "stream",
          "name": "stdout",
          "text": [
            "{\n",
            "  \"train\": {\n",
            "    \"pr auc\": 0.4995615072523689,\n",
            "    \"accuracy\": 0.8082380952380953,\n",
            "    \"recall\": 0.20860978379145573,\n",
            "    \"precision\": 0.7115148442585162,\n",
            "    \"roc auc\": 0.7193786352074973,\n",
            "    \"f1 score\": 0.32249608861045664\n",
            "  },\n",
            "  \"test\": {\n",
            "    \"pr auc\": 0.5179464736536576,\n",
            "    \"accuracy\": 0.8062222222222222,\n",
            "    \"recall\": 0.2202059833251594,\n",
            "    \"precision\": 0.7446102819237148,\n",
            "    \"roc auc\": 0.7253786756580258,\n",
            "    \"f1 score\": 0.33989401968205907\n",
            "  }\n",
            "}\n"
          ]
        }
      ],
      "source": [
        "final_lr = LogisticRegression(solver='saga', **optimal_config_format)\n",
        "print(json.dumps(analyse(final_lr, X_train, y_train, X_test, y_test), indent=2))"
      ]
    },
    {
      "cell_type": "code",
      "execution_count": 17,
      "metadata": {
        "id": "HcCKY5GxUG16"
      },
      "outputs": [],
      "source": [
        "##                          ##\n",
        "## RANDOM FOREST CLASSIFIER ##\n",
        "##                          ##\n",
        "from sklearn.ensemble import RandomForestClassifier\n",
        "search = {\n",
        "    'n_estimators': [10, 100],\n",
        "    'criterion':[0, 1],\n",
        "    'max_depth':[3, 10],\n",
        "    'max_leaf_nodes':[1, 100],\n",
        "    'max_features':[0, 1],\n",
        "    'min_weight_fraction_leaf':[0, 0.5]\n",
        "}\n",
        "\n",
        "data = X_train.values.tolist()\n",
        "labels = y_train.values.tolist()\n",
        "\n",
        "counter=0\n",
        "\n",
        "@optunity.cross_validated(x=data, y=labels, num_folds=3)\n",
        "\n",
        "def performance_rf(x_train, y_train, x_test, y_test,\n",
        "                  n_estimators=None,\n",
        "                  criterion=None,\n",
        "                  max_depth=None,\n",
        "                  max_leaf_nodes=None,\n",
        "                  max_features=None,\n",
        "                  min_weight_fraction_leaf=None):\n",
        "    global counter\n",
        "    def mapper(f, breakpoint=[], cat=[]):\n",
        "        return cat[bisect(breakpoint, f)]\n",
        "    \n",
        "    criterion=mapper(criterion, breakpoint=[0.5],\n",
        "                    cat=['gini', 'entropy'])\n",
        "    max_features=mapper(max_features, breakpoint=[0.33, 0.66],\n",
        "                       cat=['sqrt', 'log2', None])\n",
        "    \n",
        "    model=RandomForestClassifier(n_estimators=int(n_estimators),\n",
        "                                criterion=criterion,\n",
        "                                max_depth=max_depth,\n",
        "                                max_leaf_nodes=int(max_leaf_nodes),\n",
        "                                max_features=max_features,\n",
        "                                min_weight_fraction_leaf=min_weight_fraction_leaf,\n",
        "                                n_jobs=-1,\n",
        "                                random_state=42)\n",
        "    scores=np.mean(cross_val_score(model, data, labels, cv=3, n_jobs=-1,\n",
        "                                    scoring='roc_auc', error_score='raise'))\n",
        "    counter+=1\n",
        "    print(counter, end=' ')\n",
        "    return scores"
      ]
    },
    {
      "cell_type": "code",
      "execution_count": 18,
      "metadata": {
        "colab": {
          "base_uri": "https://localhost:8080/"
        },
        "id": "pdhTsrdZUG16",
        "outputId": "3421e367-dfde-46d3-b184-8f1e8431857d"
      },
      "outputs": [
        {
          "output_type": "stream",
          "name": "stdout",
          "text": [
            "1 2 3 4 5 6 7 8 9 10 11 12 13 14 15 16 17 18 19 20 21 22 23 24 25 26 27 28 29 30 31 32 33 34 35 36 37 38 39 40 41 42 43 44 45 46 47 48 49 50 51 52 53 54 55 56 57 58 59 60 61 62 63 64 65 66 67 68 69 70 71 72 73 74 75 76 77 78 79 80 81 82 83 84 85 86 87 88 89 90 91 92 93 94 95 96 97 98 99 100 101 102 103 104 105 106 107 108 109 110 111 112 113 114 115 116 117 118 119 120 121 122 123 124 125 126 127 128 129 130 131 132 133 134 135 136 137 138 139 140 141 142 143 144 145 146 147 148 149 150 151 152 153 154 155 156 157 158 159 160 161 162 163 164 165 166 167 168 169 170 171 172 173 174 175 176 177 178 179 180 181 182 183 184 185 186 187 188 189 190 191 192 193 194 195 196 197 198 199 200 201 running for: 16m, 30s\n"
          ]
        }
      ],
      "source": [
        "_start = time.time()\n",
        "\n",
        "optimal_confg, info, _ = optunity.maximize(performance_rf,\n",
        "                                           solver_name='particle swarm',\n",
        "                                           num_evals=100,\n",
        "                                           **search)\n",
        "\n",
        "_end = time.time()\n",
        "\n",
        "print(f'running for: {int((_end-_start)/60)}m, {int((_end-_start)%60)}s')"
      ]
    },
    {
      "cell_type": "code",
      "execution_count": 20,
      "metadata": {
        "colab": {
          "base_uri": "https://localhost:8080/"
        },
        "id": "0Y_2pM_2UG17",
        "outputId": "81b3dab9-7235-42f2-ba8b-4af0b36fd0a3"
      },
      "outputs": [
        {
          "output_type": "stream",
          "name": "stdout",
          "text": [
            "{\n",
            "  \"n_estimators\": 82,\n",
            "  \"criterion\": \"entropy\",\n",
            "  \"max_depth\": 7.316653451526788,\n",
            "  \"max_leaf_nodes\": 51,\n",
            "  \"max_features\": \"log2\",\n",
            "  \"min_weight_fraction_leaf\": 0.011584627168683838\n",
            "}\n",
            "best cv_score:0.7782506297551789\n"
          ]
        }
      ],
      "source": [
        "import json\n",
        "def mapper(f, breakpoint=[], cat=[]):\n",
        "        return cat[bisect(breakpoint, f)]\n",
        "\n",
        "optimal_config_format = optimal_confg.copy()\n",
        "optimal_config_format['criterion'] = mapper(optimal_config_format['criterion'],\n",
        "                                          breakpoint=[0.5],\n",
        "                                          cat=['gini', 'entropy'])\n",
        "\n",
        "optimal_config_format['max_features'] = mapper(optimal_config_format['max_features'],\n",
        "                                         breakpoint=[0.33, 0.66],\n",
        "                                         cat=['sqrt', 'log2', None])\n",
        "\n",
        "optimal_config_format['n_estimators'] = int(optimal_config_format['n_estimators'])\n",
        "optimal_config_format['max_leaf_nodes'] = int(optimal_config_format['max_leaf_nodes'])\n",
        "print(json.dumps(optimal_config_format, indent=2))\n",
        "print(f'best cv_score:{info.optimum}')"
      ]
    },
    {
      "cell_type": "code",
      "execution_count": 21,
      "metadata": {
        "id": "AQYdNKZgUG17"
      },
      "outputs": [],
      "source": [
        "final_rf = RandomForestClassifier(n_jobs=-1,random_state=42,**optimal_config_format)"
      ]
    },
    {
      "cell_type": "code",
      "execution_count": 22,
      "metadata": {
        "colab": {
          "base_uri": "https://localhost:8080/"
        },
        "id": "-xneh1hYUG17",
        "outputId": "f59d8533-fff2-40bf-87dd-7896c592fed6"
      },
      "outputs": [
        {
          "output_type": "stream",
          "name": "stdout",
          "text": [
            "{\n",
            "  \"train\": {\n",
            "    \"pr auc\": 0.5626091543598682,\n",
            "    \"accuracy\": 0.8177619047619047,\n",
            "    \"recall\": 0.29205658324265504,\n",
            "    \"precision\": 0.7007915667662343,\n",
            "    \"roc auc\": 0.7783208229928043,\n",
            "    \"f1 score\": 0.4120245545452802\n",
            "  },\n",
            "  \"test\": {\n",
            "    \"pr auc\": 0.546959598531697,\n",
            "    \"accuracy\": 0.8115555555555556,\n",
            "    \"recall\": 0.3101420872121509,\n",
            "    \"precision\": 0.6872964169381107,\n",
            "    \"roc auc\": 0.777999740764817,\n",
            "    \"f1 score\": 0.4274139095205942\n",
            "  }\n",
            "}\n"
          ]
        }
      ],
      "source": [
        "print(json.dumps(analyse(final_rf, X_train, y_train, X_test, y_test), indent=2))"
      ]
    },
    {
      "cell_type": "code",
      "execution_count": null,
      "metadata": {
        "id": "4fgeCL8BUG17"
      },
      "outputs": [],
      "source": [
        "##                     ##\n",
        "## XG BOOST CLASSIFIER ##\n",
        "##                     ##\n",
        "\n",
        "from xgboost.sklearn import XGBClassifier\n",
        "search = {\n",
        "    'n_estimators': [10, 20],\n",
        "    'max_depth':[3, 9],\n",
        "    'gamma':[0, 1],\n",
        "    'learning_rate':[1e-6, 1e-2]\n",
        "}\n",
        "\n",
        "data = X_train.values.tolist()\n",
        "labels = y_train.values.tolist()\n",
        "\n",
        "counter=0\n",
        "y_train_global=y_train\n",
        "\n",
        "@optunity.cross_validated(x=data, y=labels, num_folds=3)\n",
        "\n",
        "def performance_xgb(x_train, y_train, x_test, y_test,\n",
        "                  n_estimators=None,\n",
        "                  max_depth=None,\n",
        "                  gamma=None,\n",
        "                  learning_rate=None):\n",
        "    global counter\n",
        "    model=XGBClassifier(objective=\"binary:logistic\",random_state=42, n_jobs=-1,\n",
        "                       n_estimators=int(n_estimators),\n",
        "                       max_depth=int(max_depth),\n",
        "                       gamma=gamma,\n",
        "                       learning_rate=learning_rate,\n",
        "                       eval_metric='auc')\n",
        "    scores=np.mean(cross_val_score(model, X_train, y_train_global, cv=3, n_jobs=-1,\n",
        "                                    scoring='roc_auc', error_score='raise'))\n",
        "    counter+=1\n",
        "    print(counter, end=' ')\n",
        "    return scores"
      ]
    },
    {
      "cell_type": "code",
      "execution_count": null,
      "metadata": {
        "colab": {
          "base_uri": "https://localhost:8080/"
        },
        "id": "BV3KTXXTUG18",
        "outputId": "08e9e826-ba36-4d30-e10d-1565eccc000b"
      },
      "outputs": [
        {
          "output_type": "stream",
          "name": "stdout",
          "text": [
            "1 2 3 4 5 6 7 8 9 10 11 12 13 14 15 16 17 18 19 20 21 22 23 24 25 26 27 28 29 30 31 32 33 34 35 36 37 38 39 40 41 42 43 44 45 46 47 48 49 50 51 52 53 54 55 56 57 58 59 60 61 62 63 64 65 66 67 68 69 70 71 72 73 74 75 76 77 78 79 80 81 82 83 84 85 86 87 88 89 90 running for: 1m, 51s\n"
          ]
        }
      ],
      "source": [
        "_start = time.time()\n",
        "\n",
        "optimal_confg, info, _ =optunity.maximize(performance_xgb,\n",
        "                                        solver_name='particle swarm',\n",
        "                                        num_evals=50,\n",
        "                                        **search)\n",
        "\n",
        "_end = time.time()\n",
        "\n",
        "print(f'running for: {int((_end-_start)/60)}m, {int((_end-_start)%60)}s')"
      ]
    },
    {
      "cell_type": "code",
      "execution_count": null,
      "metadata": {
        "colab": {
          "base_uri": "https://localhost:8080/"
        },
        "id": "CvW04SKsUG18",
        "outputId": "403bab6f-7d8f-48a3-9f67-a19f85d008aa"
      },
      "outputs": [
        {
          "output_type": "stream",
          "name": "stdout",
          "text": [
            "{\n",
            "  \"n_estimators\": 19,\n",
            "  \"max_depth\": 8,\n",
            "  \"gamma\": 0.041015625,\n",
            "  \"learning_rate\": 0.008964947265625\n",
            "}\n",
            "best cv_score:0.7622118418559052\n"
          ]
        }
      ],
      "source": [
        "import json\n",
        "optimal_config_format = optimal_confg.copy()\n",
        "\n",
        "optimal_config_format['n_estimators'] = int(optimal_config_format['n_estimators'])\n",
        "optimal_config_format['max_depth'] = int(optimal_config_format['max_depth'])\n",
        "\n",
        "print(json.dumps(optimal_config_format, indent=2))\n",
        "print(f'best cv_score:{info.optimum}')"
      ]
    },
    {
      "cell_type": "code",
      "execution_count": null,
      "metadata": {
        "colab": {
          "base_uri": "https://localhost:8080/"
        },
        "id": "jqPmqlp9UG18",
        "outputId": "5197ea23-e2a0-497e-c869-c5572b07bb1e"
      },
      "outputs": [
        {
          "output_type": "stream",
          "name": "stdout",
          "text": [
            "{\n",
            "  \"train\": {\n",
            "    \"pr auc\": 0.6179724147047694,\n",
            "    \"accuracy\": 0.8140000000000001,\n",
            "    \"recall\": 0.3497908880162748,\n",
            "    \"precision\": 0.6369982203583046,\n",
            "    \"roc auc\": 0.7600239802614909,\n",
            "    \"f1 score\": 0.45110046519476354\n",
            "  },\n",
            "  \"test\": {\n",
            "    \"pr auc\": 0.5452273654958152,\n",
            "    \"accuracy\": 0.8156666666666667,\n",
            "    \"recall\": 0.36390387444825895,\n",
            "    \"precision\": 0.6721014492753623,\n",
            "    \"roc auc\": 0.7681107288776768,\n",
            "    \"f1 score\": 0.4721603563474387\n",
            "  }\n",
            "}\n"
          ]
        }
      ],
      "source": [
        "final_xgb = XGBClassifier(objective=\"binary:logistic\",\n",
        "                          eval_metric='auc',\n",
        "                          n_jobs=-1,\n",
        "                          random_state=42,\n",
        "                          use_label_encoder=False,\n",
        "                          **optimal_config_format)\n",
        "print(json.dumps(analyse(final_xgb, X_train, y_train, X_test, y_test), indent=2))"
      ]
    },
    {
      "cell_type": "code",
      "execution_count": null,
      "metadata": {
        "id": "DK5m5JPTUG18"
      },
      "outputs": [],
      "source": [
        "##                        ##\n",
        "## NAIVE BAYES CLASSIFIER ##\n",
        "##                        ##\n",
        "\n",
        "\n",
        "from sklearn.naive_bayes import GaussianNB\n",
        "search = {\n",
        "    'var_smoothing': [1e-9, 1]\n",
        "}\n",
        "\n",
        "data = X_train.values.tolist()\n",
        "labels = y_train.values.tolist()\n",
        "counter=0\n",
        "\n",
        "@optunity.cross_validated(x=data, y=labels, num_folds=3)\n",
        "\n",
        "def performance_gnb(x_train, y_train, x_test, y_test,\n",
        "                  var_smoothing=None):\n",
        "    global counter\n",
        "    model=GaussianNB(var_smoothing=var_smoothing)\n",
        "    scores=np.mean(cross_val_score(model, data, labels, cv=3, n_jobs=-1,\n",
        "                                    scoring='roc_auc', error_score='raise'))\n",
        "    counter+=1\n",
        "    print(counter, end=' ')\n",
        "    return scores"
      ]
    },
    {
      "cell_type": "code",
      "execution_count": null,
      "metadata": {
        "colab": {
          "base_uri": "https://localhost:8080/"
        },
        "id": "P_1kyd7qUG18",
        "outputId": "0dbc7e97-0249-4ee3-fcf3-4e1a86f8cb33"
      },
      "outputs": [
        {
          "output_type": "stream",
          "name": "stdout",
          "text": [
            "1 2 3 4 5 6 7 8 9 10 11 12 13 14 15 16 17 18 19 20 21 22 23 24 25 26 27 28 29 30 31 32 33 34 35 36 37 38 39 40 41 42 43 44 45 46 47 48 49 50 51 52 53 54 55 56 57 58 59 60 61 62 63 64 65 66 67 68 69 70 71 72 73 74 75 76 77 78 79 80 81 82 83 84 85 86 87 88 89 90 91 92 93 94 95 96 97 98 99 100 101 102 103 104 105 106 107 108 109 110 111 112 113 114 115 116 117 118 119 120 121 122 123 running for: 5m, 51s\n"
          ]
        }
      ],
      "source": [
        "_start = time.time()\n",
        "\n",
        "optimal_confg, info, _ =optunity.maximize(performance_gnb,\n",
        "                                        solver_name='particle swarm',\n",
        "                                        num_evals=50,\n",
        "                                        **search)\n",
        "\n",
        "_end = time.time()\n",
        "\n",
        "print(f'running for: {int((_end-_start)/60)}m, {int((_end-_start)%60)}s')"
      ]
    },
    {
      "cell_type": "code",
      "execution_count": null,
      "metadata": {
        "colab": {
          "base_uri": "https://localhost:8080/"
        },
        "id": "bOqAVDl5UG19",
        "outputId": "c3886f2b-aa46-4a65-bbb8-2f81637af3ec"
      },
      "outputs": [
        {
          "output_type": "stream",
          "name": "stdout",
          "text": [
            "{\n",
            "  \"var_smoothing\": 0.00613281349386724\n",
            "}\n",
            "best cv_score:0.7296197126955127\n"
          ]
        }
      ],
      "source": [
        "import json\n",
        "optimal_config_format = optimal_confg.copy()\n",
        "\n",
        "print(json.dumps(optimal_config_format, indent=2))\n",
        "print(f'best cv_score:{info.optimum}')"
      ]
    },
    {
      "cell_type": "code",
      "execution_count": null,
      "metadata": {
        "colab": {
          "base_uri": "https://localhost:8080/"
        },
        "id": "VxvBplCpUG19",
        "outputId": "ff6c4bd4-380b-4a0b-8873-a8e7c76d6fa5"
      },
      "outputs": [
        {
          "output_type": "stream",
          "name": "stdout",
          "text": [
            "{\n",
            "  \"train\": {\n",
            "    \"pr auc\": 0.4890924639023535,\n",
            "    \"accuracy\": 0.7425238095238095,\n",
            "    \"recall\": 0.5921301509201874,\n",
            "    \"precision\": 0.448954739151992,\n",
            "    \"roc auc\": 0.7319343616319485,\n",
            "    \"f1 score\": 0.5045298892801274\n",
            "  },\n",
            "  \"test\": {\n",
            "    \"pr auc\": 0.5049168515366284,\n",
            "    \"accuracy\": 0.7676666666666667,\n",
            "    \"recall\": 0.5674350171652771,\n",
            "    \"precision\": 0.489010989010989,\n",
            "    \"roc auc\": 0.7358675064795601,\n",
            "    \"f1 score\": 0.5253121452894438\n",
            "  }\n",
            "}\n"
          ]
        }
      ],
      "source": [
        "final_gnb = GaussianNB(**optimal_config_format)\n",
        "print(json.dumps(analyse(final_gnb, X_train, y_train, X_test, y_test), indent=2))"
      ]
    },
    {
      "cell_type": "code",
      "execution_count": null,
      "metadata": {
        "id": "eT0dWCw6UG19"
      },
      "outputs": [],
      "source": [
        "##                ##\n",
        "## SVC CLASSIFIER ##\n",
        "##                ##\n",
        "\n",
        "\n",
        "from sklearn.svm import SVC\n",
        "\n",
        "svc = SVC()\n",
        "\n",
        "counter=0\n",
        "\n",
        "search = {\n",
        "    'C': [1e-4, 10],\n",
        "    'gamma':[1e-4, 10]\n",
        "}\n",
        "\n",
        "data = X_train.values.tolist()\n",
        "labels = y_train.values.tolist()\n",
        "\n",
        "@optunity.cross_validated(x=data, y=labels, num_folds=3)\n",
        "\n",
        "def performance_svc(x_train, y_train, x_test, y_test,\n",
        "                  C=None, gamma=None):\n",
        "    global counter\n",
        "    svc.set_params(**{'C':C, 'gamma':gamma})\n",
        "    scores=np.mean(cross_val_score(svc, data, labels, cv=3, n_jobs=-1,\n",
        "                                    scoring='roc_auc',\n",
        "                                   error_score='raise'))\n",
        "    counter+=1\n",
        "    print(counter, end=' ')\n",
        "    return scores"
      ]
    },
    {
      "cell_type": "code",
      "execution_count": null,
      "metadata": {
        "colab": {
          "base_uri": "https://localhost:8080/"
        },
        "id": "Zinky7oSUG19",
        "outputId": "9b9dfade-7a21-4d6c-8b24-45d8cbd12608"
      },
      "outputs": [
        {
          "output_type": "stream",
          "name": "stdout",
          "text": [
            "1 2 3 4 5 6 7 8 9 10 11 12 13 14 15 16 17 18 19 20 21 22 23 24 25 26 27 28 29 30 31 32 33 34 35 36 37 38 39 40 41 42 43 44 45 46 47 48 49 50 51 52 53 54 55 56 57 58 59 60 61 62 63 64 65 66 67 68 69 70 71 72 73 74 75 76 77 78 79 80 81 82 83 84 85 86 87 88 89 90 91 92 93 running for: 33m, 49s\n"
          ]
        }
      ],
      "source": [
        "_start = time.time()\n",
        "\n",
        "optimal_confg, info, _ =optunity.maximize(performance_svc,\n",
        "                                        solver_name='particle swarm',\n",
        "                                        num_evals=50,\n",
        "                                        **search)\n",
        "\n",
        "_end = time.time()\n",
        "\n",
        "print(f'running for: {int((_end-_start)/60)}m, {int((_end-_start)%60)}s')"
      ]
    },
    {
      "cell_type": "code",
      "execution_count": null,
      "metadata": {
        "colab": {
          "base_uri": "https://localhost:8080/"
        },
        "id": "V3dCNI5FUG19",
        "outputId": "1abbf19c-bb9c-4e7b-f4bf-7c9feee6d0c1"
      },
      "outputs": [
        {
          "output_type": "stream",
          "name": "stdout",
          "text": [
            "{\n",
            "  \"C\": 8.784191845703125,\n",
            "  \"gamma\": 0.034279345703125005\n",
            "}\n",
            "best cv_score:0.7025090218003399\n"
          ]
        }
      ],
      "source": [
        "import json\n",
        "optimal_config_format = optimal_confg.copy()\n",
        "\n",
        "print(json.dumps(optimal_config_format, indent=2))\n",
        "print(f'best cv_score:{info.optimum}')"
      ]
    },
    {
      "cell_type": "code",
      "execution_count": null,
      "metadata": {
        "colab": {
          "base_uri": "https://localhost:8080/"
        },
        "id": "VU9DPpn0UG19",
        "outputId": "f962144c-180a-4db1-dcce-4285ffc805bf"
      },
      "outputs": [
        {
          "output_type": "stream",
          "name": "stdout",
          "text": [
            "{\n",
            "  \"train\": {\n",
            "    \"pr auc\": 0.6809523169004575,\n",
            "    \"accuracy\": 0.8168095238095239,\n",
            "    \"recall\": 0.33760845910015613,\n",
            "    \"precision\": 0.6593482592409472,\n",
            "    \"roc auc\": 0.7027697838285899,\n",
            "    \"f1 score\": 0.4462961327707532\n",
            "  },\n",
            "  \"test\": {\n",
            "    \"pr auc\": 0.4957906522431662,\n",
            "    \"accuracy\": 0.815,\n",
            "    \"recall\": 0.3526238352133399,\n",
            "    \"precision\": 0.6757518796992481,\n",
            "    \"roc auc\": 0.7088577789842786,\n",
            "    \"f1 score\": 0.4634224943602965\n",
            "  }\n",
            "}\n"
          ]
        }
      ],
      "source": [
        "final_svc = SVC(**optimal_config_format)\n",
        "print(json.dumps(analyse(final_svc, X_train, y_train, X_test, y_test), indent=2))"
      ]
    },
    {
      "cell_type": "code",
      "execution_count": null,
      "metadata": {
        "id": "_1YqTwMeUG19"
      },
      "outputs": [],
      "source": [
        "##                ##\n",
        "## ANN CLASSIFIER ##\n",
        "##                ##\n",
        "\n",
        "from tensorflow.keras import Sequential\n",
        "from tensorflow.keras.layers import Dense, BatchNormalization, Dropout\n",
        "from tensorflow.keras.optimizers import Adam\n",
        "from keras.callbacks import EarlyStopping\n",
        "from sklearn.model_selection import StratifiedKFold\n",
        "from keras.wrappers.scikit_learn import KerasClassifier\n",
        "\n",
        "search = {'dense_layers':[1, 4],\n",
        "        'dense_nodes':[32, 128],\n",
        "        'batch_size':[100, 1000],\n",
        "        'learning_rate':[1e-6, 1e-2],\n",
        "        'dropout_rate':[0.3, 0.8]}\n",
        "\n",
        "data = X_train.values.tolist()\n",
        "labels = y_train.values.tolist()\n",
        "y_train_global = y_train\n",
        "counter=0\n",
        "\n",
        "@optunity.cross_validated(x=data, y=labels, num_folds=3)\n",
        "\n",
        "def performance_ann(x_train, y_train, x_test, y_test,\n",
        "                   dense_layers=None,\n",
        "                   dense_nodes=None,\n",
        "                   batch_size=None,\n",
        "                   learning_rate=None,\n",
        "                   dropout_rate=None):\n",
        "    global counter\n",
        "    _, model=Model(dense_layers=int(dense_layers),\n",
        "                  dense_nodes=int(dense_nodes),\n",
        "                  learning_rate=learning_rate,\n",
        "                  dropout_rate=dropout_rate,\n",
        "                  batch_size=int(batch_size))\n",
        "    ypred =  model.predict(X_train)\n",
        "    scores = roc_auc_score(y_train_global, ypred)\n",
        "    counter+=1\n",
        "    print(counter, end=' ')\n",
        "    return scores"
      ]
    },
    {
      "cell_type": "code",
      "execution_count": null,
      "metadata": {
        "colab": {
          "base_uri": "https://localhost:8080/"
        },
        "id": "SnFI0zvVUG19",
        "outputId": "965a51cd-4c27-4e09-bd2c-e7ac3825b3b5"
      },
      "outputs": [
        {
          "output_type": "stream",
          "name": "stdout",
          "text": [
            "1 2 3 4 5 6 7 8 9 10 11 12 13 14 15 16 17 18 19 20 21 22 23 24 25 26 27 28 29 30 31 32 33 34 35 36 37 38 39 40 41 42 43 44 45 46 47 48 49 50 51 52 53 54 55 56 57 58 59 60 61 62 63 64 65 66 67 68 69 70 71 72 73 74 75 76 77 78 79 80 81 82 83 84 85 86 87 88 89 90 91 92 93 94 95 96 97 98 99 100 101 102 103 104 105 106 107 108 109 110 111 112 113 114 115 116 117 118 119 120 121 122 123 124 125 126 127 128 129 130 131 132 133 134 135 136 137 138 139 140 141 142 143 144 145 146 147 148 149 150 151 152 153 154 155 156 157 158 159 160 161 162 163 164 165 166 167 168 169 170 171 172 173 174 175 176 177 178 179 180 181 182 183 184 185 186 187 188 189 190 191 192 193 194 195 196 197 198 199 200 201 202 203 204 205 206 207 208 209 210 211 212 213 214 215 216 217 218 219 220 221 222 223 224 225 226 227 228 229 230 231 232 233 234 235 236 237 238 239 240 241 242 243 244 245 246 247 248 249 250 251 252 253 254 255 256 257 258 259 260 261 262 263 264 265 266 267 268 269 270 271 272 273 running for: 50m, 12s\n"
          ]
        }
      ],
      "source": [
        "_start = time.time()\n",
        "\n",
        "optimal_confg, info, _ =optunity.maximize(performance_ann,\n",
        "                                        solver_name='particle swarm',\n",
        "                                        num_evals=100,\n",
        "                                        **search)\n",
        "\n",
        "_end = time.time()\n",
        "\n",
        "print(f'running for: {int((_end-_start)/60)}m, {int((_end-_start)%60)}s')"
      ]
    },
    {
      "cell_type": "code",
      "execution_count": null,
      "metadata": {
        "colab": {
          "base_uri": "https://localhost:8080/"
        },
        "id": "_8XBxw6tUG1-",
        "outputId": "957f2b97-68fe-4ea8-b5d1-796724307106"
      },
      "outputs": [
        {
          "output_type": "stream",
          "name": "stdout",
          "text": [
            "{\n",
            "  \"dense_layers\": 3,\n",
            "  \"dense_nodes\": 119,\n",
            "  \"batch_size\": 186,\n",
            "  \"learning_rate\": 0.004219845925718139,\n",
            "  \"dropout_rate\": 0.3141007673616487\n",
            "}\n",
            "best cv_score:0.798011012353346\n"
          ]
        }
      ],
      "source": [
        "import json\n",
        "optimal_config_format = optimal_confg.copy()\n",
        "optimal_config_format['dense_layers'] = int(optimal_config_format['dense_layers'])\n",
        "optimal_config_format['dense_nodes'] = int(optimal_config_format['dense_nodes'])\n",
        "optimal_config_format['batch_size'] = int(optimal_config_format['batch_size'])\n",
        "print(json.dumps(optimal_config_format, indent=2))\n",
        "print(f'best cv_score:{info.optimum}')"
      ]
    },
    {
      "cell_type": "code",
      "execution_count": null,
      "metadata": {
        "colab": {
          "base_uri": "https://localhost:8080/",
          "height": 847
        },
        "id": "SNRiLLoRUG1-",
        "outputId": "48d6609b-b03c-4c1e-e96e-15617c30428d"
      },
      "outputs": [
        {
          "output_type": "stream",
          "name": "stdout",
          "text": [
            "running for: 0m, 11s\n",
            "{\n",
            "  \"train\": {\n",
            "    \"pr auc\": 0.5521778636664476,\n",
            "    \"accuracy\": 0.8237142857142857,\n",
            "    \"recall\": 0.3589297367848597,\n",
            "    \"precision\": 0.6860706860706861,\n",
            "    \"roc auc\": 0.6564507856026962,\n",
            "    \"f1 score\": 0.4712939160239931\n",
            "  },\n",
            "  \"test\": {\n",
            "    \"pr auc\": 0.5586051133363235,\n",
            "    \"accuracy\": 0.819,\n",
            "    \"recall\": 0.3653751839136832,\n",
            "    \"precision\": 0.6898148148148148,\n",
            "    \"roc auc\": 0.6586249572779161,\n",
            "    \"f1 score\": 0.47771721705674897\n",
            "  }\n",
            "}\n"
          ]
        },
        {
          "output_type": "display_data",
          "data": {
            "text/plain": [
              "<Figure size 432x288 with 1 Axes>"
            ],
            "image/png": "[encoded data removed]"
          },
          "metadata": {
            "needs_background": "light"
          }
        },
        {
          "output_type": "display_data",
          "data": {
            "text/plain": [
              "<Figure size 432x288 with 1 Axes>"
            ],
            "image/png": "[encoded data removed]"
          },
          "metadata": {
            "needs_background": "light"
          }
        }
      ],
      "source": [
        "_start = time.time()\n",
        "\n",
        "ANNmodel , final_ann= Model(**optimal_config_format)\n",
        "ret = analyseANN(ANNmodel, final_ann, X_train, y_train, X_test, y_test)\n",
        "\n",
        "_end = time.time()\n",
        "\n",
        "print(f'running for: {int((_end-_start)/60)}m, {int((_end-_start)%60)}s')\n",
        "print(json.dumps(ret, indent=2))"
      ]
    },
    {
      "cell_type": "code",
      "execution_count": null,
      "metadata": {
        "id": "NhfkLuP3UG1-"
      },
      "outputs": [],
      "source": [
        ""
      ]
    }
  ],
  "metadata": {
    "kernelspec": {
      "display_name": "Python 3",
      "language": "python",
      "name": "python3"
    },
    "language_info": {
      "codemirror_mode": {
        "name": "ipython",
        "version": 3
      },
      "file_extension": ".py",
      "mimetype": "text/x-python",
      "name": "python",
      "nbconvert_exporter": "python",
      "pygments_lexer": "ipython3",
      "version": "3.8.10"
    },
    "colab": {
      "name": "UCI_credit_card_PSO_2.ipynb",
      "provenance": [],
      "collapsed_sections": []
    }
  },
  "nbformat": 4,
  "nbformat_minor": 0
}