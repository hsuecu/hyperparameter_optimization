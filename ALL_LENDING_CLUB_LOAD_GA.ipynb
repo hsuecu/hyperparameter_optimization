{
  "cells": [
    {
      "cell_type": "markdown",
      "metadata": {
        "id": "uufE5m_fkjll"
      },
      "source": [
        "<p style=\"display:inline-block;position:relative;font-size:30px;background-color: #d9edab;padding:200px 0px;width:100%;text-align:center\">ALL LEANDING CLUB</p><br><strong style=\"display:block;font-size:30px;padding-top:20px\">GA</strong>"
      ]
    },
    {
      "cell_type": "code",
      "execution_count": 1,
      "metadata": {
        "colab": {
          "base_uri": "https://localhost:8080/"
        },
        "id": "ww4x5h_Ikjls",
        "outputId": "4e5ff137-768c-4588-ccd3-da35b4744371"
      },
      "outputs": [
        {
          "output_type": "stream",
          "name": "stdout",
          "text": [
            "Looking in indexes: https://pypi.org/simple, https://us-python.pkg.dev/colab-wheels/public/simple/\n",
            "Collecting scikit-learn-intelex\n",
            "  Downloading scikit_learn_intelex-2021.6.3-py37-none-manylinux1_x86_64.whl (87 kB)\n",
            "\u001b[K     |████████████████████████████████| 87 kB 5.7 MB/s \n",
            "\u001b[?25hRequirement already satisfied: scikit-learn>=0.22 in /usr/local/lib/python3.7/dist-packages (from scikit-learn-intelex) (1.0.2)\n",
            "Collecting daal4py==2021.6.3\n",
            "  Downloading daal4py-2021.6.3-py37-none-manylinux1_x86_64.whl (26.0 MB)\n",
            "\u001b[K     |████████████████████████████████| 26.0 MB 1.6 MB/s \n",
            "\u001b[?25hRequirement already satisfied: numpy>=1.15 in /usr/local/lib/python3.7/dist-packages (from daal4py==2021.6.3->scikit-learn-intelex) (1.21.6)\n",
            "Collecting daal==2021.6.0\n",
            "  Downloading daal-2021.6.0-py2.py3-none-manylinux1_x86_64.whl (300.3 MB)\n",
            "\u001b[K     |████████████████████████████████| 300.3 MB 14 kB/s \n",
            "\u001b[?25hCollecting tbb==2021.*\n",
            "  Downloading tbb-2021.6.0-py2.py3-none-manylinux1_x86_64.whl (4.0 MB)\n",
            "\u001b[K     |████████████████████████████████| 4.0 MB 41.1 MB/s \n",
            "\u001b[?25hRequirement already satisfied: scipy>=1.1.0 in /usr/local/lib/python3.7/dist-packages (from scikit-learn>=0.22->scikit-learn-intelex) (1.7.3)\n",
            "Requirement already satisfied: joblib>=0.11 in /usr/local/lib/python3.7/dist-packages (from scikit-learn>=0.22->scikit-learn-intelex) (1.1.0)\n",
            "Requirement already satisfied: threadpoolctl>=2.0.0 in /usr/local/lib/python3.7/dist-packages (from scikit-learn>=0.22->scikit-learn-intelex) (3.1.0)\n",
            "Installing collected packages: tbb, daal, daal4py, scikit-learn-intelex\n",
            "Successfully installed daal-2021.6.0 daal4py-2021.6.3 scikit-learn-intelex-2021.6.3 tbb-2021.6.0\n"
          ]
        },
        {
          "output_type": "stream",
          "name": "stderr",
          "text": [
            "Intel(R) Extension for Scikit-learn* enabled (https://github.com/intel/scikit-learn-intelex)\n"
          ]
        }
      ],
      "source": [
        "import pandas as pd\n",
        "import numpy as np\n",
        "import matplotlib.pyplot as plt\n",
        "import seaborn as sns\n",
        "import time as time\n",
        "\n",
        "!pip install scikit-learn-intelex\n",
        "\n",
        "from sklearnex import patch_sklearn\n",
        "patch_sklearn()\n",
        "\n",
        "import warnings\n",
        "warnings.filterwarnings('ignore')"
      ]
    },
    {
      "cell_type": "code",
      "execution_count": 2,
      "metadata": {
        "colab": {
          "base_uri": "https://localhost:8080/",
          "height": 270
        },
        "id": "AV53amRMkjlu",
        "outputId": "f377942d-5724-420d-9863-eee061c5372b"
      },
      "outputs": [
        {
          "output_type": "execute_result",
          "data": {
            "text/plain": [
              "   credit.policy             purpose  int.rate  installment  log.annual.inc  \\\n",
              "0              1  debt_consolidation    0.1189       829.10       11.350407   \n",
              "1              1         credit_card    0.1071       228.22       11.082143   \n",
              "2              1  debt_consolidation    0.1357       366.86       10.373491   \n",
              "3              1  debt_consolidation    0.1008       162.34       11.350407   \n",
              "4              1         credit_card    0.1426       102.92       11.299732   \n",
              "\n",
              "     dti  fico  days.with.cr.line  revol.bal  revol.util  inq.last.6mths  \\\n",
              "0  19.48   737        5639.958333      28854        52.1               0   \n",
              "1  14.29   707        2760.000000      33623        76.7               0   \n",
              "2  11.63   682        4710.000000       3511        25.6               1   \n",
              "3   8.10   712        2699.958333      33667        73.2               1   \n",
              "4  14.97   667        4066.000000       4740        39.5               0   \n",
              "\n",
              "   delinq.2yrs  pub.rec  not.fully.paid  \n",
              "0            0        0               0  \n",
              "1            0        0               0  \n",
              "2            0        0               0  \n",
              "3            0        0               0  \n",
              "4            1        0               0  "
            ],
            "text/html": [
              "\n",
              "  <div id=\"df-7b7d2ea6-b040-4c06-8d91-1e95cd6e0249\">\n",
              "    <div class=\"colab-df-container\">\n",
              "      <div>\n",
              "<style scoped>\n",
              "    .dataframe tbody tr th:only-of-type {\n",
              "        vertical-align: middle;\n",
              "    }\n",
              "\n",
              "    .dataframe tbody tr th {\n",
              "        vertical-align: top;\n",
              "    }\n",
              "\n",
              "    .dataframe thead th {\n",
              "        text-align: right;\n",
              "    }\n",
              "</style>\n",
              "<table border=\"1\" class=\"dataframe\">\n",
              "  <thead>\n",
              "    <tr style=\"text-align: right;\">\n",
              "      <th></th>\n",
              "      <th>credit.policy</th>\n",
              "      <th>purpose</th>\n",
              "      <th>int.rate</th>\n",
              "      <th>installment</th>\n",
              "      <th>log.annual.inc</th>\n",
              "      <th>dti</th>\n",
              "      <th>fico</th>\n",
              "      <th>days.with.cr.line</th>\n",
              "      <th>revol.bal</th>\n",
              "      <th>revol.util</th>\n",
              "      <th>inq.last.6mths</th>\n",
              "      <th>delinq.2yrs</th>\n",
              "      <th>pub.rec</th>\n",
              "      <th>not.fully.paid</th>\n",
              "    </tr>\n",
              "  </thead>\n",
              "  <tbody>\n",
              "    <tr>\n",
              "      <th>0</th>\n",
              "      <td>1</td>\n",
              "      <td>debt_consolidation</td>\n",
              "      <td>0.1189</td>\n",
              "      <td>829.10</td>\n",
              "      <td>11.350407</td>\n",
              "      <td>19.48</td>\n",
              "      <td>737</td>\n",
              "      <td>5639.958333</td>\n",
              "      <td>28854</td>\n",
              "      <td>52.1</td>\n",
              "      <td>0</td>\n",
              "      <td>0</td>\n",
              "      <td>0</td>\n",
              "      <td>0</td>\n",
              "    </tr>\n",
              "    <tr>\n",
              "      <th>1</th>\n",
              "      <td>1</td>\n",
              "      <td>credit_card</td>\n",
              "      <td>0.1071</td>\n",
              "      <td>228.22</td>\n",
              "      <td>11.082143</td>\n",
              "      <td>14.29</td>\n",
              "      <td>707</td>\n",
              "      <td>2760.000000</td>\n",
              "      <td>33623</td>\n",
              "      <td>76.7</td>\n",
              "      <td>0</td>\n",
              "      <td>0</td>\n",
              "      <td>0</td>\n",
              "      <td>0</td>\n",
              "    </tr>\n",
              "    <tr>\n",
              "      <th>2</th>\n",
              "      <td>1</td>\n",
              "      <td>debt_consolidation</td>\n",
              "      <td>0.1357</td>\n",
              "      <td>366.86</td>\n",
              "      <td>10.373491</td>\n",
              "      <td>11.63</td>\n",
              "      <td>682</td>\n",
              "      <td>4710.000000</td>\n",
              "      <td>3511</td>\n",
              "      <td>25.6</td>\n",
              "      <td>1</td>\n",
              "      <td>0</td>\n",
              "      <td>0</td>\n",
              "      <td>0</td>\n",
              "    </tr>\n",
              "    <tr>\n",
              "      <th>3</th>\n",
              "      <td>1</td>\n",
              "      <td>debt_consolidation</td>\n",
              "      <td>0.1008</td>\n",
              "      <td>162.34</td>\n",
              "      <td>11.350407</td>\n",
              "      <td>8.10</td>\n",
              "      <td>712</td>\n",
              "      <td>2699.958333</td>\n",
              "      <td>33667</td>\n",
              "      <td>73.2</td>\n",
              "      <td>1</td>\n",
              "      <td>0</td>\n",
              "      <td>0</td>\n",
              "      <td>0</td>\n",
              "    </tr>\n",
              "    <tr>\n",
              "      <th>4</th>\n",
              "      <td>1</td>\n",
              "      <td>credit_card</td>\n",
              "      <td>0.1426</td>\n",
              "      <td>102.92</td>\n",
              "      <td>11.299732</td>\n",
              "      <td>14.97</td>\n",
              "      <td>667</td>\n",
              "      <td>4066.000000</td>\n",
              "      <td>4740</td>\n",
              "      <td>39.5</td>\n",
              "      <td>0</td>\n",
              "      <td>1</td>\n",
              "      <td>0</td>\n",
              "      <td>0</td>\n",
              "    </tr>\n",
              "  </tbody>\n",
              "</table>\n",
              "</div>\n",
              "      <button class=\"colab-df-convert\" onclick=\"convertToInteractive('df-7b7d2ea6-b040-4c06-8d91-1e95cd6e0249')\"\n",
              "              title=\"Convert this dataframe to an interactive table.\"\n",
              "              style=\"display:none;\">\n",
              "        \n",
              "  <svg xmlns=\"http://www.w3.org/2000/svg\" height=\"24px\"viewBox=\"0 0 24 24\"\n",
              "       width=\"24px\">\n",
              "    <path d=\"M0 0h24v24H0V0z\" fill=\"none\"/>\n",
              "    <path d=\"M18.56 5.44l.94 2.06.94-2.06 2.06-.94-2.06-.94-.94-2.06-.94 2.06-2.06.94zm-11 1L8.5 8.5l.94-2.06 2.06-.94-2.06-.94L8.5 2.5l-.94 2.06-2.06.94zm10 10l.94 2.06.94-2.06 2.06-.94-2.06-.94-.94-2.06-.94 2.06-2.06.94z\"/><path d=\"M17.41 7.96l-1.37-1.37c-.4-.4-.92-.59-1.43-.59-.52 0-1.04.2-1.43.59L10.3 9.45l-7.72 7.72c-.78.78-.78 2.05 0 2.83L4 21.41c.39.39.9.59 1.41.59.51 0 1.02-.2 1.41-.59l7.78-7.78 2.81-2.81c.8-.78.8-2.07 0-2.86zM5.41 20L4 18.59l7.72-7.72 1.47 1.35L5.41 20z\"/>\n",
              "  </svg>\n",
              "      </button>\n",
              "      \n",
              "  <style>\n",
              "    .colab-df-container {\n",
              "      display:flex;\n",
              "      flex-wrap:wrap;\n",
              "      gap: 12px;\n",
              "    }\n",
              "\n",
              "    .colab-df-convert {\n",
              "      background-color: #E8F0FE;\n",
              "      border: none;\n",
              "      border-radius: 50%;\n",
              "      cursor: pointer;\n",
              "      display: none;\n",
              "      fill: #1967D2;\n",
              "      height: 32px;\n",
              "      padding: 0 0 0 0;\n",
              "      width: 32px;\n",
              "    }\n",
              "\n",
              "    .colab-df-convert:hover {\n",
              "      background-color: #E2EBFA;\n",
              "      box-shadow: 0px 1px 2px rgba(60, 64, 67, 0.3), 0px 1px 3px 1px rgba(60, 64, 67, 0.15);\n",
              "      fill: #174EA6;\n",
              "    }\n",
              "\n",
              "    [theme=dark] .colab-df-convert {\n",
              "      background-color: #3B4455;\n",
              "      fill: #D2E3FC;\n",
              "    }\n",
              "\n",
              "    [theme=dark] .colab-df-convert:hover {\n",
              "      background-color: #434B5C;\n",
              "      box-shadow: 0px 1px 3px 1px rgba(0, 0, 0, 0.15);\n",
              "      filter: drop-shadow(0px 1px 2px rgba(0, 0, 0, 0.3));\n",
              "      fill: #FFFFFF;\n",
              "    }\n",
              "  </style>\n",
              "\n",
              "      <script>\n",
              "        const buttonEl =\n",
              "          document.querySelector('#df-7b7d2ea6-b040-4c06-8d91-1e95cd6e0249 button.colab-df-convert');\n",
              "        buttonEl.style.display =\n",
              "          google.colab.kernel.accessAllowed ? 'block' : 'none';\n",
              "\n",
              "        async function convertToInteractive(key) {\n",
              "          const element = document.querySelector('#df-7b7d2ea6-b040-4c06-8d91-1e95cd6e0249');\n",
              "          const dataTable =\n",
              "            await google.colab.kernel.invokeFunction('convertToInteractive',\n",
              "                                                     [key], {});\n",
              "          if (!dataTable) return;\n",
              "\n",
              "          const docLinkHtml = 'Like what you see? Visit the ' +\n",
              "            '<a target=\"_blank\" href=https://colab.research.google.com/notebooks/data_table.ipynb>data table notebook</a>'\n",
              "            + ' to learn more about interactive tables.';\n",
              "          element.innerHTML = '';\n",
              "          dataTable['output_type'] = 'display_data';\n",
              "          await google.colab.output.renderOutput(dataTable, element);\n",
              "          const docLink = document.createElement('div');\n",
              "          docLink.innerHTML = docLinkHtml;\n",
              "          element.appendChild(docLink);\n",
              "        }\n",
              "      </script>\n",
              "    </div>\n",
              "  </div>\n",
              "  "
            ]
          },
          "metadata": {},
          "execution_count": 2
        }
      ],
      "source": [
        "data = pd.read_csv(\"https://raw.githubusercontent.com/hsuecu/data_set/main/loan_data.csv\")\n",
        "data.head()"
      ]
    },
    {
      "cell_type": "code",
      "execution_count": 3,
      "metadata": {
        "colab": {
          "base_uri": "https://localhost:8080/"
        },
        "id": "R0V0ea2lkjlw",
        "outputId": "8c7206b8-0298-411d-9a95-6a5362cb0618"
      },
      "outputs": [
        {
          "output_type": "stream",
          "name": "stdout",
          "text": [
            "<class 'pandas.core.frame.DataFrame'>\n",
            "RangeIndex: 9578 entries, 0 to 9577\n",
            "Data columns (total 14 columns):\n",
            " #   Column             Non-Null Count  Dtype  \n",
            "---  ------             --------------  -----  \n",
            " 0   credit.policy      9578 non-null   int64  \n",
            " 1   purpose            9578 non-null   object \n",
            " 2   int.rate           9578 non-null   float64\n",
            " 3   installment        9578 non-null   float64\n",
            " 4   log.annual.inc     9578 non-null   float64\n",
            " 5   dti                9578 non-null   float64\n",
            " 6   fico               9578 non-null   int64  \n",
            " 7   days.with.cr.line  9578 non-null   float64\n",
            " 8   revol.bal          9578 non-null   int64  \n",
            " 9   revol.util         9578 non-null   float64\n",
            " 10  inq.last.6mths     9578 non-null   int64  \n",
            " 11  delinq.2yrs        9578 non-null   int64  \n",
            " 12  pub.rec            9578 non-null   int64  \n",
            " 13  not.fully.paid     9578 non-null   int64  \n",
            "dtypes: float64(6), int64(7), object(1)\n",
            "memory usage: 1.0+ MB\n"
          ]
        }
      ],
      "source": [
        "data.info()"
      ]
    },
    {
      "cell_type": "code",
      "execution_count": 4,
      "metadata": {
        "colab": {
          "base_uri": "https://localhost:8080/"
        },
        "id": "uNP33FdMkjlx",
        "outputId": "4cc86a4d-8387-4145-9874-222d2bb1774c"
      },
      "outputs": [
        {
          "output_type": "stream",
          "name": "stdout",
          "text": [
            "<class 'pandas.core.frame.DataFrame'>\n",
            "RangeIndex: 9578 entries, 0 to 9577\n",
            "Data columns (total 19 columns):\n",
            " #   Column                      Non-Null Count  Dtype  \n",
            "---  ------                      --------------  -----  \n",
            " 0   credit.policy               9578 non-null   int64  \n",
            " 1   int.rate                    9578 non-null   float64\n",
            " 2   installment                 9578 non-null   float64\n",
            " 3   log.annual.inc              9578 non-null   float64\n",
            " 4   dti                         9578 non-null   float64\n",
            " 5   fico                        9578 non-null   int64  \n",
            " 6   days.with.cr.line           9578 non-null   float64\n",
            " 7   revol.bal                   9578 non-null   int64  \n",
            " 8   revol.util                  9578 non-null   float64\n",
            " 9   inq.last.6mths              9578 non-null   int64  \n",
            " 10  delinq.2yrs                 9578 non-null   int64  \n",
            " 11  pub.rec                     9578 non-null   int64  \n",
            " 12  not.fully.paid              9578 non-null   int64  \n",
            " 13  purpose_credit_card         9578 non-null   uint8  \n",
            " 14  purpose_debt_consolidation  9578 non-null   uint8  \n",
            " 15  purpose_educational         9578 non-null   uint8  \n",
            " 16  purpose_home_improvement    9578 non-null   uint8  \n",
            " 17  purpose_major_purchase      9578 non-null   uint8  \n",
            " 18  purpose_small_business      9578 non-null   uint8  \n",
            "dtypes: float64(6), int64(7), uint8(6)\n",
            "memory usage: 1.0 MB\n"
          ]
        }
      ],
      "source": [
        "data = pd.get_dummies(data, columns=['purpose'], drop_first=True)\n",
        "data.info()"
      ]
    },
    {
      "cell_type": "code",
      "execution_count": 5,
      "metadata": {
        "id": "MCYCKDJRkjlx"
      },
      "outputs": [],
      "source": [
        "X = data.drop(['not.fully.paid'], axis=1)\n",
        "y = data['not.fully.paid']"
      ]
    },
    {
      "cell_type": "code",
      "execution_count": 6,
      "metadata": {
        "colab": {
          "base_uri": "https://localhost:8080/"
        },
        "id": "KX1D7Knbkjly",
        "outputId": "22443246-2432-4b82-ab9f-25ac02734131"
      },
      "outputs": [
        {
          "output_type": "stream",
          "name": "stdout",
          "text": [
            "X_train:(6704, 18)\n",
            "X_test:(2874, 18)\n",
            "y_train:(6704,)\n",
            "y_test:(2874,)\n"
          ]
        }
      ],
      "source": [
        "from sklearn.preprocessing import RobustScaler\n",
        "scaler = RobustScaler()\n",
        "col=['days.with.cr.line', 'revol.bal']\n",
        "X[col] = scaler.fit_transform(X[col])\n",
        "\n",
        "from sklearn.model_selection import train_test_split\n",
        "X_train, X_test, y_train, y_test = \\\n",
        "    train_test_split(X, y, train_size=0.7)\n",
        "                     \n",
        "                     \n",
        "print(f'X_train:{X_train.shape}\\n\\\n",
        "X_test:{X_test.shape}\\n\\\n",
        "y_train:{y_train.shape}\\n\\\n",
        "y_test:{y_test.shape}')"
      ]
    },
    {
      "cell_type": "code",
      "execution_count": 7,
      "metadata": {
        "id": "uPfutq_0kjl0"
      },
      "outputs": [],
      "source": [
        "# function to evaluate\n",
        "from sklearn.model_selection import cross_validate\n",
        "from sklearn.metrics import accuracy_score, recall_score, precision_score, roc_auc_score, f1_score, average_precision_score\n",
        "from sklearn.model_selection import StratifiedKFold\n",
        "def analyse(model, xtrain, ytrain, xtest, ytest):\n",
        "    ytrain_pred = model.predict(xtrain)\n",
        "    ytest_pred = model.predict(xtest)\n",
        "    try:\n",
        "        y_score_test = model.decision_function(xtest)\n",
        "        y_score_train = model.decision_function(xtrain)\n",
        "    except:\n",
        "        y_score_test = model.predict_proba(xtest)[:,1]\n",
        "        y_score_train = model.predict_proba(xtrain)[:,1]\n",
        "\n",
        "    ret = {'train':{'pr auc': average_precision_score(ytrain, y_score_train),\n",
        "                'accuracy': accuracy_score(ytrain, ytrain_pred),\n",
        "                'recall':recall_score(ytrain, ytrain_pred),\n",
        "                'precision':precision_score(ytrain, ytrain_pred),\n",
        "                'roc auc':roc_auc_score(ytrain, y_score_train),\n",
        "                'f1 score': f1_score(ytrain, ytrain_pred)},\n",
        "           'test':{'pr auc': average_precision_score(ytest, y_score_test),\n",
        "                'accuracy':accuracy_score(ytest, ytest_pred),\n",
        "                'recall':recall_score(ytest, ytest_pred),\n",
        "                'precision':precision_score(ytest, ytest_pred),\n",
        "                'roc auc':roc_auc_score(ytest, y_score_test),\n",
        "                'f1 score': f1_score(ytest, ytest_pred)}}\n",
        "    return ret"
      ]
    },
    {
      "cell_type": "code",
      "execution_count": 8,
      "metadata": {
        "id": "CZ0Fts4nkjl1"
      },
      "outputs": [],
      "source": [
        "from sklearn.metrics import accuracy_score, recall_score, precision_score, roc_auc_score, f1_score, auc, precision_recall_curve\n",
        "\n",
        "def analyseANN(model, xtrain, ytrain, xtest, ytest):\n",
        "    ypred =  model.predict(xtrain)\n",
        "    ypred_test = model.predict(xtest)\n",
        "    precision_train, recall_train, thresholds = precision_recall_curve(ytrain, ypred)\n",
        "    precision_test, recall_test, thresholds = precision_recall_curve(y_test, ypred_test)\n",
        "\n",
        "    for i in range(len(ypred)):\n",
        "        if ypred[i] <=0.5:\n",
        "            ypred[i] =0\n",
        "        else: \n",
        "            ypred[i] =1\n",
        "    for i in range(len(ypred_test)):\n",
        "        if ypred_test[i] <=0.5:\n",
        "            ypred_test[i] =0\n",
        "        else: \n",
        "            ypred_test[i] =1\n",
        "    accuracy = accuracy_score(ytrain, ypred)\n",
        "    recall = recall_score(ytrain, ypred)\n",
        "    precision = precision_score(ytrain, ypred)\n",
        "    roc_auc = roc_auc_score(ytrain, ypred)\n",
        "    f1score = f1_score(ytrain, ypred)\n",
        "\n",
        "    ret = {'train':{'pr auc': auc(recall_train, precision_train),\n",
        "                    'accuracy': accuracy,\n",
        "                    'recall':recall,\n",
        "                    'precision':precision,\n",
        "                    'roc auc':roc_auc,\n",
        "                    'f1 score': f1score},\n",
        "               'test':{'pr auc': auc(recall_test, precision_test),\n",
        "                    'accuracy':accuracy_score(ytest, ypred_test),\n",
        "                    'recall':recall_score(ytest, ypred_test),\n",
        "                    'precision':precision_score(ytest, ypred_test),\n",
        "                    'roc auc':roc_auc_score(ytest, ypred_test),\n",
        "                    'f1 score': f1_score(ytest, ypred_test)}}\n",
        "    return ret"
      ]
    },
    {
      "cell_type": "code",
      "execution_count": 9,
      "metadata": {
        "colab": {
          "base_uri": "https://localhost:8080/"
        },
        "id": "KOCC5ft8kjl3",
        "outputId": "010619ec-1785-42ac-db92-631243f43542"
      },
      "outputs": [
        {
          "output_type": "stream",
          "name": "stdout",
          "text": [
            "{\n",
            "  \"train\": {\n",
            "    \"pr auc\": 0.2786964082880774,\n",
            "    \"accuracy\": 0.836664677804296,\n",
            "    \"recall\": 0.01646843549862763,\n",
            "    \"precision\": 0.47368421052631576,\n",
            "    \"roc auc\": 0.6622082522192472,\n",
            "    \"f1 score\": 0.031830238726790444\n",
            "  },\n",
            "  \"test\": {\n",
            "    \"pr auc\": 0.26791885489569,\n",
            "    \"accuracy\": 0.8469032707028532,\n",
            "    \"recall\": 0.011363636363636364,\n",
            "    \"precision\": 0.5,\n",
            "    \"roc auc\": 0.6697803839545828,\n",
            "    \"f1 score\": 0.022222222222222223\n",
            "  }\n",
            "}\n"
          ]
        }
      ],
      "source": [
        "##                     ##\n",
        "## LOGISTIC REGRESSION ##\n",
        "##                     ##\n",
        "\n",
        "from sklearn.linear_model import LogisticRegression\n",
        "import json\n",
        "lr = LogisticRegression(random_state=42)\n",
        "lr.fit(X_train, y_train)\n",
        "print(json.dumps(analyse(lr, X_train, y_train, X_test, y_test), indent=2))"
      ]
    },
    {
      "cell_type": "code",
      "execution_count": 10,
      "metadata": {
        "colab": {
          "base_uri": "https://localhost:8080/"
        },
        "id": "OMp6p-v8kjl4",
        "outputId": "11921c83-7026-438f-ec5b-d26531df8a19"
      },
      "outputs": [
        {
          "output_type": "stream",
          "name": "stdout",
          "text": [
            "{\n",
            "  \"train\": {\n",
            "    \"pr auc\": 0.8350199033736918,\n",
            "    \"accuracy\": 0.9160202863961814,\n",
            "    \"recall\": 0.5288197621225984,\n",
            "    \"precision\": 0.9233226837060703,\n",
            "    \"roc auc\": 0.9437361880491252,\n",
            "    \"f1 score\": 0.6724840023269343\n",
            "  },\n",
            "  \"test\": {\n",
            "    \"pr auc\": 0.20988272404206854,\n",
            "    \"accuracy\": 0.8016701461377871,\n",
            "    \"recall\": 0.1590909090909091,\n",
            "    \"precision\": 0.25925925925925924,\n",
            "    \"roc auc\": 0.5981651975797415,\n",
            "    \"f1 score\": 0.19718309859154928\n",
            "  }\n",
            "}\n"
          ]
        }
      ],
      "source": [
        "##                     ##\n",
        "## XG BOOST CLASSIFIER ##\n",
        "##                     ##\n",
        "\n",
        "from xgboost.sklearn import XGBClassifier\n",
        "params = {\n",
        "            'booster':'gbtree',\n",
        "            'objective':'binary:logistic',\n",
        "            'max_depth': 3,\n",
        "            'learning_rate': 1,\n",
        "            'n_estimators':100,\n",
        "            \"eval_metric\": ['logloss'],\n",
        "            'random_state': 42\n",
        "        }         \n",
        "           \n",
        "          \n",
        "# instantiate the classifier \n",
        "xgb_clf = XGBClassifier(**params)\n",
        "xgb_clf.fit(X_train, y_train)\n",
        "print(json.dumps(analyse(xgb_clf, X_train, y_train, X_test, y_test), indent=2))"
      ]
    },
    {
      "cell_type": "code",
      "execution_count": 11,
      "metadata": {
        "colab": {
          "base_uri": "https://localhost:8080/"
        },
        "id": "l7_YuQEMkjl5",
        "outputId": "a1024b36-f001-4ffd-85e4-98c3f04ad701"
      },
      "outputs": [
        {
          "output_type": "stream",
          "name": "stdout",
          "text": [
            "{\n",
            "  \"train\": {\n",
            "    \"pr auc\": 0.32916918269085393,\n",
            "    \"accuracy\": 0.8369630071599046,\n",
            "    \"recall\": 0.0,\n",
            "    \"precision\": 0.0,\n",
            "    \"roc auc\": 0.6904537274269941,\n",
            "    \"f1 score\": 0.0\n",
            "  },\n",
            "  \"test\": {\n",
            "    \"pr auc\": 0.2637890920828436,\n",
            "    \"accuracy\": 0.8469032707028532,\n",
            "    \"recall\": 0.0,\n",
            "    \"precision\": 0.0,\n",
            "    \"roc auc\": 0.6741022073653544,\n",
            "    \"f1 score\": 0.0\n",
            "  }\n",
            "}\n"
          ]
        }
      ],
      "source": [
        "##                          ##\n",
        "## RANDOM FOREST CLASSIFIER ##\n",
        "##                          ##\n",
        "\n",
        "\n",
        "from sklearn.ensemble import RandomForestClassifier\n",
        "rforest = RandomForestClassifier(max_depth = 3)\n",
        "rforest.fit(X_train, y_train)\n",
        "print(json.dumps(analyse(rforest, X_train, y_train, X_test, y_test), indent=2))"
      ]
    },
    {
      "cell_type": "code",
      "execution_count": 12,
      "metadata": {
        "colab": {
          "base_uri": "https://localhost:8080/"
        },
        "id": "eP0K0vIYkjl5",
        "outputId": "bb9c0d49-2440-4ef8-87d8-30e6e2c9e47e"
      },
      "outputs": [
        {
          "output_type": "stream",
          "name": "stdout",
          "text": [
            "{\n",
            "  \"train\": {\n",
            "    \"pr auc\": 0.26415148108775743,\n",
            "    \"accuracy\": 0.7699880668257757,\n",
            "    \"recall\": 0.2991765782250686,\n",
            "    \"precision\": 0.2964641885766092,\n",
            "    \"roc auc\": 0.6571487551491377,\n",
            "    \"f1 score\": 0.29781420765027317\n",
            "  },\n",
            "  \"test\": {\n",
            "    \"pr auc\": 0.2589611520282426,\n",
            "    \"accuracy\": 0.7825330549756437,\n",
            "    \"recall\": 0.3181818181818182,\n",
            "    \"precision\": 0.3010752688172043,\n",
            "    \"roc auc\": 0.6769169716889519,\n",
            "    \"f1 score\": 0.30939226519337015\n",
            "  }\n",
            "}\n"
          ]
        }
      ],
      "source": [
        "##                        ##\n",
        "## NAIVE BAYES CLASSIFIER ##\n",
        "##                        ##\n",
        "\n",
        "\n",
        "from sklearn.naive_bayes import GaussianNB\n",
        "gnb = GaussianNB()\n",
        "gnb.fit(X_train, y_train)\n",
        "print(json.dumps(analyse(gnb, X_train, y_train, X_test, y_test), indent=2))"
      ]
    },
    {
      "cell_type": "code",
      "execution_count": 13,
      "metadata": {
        "colab": {
          "base_uri": "https://localhost:8080/"
        },
        "id": "KUaXe6-hkjl6",
        "outputId": "a3f682b3-647f-4c0f-905b-82c9159af451"
      },
      "outputs": [
        {
          "output_type": "stream",
          "name": "stdout",
          "text": [
            "{\n",
            "  \"train\": {\n",
            "    \"pr auc\": 0.22652523785324272,\n",
            "    \"accuracy\": 0.8369630071599046,\n",
            "    \"recall\": 0.0,\n",
            "    \"precision\": 0.0,\n",
            "    \"roc auc\": 0.584732838368236,\n",
            "    \"f1 score\": 0.0\n",
            "  },\n",
            "  \"test\": {\n",
            "    \"pr auc\": 0.19761800002986032,\n",
            "    \"accuracy\": 0.8469032707028532,\n",
            "    \"recall\": 0.0,\n",
            "    \"precision\": 0.0,\n",
            "    \"roc auc\": 0.5803475386569059,\n",
            "    \"f1 score\": 0.0\n",
            "  }\n",
            "}\n"
          ]
        }
      ],
      "source": [
        "##                ##\n",
        "## SVC CLASSIFIER ##\n",
        "##                ##\n",
        "\n",
        "\n",
        "from sklearn.svm import SVC\n",
        "svc = SVC(C=1, kernel='rbf', gamma='scale')\n",
        "svc.fit(X_train, y_train)\n",
        "print(json.dumps(analyse(svc, X_train, y_train, X_test, y_test), indent=2))"
      ]
    },
    {
      "cell_type": "code",
      "execution_count": 14,
      "metadata": {
        "id": "9QoToarhkjl7"
      },
      "outputs": [],
      "source": [
        "##                ##\n",
        "## ANN CLASSIFIER ##\n",
        "##                ##\n",
        "\n",
        "\n",
        "import sklearn\n",
        "from sklearn.neural_network import MLPClassifier\n",
        "from sklearn.neural_network import MLPRegressor\n",
        "\n",
        "# Import necessary modules\n",
        "from sklearn.model_selection import train_test_split\n",
        "from sklearn.metrics import mean_squared_error\n",
        "from math import sqrt\n",
        "from sklearn.metrics import r2_score\n",
        "\n",
        "def Model():\n",
        "    ann = MLPClassifier(hidden_layer_sizes=(64, 32), max_iter=10, activation='relu',solver='adam')\n",
        "    return ann"
      ]
    },
    {
      "cell_type": "code",
      "execution_count": 15,
      "metadata": {
        "colab": {
          "base_uri": "https://localhost:8080/"
        },
        "id": "4nMOb4Cakjl8",
        "outputId": "964b03f4-d1eb-40d4-beee-f487d291ebd1"
      },
      "outputs": [
        {
          "output_type": "stream",
          "name": "stdout",
          "text": [
            "running for: 0m, 0s\n",
            "{\n",
            "  \"train\": {\n",
            "    \"pr auc\": 0.36112774539241765,\n",
            "    \"accuracy\": 0.7173329355608592,\n",
            "    \"recall\": 0.3687099725526075,\n",
            "    \"precision\": 0.2506218905472637,\n",
            "    \"roc auc\": 0.5769766223483052,\n",
            "    \"f1 score\": 0.29840799703813403\n",
            "  },\n",
            "  \"test\": {\n",
            "    \"pr auc\": 0.35137648317962,\n",
            "    \"accuracy\": 0.7143354210160056,\n",
            "    \"recall\": 0.375,\n",
            "    \"precision\": 0.2320675105485232,\n",
            "    \"roc auc\": 0.5753389482333607,\n",
            "    \"f1 score\": 0.2867072111207645\n",
            "  }\n",
            "}\n"
          ]
        }
      ],
      "source": [
        "_start = time.time()\n",
        "\n",
        "model= Model()\n",
        "\n",
        "model.fit(X_train, y_train)\n",
        "\n",
        "ret = analyseANN(model, X_train, y_train, X_test, y_test)\n",
        "\n",
        "_end = time.time()\n",
        "\n",
        "print(f'running for: {int((_end-_start)/60)}m, {int((_end-_start)%60)}s')\n",
        "print(json.dumps(ret, indent=2))"
      ]
    },
    {
      "cell_type": "markdown",
      "metadata": {
        "id": "JMbG8mv3kjl8"
      },
      "source": [
        "# GA OPTIMIZED"
      ]
    },
    {
      "cell_type": "code",
      "execution_count": 16,
      "metadata": {
        "colab": {
          "base_uri": "https://localhost:8080/"
        },
        "id": "zC6bvRLpkjl8",
        "outputId": "0a6e8899-0909-4a49-9da5-5322bb52c991"
      },
      "outputs": [
        {
          "output_type": "stream",
          "name": "stdout",
          "text": [
            "Looking in indexes: https://pypi.org/simple, https://us-python.pkg.dev/colab-wheels/public/simple/\n",
            "Collecting sklearn-genetic-opt\n",
            "  Downloading sklearn_genetic_opt-0.9.0-py3-none-any.whl (31 kB)\n",
            "Requirement already satisfied: tqdm>=4.61.1 in /usr/local/lib/python3.7/dist-packages (from sklearn-genetic-opt) (4.64.0)\n",
            "Requirement already satisfied: scikit-learn>=0.21.3 in /usr/local/lib/python3.7/dist-packages (from sklearn-genetic-opt) (1.0.2)\n",
            "Requirement already satisfied: numpy>=1.14.5 in /usr/local/lib/python3.7/dist-packages (from sklearn-genetic-opt) (1.21.6)\n",
            "Collecting deap>=1.3.1\n",
            "  Downloading deap-1.3.1-cp37-cp37m-manylinux_2_5_x86_64.manylinux1_x86_64.manylinux_2_12_x86_64.manylinux2010_x86_64.whl (160 kB)\n",
            "\u001b[K     |████████████████████████████████| 160 kB 25.9 MB/s \n",
            "\u001b[?25hRequirement already satisfied: joblib>=0.11 in /usr/local/lib/python3.7/dist-packages (from scikit-learn>=0.21.3->sklearn-genetic-opt) (1.1.0)\n",
            "Requirement already satisfied: scipy>=1.1.0 in /usr/local/lib/python3.7/dist-packages (from scikit-learn>=0.21.3->sklearn-genetic-opt) (1.7.3)\n",
            "Requirement already satisfied: threadpoolctl>=2.0.0 in /usr/local/lib/python3.7/dist-packages (from scikit-learn>=0.21.3->sklearn-genetic-opt) (3.1.0)\n",
            "Installing collected packages: deap, sklearn-genetic-opt\n",
            "Successfully installed deap-1.3.1 sklearn-genetic-opt-0.9.0\n"
          ]
        }
      ],
      "source": [
        "!pip install sklearn-genetic-opt\n",
        "\n",
        "\n",
        "from sklearn.model_selection import train_test_split\n",
        "from sklearn.datasets import load_digits\n",
        "from sklearn.metrics import accuracy_score\n",
        "from sklearn_genetic import GASearchCV\n",
        "from sklearn_genetic.space import Continuous, Categorical, Integer\n",
        "from sklearn_genetic.plots import plot_fitness_evolution, plot_search_space\n",
        "from sklearn.model_selection import StratifiedKFold\n",
        "import matplotlib.pyplot as plt"
      ]
    },
    {
      "cell_type": "code",
      "execution_count": 17,
      "metadata": {
        "id": "kfCJDTYIkjl9"
      },
      "outputs": [],
      "source": [
        "##                     ##\n",
        "## LOGISTIC REGRESSION ##\n",
        "##                     ##\n",
        "\n",
        "from sklearn.linear_model import LogisticRegression\n",
        "import json\n",
        "\n",
        "param_grid = {\n",
        "    'max_iter': Integer(100, 1000),\n",
        "    'penalty': Categorical(['l1', 'l2']),\n",
        "    'C': Continuous(1e-6, 1e-2, distribution=\"log-uniform\"),\n",
        "    'l1_ratio': Continuous(1e-9, 1, distribution='log-uniform')\n",
        "}\n",
        "\n",
        "\n",
        "lr = LogisticRegression(solver=\"saga\")\n",
        "cv = StratifiedKFold(n_splits=3, shuffle=True)\n",
        "\n",
        "evolved_estimator = GASearchCV(estimator=lr, cv=cv,\n",
        "                               scoring='accuracy', population_size=10,\n",
        "                               generations=10, tournament_size=3,\n",
        "                               elitism=True, crossover_probability=0.8,\n",
        "                               mutation_probability=0.1, param_grid=param_grid,\n",
        "                               criteria='max', algorithm='eaMuPlusLambda',\n",
        "                               n_jobs=-1, verbose=True, keep_top_k=4)"
      ]
    },
    {
      "cell_type": "code",
      "execution_count": 18,
      "metadata": {
        "colab": {
          "base_uri": "https://localhost:8080/"
        },
        "id": "rYCu7Qq0kjl9",
        "outputId": "b27afd74-2c42-4e66-f3bb-61eaa720762f"
      },
      "outputs": [
        {
          "output_type": "stream",
          "name": "stdout",
          "text": [
            "gen\tnevals\tfitness \tfitness_std\tfitness_max\tfitness_min\n",
            "0  \t10    \t0.836933\t5.96805e-05\t0.836963   \t0.836814   \n",
            "1  \t18    \t0.836978\t4.47408e-05\t0.837112   \t0.836963   \n",
            "2  \t19    \t0.836978\t4.47474e-05\t0.837112   \t0.836963   \n",
            "3  \t18    \t0.836978\t4.47338e-05\t0.837112   \t0.836963   \n",
            "4  \t19    \t0.837008\t9.54759e-05\t0.837112   \t0.836814   \n",
            "5  \t17    \t0.837038\t7.45579e-05\t0.837112   \t0.836963   \n",
            "6  \t17    \t0.837082\t5.96436e-05\t0.837112   \t0.836963   \n",
            "7  \t18    \t0.837097\t4.47138e-05\t0.837112   \t0.836963   \n",
            "8  \t18    \t0.837112\t2.67041e-08\t0.837112   \t0.837112   \n",
            "9  \t16    \t0.837097\t4.47605e-05\t0.837112   \t0.836963   \n",
            "10 \t19    \t0.837097\t4.4745e-05 \t0.837112   \t0.836963   \n",
            "running for: 4m, 2s\n"
          ]
        }
      ],
      "source": [
        "_start =time.time()\n",
        "\n",
        "evolved_estimator.fit(X_train, y_train)\n",
        "\n",
        "_end = time.time()\n",
        "\n",
        "# only in seconds\n",
        "\n",
        "print(f'running for: {int((_end-_start)/60)}m, {int((_end-_start)%60)}s')"
      ]
    },
    {
      "cell_type": "code",
      "execution_count": 19,
      "metadata": {
        "colab": {
          "base_uri": "https://localhost:8080/"
        },
        "id": "wshKI5LBkjl-",
        "outputId": "f1fcb7d9-2460-46b7-c155-71f02d4acf19"
      },
      "outputs": [
        {
          "output_type": "stream",
          "name": "stdout",
          "text": [
            "{\n",
            "  \"train\": {\n",
            "    \"pr auc\": 0.25080797681316497,\n",
            "    \"accuracy\": 0.8369630071599046,\n",
            "    \"recall\": 0.0018298261665141812,\n",
            "    \"precision\": 0.5,\n",
            "    \"roc auc\": 0.6345876931390324,\n",
            "    \"f1 score\": 0.003646308113035552\n",
            "  },\n",
            "  \"test\": {\n",
            "    \"pr auc\": 0.2442650844379986,\n",
            "    \"accuracy\": 0.8469032707028532,\n",
            "    \"recall\": 0.0022727272727272726,\n",
            "    \"precision\": 0.5,\n",
            "    \"roc auc\": 0.6420613281541794,\n",
            "    \"f1 score\": 0.004524886877828054\n",
            "  }\n",
            "}\n",
            "{'max_iter': 506, 'penalty': 'l2', 'C': 0.0001545790425808255, 'l1_ratio': 4.7564929956506116e-08}\n"
          ]
        }
      ],
      "source": [
        "print(json.dumps(analyse(evolved_estimator, X_train, y_train, X_test, y_test), indent=2))\n",
        "\n",
        "print(evolved_estimator.best_params_)"
      ]
    },
    {
      "cell_type": "code",
      "execution_count": 20,
      "metadata": {
        "id": "g3x2vitQkjl_"
      },
      "outputs": [],
      "source": [
        "##                          ##\n",
        "## RANDOM FOREST CLASSIFIER ##\n",
        "##                          ##\n",
        "from sklearn.ensemble import RandomForestClassifier\n",
        "\n",
        "rf = RandomForestClassifier()\n",
        "\n",
        "param_grid = {\n",
        "    'n_estimators': Integer(10, 100),\n",
        "    'max_depth':Integer(3, 10),\n",
        "    'max_leaf_nodes':Integer(1, 100),\n",
        "    'max_features':Categorical(['sqrt', 'log2', None]),\n",
        "    'criterion':Categorical(['gini', 'entropy']),\n",
        "    'min_weight_fraction_leaf':Continuous(0.01, 0.5, distribution='log-uniform')\n",
        "}\n",
        "\n",
        "cv = StratifiedKFold(n_splits=3, shuffle=True)\n",
        "\n",
        "evolved_estimator = GASearchCV(estimator=rf, cv=cv, scoring='accuracy',\n",
        "                               population_size=10, generations=10,\n",
        "                               tournament_size=3, elitism=True,\n",
        "                               crossover_probability=0.8, mutation_probability=0.1,\n",
        "                               param_grid=param_grid, criteria='max',\n",
        "                               algorithm='eaMuPlusLambda', n_jobs=-1,\n",
        "                               verbose=True, keep_top_k=4)"
      ]
    },
    {
      "cell_type": "code",
      "execution_count": 21,
      "metadata": {
        "colab": {
          "base_uri": "https://localhost:8080/"
        },
        "id": "k7_GYDj5kjmA",
        "outputId": "1dccfff3-5bd5-4e88-8a39-c7911e64276a"
      },
      "outputs": [
        {
          "output_type": "stream",
          "name": "stdout",
          "text": [
            "gen\tnevals\tfitness \tfitness_std\tfitness_max\tfitness_min\n",
            "0  \t10    \t0.836963\t0          \t0.836963   \t0.836963   \n",
            "1  \t18    \t0.836963\t0          \t0.836963   \t0.836963   \n",
            "2  \t20    \t0.836963\t0          \t0.836963   \t0.836963   \n",
            "3  \t16    \t0.836963\t0          \t0.836963   \t0.836963   \n",
            "4  \t16    \t0.836963\t0          \t0.836963   \t0.836963   \n",
            "5  \t18    \t0.836963\t0          \t0.836963   \t0.836963   \n",
            "6  \t17    \t0.836963\t0          \t0.836963   \t0.836963   \n",
            "7  \t19    \t0.836963\t0          \t0.836963   \t0.836963   \n",
            "8  \t15    \t0.836963\t0          \t0.836963   \t0.836963   \n",
            "9  \t16    \t0.836963\t0          \t0.836963   \t0.836963   \n",
            "10 \t16    \t0.836963\t0          \t0.836963   \t0.836963   \n",
            "running for: 1m, 33s\n"
          ]
        }
      ],
      "source": [
        "_start =time.time()\n",
        "\n",
        "evolved_estimator.fit(X_train, y_train)\n",
        "\n",
        "_end = time.time()\n",
        "\n",
        "# only in seconds\n",
        "\n",
        "print(f'running for: {int((_end-_start)/60)}m, {int((_end-_start)%60)}s')"
      ]
    },
    {
      "cell_type": "code",
      "execution_count": 22,
      "metadata": {
        "colab": {
          "base_uri": "https://localhost:8080/"
        },
        "id": "5MYjY7ZDkjmA",
        "outputId": "866ddbc4-baf3-4f2d-bbd7-22501a70e2b5"
      },
      "outputs": [
        {
          "output_type": "stream",
          "name": "stdout",
          "text": [
            "{\n",
            "  \"train\": {\n",
            "    \"pr auc\": 0.2691579827113811,\n",
            "    \"accuracy\": 0.8369630071599046,\n",
            "    \"recall\": 0.0,\n",
            "    \"precision\": 0.0,\n",
            "    \"roc auc\": 0.6644491451978967,\n",
            "    \"f1 score\": 0.0\n",
            "  },\n",
            "  \"test\": {\n",
            "    \"pr auc\": 0.24968613942036127,\n",
            "    \"accuracy\": 0.8469032707028532,\n",
            "    \"recall\": 0.0,\n",
            "    \"precision\": 0.0,\n",
            "    \"roc auc\": 0.6575642414282513,\n",
            "    \"f1 score\": 0.0\n",
            "  }\n",
            "}\n",
            "{'n_estimators': 26, 'max_depth': 8, 'max_leaf_nodes': 32, 'max_features': 'log2', 'criterion': 'entropy', 'min_weight_fraction_leaf': 0.1804810940579604}\n"
          ]
        }
      ],
      "source": [
        "print(json.dumps(analyse(evolved_estimator, X_train, y_train, X_test, y_test), indent=2))\n",
        "\n",
        "print(evolved_estimator.best_params_)"
      ]
    },
    {
      "cell_type": "code",
      "execution_count": 23,
      "metadata": {
        "id": "7k6WggtzkjmA"
      },
      "outputs": [],
      "source": [
        "##                     ##\n",
        "## XG BOOST CLASSIFIER ##\n",
        "##                     ##\n",
        "\n",
        "from xgboost.sklearn import XGBClassifier\n",
        "\n",
        "param_grid = {\n",
        "    'n_estimators': Integer(10, 20),\n",
        "    'max_depth': Integer(3, 9),\n",
        "    'gamma': Continuous(1e-6, 1, distribution='log-uniform'),\n",
        "    'learning_rate': Continuous(1e-6, 1e-2, distribution='log-uniform')\n",
        "}\n",
        "\n",
        "\n",
        "xgb = XGBClassifier();\n",
        "\n",
        "cv = StratifiedKFold(n_splits=3, shuffle=True)\n",
        "\n",
        "evolved_estimator = GASearchCV(estimator=xgb, cv=cv, scoring='accuracy',\n",
        "                               population_size=10, generations=10,\n",
        "                               tournament_size=3, elitism=True,\n",
        "                               crossover_probability=0.8, mutation_probability=0.1,\n",
        "                               param_grid=param_grid, criteria='max',\n",
        "                               algorithm='eaMuPlusLambda', n_jobs=-1,\n",
        "                               verbose=True, keep_top_k=4)"
      ]
    },
    {
      "cell_type": "code",
      "execution_count": 24,
      "metadata": {
        "colab": {
          "base_uri": "https://localhost:8080/"
        },
        "id": "STOXgdC1kjmB",
        "outputId": "3e894aba-f5db-4154-d4ef-065a459ecac8"
      },
      "outputs": [
        {
          "output_type": "stream",
          "name": "stdout",
          "text": [
            "gen\tnevals\tfitness \tfitness_std\tfitness_max\tfitness_min\n",
            "0  \t10    \t0.824597\t0.00577502 \t0.834577   \t0.816676   \n",
            "1  \t17    \t0.832593\t0.00434928 \t0.838306   \t0.823986   \n",
            "2  \t20    \t0.833428\t0.00453549 \t0.837411   \t0.823986   \n",
            "3  \t18    \t0.837023\t0.000650967\t0.837411   \t0.835769   \n",
            "4  \t18    \t0.836918\t0.000663946\t0.837411   \t0.83577    \n",
            "5  \t19    \t0.837381\t8.95258e-05\t0.837411   \t0.837112   \n",
            "6  \t18    \t0.837202\t0.00063699 \t0.83756    \t0.835322   \n",
            "7  \t18    \t0.837142\t0.000338631\t0.83741    \t0.836516   \n",
            "8  \t17    \t0.83741 \t0.000346593\t0.838007   \t0.836665   \n",
            "9  \t19    \t0.837411\t0.000663891\t0.838007   \t0.83562    \n",
            "10 \t16    \t0.83671 \t0.000822527\t0.838007   \t0.83577    \n",
            "running for: 0m, 47s\n"
          ]
        }
      ],
      "source": [
        "_start =time.time()\n",
        "\n",
        "evolved_estimator.fit(X_train, y_train)\n",
        "\n",
        "_end = time.time()\n",
        "\n",
        "# only in seconds\n",
        "\n",
        "print(f'running for: {int((_end-_start)/60)}m, {int((_end-_start)%60)}s')"
      ]
    },
    {
      "cell_type": "code",
      "execution_count": 25,
      "metadata": {
        "colab": {
          "base_uri": "https://localhost:8080/"
        },
        "id": "F509YcNRkjmB",
        "outputId": "fcfae9fe-0362-4713-8390-ce357690f036"
      },
      "outputs": [
        {
          "output_type": "stream",
          "name": "stdout",
          "text": [
            "{\n",
            "  \"train\": {\n",
            "    \"pr auc\": 0.25168195490040907,\n",
            "    \"accuracy\": 0.8386038186157518,\n",
            "    \"recall\": 0.0384263494967978,\n",
            "    \"precision\": 0.5753424657534246,\n",
            "    \"roc auc\": 0.6477793342478659,\n",
            "    \"f1 score\": 0.07204116638078902\n",
            "  },\n",
            "  \"test\": {\n",
            "    \"pr auc\": 0.23028574834066018,\n",
            "    \"accuracy\": 0.8427279053583855,\n",
            "    \"recall\": 0.020454545454545454,\n",
            "    \"precision\": 0.3,\n",
            "    \"roc auc\": 0.6402241913796968,\n",
            "    \"f1 score\": 0.03829787234042553\n",
            "  }\n",
            "}\n",
            "{'n_estimators': 20, 'max_depth': 3, 'gamma': 0.00011636742716756199, 'learning_rate': 1.2158712076584003e-06}\n"
          ]
        }
      ],
      "source": [
        "print(json.dumps(analyse(evolved_estimator, X_train, y_train, X_test, y_test), indent=2))\n",
        "\n",
        "print(evolved_estimator.best_params_)"
      ]
    },
    {
      "cell_type": "code",
      "execution_count": 26,
      "metadata": {
        "id": "Ywkxvf3mkjmC"
      },
      "outputs": [],
      "source": [
        "##                        ##\n",
        "## NAIVE BAYES CLASSIFIER ##\n",
        "##                        ##\n",
        "\n",
        "\n",
        "from sklearn.naive_bayes import GaussianNB\n",
        "import json\n",
        "param_grid = {\n",
        "    'var_smoothing': Continuous(1e-9, 1, distribution='log-uniform')\n",
        "}\n",
        "\n",
        "gnb = GaussianNB();\n",
        "\n",
        "cv = StratifiedKFold(n_splits=3, shuffle=True)\n",
        "\n",
        "evolved_estimator = GASearchCV(estimator=gnb, cv=cv, scoring='accuracy',\n",
        "                               population_size=10, generations=10,\n",
        "                               tournament_size=3, elitism=True,\n",
        "                               crossover_probability=0.8, mutation_probability=0.1,\n",
        "                               param_grid=param_grid, criteria='max',\n",
        "                               algorithm='eaMuPlusLambda', n_jobs=-1,\n",
        "                               verbose=True, keep_top_k=4)"
      ]
    },
    {
      "cell_type": "code",
      "execution_count": 27,
      "metadata": {
        "colab": {
          "base_uri": "https://localhost:8080/"
        },
        "id": "nj73DGnWkjmC",
        "outputId": "a47d62f7-564f-49a9-a567-695b1a41c537"
      },
      "outputs": [
        {
          "output_type": "stream",
          "name": "stdout",
          "text": [
            "gen\tnevals\tfitness \tfitness_std\tfitness_max\tfitness_min\n",
            "0  \t10    \t0.811933\t0.0288724  \t0.837112   \t0.763575   \n",
            "1  \t17    \t0.836351\t0.000807207\t0.837112   \t0.834875   \n",
            "2  \t19    \t0.836978\t0.000123852\t0.837112   \t0.836665   \n",
            "3  \t19    \t0.836993\t5.9657e-05 \t0.837112   \t0.836963   \n",
            "4  \t18    \t0.837023\t9.8946e-05 \t0.837261   \t0.836963   \n",
            "5  \t19    \t0.837082\t0.000130047\t0.837261   \t0.836963   \n",
            "6  \t17    \t0.837142\t0.000111633\t0.837261   \t0.836963   \n",
            "7  \t16    \t0.837112\t0.000115534\t0.837261   \t0.836963   \n",
            "8  \t19    \t0.837127\t0.000140699\t0.837261   \t0.836963   \n",
            "9  \t20    \t0.837067\t0.000221752\t0.837261   \t0.836515   \n",
            "10 \t19    \t0.837067\t0.000116471\t0.837261   \t0.836963   \n",
            "running for: 0m, 10s\n"
          ]
        }
      ],
      "source": [
        "_start =time.time()\n",
        "\n",
        "evolved_estimator.fit(X_train, y_train)\n",
        "\n",
        "_end = time.time()\n",
        "\n",
        "# only in seconds\n",
        "\n",
        "print(f'running for: {int((_end-_start)/60)}m, {int((_end-_start)%60)}s')"
      ]
    },
    {
      "cell_type": "code",
      "execution_count": 28,
      "metadata": {
        "colab": {
          "base_uri": "https://localhost:8080/"
        },
        "id": "-L0B_dnzkjmC",
        "outputId": "6554d326-7038-4873-8898-2a42478dd779"
      },
      "outputs": [
        {
          "output_type": "stream",
          "name": "stdout",
          "text": [
            "{\n",
            "  \"train\": {\n",
            "    \"pr auc\": 0.22699092075141608,\n",
            "    \"accuracy\": 0.8371121718377088,\n",
            "    \"recall\": 0.0018298261665141812,\n",
            "    \"precision\": 0.6666666666666666,\n",
            "    \"roc auc\": 0.6191607029911022,\n",
            "    \"f1 score\": 0.0036496350364963507\n",
            "  },\n",
            "  \"test\": {\n",
            "    \"pr auc\": 0.21980718372185432,\n",
            "    \"accuracy\": 0.8455114822546973,\n",
            "    \"recall\": 0.0022727272727272726,\n",
            "    \"precision\": 0.16666666666666666,\n",
            "    \"roc auc\": 0.622773026070068,\n",
            "    \"f1 score\": 0.004484304932735426\n",
            "  }\n",
            "}\n",
            "{'var_smoothing': 0.0015023982889710696}\n"
          ]
        }
      ],
      "source": [
        "print(json.dumps(analyse(evolved_estimator, X_train, y_train, X_test, y_test), indent=2))\n",
        "\n",
        "print(evolved_estimator.best_params_)"
      ]
    },
    {
      "cell_type": "code",
      "execution_count": 29,
      "metadata": {
        "id": "uWOelcLkkjmD"
      },
      "outputs": [],
      "source": [
        "##                ##\n",
        "## SVC CLASSIFIER ##\n",
        "##                ##\n",
        "\n",
        "\n",
        "from sklearn.svm import SVC\n",
        "\n",
        "param_grid = {\n",
        "    'C': Continuous(1e-4, 10, distribution='log-uniform'),\n",
        "    'gamma': Continuous(1e-4, 10, distribution='log-uniform')\n",
        "}\n",
        "\n",
        "svc = SVC()\n",
        "\n",
        "cv = StratifiedKFold(n_splits=3, shuffle=True)\n",
        "\n",
        "evolved_estimator = GASearchCV(estimator=svc, cv=cv, scoring='accuracy',\n",
        "                               population_size=10, generations=10,\n",
        "                               tournament_size=3, elitism=True,\n",
        "                               crossover_probability=0.8, mutation_probability=0.1,\n",
        "                               param_grid=param_grid, criteria='max',\n",
        "                               algorithm='eaMuPlusLambda', n_jobs=-1,\n",
        "                               verbose=True, keep_top_k=4)"
      ]
    },
    {
      "cell_type": "code",
      "execution_count": 30,
      "metadata": {
        "colab": {
          "base_uri": "https://localhost:8080/"
        },
        "id": "1rsiDjzXkjmD",
        "outputId": "eb031aa3-29dc-44f3-b1ed-198ee2553316"
      },
      "outputs": [
        {
          "output_type": "stream",
          "name": "stdout",
          "text": [
            "gen\tnevals\tfitness \tfitness_std\tfitness_max\tfitness_min\n",
            "0  \t10    \t0.836963\t0          \t0.836963   \t0.836963   \n",
            "1  \t20    \t0.836963\t0          \t0.836963   \t0.836963   \n",
            "2  \t18    \t0.836963\t0          \t0.836963   \t0.836963   \n",
            "3  \t18    \t0.836963\t0          \t0.836963   \t0.836963   \n",
            "4  \t16    \t0.836963\t0          \t0.836963   \t0.836963   \n",
            "5  \t17    \t0.836963\t0          \t0.836963   \t0.836963   \n",
            "6  \t18    \t0.836963\t0          \t0.836963   \t0.836963   \n",
            "7  \t19    \t0.836963\t0          \t0.836963   \t0.836963   \n",
            "8  \t18    \t0.836963\t0          \t0.836963   \t0.836963   \n",
            "9  \t18    \t0.836963\t0          \t0.836963   \t0.836963   \n",
            "10 \t19    \t0.836963\t0          \t0.836963   \t0.836963   \n",
            "running for: 7m, 5s\n"
          ]
        }
      ],
      "source": [
        "_start =time.time()\n",
        "\n",
        "evolved_estimator.fit(X_train, y_train)\n",
        "\n",
        "_end = time.time()\n",
        "\n",
        "# only in seconds\n",
        "\n",
        "print(f'running for: {int((_end-_start)/60)}m, {int((_end-_start)%60)}s')"
      ]
    },
    {
      "cell_type": "code",
      "execution_count": 31,
      "metadata": {
        "colab": {
          "base_uri": "https://localhost:8080/"
        },
        "id": "K5c1yZMJkjmD",
        "outputId": "74754da5-3f6b-40a9-a0c5-fc0b136571c9"
      },
      "outputs": [
        {
          "output_type": "stream",
          "name": "stdout",
          "text": [
            "{\n",
            "  \"train\": {\n",
            "    \"pr auc\": 0.7108014555230501,\n",
            "    \"accuracy\": 0.8369630071599046,\n",
            "    \"recall\": 0.0,\n",
            "    \"precision\": 0.0,\n",
            "    \"roc auc\": 0.8647316252238162,\n",
            "    \"f1 score\": 0.0\n",
            "  },\n",
            "  \"test\": {\n",
            "    \"pr auc\": 0.17393034121511802,\n",
            "    \"accuracy\": 0.8469032707028532,\n",
            "    \"recall\": 0.0,\n",
            "    \"precision\": 0.0,\n",
            "    \"roc auc\": 0.5212659669828938,\n",
            "    \"f1 score\": 0.0\n",
            "  }\n",
            "}\n",
            "{'C': 0.0011342078116549125, 'gamma': 0.003095780557248269}\n"
          ]
        }
      ],
      "source": [
        "print(json.dumps(analyse(evolved_estimator, X_train, y_train, X_test, y_test), indent=2))\n",
        "\n",
        "print(evolved_estimator.best_params_)"
      ]
    },
    {
      "cell_type": "code",
      "execution_count": 32,
      "metadata": {
        "id": "MdABIZ0MkjmE"
      },
      "outputs": [],
      "source": [
        "##                ##\n",
        "## ANN CLASSIFIER ##\n",
        "##                ##\n",
        "\n",
        "import random\n",
        "\n",
        "class foo(Categorical):\n",
        "    def __init__(self):\n",
        "        pass\n",
        "    def sample(self):\n",
        "        hidden_layer_count = random.randint(1, 4)\n",
        "        l = random.sample(range(8, 32), hidden_layer_count)\n",
        "        return tuple(l)\n",
        "\n",
        "param_grid = {\n",
        "    'alpha': Continuous(1e-4, 0.05, distribution='log-uniform'),\n",
        "    'activation': Categorical(['tanh', 'relu', 'identity', 'logistic']),\n",
        "    'solver': Categorical(['lbfgs', 'sgd', 'adam']),\n",
        "    'batch_size': Integer(100, 1000),\n",
        "    'learning_rate': Categorical(['constant', 'invscaling', 'adaptive']),\n",
        "    'hidden_layer_sizes': foo(),\n",
        "    'max_iter': Integer(50, 150),\n",
        "}\n",
        "\n",
        "ann = Model()\n",
        "\n",
        "cv = StratifiedKFold(n_splits=3, shuffle=True)\n",
        "\n",
        "evolved_estimator = GASearchCV(estimator=ann, cv=cv, scoring='accuracy',\n",
        "                               population_size=10, generations=10,\n",
        "                               tournament_size=3, elitism=True,\n",
        "                               crossover_probability=0.8, mutation_probability=0.1,\n",
        "                               param_grid=param_grid, criteria='max',\n",
        "                               algorithm='eaMuPlusLambda', n_jobs=-1,\n",
        "                               verbose=True, keep_top_k=4)"
      ]
    },
    {
      "cell_type": "code",
      "execution_count": 33,
      "metadata": {
        "colab": {
          "base_uri": "https://localhost:8080/"
        },
        "id": "SY_qvL3nkjmE",
        "outputId": "3139ef1e-638b-4e78-8fe8-426aab31e7ee"
      },
      "outputs": [
        {
          "output_type": "stream",
          "name": "stdout",
          "text": [
            "gen\tnevals\tfitness \tfitness_std\tfitness_max\tfitness_min\n",
            "0  \t10    \t0.829849\t0.0165912  \t0.837858   \t0.780736   \n",
            "1  \t18    \t0.837082\t0.00039924 \t0.837858   \t0.836665   \n",
            "2  \t19    \t0.836963\t0.000176558\t0.837411   \t0.836665   \n",
            "3  \t17    \t0.837008\t0.000134288\t0.837411   \t0.836963   \n",
            "4  \t17    \t0.837053\t0.000179051\t0.837411   \t0.836963   \n",
            "5  \t20    \t0.837097\t0.000205129\t0.837411   \t0.836963   \n",
            "6  \t18    \t0.837053\t0.000179051\t0.837411   \t0.836963   \n",
            "7  \t16    \t0.837142\t0.000219292\t0.837411   \t0.836963   \n",
            "8  \t20    \t0.837112\t0.000200185\t0.837411   \t0.836963   \n",
            "9  \t19    \t0.837187\t0.000191676\t0.837411   \t0.836963   \n",
            "10 \t19    \t0.837008\t0.00032032 \t0.837411   \t0.836516   \n",
            "running for: 5m, 8s\n"
          ]
        }
      ],
      "source": [
        "_start =time.time()\n",
        "\n",
        "evolved_estimator.fit(X_train, y_train)\n",
        "\n",
        "_end = time.time()\n",
        "\n",
        "# only in seconds\n",
        "\n",
        "print(f'running for: {int((_end-_start)/60)}m, {int((_end-_start)%60)}s')"
      ]
    },
    {
      "cell_type": "code",
      "execution_count": 34,
      "metadata": {
        "colab": {
          "base_uri": "https://localhost:8080/"
        },
        "id": "GeM8VFpskjmE",
        "outputId": "d61e43a9-5bbd-4e06-da65-6b2bd803d1a7"
      },
      "outputs": [
        {
          "output_type": "stream",
          "name": "stdout",
          "text": [
            "{\n",
            "  \"train\": {\n",
            "    \"pr auc\": 0.3117115683927123,\n",
            "    \"accuracy\": 0.8363663484486874,\n",
            "    \"recall\": 0.01555352241537054,\n",
            "    \"precision\": 0.4473684210526316,\n",
            "    \"roc auc\": 0.5059054370230479,\n",
            "    \"f1 score\": 0.030061892130857647\n",
            "  },\n",
            "  \"test\": {\n",
            "    \"pr auc\": 0.2587932933659325,\n",
            "    \"accuracy\": 0.8451635351426583,\n",
            "    \"recall\": 0.013636363636363636,\n",
            "    \"precision\": 0.35294117647058826,\n",
            "    \"roc auc\": 0.5045585269291103,\n",
            "    \"f1 score\": 0.026258205689277902\n",
            "  }\n",
            "}\n",
            "{'alpha': 0.0007070510425864872, 'activation': 'identity', 'solver': 'adam', 'batch_size': 552, 'learning_rate': 'constant', 'hidden_layer_sizes': (22, 30), 'max_iter': 76}\n"
          ]
        }
      ],
      "source": [
        "import json\n",
        "print(json.dumps(analyseANN(evolved_estimator, X_train, y_train, X_test, y_test), indent=2))\n",
        "\n",
        "print(evolved_estimator.best_params_)"
      ]
    }
  ],
  "metadata": {
    "kernelspec": {
      "display_name": "Python 3",
      "language": "python",
      "name": "python3"
    },
    "language_info": {
      "codemirror_mode": {
        "name": "ipython",
        "version": 3
      },
      "file_extension": ".py",
      "mimetype": "text/x-python",
      "name": "python",
      "nbconvert_exporter": "python",
      "pygments_lexer": "ipython3",
      "version": "3.8.10"
    },
    "colab": {
      "name": "ALL_LENDING_CLUB_LOAD_GA.ipynb",
      "provenance": [],
      "collapsed_sections": []
    }
  },
  "nbformat": 4,
  "nbformat_minor": 0
}