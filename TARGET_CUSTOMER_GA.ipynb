{
 "cells": [
  {
   "cell_type": "markdown",
   "metadata": {
    "id": "tpvD--opqBza"
   },
   "source": [
    "<span style=\"display:inline-block;position:relative;font-size:48px;background-color: #d9edab;padding:200px 10px;width:100%;text-align:center\">TARGET CUSTOMER</span><br><strong style=\"display:block;font-size:30px;padding-top:20px\">PSO</strong>"
   ]
  },
  {
   "cell_type": "code",
   "execution_count": 39,
   "metadata": {
    "colab": {
     "base_uri": "https://localhost:8080/"
    },
    "id": "W5aXNxNiqBze",
    "outputId": "2059e9a7-e7ce-4206-8d29-613ba261d789"
   },
   "outputs": [
    {
     "name": "stdout",
     "output_type": "stream",
     "text": [
      "Looking in indexes: https://pypi.org/simple, https://us-python.pkg.dev/colab-wheels/public/simple/\n",
      "Requirement already satisfied: scikit-learn-intelex in /usr/local/lib/python3.7/dist-packages (2021.6.3)\n",
      "Requirement already satisfied: scikit-learn>=0.22 in /usr/local/lib/python3.7/dist-packages (from scikit-learn-intelex) (1.0.2)\n",
      "Requirement already satisfied: daal4py==2021.6.3 in /usr/local/lib/python3.7/dist-packages (from scikit-learn-intelex) (2021.6.3)\n",
      "Requirement already satisfied: numpy>=1.15 in /usr/local/lib/python3.7/dist-packages (from daal4py==2021.6.3->scikit-learn-intelex) (1.21.6)\n",
      "Requirement already satisfied: daal==2021.6.0 in /usr/local/lib/python3.7/dist-packages (from daal4py==2021.6.3->scikit-learn-intelex) (2021.6.0)\n",
      "Requirement already satisfied: tbb==2021.* in /usr/local/lib/python3.7/dist-packages (from daal==2021.6.0->daal4py==2021.6.3->scikit-learn-intelex) (2021.6.0)\n",
      "Requirement already satisfied: scipy>=1.1.0 in /usr/local/lib/python3.7/dist-packages (from scikit-learn>=0.22->scikit-learn-intelex) (1.7.3)\n",
      "Requirement already satisfied: joblib>=0.11 in /usr/local/lib/python3.7/dist-packages (from scikit-learn>=0.22->scikit-learn-intelex) (1.1.0)\n",
      "Requirement already satisfied: threadpoolctl>=2.0.0 in /usr/local/lib/python3.7/dist-packages (from scikit-learn>=0.22->scikit-learn-intelex) (3.1.0)\n"
     ]
    },
    {
     "name": "stderr",
     "output_type": "stream",
     "text": [
      "Intel(R) Extension for Scikit-learn* enabled (https://github.com/intel/scikit-learn-intelex)\n"
     ]
    }
   ],
   "source": [
    "import pandas as pd\n",
    "import numpy as np\n",
    "import matplotlib.pyplot as plt\n",
    "import seaborn as sns\n",
    "import time as time\n",
    "\n",
    "!pip3 install scikit-learn-intelex\n",
    "\n",
    "from sklearnex import patch_sklearn\n",
    "patch_sklearn()\n",
    "\n",
    "import warnings\n",
    "warnings.filterwarnings('ignore')"
   ]
  },
  {
   "cell_type": "code",
   "execution_count": 40,
   "metadata": {
    "colab": {
     "base_uri": "https://localhost:8080/",
     "height": 270
    },
    "id": "RvXrTq1mqBzg",
    "outputId": "b4a6ef69-c574-4e37-e0f8-7896f5864fa2"
   },
   "outputs": [
    {
     "data": {
      "text/html": [
       "\n",
       "  <div id=\"df-25b3aa79-a306-4bca-9e3a-043a8c2fc5d5\">\n",
       "    <div class=\"colab-df-container\">\n",
       "      <div>\n",
       "<style scoped>\n",
       "    .dataframe tbody tr th:only-of-type {\n",
       "        vertical-align: middle;\n",
       "    }\n",
       "\n",
       "    .dataframe tbody tr th {\n",
       "        vertical-align: top;\n",
       "    }\n",
       "\n",
       "    .dataframe thead th {\n",
       "        text-align: right;\n",
       "    }\n",
       "</style>\n",
       "<table border=\"1\" class=\"dataframe\">\n",
       "  <thead>\n",
       "    <tr style=\"text-align: right;\">\n",
       "      <th></th>\n",
       "      <th>ID</th>\n",
       "      <th>age</th>\n",
       "      <th>job</th>\n",
       "      <th>marital</th>\n",
       "      <th>education</th>\n",
       "      <th>default</th>\n",
       "      <th>balance</th>\n",
       "      <th>housing</th>\n",
       "      <th>loan</th>\n",
       "      <th>contact</th>\n",
       "      <th>day</th>\n",
       "      <th>month</th>\n",
       "      <th>duration</th>\n",
       "      <th>campaign</th>\n",
       "      <th>pdays</th>\n",
       "      <th>previous</th>\n",
       "      <th>poutcome</th>\n",
       "      <th>subscribed</th>\n",
       "    </tr>\n",
       "  </thead>\n",
       "  <tbody>\n",
       "    <tr>\n",
       "      <th>0</th>\n",
       "      <td>26110</td>\n",
       "      <td>56</td>\n",
       "      <td>admin.</td>\n",
       "      <td>married</td>\n",
       "      <td>unknown</td>\n",
       "      <td>no</td>\n",
       "      <td>1933</td>\n",
       "      <td>no</td>\n",
       "      <td>no</td>\n",
       "      <td>telephone</td>\n",
       "      <td>19</td>\n",
       "      <td>nov</td>\n",
       "      <td>44</td>\n",
       "      <td>2</td>\n",
       "      <td>-1</td>\n",
       "      <td>0</td>\n",
       "      <td>unknown</td>\n",
       "      <td>no</td>\n",
       "    </tr>\n",
       "    <tr>\n",
       "      <th>1</th>\n",
       "      <td>40576</td>\n",
       "      <td>31</td>\n",
       "      <td>unknown</td>\n",
       "      <td>married</td>\n",
       "      <td>secondary</td>\n",
       "      <td>no</td>\n",
       "      <td>3</td>\n",
       "      <td>no</td>\n",
       "      <td>no</td>\n",
       "      <td>cellular</td>\n",
       "      <td>20</td>\n",
       "      <td>jul</td>\n",
       "      <td>91</td>\n",
       "      <td>2</td>\n",
       "      <td>-1</td>\n",
       "      <td>0</td>\n",
       "      <td>unknown</td>\n",
       "      <td>no</td>\n",
       "    </tr>\n",
       "    <tr>\n",
       "      <th>2</th>\n",
       "      <td>15320</td>\n",
       "      <td>27</td>\n",
       "      <td>services</td>\n",
       "      <td>married</td>\n",
       "      <td>secondary</td>\n",
       "      <td>no</td>\n",
       "      <td>891</td>\n",
       "      <td>yes</td>\n",
       "      <td>no</td>\n",
       "      <td>cellular</td>\n",
       "      <td>18</td>\n",
       "      <td>jul</td>\n",
       "      <td>240</td>\n",
       "      <td>1</td>\n",
       "      <td>-1</td>\n",
       "      <td>0</td>\n",
       "      <td>unknown</td>\n",
       "      <td>no</td>\n",
       "    </tr>\n",
       "    <tr>\n",
       "      <th>3</th>\n",
       "      <td>43962</td>\n",
       "      <td>57</td>\n",
       "      <td>management</td>\n",
       "      <td>divorced</td>\n",
       "      <td>tertiary</td>\n",
       "      <td>no</td>\n",
       "      <td>3287</td>\n",
       "      <td>no</td>\n",
       "      <td>no</td>\n",
       "      <td>cellular</td>\n",
       "      <td>22</td>\n",
       "      <td>jun</td>\n",
       "      <td>867</td>\n",
       "      <td>1</td>\n",
       "      <td>84</td>\n",
       "      <td>3</td>\n",
       "      <td>success</td>\n",
       "      <td>yes</td>\n",
       "    </tr>\n",
       "    <tr>\n",
       "      <th>4</th>\n",
       "      <td>29842</td>\n",
       "      <td>31</td>\n",
       "      <td>technician</td>\n",
       "      <td>married</td>\n",
       "      <td>secondary</td>\n",
       "      <td>no</td>\n",
       "      <td>119</td>\n",
       "      <td>yes</td>\n",
       "      <td>no</td>\n",
       "      <td>cellular</td>\n",
       "      <td>4</td>\n",
       "      <td>feb</td>\n",
       "      <td>380</td>\n",
       "      <td>1</td>\n",
       "      <td>-1</td>\n",
       "      <td>0</td>\n",
       "      <td>unknown</td>\n",
       "      <td>no</td>\n",
       "    </tr>\n",
       "  </tbody>\n",
       "</table>\n",
       "</div>\n",
       "      <button class=\"colab-df-convert\" onclick=\"convertToInteractive('df-25b3aa79-a306-4bca-9e3a-043a8c2fc5d5')\"\n",
       "              title=\"Convert this dataframe to an interactive table.\"\n",
       "              style=\"display:none;\">\n",
       "        \n",
       "  <svg xmlns=\"http://www.w3.org/2000/svg\" height=\"24px\"viewBox=\"0 0 24 24\"\n",
       "       width=\"24px\">\n",
       "    <path d=\"M0 0h24v24H0V0z\" fill=\"none\"/>\n",
       "    <path d=\"M18.56 5.44l.94 2.06.94-2.06 2.06-.94-2.06-.94-.94-2.06-.94 2.06-2.06.94zm-11 1L8.5 8.5l.94-2.06 2.06-.94-2.06-.94L8.5 2.5l-.94 2.06-2.06.94zm10 10l.94 2.06.94-2.06 2.06-.94-2.06-.94-.94-2.06-.94 2.06-2.06.94z\"/><path d=\"M17.41 7.96l-1.37-1.37c-.4-.4-.92-.59-1.43-.59-.52 0-1.04.2-1.43.59L10.3 9.45l-7.72 7.72c-.78.78-.78 2.05 0 2.83L4 21.41c.39.39.9.59 1.41.59.51 0 1.02-.2 1.41-.59l7.78-7.78 2.81-2.81c.8-.78.8-2.07 0-2.86zM5.41 20L4 18.59l7.72-7.72 1.47 1.35L5.41 20z\"/>\n",
       "  </svg>\n",
       "      </button>\n",
       "      \n",
       "  <style>\n",
       "    .colab-df-container {\n",
       "      display:flex;\n",
       "      flex-wrap:wrap;\n",
       "      gap: 12px;\n",
       "    }\n",
       "\n",
       "    .colab-df-convert {\n",
       "      background-color: #E8F0FE;\n",
       "      border: none;\n",
       "      border-radius: 50%;\n",
       "      cursor: pointer;\n",
       "      display: none;\n",
       "      fill: #1967D2;\n",
       "      height: 32px;\n",
       "      padding: 0 0 0 0;\n",
       "      width: 32px;\n",
       "    }\n",
       "\n",
       "    .colab-df-convert:hover {\n",
       "      background-color: #E2EBFA;\n",
       "      box-shadow: 0px 1px 2px rgba(60, 64, 67, 0.3), 0px 1px 3px 1px rgba(60, 64, 67, 0.15);\n",
       "      fill: #174EA6;\n",
       "    }\n",
       "\n",
       "    [theme=dark] .colab-df-convert {\n",
       "      background-color: #3B4455;\n",
       "      fill: #D2E3FC;\n",
       "    }\n",
       "\n",
       "    [theme=dark] .colab-df-convert:hover {\n",
       "      background-color: #434B5C;\n",
       "      box-shadow: 0px 1px 3px 1px rgba(0, 0, 0, 0.15);\n",
       "      filter: drop-shadow(0px 1px 2px rgba(0, 0, 0, 0.3));\n",
       "      fill: #FFFFFF;\n",
       "    }\n",
       "  </style>\n",
       "\n",
       "      <script>\n",
       "        const buttonEl =\n",
       "          document.querySelector('#df-25b3aa79-a306-4bca-9e3a-043a8c2fc5d5 button.colab-df-convert');\n",
       "        buttonEl.style.display =\n",
       "          google.colab.kernel.accessAllowed ? 'block' : 'none';\n",
       "\n",
       "        async function convertToInteractive(key) {\n",
       "          const element = document.querySelector('#df-25b3aa79-a306-4bca-9e3a-043a8c2fc5d5');\n",
       "          const dataTable =\n",
       "            await google.colab.kernel.invokeFunction('convertToInteractive',\n",
       "                                                     [key], {});\n",
       "          if (!dataTable) return;\n",
       "\n",
       "          const docLinkHtml = 'Like what you see? Visit the ' +\n",
       "            '<a target=\"_blank\" href=https://colab.research.google.com/notebooks/data_table.ipynb>data table notebook</a>'\n",
       "            + ' to learn more about interactive tables.';\n",
       "          element.innerHTML = '';\n",
       "          dataTable['output_type'] = 'display_data';\n",
       "          await google.colab.output.renderOutput(dataTable, element);\n",
       "          const docLink = document.createElement('div');\n",
       "          docLink.innerHTML = docLinkHtml;\n",
       "          element.appendChild(docLink);\n",
       "        }\n",
       "      </script>\n",
       "    </div>\n",
       "  </div>\n",
       "  "
      ],
      "text/plain": [
       "      ID  age         job   marital  education default  balance housing loan  \\\n",
       "0  26110   56      admin.   married    unknown      no     1933      no   no   \n",
       "1  40576   31     unknown   married  secondary      no        3      no   no   \n",
       "2  15320   27    services   married  secondary      no      891     yes   no   \n",
       "3  43962   57  management  divorced   tertiary      no     3287      no   no   \n",
       "4  29842   31  technician   married  secondary      no      119     yes   no   \n",
       "\n",
       "     contact  day month  duration  campaign  pdays  previous poutcome  \\\n",
       "0  telephone   19   nov        44         2     -1         0  unknown   \n",
       "1   cellular   20   jul        91         2     -1         0  unknown   \n",
       "2   cellular   18   jul       240         1     -1         0  unknown   \n",
       "3   cellular   22   jun       867         1     84         3  success   \n",
       "4   cellular    4   feb       380         1     -1         0  unknown   \n",
       "\n",
       "  subscribed  \n",
       "0         no  \n",
       "1         no  \n",
       "2         no  \n",
       "3        yes  \n",
       "4         no  "
      ]
     },
     "execution_count": 40,
     "metadata": {},
     "output_type": "execute_result"
    }
   ],
   "source": [
    "data = pd.read_csv(\"https://raw.githubusercontent.com/hsuecu/data_set/main/targetCustomer.csv\")\n",
    "data.head()"
   ]
  },
  {
   "cell_type": "code",
   "execution_count": 41,
   "metadata": {
    "id": "-n9VLpynqBzh"
   },
   "outputs": [],
   "source": [
    "if __name__==\"__main__\":\n",
    "    for i in data.columns:\n",
    "        data[i].replace('unknown', np.NAN, inplace=True)"
   ]
  },
  {
   "cell_type": "code",
   "execution_count": 42,
   "metadata": {
    "id": "VU-OiD1KqBzh"
   },
   "outputs": [],
   "source": [
    "data.drop(['poutcome','day','month'], axis=1, inplace=True)\n",
    "data['contact'].fillna('cellular', inplace=True)\n",
    "data = data.drop_duplicates(subset=['ID'], keep='first')"
   ]
  },
  {
   "cell_type": "code",
   "execution_count": 43,
   "metadata": {
    "colab": {
     "base_uri": "https://localhost:8080/"
    },
    "id": "PDzL8hA1qBzh",
    "outputId": "ef4ecd00-59ad-4154-ba8f-b4aac3ca3cb4"
   },
   "outputs": [
    {
     "name": "stdout",
     "output_type": "stream",
     "text": [
      "Useless row entries are:33.149%\n"
     ]
    }
   ],
   "source": [
    "if __name__==\"__main__\":\n",
    "    count = 0\n",
    "    for i in range(data.shape[0]):\n",
    "        for j in data.iloc[i].isna():\n",
    "            if j:\n",
    "                count += 1\n",
    "                break\n",
    "    print(f'Useless row entries are:{round(count/data.shape[0] * 100, 3)}%')"
   ]
  },
  {
   "cell_type": "markdown",
   "metadata": {
    "id": "3QvaKWb9qBzj"
   },
   "source": [
    "# Data Processing"
   ]
  },
  {
   "cell_type": "code",
   "execution_count": 44,
   "metadata": {
    "id": "SHxl2GB1qBzi"
   },
   "outputs": [],
   "source": [
    "data.dropna(axis=0, inplace=True)"
   ]
  },
  {
   "cell_type": "code",
   "execution_count": 45,
   "metadata": {
    "colab": {
     "base_uri": "https://localhost:8080/"
    },
    "id": "we-90qezqBzi",
    "outputId": "6e313566-c7b1-4781-b9af-0e221052ad34"
   },
   "outputs": [
    {
     "name": "stdout",
     "output_type": "stream",
     "text": [
      "<class 'pandas.core.frame.DataFrame'>\n",
      "Int64Index: 30224 entries, 2 to 31646\n",
      "Columns: 14 entries, marital_divorced to contact_telephone\n",
      "dtypes: uint8(14)\n",
      "memory usage: 649.3 KB\n"
     ]
    }
   ],
   "source": [
    "temp={\n",
    "    'entrepreneur':10,\n",
    "    'management':9,\n",
    "    'admin.':8,\n",
    "    'services':7,\n",
    "    'technician':6,\n",
    "    'retired':5,\n",
    "    'blue-collar':4,\n",
    "    'self-employed':3,\n",
    "    'student':2,\n",
    "    'housemaid':1,\n",
    "    'unemployed':0\n",
    "}\n",
    "data['job']=data['job'].map(temp)\n",
    "data['subscribed']=data['subscribed'].apply(lambda i: 1 if i=='yes' else 0)\n",
    "\n",
    "to_oneHotEncode=['marital', 'education',\n",
    "                 'default', 'housing',\n",
    "                 'loan', 'contact']\n",
    "data_intermediate=pd.get_dummies(data=data[to_oneHotEncode],\n",
    "                                drop_first=False)\n",
    "data_intermediate.info(verbose=False)\n",
    "\n",
    "data = pd.concat([data, data_intermediate], axis = 1)\n",
    "data.drop(to_oneHotEncode, axis=1, inplace=True)"
   ]
  },
  {
   "cell_type": "code",
   "execution_count": 46,
   "metadata": {
    "colab": {
     "base_uri": "https://localhost:8080/"
    },
    "id": "3d4W8lzYqBzj",
    "outputId": "36efe76d-469b-4536-9a3e-7230633b3276",
    "scrolled": true
   },
   "outputs": [
    {
     "data": {
      "text/plain": [
       "0    3527\n",
       "1    3527\n",
       "Name: subscribed, dtype: int64"
      ]
     },
     "execution_count": 46,
     "metadata": {},
     "output_type": "execute_result"
    }
   ],
   "source": [
    "X=data.drop(['subscribed', 'ID'], axis=1)\n",
    "y=data['subscribed']\n",
    "\n",
    "from imblearn.under_sampling import RandomUnderSampler\n",
    "cc=RandomUnderSampler(sampling_strategy=1)\n",
    "X, y=cc.fit_resample(X, y)\n",
    "y.value_counts()"
   ]
  },
  {
   "cell_type": "code",
   "execution_count": 47,
   "metadata": {
    "id": "fmRgrxyqqBzj"
   },
   "outputs": [],
   "source": [
    "from sklearn.model_selection import train_test_split\n",
    "X_train,  X_test,y_train, y_test = train_test_split(X,y, train_size = 0.7 )"
   ]
  },
  {
   "cell_type": "code",
   "execution_count": 48,
   "metadata": {
    "colab": {
     "base_uri": "https://localhost:8080/"
    },
    "id": "cIsmjH2GqBzk",
    "outputId": "c4da44f0-65e4-4684-b464-b0b477555273"
   },
   "outputs": [
    {
     "name": "stdout",
     "output_type": "stream",
     "text": [
      "X_train:(4937, 21)\n",
      "X_test:(2117, 21)\n",
      "y_train:(4937,)\n",
      "y_test:(2117,)\n"
     ]
    }
   ],
   "source": [
    "print(f'X_train:{X_train.shape}\\n\\\n",
    "X_test:{X_test.shape}\\n\\\n",
    "y_train:{y_train.shape}\\n\\\n",
    "y_test:{y_test.shape}')"
   ]
  },
  {
   "cell_type": "code",
   "execution_count": 49,
   "metadata": {
    "id": "dh0mCJNPqBzm"
   },
   "outputs": [],
   "source": [
    "# function to evaluate\n",
    "from sklearn.model_selection import cross_validate\n",
    "from sklearn.metrics import accuracy_score, recall_score, precision_score, roc_auc_score, f1_score, average_precision_score\n",
    "from sklearn.model_selection import StratifiedKFold\n",
    "def analyse(model, xtrain, ytrain, xtest, ytest):\n",
    "    ytrain_pred = model.predict(xtrain)\n",
    "    ytest_pred = model.predict(xtest)\n",
    "    try:\n",
    "        y_score_test = model.decision_function(xtest)\n",
    "        y_score_train = model.decision_function(xtrain)\n",
    "    except:\n",
    "        y_score_test = model.predict_proba(xtest)[:,1]\n",
    "        y_score_train = model.predict_proba(xtrain)[:,1]\n",
    "\n",
    "    ret = {'train':{'pr auc': average_precision_score(ytrain, y_score_train),\n",
    "                'accuracy': accuracy_score(ytrain, ytrain_pred),\n",
    "                'recall':recall_score(ytrain, ytrain_pred),\n",
    "                'precision':precision_score(ytrain, ytrain_pred),\n",
    "                'roc auc':roc_auc_score(ytrain, y_score_train),\n",
    "                'f1 score': f1_score(ytrain, ytrain_pred)},\n",
    "           'test':{'pr auc': average_precision_score(ytest, y_score_test),\n",
    "                'accuracy':accuracy_score(ytest, ytest_pred),\n",
    "                'recall':recall_score(ytest, ytest_pred),\n",
    "                'precision':precision_score(ytest, ytest_pred),\n",
    "                'roc auc':roc_auc_score(ytest, y_score_test),\n",
    "                'f1 score': f1_score(ytest, ytest_pred)}}\n",
    "    return ret"
   ]
  },
  {
   "cell_type": "code",
   "execution_count": 50,
   "metadata": {
    "id": "T_JaLdcLqBzn"
   },
   "outputs": [],
   "source": [
    "from sklearn.metrics import accuracy_score, recall_score, precision_score, roc_auc_score, f1_score, auc, precision_recall_curve\n",
    "\n",
    "def analyseANN(model, xtrain, ytrain, xtest, ytest):\n",
    "    ypred =  model.predict(xtrain)\n",
    "    ypred_test = model.predict(xtest)\n",
    "    precision_train, recall_train, thresholds = precision_recall_curve(ytrain, ypred)\n",
    "    precision_test, recall_test, thresholds = precision_recall_curve(y_test, ypred_test)\n",
    "\n",
    "    for i in range(len(ypred)):\n",
    "        if ypred[i] <=0.5:\n",
    "            ypred[i] =0\n",
    "        else: \n",
    "            ypred[i] =1\n",
    "    for i in range(len(ypred_test)):\n",
    "        if ypred_test[i] <=0.5:\n",
    "            ypred_test[i] =0\n",
    "        else: \n",
    "            ypred_test[i] =1\n",
    "    accuracy = accuracy_score(ytrain, ypred)\n",
    "    recall = recall_score(ytrain, ypred)\n",
    "    precision = precision_score(ytrain, ypred)\n",
    "    roc_auc = roc_auc_score(ytrain, ypred)\n",
    "    f1score = f1_score(ytrain, ypred)\n",
    "\n",
    "    ret = {'train':{'pr auc': auc(recall_train, precision_train),\n",
    "                    'accuracy': accuracy,\n",
    "                    'recall':recall,\n",
    "                    'precision':precision,\n",
    "                    'roc auc':roc_auc,\n",
    "                    'f1 score': f1score},\n",
    "               'test':{'pr auc': auc(recall_test, precision_test),\n",
    "                    'accuracy':accuracy_score(ytest, ypred_test),\n",
    "                    'recall':recall_score(ytest, ypred_test),\n",
    "                    'precision':precision_score(ytest, ypred_test),\n",
    "                    'roc auc':roc_auc_score(ytest, ypred_test),\n",
    "                    'f1 score': f1_score(ytest, ypred_test)}}\n",
    "    return ret"
   ]
  },
  {
   "cell_type": "markdown",
   "metadata": {
    "id": "vG_eZT29qBzo"
   },
   "source": [
    "# BASE CASE"
   ]
  },
  {
   "cell_type": "code",
   "execution_count": null,
   "metadata": {
    "colab": {
     "base_uri": "https://localhost:8080/"
    },
    "id": "JhW4HyeCqBzo",
    "outputId": "f9f09ce4-ef4e-44c8-d608-0cd9c37a9e8b"
   },
   "outputs": [
    {
     "name": "stdout",
     "output_type": "stream",
     "text": [
      "{\n",
      "  \"train\": {\n",
      "    \"pr auc\": 0.8412847892500843,\n",
      "    \"accuracy\": 0.7846611851431812,\n",
      "    \"recall\": 0.779699461298554,\n",
      "    \"precision\": 0.7875143184421535,\n",
      "    \"roc auc\": 0.8603355426794266,\n",
      "    \"f1 score\": 0.7835874056133352\n",
      "  },\n",
      "  \"test\": {\n",
      "    \"pr auc\": 0.811960365145672,\n",
      "    \"accuracy\": 0.7756258856872933,\n",
      "    \"recall\": 0.7641963426371511,\n",
      "    \"precision\": 0.775390625,\n",
      "    \"roc auc\": 0.8447406436544344,\n",
      "    \"f1 score\": 0.7697527872031023\n",
      "  }\n",
      "}\n"
     ]
    }
   ],
   "source": [
    "##                     ##\n",
    "## LOGISTIC REGRESSION ##\n",
    "##                     ##\n",
    "\n",
    "from sklearn.linear_model import LogisticRegression\n",
    "import json\n",
    "lr = LogisticRegression(random_state=42)\n",
    "lr.fit(X_train, y_train)\n",
    "print(json.dumps(analyse(lr, X, y, X_test, y_test), indent=2))"
   ]
  },
  {
   "cell_type": "code",
   "execution_count": null,
   "metadata": {
    "colab": {
     "base_uri": "https://localhost:8080/"
    },
    "id": "hhz3LrlVqBzo",
    "outputId": "73d5ba49-59a2-464e-f6b4-f6a634121b2a"
   },
   "outputs": [
    {
     "name": "stdout",
     "output_type": "stream",
     "text": [
      "{\n",
      "  \"train\": {\n",
      "    \"pr auc\": 0.930655021832607,\n",
      "    \"accuracy\": 0.8731216331159626,\n",
      "    \"recall\": 0.8760986674227389,\n",
      "    \"precision\": 0.870913190529876,\n",
      "    \"roc auc\": 0.9390891071662413,\n",
      "    \"f1 score\": 0.8734982332155479\n",
      "  },\n",
      "  \"test\": {\n",
      "    \"pr auc\": 0.8320500941734622,\n",
      "    \"accuracy\": 0.7902692489371752,\n",
      "    \"recall\": 0.8017324350336862,\n",
      "    \"precision\": 0.7777777777777778,\n",
      "    \"roc auc\": 0.8616373314572132,\n",
      "    \"f1 score\": 0.7895734597156397\n",
      "  }\n",
      "}\n"
     ]
    }
   ],
   "source": [
    "##                     ##\n",
    "## XG BOOST CLASSIFIER ##\n",
    "##                     ##\n",
    "\n",
    "from xgboost.sklearn import XGBClassifier\n",
    "params = {\n",
    "            'booster':'gbtree',\n",
    "            'objective':'binary:logistic',\n",
    "            'max_depth': 3,\n",
    "            'learning_rate': 1,\n",
    "            'n_estimators':100,\n",
    "            \"eval_metric\": ['logloss'],\n",
    "            'random_state': 42\n",
    "        }         \n",
    "           \n",
    "          \n",
    "# instantiate the classifier \n",
    "xgb_clf = XGBClassifier(**params)\n",
    "xgb_clf.fit(X_train, y_train)\n",
    "print(json.dumps(analyse(xgb_clf, X, y, X_test, y_test), indent=2))"
   ]
  },
  {
   "cell_type": "code",
   "execution_count": null,
   "metadata": {
    "colab": {
     "base_uri": "https://localhost:8080/"
    },
    "id": "DjIsmFxIqBzo",
    "outputId": "24790458-ff73-4ef6-83fd-360d97a2983f"
   },
   "outputs": [
    {
     "name": "stdout",
     "output_type": "stream",
     "text": [
      "{\n",
      "  \"train\": {\n",
      "    \"pr auc\": 0.8540692633693702,\n",
      "    \"accuracy\": 0.800680464984406,\n",
      "    \"recall\": 0.8454777431244684,\n",
      "    \"precision\": 0.7759562841530054,\n",
      "    \"roc auc\": 0.8723425164647879,\n",
      "    \"f1 score\": 0.8092265943012211\n",
      "  },\n",
      "  \"test\": {\n",
      "    \"pr auc\": 0.8385594239069548,\n",
      "    \"accuracy\": 0.7926310817194142,\n",
      "    \"recall\": 0.8402309913378249,\n",
      "    \"precision\": 0.7617801047120419,\n",
      "    \"roc auc\": 0.8644720465839674,\n",
      "    \"f1 score\": 0.7990846681922198\n",
      "  }\n",
      "}\n"
     ]
    }
   ],
   "source": [
    "##                          ##\n",
    "## RANDOM FOREST CLASSIFIER ##\n",
    "##                          ##\n",
    "\n",
    "\n",
    "from sklearn.ensemble import RandomForestClassifier\n",
    "rforest = RandomForestClassifier(max_depth = 3)\n",
    "rforest.fit(X_train, y_train)\n",
    "print(json.dumps(analyse(rforest, X, y, X_test, y_test), indent=2))"
   ]
  },
  {
   "cell_type": "code",
   "execution_count": null,
   "metadata": {
    "colab": {
     "base_uri": "https://localhost:8080/"
    },
    "id": "4LJ9FI7bqBzp",
    "outputId": "4b37ce0d-fea6-4cd9-91f2-4a1bd26e6f31"
   },
   "outputs": [
    {
     "name": "stdout",
     "output_type": "stream",
     "text": [
      "{\n",
      "  \"train\": {\n",
      "    \"pr auc\": 0.7972201948062424,\n",
      "    \"accuracy\": 0.6933360340287624,\n",
      "    \"recall\": 0.8512861736334405,\n",
      "    \"precision\": 0.6492949110974862,\n",
      "    \"roc auc\": 0.7964332511859293,\n",
      "    \"f1 score\": 0.736695652173913\n",
      "  },\n",
      "  \"test\": {\n",
      "    \"pr auc\": 0.7496357802788758,\n",
      "    \"accuracy\": 0.6863486065186585,\n",
      "    \"recall\": 0.8334937439846006,\n",
      "    \"precision\": 0.6381724392041267,\n",
      "    \"roc auc\": 0.7682885998917898,\n",
      "    \"f1 score\": 0.7228714524207013\n",
      "  }\n",
      "}\n"
     ]
    }
   ],
   "source": [
    "##                        ##\n",
    "## NAIVE BAYES CLASSIFIER ##\n",
    "##                        ##\n",
    "\n",
    "\n",
    "from sklearn.naive_bayes import GaussianNB\n",
    "gnb = GaussianNB()\n",
    "gnb.fit(X_train, y_train)\n",
    "print(json.dumps(analyse(gnb, X_train, y_train, X_test, y_test), indent=2))"
   ]
  },
  {
   "cell_type": "code",
   "execution_count": null,
   "metadata": {
    "colab": {
     "base_uri": "https://localhost:8080/"
    },
    "id": "GrXHtbeeqBzp",
    "outputId": "a7941b5d-9640-448a-dc6a-3d88098cc4c8"
   },
   "outputs": [
    {
     "name": "stdout",
     "output_type": "stream",
     "text": [
      "{\n",
      "  \"train\": {\n",
      "    \"pr auc\": 0.8187871807768456,\n",
      "    \"accuracy\": 0.7314158395786915,\n",
      "    \"recall\": 0.6579581993569131,\n",
      "    \"precision\": 0.775094696969697,\n",
      "    \"roc auc\": 0.8255994637879626,\n",
      "    \"f1 score\": 0.7117391304347825\n",
      "  },\n",
      "  \"test\": {\n",
      "    \"pr auc\": 0.7785507930426454,\n",
      "    \"accuracy\": 0.7175247992442135,\n",
      "    \"recall\": 0.6458132820019249,\n",
      "    \"precision\": 0.7447280799112098,\n",
      "    \"roc auc\": 0.8075259677762084,\n",
      "    \"f1 score\": 0.6917525773195876\n",
      "  }\n",
      "}\n"
     ]
    }
   ],
   "source": [
    "##                ##\n",
    "## SVC CLASSIFIER ##\n",
    "##                ##\n",
    "\n",
    "\n",
    "from sklearn.svm import SVC\n",
    "svc = SVC(C=1, kernel='rbf', gamma='scale')\n",
    "svc.fit(X_train, y_train)\n",
    "print(json.dumps(analyse(svc, X_train, y_train, X_test, y_test), indent=2))"
   ]
  },
  {
   "cell_type": "code",
   "execution_count": null,
   "metadata": {
    "id": "TsMsUKKyqBzp"
   },
   "outputs": [],
   "source": [
    "##                ##\n",
    "## ANN CLASSIFIER ##\n",
    "##                ##\n",
    "\n",
    "\n",
    "import sklearn\n",
    "from sklearn.neural_network import MLPClassifier\n",
    "from sklearn.neural_network import MLPRegressor\n",
    "\n",
    "# Import necessary modules\n",
    "from sklearn.model_selection import train_test_split\n",
    "from sklearn.metrics import mean_squared_error\n",
    "from math import sqrt\n",
    "from sklearn.metrics import r2_score\n",
    "\n",
    "def Model():\n",
    "    ann = MLPClassifier(hidden_layer_sizes=(64, 32), max_iter=10, activation='relu',solver='adam')\n",
    "    return ann"
   ]
  },
  {
   "cell_type": "code",
   "execution_count": null,
   "metadata": {
    "colab": {
     "base_uri": "https://localhost:8080/"
    },
    "id": "xA7SBJVDqBzp",
    "outputId": "3edcce9c-31ff-4c5d-bbf7-569409e70b35"
   },
   "outputs": [
    {
     "name": "stdout",
     "output_type": "stream",
     "text": [
      "running for: 0m, 0s\n",
      "{\n",
      "  \"train\": {\n",
      "    \"pr auc\": 0.7791853242639525,\n",
      "    \"accuracy\": 0.6834109783269192,\n",
      "    \"recall\": 0.4795016077170418,\n",
      "    \"precision\": 0.8165639972621492,\n",
      "    \"roc auc\": 0.6850345931602767,\n",
      "    \"f1 score\": 0.60420359584705\n",
      "  },\n",
      "  \"test\": {\n",
      "    \"pr auc\": 0.7492301482605521,\n",
      "    \"accuracy\": 0.6702881435994331,\n",
      "    \"recall\": 0.46968238691049086,\n",
      "    \"precision\": 0.768503937007874,\n",
      "    \"roc auc\": 0.6666593752734272,\n",
      "    \"f1 score\": 0.5830346475507766\n",
      "  }\n",
      "}\n"
     ]
    }
   ],
   "source": [
    "_start = time.time()\n",
    "\n",
    "model= Model()\n",
    "\n",
    "model.fit(X_train, y_train)\n",
    "\n",
    "ret = analyseANN(model, X_train, y_train, X_test, y_test)\n",
    "\n",
    "_end = time.time()\n",
    "\n",
    "print(f'running for: {int((_end-_start)/60)}m, {int((_end-_start)%60)}s')\n",
    "print(json.dumps(ret, indent=2))"
   ]
  },
  {
   "cell_type": "markdown",
   "metadata": {
    "id": "UBH31py7qBzq"
   },
   "source": [
    "# PSO OPTIMIZED"
   ]
  },
  {
   "cell_type": "code",
   "execution_count": 51,
   "metadata": {
    "colab": {
     "base_uri": "https://localhost:8080/"
    },
    "id": "fFNb6FFyqBzq",
    "outputId": "ff9c30dc-06c3-407d-d9ce-0e38b90dd1ba"
   },
   "outputs": [
    {
     "name": "stdout",
     "output_type": "stream",
     "text": [
      "Looking in indexes: https://pypi.org/simple, https://us-python.pkg.dev/colab-wheels/public/simple/\n",
      "Requirement already satisfied: sklearn-genetic-opt in /usr/local/lib/python3.7/dist-packages (0.9.0)\n",
      "Requirement already satisfied: deap>=1.3.1 in /usr/local/lib/python3.7/dist-packages (from sklearn-genetic-opt) (1.3.1)\n",
      "Requirement already satisfied: numpy>=1.14.5 in /usr/local/lib/python3.7/dist-packages (from sklearn-genetic-opt) (1.21.6)\n",
      "Requirement already satisfied: tqdm>=4.61.1 in /usr/local/lib/python3.7/dist-packages (from sklearn-genetic-opt) (4.64.0)\n",
      "Requirement already satisfied: scikit-learn>=0.21.3 in /usr/local/lib/python3.7/dist-packages (from sklearn-genetic-opt) (1.0.2)\n",
      "Requirement already satisfied: threadpoolctl>=2.0.0 in /usr/local/lib/python3.7/dist-packages (from scikit-learn>=0.21.3->sklearn-genetic-opt) (3.1.0)\n",
      "Requirement already satisfied: joblib>=0.11 in /usr/local/lib/python3.7/dist-packages (from scikit-learn>=0.21.3->sklearn-genetic-opt) (1.1.0)\n",
      "Requirement already satisfied: scipy>=1.1.0 in /usr/local/lib/python3.7/dist-packages (from scikit-learn>=0.21.3->sklearn-genetic-opt) (1.7.3)\n"
     ]
    }
   ],
   "source": [
    "!pip install sklearn-genetic-opt\n",
    "\n",
    "\n",
    "from sklearn.model_selection import train_test_split\n",
    "from sklearn.datasets import load_digits\n",
    "from sklearn.metrics import accuracy_score\n",
    "from sklearn_genetic import GASearchCV\n",
    "from sklearn_genetic.space import Continuous, Categorical, Integer\n",
    "from sklearn_genetic.plots import plot_fitness_evolution, plot_search_space\n",
    "from sklearn.model_selection import StratifiedKFold\n",
    "import matplotlib.pyplot as plt"
   ]
  },
  {
   "cell_type": "code",
   "execution_count": null,
   "metadata": {
    "id": "_fMwyyEOqBzq"
   },
   "outputs": [],
   "source": [
    "##                     ##\n",
    "## LOGISTIC REGRESSION ##\n",
    "##                     ##\n",
    "\n",
    "from sklearn.linear_model import LogisticRegression\n",
    "import json\n",
    "\n",
    "param_grid = {\n",
    "    'max_iter': Integer(100, 1000),\n",
    "    'penalty': Categorical(['l1', 'l2']),\n",
    "    'C': Continuous(1e-6, 1e-2, distribution=\"log-uniform\"),\n",
    "    'l1_ratio': Continuous(1e-9, 1, distribution='log-uniform')\n",
    "}\n",
    "\n",
    "\n",
    "lr = LogisticRegression(solver=\"saga\")\n",
    "cv = StratifiedKFold(n_splits=3, shuffle=True)\n",
    "\n",
    "evolved_estimator = GASearchCV(estimator=lr, cv=cv,\n",
    "                               scoring='accuracy', population_size=10,\n",
    "                               generations=10, tournament_size=3,\n",
    "                               elitism=True, crossover_probability=0.8,\n",
    "                               mutation_probability=0.1, param_grid=param_grid,\n",
    "                               criteria='max', algorithm='eaMuPlusLambda',\n",
    "                               n_jobs=-1, verbose=True, keep_top_k=4)"
   ]
  },
  {
   "cell_type": "code",
   "execution_count": null,
   "metadata": {
    "colab": {
     "base_uri": "https://localhost:8080/"
    },
    "id": "1QRsWWAwqBzq",
    "outputId": "967e7185-8df5-448e-8728-0ec0f32e994f"
   },
   "outputs": [
    {
     "name": "stdout",
     "output_type": "stream",
     "text": [
      "gen\tnevals\tfitness \tfitness_std\tfitness_max\tfitness_min\n",
      "0  \t10    \t0.560986\t0.0368149  \t0.616564   \t0.498885   \n",
      "1  \t14    \t0.584176\t0.0278508  \t0.618992   \t0.542433   \n",
      "2  \t19    \t0.607633\t0.00875725 \t0.618992   \t0.59713    \n",
      "3  \t19    \t0.614698\t0.00662183 \t0.623242   \t0.600764   \n",
      "4  \t17    \t0.618432\t0.00281843 \t0.623242   \t0.611904   \n",
      "5  \t20    \t0.61272 \t0.00839237 \t0.623242   \t0.600965   \n",
      "6  \t17    \t0.617175\t0.00485814 \t0.623242   \t0.605016   \n",
      "7  \t19    \t0.615347\t0.00874457 \t0.624459   \t0.596512   \n",
      "8  \t18    \t0.617876\t0.00645558 \t0.624459   \t0.600358   \n",
      "9  \t17    \t0.621202\t0.00134671 \t0.624459   \t0.619219   \n",
      "10 \t15    \t0.625678\t0.00769567 \t0.646741   \t0.619828   \n",
      "running for: 5m, 32s\n"
     ]
    }
   ],
   "source": [
    "_start =time.time()\n",
    "\n",
    "evolved_estimator.fit(X_train, y_train)\n",
    "\n",
    "_end = time.time()\n",
    "\n",
    "# only in seconds\n",
    "\n",
    "print(f'running for: {int((_end-_start)/60)}m, {int((_end-_start)%60)}s')"
   ]
  },
  {
   "cell_type": "code",
   "execution_count": null,
   "metadata": {
    "colab": {
     "base_uri": "https://localhost:8080/"
    },
    "id": "SvY3P4U2qBzq",
    "outputId": "72d899aa-8823-43dd-ff69-62d00322f3e0"
   },
   "outputs": [
    {
     "name": "stdout",
     "output_type": "stream",
     "text": [
      "{\n",
      "  \"train\": {\n",
      "    \"pr auc\": 0.808838240717275,\n",
      "    \"accuracy\": 0.6489771116062386,\n",
      "    \"recall\": 0.9421221864951769,\n",
      "    \"precision\": 0.5959827103991864,\n",
      "    \"roc auc\": 0.8052958816447162,\n",
      "    \"f1 score\": 0.7301043451175828\n",
      "  },\n",
      "  \"test\": {\n",
      "    \"pr auc\": 0.7682347432290411,\n",
      "    \"accuracy\": 0.6343882853094001,\n",
      "    \"recall\": 0.9412897016361886,\n",
      "    \"precision\": 0.5783560023654643,\n",
      "    \"roc auc\": 0.7874445779711832,\n",
      "    \"f1 score\": 0.7164835164835166\n",
      "  }\n",
      "}\n",
      "{'max_iter': 873, 'penalty': 'l2', 'C': 2.4477644422949932e-05, 'l1_ratio': 0.006808570693715838}\n"
     ]
    }
   ],
   "source": [
    "print(json.dumps(analyse(evolved_estimator, X_train, y_train, X_test, y_test), indent=2))\n",
    "\n",
    "print(evolved_estimator.best_params_)"
   ]
  },
  {
   "cell_type": "code",
   "execution_count": null,
   "metadata": {
    "id": "uTNmaNYbqBzr"
   },
   "outputs": [],
   "source": [
    "##                          ##\n",
    "## RANDOM FOREST CLASSIFIER ##\n",
    "##                          ##\n",
    "from sklearn.ensemble import RandomForestClassifier\n",
    "\n",
    "rf = RandomForestClassifier()\n",
    "\n",
    "param_grid = {\n",
    "    'n_estimators': Integer(10, 100),\n",
    "    'max_depth':Integer(3, 10),\n",
    "    'max_leaf_nodes':Integer(1, 100),\n",
    "    'max_features':Categorical(['sqrt', 'log2', None]),\n",
    "    'criterion':Categorical(['gini', 'entropy']),\n",
    "    'min_weight_fraction_leaf':Continuous(0.01, 0.5, distribution='log-uniform')\n",
    "}\n",
    "\n",
    "cv = StratifiedKFold(n_splits=3, shuffle=True)\n",
    "\n",
    "evolved_estimator = GASearchCV(estimator=rf, cv=cv, scoring='accuracy',\n",
    "                               population_size=10, generations=10,\n",
    "                               tournament_size=3, elitism=True,\n",
    "                               crossover_probability=0.8, mutation_probability=0.1,\n",
    "                               param_grid=param_grid, criteria='max',\n",
    "                               algorithm='eaMuPlusLambda', n_jobs=-1,\n",
    "                               verbose=True, keep_top_k=4)"
   ]
  },
  {
   "cell_type": "code",
   "execution_count": null,
   "metadata": {
    "colab": {
     "base_uri": "https://localhost:8080/"
    },
    "id": "DJ5DD-syqBzr",
    "outputId": "8619274c-4b57-47ee-a8e0-b7b7b91517c9"
   },
   "outputs": [
    {
     "name": "stdout",
     "output_type": "stream",
     "text": [
      "gen\tnevals\tfitness \tfitness_std\tfitness_max\tfitness_min\n",
      "0  \t10    \t0.757465\t0.0371678  \t0.80879    \t0.72007    \n",
      "1  \t15    \t0.785153\t0.0265068  \t0.80879    \t0.721893   \n",
      "2  \t17    \t0.796273\t0.0253579  \t0.808389   \t0.720682   \n",
      "3  \t16    \t0.805448\t0.00231528 \t0.808588   \t0.800889   \n",
      "4  \t18    \t0.806643\t0.00124566 \t0.808588   \t0.803929   \n",
      "5  \t17    \t0.807859\t0.00131056 \t0.8094     \t0.805753   \n",
      "6  \t16    \t0.808852\t0.000869182\t0.810005   \t0.807171   \n",
      "7  \t18    \t0.809095\t0.000603081\t0.8094     \t0.807372   \n",
      "8  \t20    \t0.808649\t0.00143869 \t0.810613   \t0.805548   \n",
      "9  \t20    \t0.809155\t0.00129048 \t0.811829   \t0.806156   \n",
      "10 \t19    \t0.809703\t0.00115139 \t0.811832   \t0.808182   \n",
      "running for: 1m, 17s\n"
     ]
    }
   ],
   "source": [
    "_start =time.time()\n",
    "\n",
    "evolved_estimator.fit(X_train, y_train)\n",
    "\n",
    "_end = time.time()\n",
    "\n",
    "# only in seconds\n",
    "\n",
    "print(f'running for: {int((_end-_start)/60)}m, {int((_end-_start)%60)}s')"
   ]
  },
  {
   "cell_type": "code",
   "execution_count": null,
   "metadata": {
    "colab": {
     "base_uri": "https://localhost:8080/"
    },
    "id": "HqYCmUkZqBzs",
    "outputId": "6b860f29-6edc-4479-aeaf-3f31f6e7f86a"
   },
   "outputs": [
    {
     "name": "stdout",
     "output_type": "stream",
     "text": [
      "{\n",
      "  \"train\": {\n",
      "    \"pr auc\": 0.8784437048118043,\n",
      "    \"accuracy\": 0.8189183714806563,\n",
      "    \"recall\": 0.8428456591639871,\n",
      "    \"precision\": 0.8065384615384615,\n",
      "    \"roc auc\": 0.8927259173965619,\n",
      "    \"f1 score\": 0.8242924528301887\n",
      "  },\n",
      "  \"test\": {\n",
      "    \"pr auc\": 0.8471652798396443,\n",
      "    \"accuracy\": 0.7949929145016533,\n",
      "    \"recall\": 0.8277189605389798,\n",
      "    \"precision\": 0.7713004484304933,\n",
      "    \"roc auc\": 0.8727636999326811,\n",
      "    \"f1 score\": 0.798514391829155\n",
      "  }\n",
      "}\n",
      "{'n_estimators': 65, 'max_depth': 7, 'max_leaf_nodes': 73, 'max_features': 'log2', 'criterion': 'gini', 'min_weight_fraction_leaf': 0.02233850270946316}\n"
     ]
    }
   ],
   "source": [
    "print(json.dumps(analyse(evolved_estimator, X_train, y_train, X_test, y_test), indent=2))\n",
    "\n",
    "print(evolved_estimator.best_params_)"
   ]
  },
  {
   "cell_type": "code",
   "execution_count": null,
   "metadata": {
    "id": "rHepE9iqqBzs"
   },
   "outputs": [],
   "source": [
    "##                     ##\n",
    "## XG BOOST CLASSIFIER ##\n",
    "##                     ##\n",
    "\n",
    "from xgboost.sklearn import XGBClassifier\n",
    "\n",
    "param_grid = {\n",
    "    'n_estimators': Integer(10, 20),\n",
    "    'max_depth': Integer(3, 9),\n",
    "    'gamma': Continuous(1e-6, 1, distribution='log-uniform'),\n",
    "    'learning_rate': Continuous(1e-6, 1e-2, distribution='log-uniform')\n",
    "}\n",
    "\n",
    "\n",
    "xgb = XGBClassifier();\n",
    "\n",
    "cv = StratifiedKFold(n_splits=3, shuffle=True)\n",
    "\n",
    "evolved_estimator = GASearchCV(estimator=xgb, cv=cv, scoring='accuracy',\n",
    "                               population_size=10, generations=10,\n",
    "                               tournament_size=3, elitism=True,\n",
    "                               crossover_probability=0.8, mutation_probability=0.1,\n",
    "                               param_grid=param_grid, criteria='max',\n",
    "                               algorithm='eaMuPlusLambda', n_jobs=-1,\n",
    "                               verbose=True, keep_top_k=4)"
   ]
  },
  {
   "cell_type": "code",
   "execution_count": null,
   "metadata": {
    "colab": {
     "base_uri": "https://localhost:8080/"
    },
    "id": "lN54Thp5qBzs",
    "outputId": "e797cc4b-cf34-4542-b79e-7401a490b5fa"
   },
   "outputs": [
    {
     "name": "stdout",
     "output_type": "stream",
     "text": [
      "gen\tnevals\tfitness \tfitness_std\tfitness_max\tfitness_min\n",
      "0  \t10    \t0.786915\t0.00995324 \t0.798661   \t0.760785   \n",
      "1  \t19    \t0.795787\t0.00452023 \t0.803523   \t0.790563   \n",
      "2  \t17    \t0.801682\t0.00416929 \t0.805752   \t0.795423   \n",
      "3  \t17    \t0.802937\t0.00282988 \t0.805752   \t0.795426   \n",
      "4  \t19    \t0.803929\t0.00109112 \t0.805752   \t0.801904   \n",
      "5  \t17    \t0.803545\t0.00281723 \t0.805348   \t0.795424   \n",
      "6  \t19    \t0.803828\t0.0023267  \t0.805348   \t0.797446   \n",
      "7  \t17    \t0.804963\t0.000643904\t0.805548   \t0.803724   \n",
      "8  \t20    \t0.805024\t0.000702435\t0.805548   \t0.803525   \n",
      "9  \t19    \t0.802228\t0.00392069 \t0.805348   \t0.796231   \n",
      "10 \t19    \t0.802552\t0.00369902 \t0.805348   \t0.794408   \n",
      "running for: 0m, 44s\n"
     ]
    }
   ],
   "source": [
    "_start =time.time()\n",
    "\n",
    "evolved_estimator.fit(X_train, y_train)\n",
    "\n",
    "_end = time.time()\n",
    "\n",
    "# only in seconds\n",
    "\n",
    "print(f'running for: {int((_end-_start)/60)}m, {int((_end-_start)%60)}s')"
   ]
  },
  {
   "cell_type": "code",
   "execution_count": null,
   "metadata": {
    "colab": {
     "base_uri": "https://localhost:8080/"
    },
    "id": "Lor7SGtTqBzs",
    "outputId": "443d3b1b-6924-4b08-b49a-78622bc26a63"
   },
   "outputs": [
    {
     "name": "stdout",
     "output_type": "stream",
     "text": [
      "{\n",
      "  \"train\": {\n",
      "    \"pr auc\": 0.8767150993732609,\n",
      "    \"accuracy\": 0.8266153534535143,\n",
      "    \"recall\": 0.8227491961414791,\n",
      "    \"precision\": 0.8314378554021121,\n",
      "    \"roc auc\": 0.8961516709359684,\n",
      "    \"f1 score\": 0.8270707070707071\n",
      "  },\n",
      "  \"test\": {\n",
      "    \"pr auc\": 0.8240744358152108,\n",
      "    \"accuracy\": 0.7888521492678319,\n",
      "    \"recall\": 0.7863330125120308,\n",
      "    \"precision\": 0.7840690978886756,\n",
      "    \"roc auc\": 0.8629221047067878,\n",
      "    \"f1 score\": 0.7851994233541567\n",
      "  }\n",
      "}\n",
      "{'n_estimators': 10, 'max_depth': 6, 'gamma': 1.443329674152842e-06, 'learning_rate': 0.00382769285401596}\n"
     ]
    }
   ],
   "source": [
    "print(json.dumps(analyse(evolved_estimator, X_train, y_train, X_test, y_test), indent=2))\n",
    "\n",
    "print(evolved_estimator.best_params_)"
   ]
  },
  {
   "cell_type": "code",
   "execution_count": null,
   "metadata": {
    "id": "ntM02yAGqBzt"
   },
   "outputs": [],
   "source": [
    "##                        ##\n",
    "## NAIVE BAYES CLASSIFIER ##\n",
    "##                        ##\n",
    "\n",
    "\n",
    "from sklearn.naive_bayes import GaussianNB\n",
    "import json\n",
    "param_grid = {\n",
    "    'var_smoothing': Continuous(1e-9, 1, distribution='log-uniform')\n",
    "}\n",
    "\n",
    "gnb = GaussianNB();\n",
    "\n",
    "cv = StratifiedKFold(n_splits=3, shuffle=True)\n",
    "\n",
    "evolved_estimator = GASearchCV(estimator=gnb, cv=cv, scoring='accuracy',\n",
    "                               population_size=10, generations=10,\n",
    "                               tournament_size=3, elitism=True,\n",
    "                               crossover_probability=0.8, mutation_probability=0.1,\n",
    "                               param_grid=param_grid, criteria='max',\n",
    "                               algorithm='eaMuPlusLambda', n_jobs=-1,\n",
    "                               verbose=True, keep_top_k=4)"
   ]
  },
  {
   "cell_type": "code",
   "execution_count": null,
   "metadata": {
    "colab": {
     "base_uri": "https://localhost:8080/"
    },
    "id": "EsPMurA8qBzt",
    "outputId": "ade28cdc-a14b-4686-e175-51cbe13ea76b"
   },
   "outputs": [
    {
     "name": "stdout",
     "output_type": "stream",
     "text": [
      "gen\tnevals\tfitness \tfitness_std\tfitness_max\tfitness_min\n",
      "0  \t10    \t0.663541\t0.0753574  \t0.719468   \t0.515698   \n",
      "1  \t17    \t0.713206\t0.0213285  \t0.733847   \t0.66761    \n",
      "2  \t17    \t0.729107\t0.0068175  \t0.734858   \t0.713396   \n",
      "3  \t17    \t0.732752\t0.00309461 \t0.734858   \t0.725135   \n",
      "4  \t18    \t0.735811\t0.00271451 \t0.740325   \t0.730404   \n",
      "5  \t19    \t0.737815\t0.00379971 \t0.740327   \t0.728381   \n",
      "6  \t18    \t0.737289\t0.00361909 \t0.740327   \t0.730403   \n",
      "7  \t19    \t0.73812 \t0.00387119 \t0.743978   \t0.731212   \n",
      "8  \t19    \t0.736723\t0.0039052  \t0.743978   \t0.729391   \n",
      "9  \t20    \t0.7396  \t0.00259627 \t0.743978   \t0.736078   \n",
      "10 \t17    \t0.739903\t0.00431274 \t0.743978   \t0.729395   \n",
      "running for: 0m, 9s\n"
     ]
    }
   ],
   "source": [
    "_start =time.time()\n",
    "\n",
    "evolved_estimator.fit(X_train, y_train)\n",
    "\n",
    "_end = time.time()\n",
    "\n",
    "# only in seconds\n",
    "\n",
    "print(f'running for: {int((_end-_start)/60)}m, {int((_end-_start)%60)}s')"
   ]
  },
  {
   "cell_type": "code",
   "execution_count": null,
   "metadata": {
    "colab": {
     "base_uri": "https://localhost:8080/"
    },
    "id": "EpUL0RgtqBzt",
    "outputId": "a497bf04-4666-4858-9b61-a70c1a1efbd8"
   },
   "outputs": [
    {
     "name": "stdout",
     "output_type": "stream",
     "text": [
      "{\n",
      "  \"train\": {\n",
      "    \"pr auc\": 0.7956423555910976,\n",
      "    \"accuracy\": 0.7405306866518129,\n",
      "    \"recall\": 0.7632636655948553,\n",
      "    \"precision\": 0.7329216518718642,\n",
      "    \"roc auc\": 0.800282515732519,\n",
      "    \"f1 score\": 0.7477849970466628\n",
      "  },\n",
      "  \"test\": {\n",
      "    \"pr auc\": 0.7460583498185194,\n",
      "    \"accuracy\": 0.7137458667926311,\n",
      "    \"recall\": 0.7526467757459095,\n",
      "    \"precision\": 0.6914235190097259,\n",
      "    \"roc auc\": 0.7668114231430607,\n",
      "    \"f1 score\": 0.7207373271889401\n",
      "  }\n",
      "}\n",
      "{'var_smoothing': 1.1045008051867968e-07}\n"
     ]
    }
   ],
   "source": [
    "print(json.dumps(analyse(evolved_estimator, X_train, y_train, X_test, y_test), indent=2))\n",
    "\n",
    "print(evolved_estimator.best_params_)"
   ]
  },
  {
   "cell_type": "code",
   "execution_count": null,
   "metadata": {
    "id": "SfTgM8jJqBzt"
   },
   "outputs": [],
   "source": [
    "##                ##\n",
    "## SVC CLASSIFIER ##\n",
    "##                ##\n",
    "\n",
    "\n",
    "from sklearn.svm import SVC\n",
    "\n",
    "param_grid = {\n",
    "    'C': Continuous(1e-4, 10, distribution='log-uniform'),\n",
    "    'gamma': Continuous(1e-4, 10, distribution='log-uniform')\n",
    "}\n",
    "\n",
    "svc = SVC()\n",
    "\n",
    "cv = StratifiedKFold(n_splits=3, shuffle=True)\n",
    "\n",
    "evolved_estimator = GASearchCV(estimator=svc, cv=cv, scoring='accuracy',\n",
    "                               population_size=10, generations=10,\n",
    "                               tournament_size=3, elitism=True,\n",
    "                               crossover_probability=0.8, mutation_probability=0.1,\n",
    "                               param_grid=param_grid, criteria='max',\n",
    "                               algorithm='eaMuPlusLambda', n_jobs=-1,\n",
    "                               verbose=True, keep_top_k=4)"
   ]
  },
  {
   "cell_type": "code",
   "execution_count": null,
   "metadata": {
    "colab": {
     "base_uri": "https://localhost:8080/"
    },
    "id": "fni-GljnqBzt",
    "outputId": "197d5011-5652-4868-a8fb-59790fc0cc13"
   },
   "outputs": [
    {
     "name": "stdout",
     "output_type": "stream",
     "text": [
      "gen\tnevals\tfitness \tfitness_std\tfitness_max\tfitness_min\n",
      "0  \t10    \t0.551833\t0.0806192  \t0.709541   \t0.50395    \n",
      "1  \t16    \t0.611464\t0.0738838  \t0.705085   \t0.50395    \n",
      "2  \t18    \t0.700466\t0.00785945 \t0.705085   \t0.678752   \n",
      "3  \t19    \t0.705267\t0.00280877 \t0.711769   \t0.701638   \n",
      "4  \t18    \t0.708224\t0.0023763  \t0.711769   \t0.704681   \n",
      "5  \t17    \t0.710169\t0.00227443 \t0.712176   \t0.705085   \n",
      "6  \t19    \t0.712275\t0.00435298 \t0.721086   \t0.705489   \n",
      "7  \t15    \t0.71827 \t0.00427857 \t0.722705   \t0.711769   \n",
      "8  \t19    \t0.720012\t0.00158811 \t0.721289   \t0.71683    \n",
      "9  \t17    \t0.71993 \t0.000985249\t0.721289   \t0.718247   \n",
      "10 \t18    \t0.721957\t0.00289332 \t0.727567   \t0.718855   \n",
      "running for: 7m, 47s\n"
     ]
    }
   ],
   "source": [
    "_start =time.time()\n",
    "\n",
    "evolved_estimator.fit(X_train, y_train)\n",
    "\n",
    "_end = time.time()\n",
    "\n",
    "# only in seconds\n",
    "\n",
    "print(f'running for: {int((_end-_start)/60)}m, {int((_end-_start)%60)}s')"
   ]
  },
  {
   "cell_type": "code",
   "execution_count": null,
   "metadata": {
    "colab": {
     "base_uri": "https://localhost:8080/"
    },
    "id": "SkWOKVPWqBzu",
    "outputId": "985dd214-44fc-4e54-913a-30fb102d01d6"
   },
   "outputs": [
    {
     "name": "stdout",
     "output_type": "stream",
     "text": [
      "{\n",
      "  \"train\": {\n",
      "    \"pr auc\": 0.9811722969715477,\n",
      "    \"accuracy\": 0.9266761191006684,\n",
      "    \"recall\": 0.8991157556270096,\n",
      "    \"precision\": 0.952725724020443,\n",
      "    \"roc auc\": 0.9806238585471595,\n",
      "    \"f1 score\": 0.9251447477253928\n",
      "  },\n",
      "  \"test\": {\n",
      "    \"pr auc\": 0.7096823206186883,\n",
      "    \"accuracy\": 0.7161076995748701,\n",
      "    \"recall\": 0.7507218479307026,\n",
      "    \"precision\": 0.6951871657754011,\n",
      "    \"roc auc\": 0.7626749711171545,\n",
      "    \"f1 score\": 0.7218880148079594\n",
      "  }\n",
      "}\n",
      "{'C': 2.8028038140437936, 'gamma': 0.0005144645648783607}\n"
     ]
    }
   ],
   "source": [
    "print(json.dumps(analyse(evolved_estimator, X_train, y_train, X_test, y_test), indent=2))\n",
    "\n",
    "print(evolved_estimator.best_params_)"
   ]
  },
  {
   "cell_type": "code",
   "execution_count": 52,
   "metadata": {
    "id": "miyg6NFJqBzu"
   },
   "outputs": [],
   "source": [
    "##                ##\n",
    "## ANN CLASSIFIER ##\n",
    "##                ##\n",
    "\n",
    "import random\n",
    "\n",
    "class foo(Categorical):\n",
    "    def __init__(self):\n",
    "        pass\n",
    "    def sample(self):\n",
    "        hidden_layer_count = random.randint(1, 4)\n",
    "        l = random.sample(range(8, 32), hidden_layer_count)\n",
    "        return tuple(l)\n",
    "\n",
    "param_grid = {\n",
    "    'alpha': Continuous(1e-4, 0.05, distribution='log-uniform'),\n",
    "    'activation': Categorical(['tanh', 'relu', 'identity', 'logistic']),\n",
    "    'solver': Categorical(['lbfgs', 'sgd', 'adam']),\n",
    "    'batch_size': Integer(100, 1000),\n",
    "    'learning_rate': Categorical(['constant', 'invscaling', 'adaptive']),\n",
    "    'hidden_layer_sizes': foo(),\n",
    "    'max_iter': Integer(50, 150),\n",
    "}\n",
    "\n",
    "ann = Model()\n",
    "\n",
    "cv = StratifiedKFold(n_splits=3, shuffle=True)\n",
    "\n",
    "evolved_estimator = GASearchCV(estimator=ann, cv=cv, scoring='accuracy',\n",
    "                               population_size=20, generations=10,\n",
    "                               tournament_size=3, elitism=True,\n",
    "                               crossover_probability=0.8, mutation_probability=0.1,\n",
    "                               param_grid=param_grid, criteria='max',\n",
    "                               algorithm='eaMuPlusLambda', n_jobs=-1,\n",
    "                               verbose=True, keep_top_k=4)"
   ]
  },
  {
   "cell_type": "code",
   "execution_count": 53,
   "metadata": {
    "colab": {
     "base_uri": "https://localhost:8080/"
    },
    "id": "jgJVMTbA-PXt",
    "outputId": "b1043aa9-0d35-4a2e-841c-7dd13d2f8e39"
   },
   "outputs": [
    {
     "name": "stdout",
     "output_type": "stream",
     "text": [
      "gen\tnevals\tfitness \tfitness_std\tfitness_max\tfitness_min\n",
      "0  \t20    \t0.671361\t0.0838258  \t0.759573   \t0.511846   \n",
      "1  \t36    \t0.726442\t0.0242872  \t0.753497   \t0.649578   \n",
      "2  \t33    \t0.7404  \t0.0100762  \t0.753497   \t0.721289   \n",
      "3  \t38    \t0.74836 \t0.0119732  \t0.786512   \t0.732026   \n",
      "4  \t34    \t0.761182\t0.0164302  \t0.786512   \t0.732026   \n",
      "5  \t38    \t0.767106\t0.0129671  \t0.786512   \t0.744179   \n",
      "6  \t36    \t0.774671\t0.00921605 \t0.788333   \t0.753293   \n",
      "7  \t35    \t0.783189\t0.0056521  \t0.791576   \t0.775167   \n",
      "8  \t37    \t0.78557 \t0.0050711  \t0.791576   \t0.776586   \n",
      "9  \t37    \t0.787443\t0.00334802 \t0.79218    \t0.781448   \n",
      "10 \t38    \t0.787493\t0.00339133 \t0.79218    \t0.779423   \n",
      "running for: 17m, 6s\n"
     ]
    }
   ],
   "source": [
    "_start =time.time()\n",
    "\n",
    "evolved_estimator.fit(X_train, y_train)\n",
    "\n",
    "_end = time.time()\n",
    "\n",
    "# only in seconds\n",
    "\n",
    "print(f'running for: {int((_end-_start)/60)}m, {int((_end-_start)%60)}s')"
   ]
  },
  {
   "cell_type": "code",
   "execution_count": 54,
   "metadata": {
    "colab": {
     "base_uri": "https://localhost:8080/"
    },
    "id": "g90hXlnH-R6e",
    "outputId": "44158e81-2f56-4e30-ab8c-fa07dab526ee"
   },
   "outputs": [
    {
     "name": "stdout",
     "output_type": "stream",
     "text": [
      "{\n",
      "  \"train\": {\n",
      "    \"pr auc\": 0.8453095522313565,\n",
      "    \"accuracy\": 0.8023090945918574,\n",
      "    \"recall\": 0.838682784493539,\n",
      "    \"precision\": 0.7735486351403307,\n",
      "    \"roc auc\": 0.803305143231797,\n",
      "    \"f1 score\": 0.8048000000000001\n",
      "  },\n",
      "  \"test\": {\n",
      "    \"pr auc\": 0.8643271959182169,\n",
      "    \"accuracy\": 0.8044402456306093,\n",
      "    \"recall\": 0.8306737588652482,\n",
      "    \"precision\": 0.8077586206896552,\n",
      "    \"roc auc\": 0.8025967378754957,\n",
      "    \"f1 score\": 0.8190559440559442\n",
      "  }\n",
      "}\n",
      "{'alpha': 0.019230428478922434, 'activation': 'logistic', 'solver': 'adam', 'batch_size': 236, 'learning_rate': 'invscaling', 'hidden_layer_sizes': (30,), 'max_iter': 136}\n"
     ]
    }
   ],
   "source": [
    "import json\n",
    "print(json.dumps(analyseANN(evolved_estimator, X_train, y_train, X_test, y_test), indent=2))\n",
    "\n",
    "print(evolved_estimator.best_params_)"
   ]
  },
  {
   "cell_type": "code",
   "execution_count": null,
   "metadata": {
    "id": "uqdTmGDiVIbU"
   },
   "outputs": [],
   "source": []
  }
 ],
 "metadata": {
  "colab": {
   "collapsed_sections": [],
   "name": "TARGET_CUSTOMER_GA.ipynb",
   "provenance": []
  },
  "gpuClass": "standard",
  "kernelspec": {
   "display_name": "Python 3",
   "language": "python",
   "name": "python3"
  },
  "language_info": {
   "codemirror_mode": {
    "name": "ipython",
    "version": 3
   },
   "file_extension": ".py",
   "mimetype": "text/x-python",
   "name": "python",
   "nbconvert_exporter": "python",
   "pygments_lexer": "ipython3",
   "version": "3.8.10"
  }
 },
 "nbformat": 4,
 "nbformat_minor": 1
}
