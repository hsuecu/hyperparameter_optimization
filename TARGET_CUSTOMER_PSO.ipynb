{
  "cells": [
    {
      "cell_type": "markdown",
      "metadata": {
        "id": "tpvD--opqBza"
      },
      "source": [
        "<span style=\"display:inline-block;position:relative;font-size:48px;background-color: #d9edab;padding:200px 10px;width:100%;text-align:center\">TARGET CUSTOMER</span><br><strong style=\"display:block;font-size:30px;padding-top:20px\">PSO</strong>"
      ]
    },
    {
      "cell_type": "code",
      "execution_count": 1,
      "metadata": {
        "colab": {
          "base_uri": "https://localhost:8080/"
        },
        "id": "W5aXNxNiqBze",
        "outputId": "3c4da4bb-900f-43d8-e2f9-0263b6f4640f"
      },
      "outputs": [
        {
          "output_type": "stream",
          "name": "stdout",
          "text": [
            "Looking in indexes: https://pypi.org/simple, https://us-python.pkg.dev/colab-wheels/public/simple/\n",
            "Collecting scikit-learn-intelex\n",
            "  Downloading scikit_learn_intelex-2021.6.3-py37-none-manylinux1_x86_64.whl (87 kB)\n",
            "\u001b[K     |████████████████████████████████| 87 kB 6.5 MB/s \n",
            "\u001b[?25hRequirement already satisfied: scikit-learn>=0.22 in /usr/local/lib/python3.7/dist-packages (from scikit-learn-intelex) (1.0.2)\n",
            "Collecting daal4py==2021.6.3\n",
            "  Downloading daal4py-2021.6.3-py37-none-manylinux1_x86_64.whl (26.0 MB)\n",
            "\u001b[K     |████████████████████████████████| 26.0 MB 83.5 MB/s \n",
            "\u001b[?25hRequirement already satisfied: numpy>=1.15 in /usr/local/lib/python3.7/dist-packages (from daal4py==2021.6.3->scikit-learn-intelex) (1.21.6)\n",
            "Collecting daal==2021.6.0\n",
            "  Downloading daal-2021.6.0-py2.py3-none-manylinux1_x86_64.whl (300.3 MB)\n",
            "\u001b[K     |████████████████████████████████| 300.3 MB 15 kB/s \n",
            "\u001b[?25hCollecting tbb==2021.*\n",
            "  Downloading tbb-2021.6.0-py2.py3-none-manylinux1_x86_64.whl (4.0 MB)\n",
            "\u001b[K     |████████████████████████████████| 4.0 MB 45.0 MB/s \n",
            "\u001b[?25hRequirement already satisfied: threadpoolctl>=2.0.0 in /usr/local/lib/python3.7/dist-packages (from scikit-learn>=0.22->scikit-learn-intelex) (3.1.0)\n",
            "Requirement already satisfied: joblib>=0.11 in /usr/local/lib/python3.7/dist-packages (from scikit-learn>=0.22->scikit-learn-intelex) (1.1.0)\n",
            "Requirement already satisfied: scipy>=1.1.0 in /usr/local/lib/python3.7/dist-packages (from scikit-learn>=0.22->scikit-learn-intelex) (1.4.1)\n",
            "Installing collected packages: tbb, daal, daal4py, scikit-learn-intelex\n",
            "Successfully installed daal-2021.6.0 daal4py-2021.6.3 scikit-learn-intelex-2021.6.3 tbb-2021.6.0\n"
          ]
        },
        {
          "output_type": "stream",
          "name": "stderr",
          "text": [
            "Intel(R) Extension for Scikit-learn* enabled (https://github.com/intel/scikit-learn-intelex)\n"
          ]
        }
      ],
      "source": [
        "import pandas as pd\n",
        "import numpy as np\n",
        "import matplotlib.pyplot as plt\n",
        "import seaborn as sns\n",
        "import time as time\n",
        "\n",
        "!pip3 install scikit-learn-intelex\n",
        "\n",
        "from sklearnex import patch_sklearn\n",
        "patch_sklearn()\n",
        "\n",
        "import warnings\n",
        "warnings.filterwarnings('ignore')"
      ]
    },
    {
      "cell_type": "code",
      "execution_count": 2,
      "metadata": {
        "colab": {
          "base_uri": "https://localhost:8080/",
          "height": 270
        },
        "id": "RvXrTq1mqBzg",
        "outputId": "8fea06dd-c7d4-427b-e4a2-eb2680b35ca3"
      },
      "outputs": [
        {
          "output_type": "execute_result",
          "data": {
            "text/plain": [
              "      ID  age         job   marital  education default  balance housing loan  \\\n",
              "0  26110   56      admin.   married    unknown      no     1933      no   no   \n",
              "1  40576   31     unknown   married  secondary      no        3      no   no   \n",
              "2  15320   27    services   married  secondary      no      891     yes   no   \n",
              "3  43962   57  management  divorced   tertiary      no     3287      no   no   \n",
              "4  29842   31  technician   married  secondary      no      119     yes   no   \n",
              "\n",
              "     contact  day month  duration  campaign  pdays  previous poutcome  \\\n",
              "0  telephone   19   nov        44         2     -1         0  unknown   \n",
              "1   cellular   20   jul        91         2     -1         0  unknown   \n",
              "2   cellular   18   jul       240         1     -1         0  unknown   \n",
              "3   cellular   22   jun       867         1     84         3  success   \n",
              "4   cellular    4   feb       380         1     -1         0  unknown   \n",
              "\n",
              "  subscribed  \n",
              "0         no  \n",
              "1         no  \n",
              "2         no  \n",
              "3        yes  \n",
              "4         no  "
            ],
            "text/html": [
              "\n",
              "  <div id=\"df-8311c00f-3022-4212-b1bf-7e4a0a213702\">\n",
              "    <div class=\"colab-df-container\">\n",
              "      <div>\n",
              "<style scoped>\n",
              "    .dataframe tbody tr th:only-of-type {\n",
              "        vertical-align: middle;\n",
              "    }\n",
              "\n",
              "    .dataframe tbody tr th {\n",
              "        vertical-align: top;\n",
              "    }\n",
              "\n",
              "    .dataframe thead th {\n",
              "        text-align: right;\n",
              "    }\n",
              "</style>\n",
              "<table border=\"1\" class=\"dataframe\">\n",
              "  <thead>\n",
              "    <tr style=\"text-align: right;\">\n",
              "      <th></th>\n",
              "      <th>ID</th>\n",
              "      <th>age</th>\n",
              "      <th>job</th>\n",
              "      <th>marital</th>\n",
              "      <th>education</th>\n",
              "      <th>default</th>\n",
              "      <th>balance</th>\n",
              "      <th>housing</th>\n",
              "      <th>loan</th>\n",
              "      <th>contact</th>\n",
              "      <th>day</th>\n",
              "      <th>month</th>\n",
              "      <th>duration</th>\n",
              "      <th>campaign</th>\n",
              "      <th>pdays</th>\n",
              "      <th>previous</th>\n",
              "      <th>poutcome</th>\n",
              "      <th>subscribed</th>\n",
              "    </tr>\n",
              "  </thead>\n",
              "  <tbody>\n",
              "    <tr>\n",
              "      <th>0</th>\n",
              "      <td>26110</td>\n",
              "      <td>56</td>\n",
              "      <td>admin.</td>\n",
              "      <td>married</td>\n",
              "      <td>unknown</td>\n",
              "      <td>no</td>\n",
              "      <td>1933</td>\n",
              "      <td>no</td>\n",
              "      <td>no</td>\n",
              "      <td>telephone</td>\n",
              "      <td>19</td>\n",
              "      <td>nov</td>\n",
              "      <td>44</td>\n",
              "      <td>2</td>\n",
              "      <td>-1</td>\n",
              "      <td>0</td>\n",
              "      <td>unknown</td>\n",
              "      <td>no</td>\n",
              "    </tr>\n",
              "    <tr>\n",
              "      <th>1</th>\n",
              "      <td>40576</td>\n",
              "      <td>31</td>\n",
              "      <td>unknown</td>\n",
              "      <td>married</td>\n",
              "      <td>secondary</td>\n",
              "      <td>no</td>\n",
              "      <td>3</td>\n",
              "      <td>no</td>\n",
              "      <td>no</td>\n",
              "      <td>cellular</td>\n",
              "      <td>20</td>\n",
              "      <td>jul</td>\n",
              "      <td>91</td>\n",
              "      <td>2</td>\n",
              "      <td>-1</td>\n",
              "      <td>0</td>\n",
              "      <td>unknown</td>\n",
              "      <td>no</td>\n",
              "    </tr>\n",
              "    <tr>\n",
              "      <th>2</th>\n",
              "      <td>15320</td>\n",
              "      <td>27</td>\n",
              "      <td>services</td>\n",
              "      <td>married</td>\n",
              "      <td>secondary</td>\n",
              "      <td>no</td>\n",
              "      <td>891</td>\n",
              "      <td>yes</td>\n",
              "      <td>no</td>\n",
              "      <td>cellular</td>\n",
              "      <td>18</td>\n",
              "      <td>jul</td>\n",
              "      <td>240</td>\n",
              "      <td>1</td>\n",
              "      <td>-1</td>\n",
              "      <td>0</td>\n",
              "      <td>unknown</td>\n",
              "      <td>no</td>\n",
              "    </tr>\n",
              "    <tr>\n",
              "      <th>3</th>\n",
              "      <td>43962</td>\n",
              "      <td>57</td>\n",
              "      <td>management</td>\n",
              "      <td>divorced</td>\n",
              "      <td>tertiary</td>\n",
              "      <td>no</td>\n",
              "      <td>3287</td>\n",
              "      <td>no</td>\n",
              "      <td>no</td>\n",
              "      <td>cellular</td>\n",
              "      <td>22</td>\n",
              "      <td>jun</td>\n",
              "      <td>867</td>\n",
              "      <td>1</td>\n",
              "      <td>84</td>\n",
              "      <td>3</td>\n",
              "      <td>success</td>\n",
              "      <td>yes</td>\n",
              "    </tr>\n",
              "    <tr>\n",
              "      <th>4</th>\n",
              "      <td>29842</td>\n",
              "      <td>31</td>\n",
              "      <td>technician</td>\n",
              "      <td>married</td>\n",
              "      <td>secondary</td>\n",
              "      <td>no</td>\n",
              "      <td>119</td>\n",
              "      <td>yes</td>\n",
              "      <td>no</td>\n",
              "      <td>cellular</td>\n",
              "      <td>4</td>\n",
              "      <td>feb</td>\n",
              "      <td>380</td>\n",
              "      <td>1</td>\n",
              "      <td>-1</td>\n",
              "      <td>0</td>\n",
              "      <td>unknown</td>\n",
              "      <td>no</td>\n",
              "    </tr>\n",
              "  </tbody>\n",
              "</table>\n",
              "</div>\n",
              "      <button class=\"colab-df-convert\" onclick=\"convertToInteractive('df-8311c00f-3022-4212-b1bf-7e4a0a213702')\"\n",
              "              title=\"Convert this dataframe to an interactive table.\"\n",
              "              style=\"display:none;\">\n",
              "        \n",
              "  <svg xmlns=\"http://www.w3.org/2000/svg\" height=\"24px\"viewBox=\"0 0 24 24\"\n",
              "       width=\"24px\">\n",
              "    <path d=\"M0 0h24v24H0V0z\" fill=\"none\"/>\n",
              "    <path d=\"M18.56 5.44l.94 2.06.94-2.06 2.06-.94-2.06-.94-.94-2.06-.94 2.06-2.06.94zm-11 1L8.5 8.5l.94-2.06 2.06-.94-2.06-.94L8.5 2.5l-.94 2.06-2.06.94zm10 10l.94 2.06.94-2.06 2.06-.94-2.06-.94-.94-2.06-.94 2.06-2.06.94z\"/><path d=\"M17.41 7.96l-1.37-1.37c-.4-.4-.92-.59-1.43-.59-.52 0-1.04.2-1.43.59L10.3 9.45l-7.72 7.72c-.78.78-.78 2.05 0 2.83L4 21.41c.39.39.9.59 1.41.59.51 0 1.02-.2 1.41-.59l7.78-7.78 2.81-2.81c.8-.78.8-2.07 0-2.86zM5.41 20L4 18.59l7.72-7.72 1.47 1.35L5.41 20z\"/>\n",
              "  </svg>\n",
              "      </button>\n",
              "      \n",
              "  <style>\n",
              "    .colab-df-container {\n",
              "      display:flex;\n",
              "      flex-wrap:wrap;\n",
              "      gap: 12px;\n",
              "    }\n",
              "\n",
              "    .colab-df-convert {\n",
              "      background-color: #E8F0FE;\n",
              "      border: none;\n",
              "      border-radius: 50%;\n",
              "      cursor: pointer;\n",
              "      display: none;\n",
              "      fill: #1967D2;\n",
              "      height: 32px;\n",
              "      padding: 0 0 0 0;\n",
              "      width: 32px;\n",
              "    }\n",
              "\n",
              "    .colab-df-convert:hover {\n",
              "      background-color: #E2EBFA;\n",
              "      box-shadow: 0px 1px 2px rgba(60, 64, 67, 0.3), 0px 1px 3px 1px rgba(60, 64, 67, 0.15);\n",
              "      fill: #174EA6;\n",
              "    }\n",
              "\n",
              "    [theme=dark] .colab-df-convert {\n",
              "      background-color: #3B4455;\n",
              "      fill: #D2E3FC;\n",
              "    }\n",
              "\n",
              "    [theme=dark] .colab-df-convert:hover {\n",
              "      background-color: #434B5C;\n",
              "      box-shadow: 0px 1px 3px 1px rgba(0, 0, 0, 0.15);\n",
              "      filter: drop-shadow(0px 1px 2px rgba(0, 0, 0, 0.3));\n",
              "      fill: #FFFFFF;\n",
              "    }\n",
              "  </style>\n",
              "\n",
              "      <script>\n",
              "        const buttonEl =\n",
              "          document.querySelector('#df-8311c00f-3022-4212-b1bf-7e4a0a213702 button.colab-df-convert');\n",
              "        buttonEl.style.display =\n",
              "          google.colab.kernel.accessAllowed ? 'block' : 'none';\n",
              "\n",
              "        async function convertToInteractive(key) {\n",
              "          const element = document.querySelector('#df-8311c00f-3022-4212-b1bf-7e4a0a213702');\n",
              "          const dataTable =\n",
              "            await google.colab.kernel.invokeFunction('convertToInteractive',\n",
              "                                                     [key], {});\n",
              "          if (!dataTable) return;\n",
              "\n",
              "          const docLinkHtml = 'Like what you see? Visit the ' +\n",
              "            '<a target=\"_blank\" href=https://colab.research.google.com/notebooks/data_table.ipynb>data table notebook</a>'\n",
              "            + ' to learn more about interactive tables.';\n",
              "          element.innerHTML = '';\n",
              "          dataTable['output_type'] = 'display_data';\n",
              "          await google.colab.output.renderOutput(dataTable, element);\n",
              "          const docLink = document.createElement('div');\n",
              "          docLink.innerHTML = docLinkHtml;\n",
              "          element.appendChild(docLink);\n",
              "        }\n",
              "      </script>\n",
              "    </div>\n",
              "  </div>\n",
              "  "
            ]
          },
          "metadata": {},
          "execution_count": 2
        }
      ],
      "source": [
        "data = pd.read_csv(\"https://raw.githubusercontent.com/hsuecu/data_set/main/targetCustomer.csv\")\n",
        "data.head()"
      ]
    },
    {
      "cell_type": "code",
      "execution_count": 3,
      "metadata": {
        "id": "-n9VLpynqBzh"
      },
      "outputs": [],
      "source": [
        "if __name__==\"__main__\":\n",
        "    for i in data.columns:\n",
        "        data[i].replace('unknown', np.NAN, inplace=True)"
      ]
    },
    {
      "cell_type": "code",
      "execution_count": 4,
      "metadata": {
        "id": "VU-OiD1KqBzh"
      },
      "outputs": [],
      "source": [
        "data.drop(['poutcome','day','month'], axis=1, inplace=True)\n",
        "data['contact'].fillna('cellular', inplace=True)\n",
        "data = data.drop_duplicates(subset=['ID'], keep='first')"
      ]
    },
    {
      "cell_type": "code",
      "execution_count": 5,
      "metadata": {
        "colab": {
          "base_uri": "https://localhost:8080/"
        },
        "id": "PDzL8hA1qBzh",
        "outputId": "ead730aa-861d-4c67-b1e1-83646eece15c"
      },
      "outputs": [
        {
          "output_type": "stream",
          "name": "stdout",
          "text": [
            "Useless row entries are:33.149%\n"
          ]
        }
      ],
      "source": [
        "if __name__==\"__main__\":\n",
        "    count = 0\n",
        "    for i in range(data.shape[0]):\n",
        "        for j in data.iloc[i].isna():\n",
        "            if j:\n",
        "                count += 1\n",
        "                break\n",
        "    print(f'Useless row entries are:{round(count/data.shape[0] * 100, 3)}%')"
      ]
    },
    {
      "cell_type": "markdown",
      "metadata": {
        "id": "3QvaKWb9qBzj"
      },
      "source": [
        "# Data Processing"
      ]
    },
    {
      "cell_type": "code",
      "execution_count": 6,
      "metadata": {
        "id": "SHxl2GB1qBzi"
      },
      "outputs": [],
      "source": [
        "data.dropna(axis=0, inplace=True)"
      ]
    },
    {
      "cell_type": "code",
      "execution_count": 7,
      "metadata": {
        "colab": {
          "base_uri": "https://localhost:8080/"
        },
        "id": "we-90qezqBzi",
        "outputId": "97991557-3224-456f-e096-03d1bc49b6e2"
      },
      "outputs": [
        {
          "output_type": "stream",
          "name": "stdout",
          "text": [
            "<class 'pandas.core.frame.DataFrame'>\n",
            "Int64Index: 30224 entries, 2 to 31646\n",
            "Columns: 14 entries, marital_divorced to contact_telephone\n",
            "dtypes: uint8(14)\n",
            "memory usage: 649.3 KB\n"
          ]
        }
      ],
      "source": [
        "temp={\n",
        "    'entrepreneur':10,\n",
        "    'management':9,\n",
        "    'admin.':8,\n",
        "    'services':7,\n",
        "    'technician':6,\n",
        "    'retired':5,\n",
        "    'blue-collar':4,\n",
        "    'self-employed':3,\n",
        "    'student':2,\n",
        "    'housemaid':1,\n",
        "    'unemployed':0\n",
        "}\n",
        "data['job']=data['job'].map(temp)\n",
        "data['subscribed']=data['subscribed'].apply(lambda i: 1 if i=='yes' else 0)\n",
        "\n",
        "to_oneHotEncode=['marital', 'education',\n",
        "                 'default', 'housing',\n",
        "                 'loan', 'contact']\n",
        "data_intermediate=pd.get_dummies(data=data[to_oneHotEncode],\n",
        "                                drop_first=False)\n",
        "data_intermediate.info(verbose=False)\n",
        "\n",
        "data = pd.concat([data, data_intermediate], axis = 1)\n",
        "data.drop(to_oneHotEncode, axis=1, inplace=True)"
      ]
    },
    {
      "cell_type": "code",
      "execution_count": 8,
      "metadata": {
        "colab": {
          "base_uri": "https://localhost:8080/"
        },
        "id": "3d4W8lzYqBzj",
        "outputId": "73e7ae61-a7d2-41ef-ab37-c47186213c3f",
        "scrolled": true
      },
      "outputs": [
        {
          "output_type": "execute_result",
          "data": {
            "text/plain": [
              "0    3527\n",
              "1    3527\n",
              "Name: subscribed, dtype: int64"
            ]
          },
          "metadata": {},
          "execution_count": 8
        }
      ],
      "source": [
        "X=data.drop(['subscribed', 'ID'], axis=1)\n",
        "y=data['subscribed']\n",
        "\n",
        "from imblearn.under_sampling import RandomUnderSampler\n",
        "cc=RandomUnderSampler(sampling_strategy=1)\n",
        "X, y=cc.fit_resample(X, y)\n",
        "y.value_counts()"
      ]
    },
    {
      "cell_type": "code",
      "execution_count": 9,
      "metadata": {
        "id": "fmRgrxyqqBzj"
      },
      "outputs": [],
      "source": [
        "from sklearn.model_selection import train_test_split\n",
        "X_train,  X_test,y_train, y_test = train_test_split(X,y, train_size = 0.7 )"
      ]
    },
    {
      "cell_type": "code",
      "execution_count": 10,
      "metadata": {
        "id": "cIsmjH2GqBzk",
        "colab": {
          "base_uri": "https://localhost:8080/"
        },
        "outputId": "1b0cbb4a-94bb-4d96-d06b-d9e89365fec4"
      },
      "outputs": [
        {
          "output_type": "stream",
          "name": "stdout",
          "text": [
            "X_train:(4937, 21)\n",
            "X_test:(2117, 21)\n",
            "y_train:(4937,)\n",
            "y_test:(2117,)\n"
          ]
        }
      ],
      "source": [
        "print(f'X_train:{X_train.shape}\\n\\\n",
        "X_test:{X_test.shape}\\n\\\n",
        "y_train:{y_train.shape}\\n\\\n",
        "y_test:{y_test.shape}')"
      ]
    },
    {
      "cell_type": "code",
      "execution_count": 11,
      "metadata": {
        "id": "dh0mCJNPqBzm"
      },
      "outputs": [],
      "source": [
        "# function to evaluate\n",
        "from sklearn.model_selection import cross_validate\n",
        "from sklearn.metrics import accuracy_score, recall_score, precision_score, roc_auc_score, f1_score, average_precision_score\n",
        "from sklearn.model_selection import StratifiedKFold\n",
        "def analyse(model, xtrain, ytrain, xtest, ytest):\n",
        "    model.fit(xtrain, ytrain)\n",
        "    sk = StratifiedKFold(3, shuffle=True, random_state=0)\n",
        "    sf_scorer = cross_validate(model, xtrain, ytrain, \n",
        "                 scoring=['roc_auc', 'accuracy', 'precision', 'recall', 'f1'],\n",
        "                 cv=sk)\n",
        "    accuracy = sf_scorer['test_accuracy'].mean()\n",
        "    recall = sf_scorer['test_recall'].mean()\n",
        "    precision = sf_scorer['test_precision'].mean()\n",
        "    roc_auc = sf_scorer['test_roc_auc'].mean()\n",
        "    f1score = sf_scorer['test_f1'].mean()\n",
        "    try:\n",
        "        y_score_test = model.decision_function(xtest)\n",
        "        y_score_train = model.decision_function(xtrain)\n",
        "    except:\n",
        "        y_score_test = model.predict_proba(xtest)[:,1]\n",
        "        y_score_train = model.predict_proba(xtrain)[:,1]\n",
        "    ypred = model.predict(xtest)\n",
        "    ret = {'train':{'pr auc': average_precision_score(ytrain, y_score_train),\n",
        "                'accuracy': accuracy,\n",
        "                'recall':recall,\n",
        "                'precision':precision,\n",
        "                'roc auc':roc_auc,\n",
        "                'f1 score': f1score},\n",
        "           'test':{'pr auc': average_precision_score(ytest, y_score_test),\n",
        "                'accuracy':accuracy_score(ytest, ypred),\n",
        "                'recall':recall_score(ytest, ypred),\n",
        "                'precision':precision_score(ytest, ypred),\n",
        "                'roc auc':roc_auc_score(ytest, y_score_test),\n",
        "                'f1 score': f1_score(ytest, ypred)}}\n",
        "    return ret"
      ]
    },
    {
      "cell_type": "code",
      "execution_count": 12,
      "metadata": {
        "id": "T_JaLdcLqBzn"
      },
      "outputs": [],
      "source": [
        "from sklearn.metrics import accuracy_score, recall_score, precision_score, roc_auc_score, f1_score, auc, precision_recall_curve\n",
        "\n",
        "def analyseANN(ANNmodel, model, xtrain, ytrain, xtest, ytest):\n",
        "    \n",
        "    ypred =  model.predict(xtrain)\n",
        "    ypred_test = model.predict(xtest)\n",
        "    precision_train, recall_train, thresholds = precision_recall_curve(ytrain, ypred)\n",
        "    precision_test, recall_test, thresholds = precision_recall_curve(y_test, ypred_test)\n",
        "\n",
        "    for i in range(len(ypred)):\n",
        "        if ypred[i] <=0.5:\n",
        "            ypred[i] =0\n",
        "        else: \n",
        "            ypred[i] =1\n",
        "    for i in range(len(ypred_test)):\n",
        "        if ypred_test[i] <=0.5:\n",
        "            ypred_test[i] =0\n",
        "        else: \n",
        "            ypred_test[i] =1\n",
        "    \n",
        "    #ypred = y_pred_prob.where(y_pred_prob<0.5,0,1 ) \n",
        "    accuracy = accuracy_score(ytrain, ypred)\n",
        "    recall = recall_score(ytrain, ypred)\n",
        "    precision = precision_score(ytrain, ypred)\n",
        "    roc_auc = roc_auc_score(ytrain, ypred)\n",
        "    f1score = f1_score(ytrain, ypred)\n",
        "\n",
        "    ret = {'train':{'pr auc': auc(recall_train, precision_train),\n",
        "                    'accuracy': accuracy,\n",
        "                    'recall':recall,\n",
        "                    'precision':precision,\n",
        "                    'roc auc':roc_auc,\n",
        "                    'f1 score': f1score},\n",
        "               'test':{'pr auc': auc(recall_test, precision_test),\n",
        "                    'accuracy':accuracy_score(ytest, ypred_test),\n",
        "                    'recall':recall_score(ytest, ypred_test),\n",
        "                    'precision':precision_score(ytest, ypred_test),\n",
        "                    'roc auc':roc_auc_score(ytest, ypred_test),\n",
        "                    'f1 score': f1_score(ytest, ypred_test)}}\n",
        "    \n",
        "    history_df = pd.DataFrame(ANNmodel.history)\n",
        "    history_df.loc[:, ['loss', 'val_loss']].plot()\n",
        "    history_df.loc[:, ['binary_accuracy', 'val_binary_accuracy']].plot()\n",
        "    plt.ylim(0.5, 1)\n",
        "    return ret"
      ]
    },
    {
      "cell_type": "markdown",
      "metadata": {
        "id": "vG_eZT29qBzo"
      },
      "source": [
        "# BASE CASE"
      ]
    },
    {
      "cell_type": "code",
      "execution_count": null,
      "metadata": {
        "colab": {
          "base_uri": "https://localhost:8080/"
        },
        "id": "JhW4HyeCqBzo",
        "outputId": "40c3272e-33ff-4c36-ee9a-05608dab7cdd"
      },
      "outputs": [
        {
          "output_type": "stream",
          "name": "stdout",
          "text": [
            "{\n",
            "  \"train\": {\n",
            "    \"pr auc\": 0.8330153203840991,\n",
            "    \"accuracy\": 0.7689236548156764,\n",
            "    \"recall\": 0.7519103102233801,\n",
            "    \"precision\": 0.7784284295349776,\n",
            "    \"roc auc\": 0.8395811392777307,\n",
            "    \"f1 score\": 0.7648633929296653\n",
            "  },\n",
            "  \"test\": {\n",
            "    \"pr auc\": 0.8199436433760874,\n",
            "    \"accuracy\": 0.7600377893245158,\n",
            "    \"recall\": 0.7424812030075187,\n",
            "    \"precision\": 0.771484375,\n",
            "    \"roc auc\": 0.8401604081428643,\n",
            "    \"f1 score\": 0.7567049808429118\n",
            "  }\n",
            "}\n"
          ]
        }
      ],
      "source": [
        "##                     ##\n",
        "## LOGISTIC REGRESSION ##\n",
        "##                     ##\n",
        "\n",
        "from sklearn.linear_model import LogisticRegression\n",
        "import json\n",
        "lr = LogisticRegression(random_state=42)\n",
        "\n",
        "print(json.dumps(analyse(lr, X, y, X_test, y_test), indent=2))"
      ]
    },
    {
      "cell_type": "code",
      "execution_count": null,
      "metadata": {
        "colab": {
          "base_uri": "https://localhost:8080/"
        },
        "id": "hhz3LrlVqBzo",
        "outputId": "d44ea51e-aba1-4d3a-ea27-ca494e682c09"
      },
      "outputs": [
        {
          "output_type": "stream",
          "name": "stdout",
          "text": [
            "{\n",
            "  \"train\": {\n",
            "    \"pr auc\": 0.956185940805006,\n",
            "    \"accuracy\": 0.7907566471931181,\n",
            "    \"recall\": 0.7984100448690116,\n",
            "    \"precision\": 0.786399512041234,\n",
            "    \"roc auc\": 0.8685636814792496,\n",
            "    \"f1 score\": 0.7923454416817816\n",
            "  },\n",
            "  \"test\": {\n",
            "    \"pr auc\": 0.956867242006693,\n",
            "    \"accuracy\": 0.896551724137931,\n",
            "    \"recall\": 0.8994360902255639,\n",
            "    \"precision\": 0.8952291861552854,\n",
            "    \"roc auc\": 0.9575496790409072,\n",
            "    \"f1 score\": 0.8973277074542897\n",
            "  }\n",
            "}\n"
          ]
        }
      ],
      "source": [
        "##                     ##\n",
        "## XG BOOST CLASSIFIER ##\n",
        "##                     ##\n",
        "\n",
        "from xgboost.sklearn import XGBClassifier\n",
        "params = {\n",
        "            'booster':'gbtree',\n",
        "            'objective':'binary:logistic',\n",
        "            'max_depth': 3,\n",
        "            'learning_rate': 1,\n",
        "            'n_estimators':100,\n",
        "            \"eval_metric\": ['logloss'],\n",
        "            'random_state': 42\n",
        "        }         \n",
        "           \n",
        "          \n",
        "# instantiate the classifier \n",
        "xgb_clf = XGBClassifier(**params)\n",
        "print(json.dumps(analyse(xgb_clf, X, y, X_test, y_test), indent=2))"
      ]
    },
    {
      "cell_type": "code",
      "execution_count": null,
      "metadata": {
        "colab": {
          "base_uri": "https://localhost:8080/"
        },
        "id": "DjIsmFxIqBzo",
        "outputId": "d7aa804f-647e-4c30-8c42-47a7563b73bf"
      },
      "outputs": [
        {
          "output_type": "stream",
          "name": "stdout",
          "text": [
            "{\n",
            "  \"train\": {\n",
            "    \"pr auc\": 0.8519950786817129,\n",
            "    \"accuracy\": 0.7974205987513394,\n",
            "    \"recall\": 0.8378238529454335,\n",
            "    \"precision\": 0.7751934400322154,\n",
            "    \"roc auc\": 0.8632363251423018,\n",
            "    \"f1 score\": 0.8052775162207944\n",
            "  },\n",
            "  \"test\": {\n",
            "    \"pr auc\": 0.8365181400353241,\n",
            "    \"accuracy\": 0.7931034482758621,\n",
            "    \"recall\": 0.8336466165413534,\n",
            "    \"precision\": 0.7726480836236934,\n",
            "    \"roc auc\": 0.8621522645645453,\n",
            "    \"f1 score\": 0.8019891500904159\n",
            "  }\n",
            "}\n"
          ]
        }
      ],
      "source": [
        "##                          ##\n",
        "## RANDOM FOREST CLASSIFIER ##\n",
        "##                          ##\n",
        "\n",
        "\n",
        "from sklearn.ensemble import RandomForestClassifier\n",
        "rforest = RandomForestClassifier(max_depth = 3)\n",
        "\n",
        "print(json.dumps(analyse(rforest, X, y, X_test, y_test), indent=2))"
      ]
    },
    {
      "cell_type": "code",
      "execution_count": null,
      "metadata": {
        "colab": {
          "base_uri": "https://localhost:8080/"
        },
        "id": "4LJ9FI7bqBzp",
        "outputId": "e834b6b4-26ab-43d9-d8b5-19cc47ef6681"
      },
      "outputs": [
        {
          "output_type": "stream",
          "name": "stdout",
          "text": [
            "{\n",
            "  \"train\": {\n",
            "    \"pr auc\": 0.7908917154567041,\n",
            "    \"accuracy\": 0.7462019620805589,\n",
            "    \"recall\": 0.8067397482744619,\n",
            "    \"precision\": 0.7196048019992487,\n",
            "    \"roc auc\": 0.8061517346997403,\n",
            "    \"f1 score\": 0.7603314467916994\n",
            "  },\n",
            "  \"test\": {\n",
            "    \"pr auc\": 0.7553690195099754,\n",
            "    \"accuracy\": 0.7288615965989608,\n",
            "    \"recall\": 0.8167293233082706,\n",
            "    \"precision\": 0.6963141025641025,\n",
            "    \"roc auc\": 0.7818723268284672,\n",
            "    \"f1 score\": 0.7517301038062284\n",
            "  }\n",
            "}\n"
          ]
        }
      ],
      "source": [
        "##                        ##\n",
        "## NAIVE BAYES CLASSIFIER ##\n",
        "##                        ##\n",
        "\n",
        "\n",
        "from sklearn.naive_bayes import GaussianNB\n",
        "gnb = GaussianNB()\n",
        "\n",
        "print(json.dumps(analyse(gnb, X_train, y_train, X_test, y_test), indent=2))"
      ]
    },
    {
      "cell_type": "code",
      "execution_count": null,
      "metadata": {
        "colab": {
          "base_uri": "https://localhost:8080/"
        },
        "id": "GrXHtbeeqBzp",
        "outputId": "9ab97fda-b085-40e7-ac65-b2f40de9c796"
      },
      "outputs": [
        {
          "output_type": "stream",
          "name": "stdout",
          "text": [
            "{\n",
            "  \"train\": {\n",
            "    \"pr auc\": 0.816503666060145,\n",
            "    \"accuracy\": 0.7301981654583708,\n",
            "    \"recall\": 0.6727568006496142,\n",
            "    \"precision\": 0.7592280865247526,\n",
            "    \"roc auc\": 0.8204196799302225,\n",
            "    \"f1 score\": 0.7133476507321195\n",
            "  },\n",
            "  \"test\": {\n",
            "    \"pr auc\": 0.7986630886484801,\n",
            "    \"accuracy\": 0.7189418989135569,\n",
            "    \"recall\": 0.6550751879699248,\n",
            "    \"precision\": 0.7535135135135135,\n",
            "    \"roc auc\": 0.8082849574077644,\n",
            "    \"f1 score\": 0.7008547008547008\n",
            "  }\n",
            "}\n"
          ]
        }
      ],
      "source": [
        "##                ##\n",
        "## SVC CLASSIFIER ##\n",
        "##                ##\n",
        "\n",
        "\n",
        "from sklearn.svm import SVC\n",
        "svc = SVC(C=1, kernel='rbf', gamma='scale')\n",
        "\n",
        "print(json.dumps(analyse(svc, X_train, y_train, X_test, y_test), indent=2))"
      ]
    },
    {
      "cell_type": "code",
      "execution_count": null,
      "metadata": {
        "id": "TsMsUKKyqBzp"
      },
      "outputs": [],
      "source": [
        "##                ##\n",
        "## ANN CLASSIFIER ##\n",
        "##                ##\n",
        "\n",
        "\n",
        "from tensorflow.keras import Sequential\n",
        "from tensorflow.keras.layers import Dense, BatchNormalization, Dropout\n",
        "from tensorflow.keras.optimizers import Adam\n",
        "from keras.callbacks import EarlyStopping\n",
        "from keras.wrappers.scikit_learn import KerasClassifier\n",
        "\n",
        "def create_ann(dense_layers, dense_nodes, learning_rate, dropout_rate):\n",
        "    ann = Sequential()\n",
        "    ann.add(Dense(units = dense_nodes, activation='relu', input_shape=[(X_train.shape[1])]))\n",
        "    ann.add(Dropout(dropout_rate))\n",
        "    ann.add(BatchNormalization())\n",
        "\n",
        "    for i in range(dense_layers):\n",
        "        ann.add(Dense(units = dense_nodes, activation='relu'))\n",
        "        ann.add(Dropout(dropout_rate))\n",
        "        ann.add(BatchNormalization())\n",
        "    \n",
        "    ann.add(Dense(units = 1, activation='sigmoid')) \n",
        "    ann.compile(loss='binary_crossentropy', optimizer=Adam(learning_rate=learning_rate), metrics=['binary_accuracy'])\n",
        "    return ann\n",
        "\n",
        "def Model(dense_layers, dense_nodes, learning_rate, dropout_rate, batch_size):\n",
        "    ann = create_ann(dense_layers, dense_nodes, learning_rate, dropout_rate)\n",
        "    es = EarlyStopping(min_delta=0.01, patience=10)\n",
        "    classifier = ann.fit(X_train, y_train, validation_data=(X_test, y_test), batch_size=batch_size,\n",
        "                                     epochs=100, verbose=0,callbacks = es)\n",
        "    return classifier, ann"
      ]
    },
    {
      "cell_type": "code",
      "execution_count": null,
      "metadata": {
        "colab": {
          "base_uri": "https://localhost:8080/",
          "height": 847
        },
        "id": "xA7SBJVDqBzp",
        "outputId": "a96e5bc7-30a6-4aa6-a3cc-f051c0f16407"
      },
      "outputs": [
        {
          "output_type": "stream",
          "name": "stdout",
          "text": [
            "running for: 0m, 19s\n",
            "{\n",
            "  \"train\": {\n",
            "    \"pr auc\": 0.8411894523922213,\n",
            "    \"accuracy\": 0.7796232529876443,\n",
            "    \"recall\": 0.7775071051563135,\n",
            "    \"precision\": 0.780040733197556,\n",
            "    \"roc auc\": 0.7796185485361196,\n",
            "    \"f1 score\": 0.7787718584790565\n",
            "  },\n",
            "  \"test\": {\n",
            "    \"pr auc\": 0.8253344957238198,\n",
            "    \"accuracy\": 0.7515351913084554,\n",
            "    \"recall\": 0.7274436090225563,\n",
            "    \"precision\": 0.7663366336633664,\n",
            "    \"roc auc\": 0.7516610257838328,\n",
            "    \"f1 score\": 0.746383799421408\n",
            "  }\n",
            "}\n"
          ]
        },
        {
          "output_type": "display_data",
          "data": {
            "text/plain": [
              "<Figure size 432x288 with 1 Axes>"
            ],
            "image/png": "[encoded data removed]"
          },
          "metadata": {
            "needs_background": "light"
          }
        },
        {
          "output_type": "display_data",
          "data": {
            "text/plain": [
              "<Figure size 432x288 with 1 Axes>"
            ],
            "image/png": "[encoded data removed]"
          },
          "metadata": {
            "needs_background": "light"
          }
        }
      ],
      "source": [
        "_start = time.time()\n",
        "\n",
        "ANNmodel , model= Model(dense_layers =2 , dense_nodes = 128, learning_rate = 0.001, dropout_rate = 0.3, batch_size = 1000)\n",
        "\n",
        "ret = analyseANN(ANNmodel, model, X_train, y_train, X_test, y_test)\n",
        "\n",
        "_end = time.time()\n",
        "\n",
        "print(f'running for: {int((_end-_start)/60)}m, {int((_end-_start)%60)}s')\n",
        "print(json.dumps(ret, indent=2))"
      ]
    },
    {
      "cell_type": "markdown",
      "metadata": {
        "id": "UBH31py7qBzq"
      },
      "source": [
        "# PSO OPTIMIZED"
      ]
    },
    {
      "cell_type": "code",
      "execution_count": 13,
      "metadata": {
        "colab": {
          "base_uri": "https://localhost:8080/"
        },
        "id": "fFNb6FFyqBzq",
        "outputId": "f799e0af-d022-43f7-9aa5-183597846faa"
      },
      "outputs": [
        {
          "output_type": "stream",
          "name": "stdout",
          "text": [
            "Looking in indexes: https://pypi.org/simple, https://us-python.pkg.dev/colab-wheels/public/simple/\n",
            "Collecting optunity\n",
            "  Downloading Optunity-1.1.1.tar.gz (4.6 MB)\n",
            "\u001b[K     |████████████████████████████████| 4.6 MB 30.4 MB/s \n",
            "\u001b[?25hBuilding wheels for collected packages: optunity\n",
            "  Building wheel for optunity (setup.py) ... \u001b[?25l\u001b[?25hdone\n",
            "  Created wheel for optunity: filename=Optunity-1.1.1-py3-none-any.whl size=72032 sha256=3a2faf76dbe526c44f4469d75c36202e49f25aa1ef723e3a7b5602dcd9e7c735\n",
            "  Stored in directory: /root/.cache/pip/wheels/0d/0e/31/a4763ff822a20f88a61dd3bb1c8b78a8f25c605392fe956d07\n",
            "Successfully built optunity\n",
            "Installing collected packages: optunity\n",
            "Successfully installed optunity-1.1.1\n"
          ]
        }
      ],
      "source": [
        "!pip install optunity\n",
        "\n",
        "import optunity\n",
        "import optunity.metrics\n",
        "from bisect import bisect\n",
        "from sklearn.model_selection import cross_val_score\n",
        "import math"
      ]
    },
    {
      "cell_type": "code",
      "execution_count": null,
      "metadata": {
        "id": "_fMwyyEOqBzq"
      },
      "outputs": [],
      "source": [
        "##                     ##\n",
        "## LOGISTIC REGRESSION ##\n",
        "##                     ##\n",
        "\n",
        "from sklearn.linear_model import LogisticRegression\n",
        "import json\n",
        "\n",
        "search = {\n",
        "    'penalty':[0, 1], # none l1 l2 elasticnet\n",
        "    'C': [1e-6, 1e-2], # inverse of regularization strength\n",
        "    'l1_ratio':[0, 1],\n",
        "    'max_iter':[10, 1000]\n",
        "}\n",
        "\n",
        "data = X.values.tolist()\n",
        "labels = y.values.tolist()\n",
        "counter=0\n",
        "\n",
        "@optunity.cross_validated(x=data, y=labels, num_folds=3)\n",
        "\n",
        "def performance_lr(x_train, y_train, x_test, y_test,\n",
        "                  penalty=None, max_iter=None, C=None,\n",
        "                   l1_ratio=None):\n",
        "    global counter\n",
        "    def mapper(f, breakpoint=[], cat=[]):\n",
        "        return cat[bisect(breakpoint, f)]\n",
        "    \n",
        "    penalty=mapper(penalty, breakpoint=[0.25, 0.5, 0.75],\n",
        "                   cat=['none', 'l1', 'l2', 'elasticnet'])\n",
        "    max_iter = int(max_iter)\n",
        "    \n",
        "    model = LogisticRegression(penalty=penalty, l1_ratio=l1_ratio, C=C,\n",
        "                               max_iter=max_iter, solver='saga')\n",
        "    # mark this issue.\n",
        "    # only saga allows using any penalty hence for \n",
        "    # ease of implementation we use saga.\n",
        "    l = cross_val_score(model, data, labels, cv=3,\n",
        "                                    scoring='roc_auc', error_score='raise')\n",
        "    scores = np.mean(l)\n",
        "    counter+=1\n",
        "    print(counter, end=' ')\n",
        "    return scores"
      ]
    },
    {
      "cell_type": "code",
      "execution_count": null,
      "metadata": {
        "colab": {
          "base_uri": "https://localhost:8080/"
        },
        "id": "1QRsWWAwqBzq",
        "outputId": "c239ceb9-feb9-48dc-dc60-85cce9a56d0e"
      },
      "outputs": [
        {
          "output_type": "stream",
          "name": "stdout",
          "text": [
            "1 2 3 4 5 6 7 8 9 10 11 12 13 14 15 16 17 18 19 20 21 22 23 24 25 26 27 28 29 30 31 32 33 34 35 36 37 38 39 40 41 42 43 44 45 46 47 48 49 50 51 52 53 54 55 56 57 58 59 60 61 62 63 64 65 66 67 68 69 70 71 72 73 74 75 76 77 78 79 80 81 82 83 84 85 86 87 88 89 90 91 92 93 94 95 96 97 98 99 100 101 102 103 104 105 106 107 108 109 110 111 112 113 114 115 116 117 118 119 120 121 122 123 124 125 126 127 128 129 130 131 132 133 134 135 136 137 138 139 140 141 142 143 144 145 146 147 148 149 150 151 152 153 154 155 156 157 158 159 160 161 162 163 164 165 166 167 168 169 170 171 172 173 174 175 176 177 178 179 180 181 182 183 184 185 186 187 188 189 190 191 192 193 194 195 196 197 198 199 200 201 202 203 204 205 206 207 208 209 210 211 212 213 214 215 216 217 218 219 220 221 222 223 224 225 226 227 228 229 230 231 232 233 234 235 236 237 238 239 240 241 242 243 244 245 246 247 248 249 250 251 252 253 254 255 256 257 258 259 260 261 262 263 264 265 266 267 268 269 270 271 272 273 274 275 276 277 278 279 280 281 282 283 284 285 286 287 288 289 290 291 292 293 294 295 296 297 running for: 16m, 27s\n"
          ]
        }
      ],
      "source": [
        "_start = time.time()\n",
        "\n",
        "optimal_confg, info, _ = optunity.maximize(performance_lr,\n",
        "                                           solver_name='particle swarm',\n",
        "                                           num_evals=100,\n",
        "                                           **search)\n",
        "\n",
        "_end = time.time()\n",
        "\n",
        "# only in seconds\n",
        "\n",
        "print(f'running for: {int((_end-_start)/60)}m, {int((_end-_start)%60)}s')"
      ]
    },
    {
      "cell_type": "code",
      "execution_count": null,
      "metadata": {
        "colab": {
          "base_uri": "https://localhost:8080/"
        },
        "id": "SvY3P4U2qBzq",
        "outputId": "9c51aceb-f37b-4845-e70c-0c08de1025a8"
      },
      "outputs": [
        {
          "output_type": "stream",
          "name": "stdout",
          "text": [
            "{\n",
            "  \"penalty\": \"none\",\n",
            "  \"C\": 0.00431287345703125,\n",
            "  \"l1_ratio\": 0.43861328125000004,\n",
            "  \"max_iter\": 909\n",
            "}\n",
            "best cv_score:0.7974536405924683\n"
          ]
        }
      ],
      "source": [
        "def mapper(f, breakpoint=[], cat=[]):\n",
        "        return cat[bisect(breakpoint, f)]\n",
        "\n",
        "optimal_config_format = optimal_confg.copy()\n",
        "optimal_config_format['penalty'] = mapper(optimal_config_format['penalty'],\n",
        "                                          breakpoint=[0.25, 0.5, 0.75],\n",
        "                                          cat=['none', 'l1', 'l2', 'elasticnet'])\n",
        "optimal_config_format['max_iter'] = int(optimal_config_format['max_iter'])\n",
        "print(json.dumps(optimal_config_format, indent=2))\n",
        "print(f'best cv_score:{info.optimum}')"
      ]
    },
    {
      "cell_type": "code",
      "execution_count": null,
      "metadata": {
        "colab": {
          "base_uri": "https://localhost:8080/"
        },
        "id": "Dz8zLnlIqBzr",
        "outputId": "36e4c023-0d85-42c2-d92e-4e2861bc271a"
      },
      "outputs": [
        {
          "output_type": "stream",
          "name": "stdout",
          "text": [
            "{\n",
            "  \"train\": {\n",
            "    \"pr auc\": 0.8013413642680013,\n",
            "    \"accuracy\": 0.6467442487452311,\n",
            "    \"recall\": 0.9378806333739341,\n",
            "    \"precision\": 0.5940033242874837,\n",
            "    \"roc auc\": 0.8045720505792286,\n",
            "    \"f1 score\": 0.7263269527505773\n",
            "  },\n",
            "  \"test\": {\n",
            "    \"pr auc\": 0.7842935140773933,\n",
            "    \"accuracy\": 0.6608408124704771,\n",
            "    \"recall\": 0.9238721804511278,\n",
            "    \"precision\": 0.6067901234567902,\n",
            "    \"roc auc\": 0.7859891894979615,\n",
            "    \"f1 score\": 0.7324888226527572\n",
            "  }\n",
            "}\n"
          ]
        }
      ],
      "source": [
        "final_lr = LogisticRegression(solver='saga', **optimal_config_format)\n",
        "print(json.dumps(analyse(final_lr, X_train, y_train, X_test, y_test), indent=2))"
      ]
    },
    {
      "cell_type": "code",
      "execution_count": null,
      "metadata": {
        "id": "uTNmaNYbqBzr"
      },
      "outputs": [],
      "source": [
        "##                          ##\n",
        "## RANDOM FOREST CLASSIFIER ##\n",
        "##                          ##\n",
        "\n",
        "search = {\n",
        "    'n_estimators': [10, 100],\n",
        "    'criterion':[0, 1],\n",
        "    'max_depth':[3, 10],\n",
        "    'max_leaf_nodes':[1, 100],\n",
        "    'max_features':[0, 1],\n",
        "    'min_weight_fraction_leaf':[0, 0.5]\n",
        "}\n",
        "\n",
        "data = X.values.tolist()\n",
        "labels = y.values.tolist()\n",
        "\n",
        "counter=0\n",
        "\n",
        "@optunity.cross_validated(x=data, y=labels, num_folds=3)\n",
        "\n",
        "def performance_rf(x_train, y_train, x_test, y_test,\n",
        "                  n_estimators=None,\n",
        "                  criterion=None,\n",
        "                  max_depth=None,\n",
        "                  max_leaf_nodes=None,\n",
        "                  max_features=None,\n",
        "                  min_weight_fraction_leaf=None):\n",
        "    global counter\n",
        "    def mapper(f, breakpoint=[], cat=[]):\n",
        "        return cat[bisect(breakpoint, f)]\n",
        "    \n",
        "    criterion=mapper(criterion, breakpoint=[0.5],\n",
        "                    cat=['gini', 'entropy'])\n",
        "    max_features=mapper(max_features, breakpoint=[0.33, 0.66],\n",
        "                       cat=['sqrt', 'log2', None])\n",
        "    \n",
        "    model=RandomForestClassifier(n_estimators=int(n_estimators),\n",
        "                                criterion=criterion,\n",
        "                                max_depth=max_depth,\n",
        "                                max_leaf_nodes=int(max_leaf_nodes),\n",
        "                                max_features=max_features,\n",
        "                                min_weight_fraction_leaf=min_weight_fraction_leaf,\n",
        "                                n_jobs=-1,\n",
        "                                random_state=42)\n",
        "    scores=np.mean(cross_val_score(model, data, labels, cv=3, n_jobs=-1,\n",
        "                                    scoring='roc_auc', error_score='raise'))\n",
        "    counter+=1\n",
        "    print(counter, end=' ')\n",
        "    return scores"
      ]
    },
    {
      "cell_type": "code",
      "execution_count": null,
      "metadata": {
        "colab": {
          "base_uri": "https://localhost:8080/"
        },
        "id": "DJ5DD-syqBzr",
        "outputId": "92c295c3-4a6b-4d3b-f861-2af0ab5aa0b8"
      },
      "outputs": [
        {
          "output_type": "stream",
          "name": "stdout",
          "text": [
            "1 2 3 4 5 6 7 8 9 10 11 12 13 14 15 16 17 18 19 20 21 22 23 24 25 26 27 28 29 30 31 32 33 34 35 36 37 38 39 40 41 42 43 44 45 46 47 48 49 50 51 52 53 54 55 56 57 58 59 60 61 62 63 64 65 66 67 68 69 70 71 72 73 74 75 76 77 78 79 80 81 82 83 84 85 86 87 88 89 90 91 92 93 94 95 96 97 98 99 100 101 102 103 104 105 106 107 108 109 110 111 112 113 114 115 116 117 118 119 120 121 122 123 124 125 126 127 128 129 130 131 132 133 134 135 136 137 138 139 140 141 142 143 144 145 146 147 148 149 150 151 152 153 154 155 156 157 158 159 160 161 162 163 164 165 166 167 168 169 170 171 172 173 174 175 176 177 178 179 180 181 182 183 184 185 186 187 188 189 190 191 192 193 194 195 196 197 198 199 200 201 202 203 204 205 206 207 208 209 210 211 212 213 214 215 216 217 218 219 220 221 222 223 224 225 running for: 4m, 58s\n"
          ]
        }
      ],
      "source": [
        "_start = time.time()\n",
        "\n",
        "optimal_confg, info, _ = optunity.maximize(performance_rf,\n",
        "                                           solver_name='particle swarm',\n",
        "                                           num_evals=100,\n",
        "                                           **search)\n",
        "\n",
        "_end = time.time()\n",
        "\n",
        "print(f'running for: {int((_end-_start)/60)}m, {int((_end-_start)%60)}s')"
      ]
    },
    {
      "cell_type": "code",
      "execution_count": null,
      "metadata": {
        "colab": {
          "base_uri": "https://localhost:8080/"
        },
        "id": "HqYCmUkZqBzs",
        "outputId": "0940f102-0c7d-46a8-b2e1-ae2c6b564afe"
      },
      "outputs": [
        {
          "output_type": "stream",
          "name": "stdout",
          "text": [
            "{\n",
            "  \"n_estimators\": 94,\n",
            "  \"criterion\": \"entropy\",\n",
            "  \"max_depth\": 8.200864067594278,\n",
            "  \"max_leaf_nodes\": 86,\n",
            "  \"max_features\": \"log2\",\n",
            "  \"min_weight_fraction_leaf\": 0.005341400814140248\n",
            "}\n",
            "best cv_score:0.883261356268517\n"
          ]
        }
      ],
      "source": [
        "def mapper(f, breakpoint=[], cat=[]):\n",
        "        return cat[bisect(breakpoint, f)]\n",
        "\n",
        "optimal_config_format = optimal_confg.copy()\n",
        "optimal_config_format['criterion'] = mapper(optimal_config_format['criterion'],\n",
        "                                          breakpoint=[0.5],\n",
        "                                          cat=['gini', 'entropy'])\n",
        "\n",
        "optimal_config_format['max_features'] = mapper(optimal_config_format['max_features'],\n",
        "                                         breakpoint=[0.33, 0.66],\n",
        "                                         cat=['sqrt', 'log2', None])\n",
        "\n",
        "optimal_config_format['n_estimators'] = int(optimal_config_format['n_estimators'])\n",
        "optimal_config_format['max_leaf_nodes'] = int(optimal_config_format['max_leaf_nodes'])\n",
        "print(json.dumps(optimal_config_format, indent=2))\n",
        "print(f'best cv_score:{info.optimum}')"
      ]
    },
    {
      "cell_type": "code",
      "execution_count": null,
      "metadata": {
        "colab": {
          "base_uri": "https://localhost:8080/"
        },
        "id": "PU9TBOVnqBzs",
        "outputId": "746a115c-4988-4828-8783-5d61a216cfd0"
      },
      "outputs": [
        {
          "output_type": "stream",
          "name": "stdout",
          "text": [
            "{\n",
            "  \"train\": {\n",
            "    \"pr auc\": 0.902407112301605,\n",
            "    \"accuracy\": 0.810209515930671,\n",
            "    \"recall\": 0.8380024360535931,\n",
            "    \"precision\": 0.7932886548989041,\n",
            "    \"roc auc\": 0.8868300258357374,\n",
            "    \"f1 score\": 0.8149246007474172\n",
            "  },\n",
            "  \"test\": {\n",
            "    \"pr auc\": 0.8502666572566465,\n",
            "    \"accuracy\": 0.7992442135096836,\n",
            "    \"recall\": 0.8336466165413534,\n",
            "    \"precision\": 0.7814977973568282,\n",
            "    \"roc auc\": 0.8723562824440018,\n",
            "    \"f1 score\": 0.8067303319690768\n",
            "  }\n",
            "}\n"
          ]
        }
      ],
      "source": [
        "final_rf = RandomForestClassifier(n_jobs=-1,\n",
        "                                  random_state=42,\n",
        "                                  **optimal_config_format)\n",
        "print(json.dumps(analyse(final_rf,\n",
        "                         X_train,\n",
        "                         y_train,\n",
        "                         X_test,\n",
        "                         y_test),\n",
        "                 indent=2))"
      ]
    },
    {
      "cell_type": "code",
      "execution_count": null,
      "metadata": {
        "id": "rHepE9iqqBzs"
      },
      "outputs": [],
      "source": [
        "##                     ##\n",
        "## XG BOOST CLASSIFIER ##\n",
        "##                     ##\n",
        "\n",
        "from xgboost.sklearn import XGBClassifier\n",
        "search = {\n",
        "    'n_estimators': [10, 20],\n",
        "    'max_depth':[3, 9],\n",
        "    'gamma':[0, 1],\n",
        "    'learning_rate':[1e-6, 1e-2]\n",
        "}\n",
        "\n",
        "data = X.values.tolist()\n",
        "labels = y.values.tolist()\n",
        "\n",
        "counter=0\n",
        "y_train_global=y_train\n",
        "\n",
        "@optunity.cross_validated(x=data, y=labels, num_folds=3)\n",
        "\n",
        "def performance_xgb(x_train, y_train, x_test, y_test,\n",
        "                  n_estimators=None,\n",
        "                  max_depth=None,\n",
        "                  gamma=None,\n",
        "                  learning_rate=None):\n",
        "    global counter\n",
        "    model=XGBClassifier(objective=\"binary:logistic\",random_state=42, n_jobs=-1,\n",
        "                       n_estimators=int(n_estimators),\n",
        "                       max_depth=int(max_depth),\n",
        "                       gamma=gamma,\n",
        "                       learning_rate=learning_rate,\n",
        "                       eval_metric='auc')\n",
        "    scores=np.mean(cross_val_score(model, X_train, y_train_global, cv=3, n_jobs=-1,\n",
        "                                    scoring='roc_auc', error_score='raise'))\n",
        "    counter+=1\n",
        "    print(counter, end=' ')\n",
        "    return scores"
      ]
    },
    {
      "cell_type": "code",
      "execution_count": null,
      "metadata": {
        "colab": {
          "base_uri": "https://localhost:8080/"
        },
        "id": "lN54Thp5qBzs",
        "outputId": "77759c58-6103-4984-ff02-79ac13f981dd"
      },
      "outputs": [
        {
          "output_type": "stream",
          "name": "stdout",
          "text": [
            "1 2 3 4 5 6 7 8 9 10 11 12 13 14 15 16 17 18 19 20 21 22 23 24 25 26 27 28 29 30 31 32 33 34 35 36 37 38 39 40 41 42 43 44 45 46 47 48 49 50 51 52 53 54 55 56 57 58 59 60 61 62 63 64 65 66 67 68 69 70 71 72 73 74 75 76 77 78 79 80 81 82 83 84 85 86 87 88 89 90 91 92 93 94 95 96 97 98 99 100 101 102 103 104 105 106 107 108 running for: 0m, 23s\n"
          ]
        }
      ],
      "source": [
        "_start = time.time()\n",
        "\n",
        "optimal_confg, info, _ =optunity.maximize(performance_xgb,\n",
        "                                        solver_name='particle swarm',\n",
        "                                        num_evals=50,\n",
        "                                        **search)\n",
        "\n",
        "_end = time.time()\n",
        "\n",
        "print(f'running for: {int((_end-_start)/60)}m, {int((_end-_start)%60)}s')"
      ]
    },
    {
      "cell_type": "code",
      "execution_count": null,
      "metadata": {
        "colab": {
          "base_uri": "https://localhost:8080/"
        },
        "id": "Lor7SGtTqBzs",
        "outputId": "154f61dc-e628-4242-fcee-3cb9d0e0be88"
      },
      "outputs": [
        {
          "output_type": "stream",
          "name": "stdout",
          "text": [
            "{\n",
            "  \"n_estimators\": 14,\n",
            "  \"max_depth\": 6,\n",
            "  \"gamma\": 0.08988681482086373,\n",
            "  \"learning_rate\": 0.009841068816315038\n",
            "}\n",
            "best cv_score:0.8690203311451375\n"
          ]
        }
      ],
      "source": [
        "import json\n",
        "optimal_config_format = optimal_confg.copy()\n",
        "\n",
        "optimal_config_format['n_estimators'] = int(optimal_config_format['n_estimators'])\n",
        "optimal_config_format['max_depth'] = int(optimal_config_format['max_depth'])\n",
        "\n",
        "print(json.dumps(optimal_config_format, indent=2))\n",
        "print(f'best cv_score:{info.optimum}')"
      ]
    },
    {
      "cell_type": "code",
      "execution_count": null,
      "metadata": {
        "colab": {
          "base_uri": "https://localhost:8080/"
        },
        "id": "2pUs3g8EqBzt",
        "outputId": "0298905d-4e72-425f-b28e-244b5898629c"
      },
      "outputs": [
        {
          "output_type": "stream",
          "name": "stdout",
          "text": [
            "{\n",
            "  \"train\": {\n",
            "    \"pr auc\": 0.8782959446062686,\n",
            "    \"accuracy\": 0.8063586035225857,\n",
            "    \"recall\": 0.8189200162403573,\n",
            "    \"precision\": 0.7985248703105617,\n",
            "    \"roc auc\": 0.8715641995800872,\n",
            "    \"f1 score\": 0.808428038757986\n",
            "  },\n",
            "  \"test\": {\n",
            "    \"pr auc\": 0.8249993100857673,\n",
            "    \"accuracy\": 0.7931034482758621,\n",
            "    \"recall\": 0.8129699248120301,\n",
            "    \"precision\": 0.7835144927536232,\n",
            "    \"roc auc\": 0.8554697820048697,\n",
            "    \"f1 score\": 0.797970479704797\n",
            "  }\n",
            "}\n"
          ]
        }
      ],
      "source": [
        "final_xgb = XGBClassifier(objective=\"binary:logistic\",\n",
        "                          eval_metric='auc',\n",
        "                          n_jobs=-1,\n",
        "                          random_state=42,\n",
        "                          use_label_encoder=False,\n",
        "                          **optimal_config_format)\n",
        "print(json.dumps(analyse(final_xgb, X_train, y_train, X_test, y_test), indent=2))"
      ]
    },
    {
      "cell_type": "code",
      "execution_count": 14,
      "metadata": {
        "id": "ntM02yAGqBzt"
      },
      "outputs": [],
      "source": [
        "##                        ##\n",
        "## NAIVE BAYES CLASSIFIER ##\n",
        "##                        ##\n",
        "\n",
        "\n",
        "from sklearn.naive_bayes import GaussianNB\n",
        "search = {\n",
        "    'var_smoothing': [1e-9, 1]\n",
        "}\n",
        "\n",
        "data = X.values.tolist()\n",
        "labels = y.values.tolist()\n",
        "counter=0\n",
        "\n",
        "@optunity.cross_validated(x=data, y=labels, num_folds=3)\n",
        "\n",
        "def performance_gnb(x_train, y_train, x_test, y_test,\n",
        "                  var_smoothing=None):\n",
        "    global counter\n",
        "    model=GaussianNB(var_smoothing=var_smoothing)\n",
        "    scores=np.mean(cross_val_score(model, data, labels, cv=3, n_jobs=-1,\n",
        "                                    scoring='roc_auc', error_score='raise'))\n",
        "    counter+=1\n",
        "    print(counter, end=' ')\n",
        "    return scores"
      ]
    },
    {
      "cell_type": "code",
      "execution_count": 15,
      "metadata": {
        "colab": {
          "base_uri": "https://localhost:8080/"
        },
        "id": "EsPMurA8qBzt",
        "outputId": "69df5421-8808-4e4d-9415-f47b74bcfd32"
      },
      "outputs": [
        {
          "output_type": "stream",
          "name": "stdout",
          "text": [
            "1 2 3 4 5 6 7 8 9 10 11 12 13 14 15 16 17 18 19 20 21 22 23 24 25 26 27 28 29 30 31 32 33 34 35 36 37 38 39 40 41 42 43 44 45 46 47 48 49 50 51 52 53 54 55 56 57 58 59 60 61 62 63 64 65 66 67 68 69 70 71 72 73 74 75 76 77 78 79 80 81 82 83 84 85 86 87 88 89 90 91 92 93 94 95 96 97 98 99 100 101 102 103 104 105 106 107 108 109 110 111 112 113 114 115 116 117 running for: 2m, 20s\n"
          ]
        }
      ],
      "source": [
        "_start = time.time()\n",
        "\n",
        "optimal_confg, info, _ =optunity.maximize(performance_gnb,\n",
        "                                        solver_name='particle swarm',\n",
        "                                        num_evals=50,\n",
        "                                        **search)\n",
        "\n",
        "_end = time.time()\n",
        "\n",
        "print(f'running for: {int((_end-_start)/60)}m, {int((_end-_start)%60)}s')"
      ]
    },
    {
      "cell_type": "code",
      "execution_count": 16,
      "metadata": {
        "colab": {
          "base_uri": "https://localhost:8080/"
        },
        "id": "EpUL0RgtqBzt",
        "outputId": "f098920e-41c4-4ff9-bc70-e61d3fb8cae1"
      },
      "outputs": [
        {
          "output_type": "stream",
          "name": "stdout",
          "text": [
            "{\n",
            "  \"var_smoothing\": 0.015630803109722827\n",
            "}\n",
            "best cv_score:0.8081511582053578\n"
          ]
        }
      ],
      "source": [
        "import json\n",
        "optimal_config_format = optimal_confg.copy()\n",
        "\n",
        "print(json.dumps(optimal_config_format, indent=2))\n",
        "print(f'best cv_score:{info.optimum}')"
      ]
    },
    {
      "cell_type": "code",
      "execution_count": 17,
      "metadata": {
        "colab": {
          "base_uri": "https://localhost:8080/"
        },
        "id": "vcApOXd3qBzt",
        "outputId": "a09939af-535b-4fe4-ac8f-861f3814c24e"
      },
      "outputs": [
        {
          "output_type": "stream",
          "name": "stdout",
          "text": [
            "{\n",
            "  \"train\": {\n",
            "    \"pr auc\": 0.7781986563172529,\n",
            "    \"accuracy\": 0.6597124711160025,\n",
            "    \"recall\": 0.38765432098765434,\n",
            "    \"precision\": 0.8308701022346631,\n",
            "    \"roc auc\": 0.8102281685079248,\n",
            "    \"f1 score\": 0.5281186748050294\n",
            "  },\n",
            "  \"test\": {\n",
            "    \"pr auc\": 0.7921137665327342,\n",
            "    \"accuracy\": 0.6480869154463864,\n",
            "    \"recall\": 0.3846855059252507,\n",
            "    \"precision\": 0.8577235772357723,\n",
            "    \"roc auc\": 0.802039430174987,\n",
            "    \"f1 score\": 0.5311516677155443\n",
            "  }\n",
            "}\n"
          ]
        }
      ],
      "source": [
        "final_gnb = GaussianNB(**optimal_config_format)\n",
        "print(json.dumps(analyse(final_gnb, X_train, y_train, X_test, y_test), indent=2))"
      ]
    },
    {
      "cell_type": "code",
      "execution_count": null,
      "metadata": {
        "id": "SfTgM8jJqBzt"
      },
      "outputs": [],
      "source": [
        "##                ##\n",
        "## SVC CLASSIFIER ##\n",
        "##                ##\n",
        "\n",
        "\n",
        "from sklearn.svm import SVC\n",
        "\n",
        "svc = SVC()\n",
        "\n",
        "counter=0\n",
        "\n",
        "search = {\n",
        "    'C': [1e-4, 10],\n",
        "    'gamma':[1e-4, 10]\n",
        "}\n",
        "\n",
        "data = X.values.tolist()\n",
        "labels = y.values.tolist()\n",
        "\n",
        "@optunity.cross_validated(x=data, y=labels, num_folds=3)\n",
        "\n",
        "def performance_svc(x_train, y_train, x_test, y_test,\n",
        "                  C=None, gamma=None):\n",
        "    global counter\n",
        "    svc.set_params(**{'C':C, 'gamma':gamma})\n",
        "    scores=np.mean(cross_val_score(svc, data, labels, cv=3, n_jobs=-1,\n",
        "                                    scoring='roc_auc',\n",
        "                                   error_score='raise'))\n",
        "    counter+=1\n",
        "    print(counter, end=' ')\n",
        "    return scores"
      ]
    },
    {
      "cell_type": "code",
      "execution_count": null,
      "metadata": {
        "colab": {
          "base_uri": "https://localhost:8080/"
        },
        "id": "fni-GljnqBzt",
        "outputId": "cf537e6f-e140-40c6-a2e8-9582ee82199c"
      },
      "outputs": [
        {
          "output_type": "stream",
          "name": "stdout",
          "text": [
            "1 2 3 4 5 6 7 8 9 10 11 12 13 14 15 16 17 18 19 20 21 22 23 24 25 26 27 28 29 30 31 32 33 34 35 36 37 38 39 40 41 42 43 44 45 46 47 48 49 50 51 52 53 54 55 56 57 58 59 60 61 62 63 64 65 66 67 68 69 70 71 72 73 74 75 76 77 78 79 80 81 82 83 84 85 86 87 88 89 90 91 92 93 94 95 96 97 98 99 100 101 102 103 104 105 106 107 108 109 110 111 112 113 114 115 116 117 118 119 120 running for: 4m, 26s\n"
          ]
        }
      ],
      "source": [
        "_start = time.time()\n",
        "\n",
        "optimal_confg, info, _ =optunity.maximize(performance_svc,\n",
        "                                        solver_name='particle swarm',\n",
        "                                        num_evals=50,\n",
        "                                        **search)\n",
        "\n",
        "_end = time.time()\n",
        "\n",
        "print(f'running for: {int((_end-_start)/60)}m, {int((_end-_start)%60)}s')"
      ]
    },
    {
      "cell_type": "code",
      "execution_count": null,
      "metadata": {
        "id": "SkWOKVPWqBzu",
        "colab": {
          "base_uri": "https://localhost:8080/"
        },
        "outputId": "8584c864-87da-4fbb-d1f4-be738ac18c6b"
      },
      "outputs": [
        {
          "output_type": "stream",
          "name": "stdout",
          "text": [
            "{\n",
            "  \"C\": 7.805686116114703,\n",
            "  \"gamma\": 0.03676022544672253\n",
            "}\n",
            "best cv_score:0.7002946073493805\n"
          ]
        }
      ],
      "source": [
        "import json\n",
        "optimal_config_format = optimal_confg.copy()\n",
        "\n",
        "print(json.dumps(optimal_config_format, indent=2))\n",
        "print(f'best cv_score:{info.optimum}')"
      ]
    },
    {
      "cell_type": "code",
      "execution_count": null,
      "metadata": {
        "id": "K-Bcp97AqBzu",
        "colab": {
          "base_uri": "https://localhost:8080/"
        },
        "outputId": "edd760f6-3bac-421c-f8bf-15468cf62e0e"
      },
      "outputs": [
        {
          "output_type": "stream",
          "name": "stdout",
          "text": [
            "{\n",
            "  \"train\": {\n",
            "    \"pr auc\": 1.0,\n",
            "    \"accuracy\": 0.5681577395571346,\n",
            "    \"recall\": 0.9577750710515631,\n",
            "    \"precision\": 0.537727098358256,\n",
            "    \"roc auc\": 0.6846281249637919,\n",
            "    \"f1 score\": 0.6887606507187286\n",
            "  },\n",
            "  \"test\": {\n",
            "    \"pr auc\": 0.6079029321600449,\n",
            "    \"accuracy\": 0.5829003306565895,\n",
            "    \"recall\": 0.9539473684210527,\n",
            "    \"precision\": 0.5489453758788534,\n",
            "    \"roc auc\": 0.6822835221958029,\n",
            "    \"f1 score\": 0.6968760727772055\n",
            "  }\n",
            "}\n"
          ]
        }
      ],
      "source": [
        "final_svc = SVC(**optimal_config_format)\n",
        "print(json.dumps(analyse(final_svc, X_train, y_train, X_test, y_test), indent=2))"
      ]
    },
    {
      "cell_type": "code",
      "execution_count": null,
      "metadata": {
        "id": "miyg6NFJqBzu"
      },
      "outputs": [],
      "source": [
        "##                ##\n",
        "## ANN CLASSIFIER ##\n",
        "##                ##\n",
        "\n",
        "from tensorflow.keras import Sequential\n",
        "from tensorflow.keras.layers import Dense, BatchNormalization, Dropout\n",
        "from tensorflow.keras.optimizers import Adam\n",
        "from keras.callbacks import EarlyStopping\n",
        "from sklearn.model_selection import StratifiedKFold\n",
        "from keras.wrappers.scikit_learn import KerasClassifier\n",
        "\n",
        "search = {'dense_layers':[1, 4],\n",
        "        'dense_nodes':[32, 128],\n",
        "        'batch_size':[100, 1000],\n",
        "        'learning_rate':[1e-6, 1e-2],\n",
        "        'dropout_rate':[0.3, 0.8]}\n",
        "counter=0\n",
        "\n",
        "@optunity.cross_validated(x=data, y=labels, num_folds=3)\n",
        "\n",
        "def performance_ann(x_train, y_train, x_test, y_test,\n",
        "                   dense_layers=None,\n",
        "                   dense_nodes=None,\n",
        "                   batch_size=None,\n",
        "                   learning_rate=None,\n",
        "                   dropout_rate=None):\n",
        "    global counter\n",
        "    _, model=Model(dense_layers=int(dense_layers),\n",
        "                  dense_nodes=int(dense_nodes),\n",
        "                  learning_rate=learning_rate,\n",
        "                  dropout_rate=dropout_rate,\n",
        "                  batch_size=int(batch_size))\n",
        "    ypred =  model.predict(X_train)\n",
        "    scores = roc_auc_score(y_train_global, ypred)\n",
        "    counter+=1\n",
        "    print(counter, end=' ')\n",
        "    return scores"
      ]
    },
    {
      "cell_type": "code",
      "execution_count": null,
      "metadata": {
        "colab": {
          "base_uri": "https://localhost:8080/"
        },
        "id": "jgJVMTbA-PXt",
        "outputId": "a82f95e1-c46f-4c66-85bc-6fb834a4d5ea"
      },
      "outputs": [
        {
          "output_type": "stream",
          "name": "stdout",
          "text": [
            "1 2 3 4 5 6 7 8 9 10 11 12 13 14 15 16 17 18 19 20 21 22 23 24 25 26 27 28 29 30 31 32 33 34 35 36 37 38 39 40 41 42 43 44 45 46 47 48 49 50 51 52 53 54 55 56 57 58 59 60 61 62 63 64 65 66 67 68 69 70 71 72 73 74 75 76 77 78 79 80 81 82 83 84 85 86 87 88 89 90 91 92 93 94 95 96 97 98 99 100 101 102 103 104 105 106 107 108 109 110 111 112 113 114 115 116 117 118 119 120 121 122 123 124 125 126 127 128 129 130 131 132 133 134 135 136 137 138 139 140 141 142 143 144 145 146 147 148 149 150 151 152 153 154 155 156 157 158 159 160 161 162 163 164 165 166 167 168 169 170 171 172 173 174 175 176 177 178 179 180 181 182 183 184 185 186 187 188 189 190 191 192 193 194 195 196 197 198 199 200 201 202 203 204 205 206 207 208 209 210 211 212 213 214 215 216 running for: 15m, 40s\n"
          ]
        }
      ],
      "source": [
        "_start = time.time()\n",
        "\n",
        "optimal_confg, info, _ =optunity.maximize(performance_ann,\n",
        "                                        solver_name='particle swarm',\n",
        "                                        num_evals=100,\n",
        "                                        **search)\n",
        "\n",
        "_end = time.time()\n",
        "\n",
        "print(f'running for: {int((_end-_start)/60)}m, {int((_end-_start)%60)}s')"
      ]
    },
    {
      "cell_type": "code",
      "execution_count": null,
      "metadata": {
        "colab": {
          "base_uri": "https://localhost:8080/"
        },
        "id": "g90hXlnH-R6e",
        "outputId": "46b7f5b6-bb15-43b9-ad4b-118a51398163"
      },
      "outputs": [
        {
          "output_type": "stream",
          "name": "stdout",
          "text": [
            "{\n",
            "  \"dense_layers\": 3,\n",
            "  \"dense_nodes\": 120,\n",
            "  \"batch_size\": 539,\n",
            "  \"learning_rate\": 0.0067634704006724,\n",
            "  \"dropout_rate\": 0.3085628112615149\n",
            "}\n",
            "best cv_score:0.8684635543253846\n"
          ]
        }
      ],
      "source": [
        "import json\n",
        "optimal_config_format = optimal_confg.copy()\n",
        "optimal_config_format['dense_layers'] = int(optimal_config_format['dense_layers'])\n",
        "optimal_config_format['dense_nodes'] = int(optimal_config_format['dense_nodes'])\n",
        "optimal_config_format['batch_size'] = int(optimal_config_format['batch_size'])\n",
        "print(json.dumps(optimal_config_format, indent=2))\n",
        "print(f'best cv_score:{info.optimum}')"
      ]
    },
    {
      "cell_type": "code",
      "execution_count": null,
      "metadata": {
        "colab": {
          "base_uri": "https://localhost:8080/",
          "height": 847
        },
        "id": "NOF_owYG-Unb",
        "outputId": "1eb80355-f628-4130-ce5d-5888f00b5f9a"
      },
      "outputs": [
        {
          "output_type": "stream",
          "name": "stdout",
          "text": [
            "running for: 0m, 4s\n",
            "{\n",
            "  \"train\": {\n",
            "    \"pr auc\": 0.8442592228089127,\n",
            "    \"accuracy\": 0.7652420498278306,\n",
            "    \"recall\": 0.6711327649208283,\n",
            "    \"precision\": 0.8256743256743256,\n",
            "    \"roc auc\": 0.7650328335517642,\n",
            "    \"f1 score\": 0.7404255319148936\n",
            "  },\n",
            "  \"test\": {\n",
            "    \"pr auc\": 0.8176938924297696,\n",
            "    \"accuracy\": 0.7345299952763344,\n",
            "    \"recall\": 0.6343984962406015,\n",
            "    \"precision\": 0.7959905660377359,\n",
            "    \"roc auc\": 0.7350529993073853,\n",
            "    \"f1 score\": 0.7060669456066945\n",
            "  }\n",
            "}\n"
          ]
        },
        {
          "output_type": "display_data",
          "data": {
            "text/plain": [
              "<Figure size 432x288 with 1 Axes>"
            ],
            "image/png": "[encoded data removed]"
          },
          "metadata": {
            "needs_background": "light"
          }
        },
        {
          "output_type": "display_data",
          "data": {
            "text/plain": [
              "<Figure size 432x288 with 1 Axes>"
            ],
            "image/png": "[encoded data removed]"
          },
          "metadata": {
            "needs_background": "light"
          }
        }
      ],
      "source": [
        "_start = time.time()\n",
        "\n",
        "ANNmodel , final_ann= Model(**optimal_config_format)\n",
        "ret = analyseANN(ANNmodel, final_ann, X_train, y_train, X_test, y_test)\n",
        "\n",
        "_end = time.time()\n",
        "\n",
        "print(f'running for: {int((_end-_start)/60)}m, {int((_end-_start)%60)}s')\n",
        "print(json.dumps(ret, indent=2))"
      ]
    },
    {
      "cell_type": "code",
      "execution_count": null,
      "metadata": {
        "id": "uqdTmGDiVIbU"
      },
      "outputs": [],
      "source": [
        ""
      ]
    }
  ],
  "metadata": {
    "colab": {
      "collapsed_sections": [],
      "name": "TARGET_CUSTOMER_PSO.ipynb",
      "provenance": []
    },
    "gpuClass": "standard",
    "kernelspec": {
      "display_name": "Python 3",
      "language": "python",
      "name": "python3"
    },
    "language_info": {
      "codemirror_mode": {
        "name": "ipython",
        "version": 3
      },
      "file_extension": ".py",
      "mimetype": "text/x-python",
      "name": "python",
      "nbconvert_exporter": "python",
      "pygments_lexer": "ipython3",
      "version": "3.8.10"
    }
  },
  "nbformat": 4,
  "nbformat_minor": 0
}